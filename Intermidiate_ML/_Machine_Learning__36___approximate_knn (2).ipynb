{
 "cells": [
  {
   "cell_type": "code",
   "execution_count": 1,
   "metadata": {
    "ExecuteTime": {
     "end_time": "2023-03-25T10:55:53.489230Z",
     "start_time": "2023-03-25T10:55:51.576481Z"
    }
   },
   "outputs": [
    {
     "data": {
      "text/html": [
       "\n",
       "<!-- Many of the styles here are inspired by: \n",
       "    https://towardsdatascience.com/10-practical-tips-you-need-to-know-to-personalize-jupyter-notebook-fbd202777e20 \n",
       "       \n",
       "    \n",
       "    On the author's local machine, these exist in the custom.css file. However, in order to keep uniform look and feel, \n",
       "    and at the request of participants, I have added it to this common import-file here.\n",
       "\n",
       "    -->\n",
       "\n",
       "<link href=\"https://fonts.googleapis.com/css?family=Lora:400,700|Montserrat:300\" rel=\"stylesheet\">\n",
       "\n",
       "<link href=\"https://fonts.googleapis.com/css2?family=Crimson+Pro&family=Literata&display=swap\" rel=\"stylesheet\">\n",
       "<style>\n",
       "\n",
       "\n",
       "#ipython_notebook::before{\n",
       " content:\"ML100: Machine Learning\";\n",
       "        color: white;\n",
       "        font-weight: bold;\n",
       "        text-transform: uppercase;\n",
       "        font-family: 'Lora',serif;\n",
       "        font-size:16pt;\n",
       "        margin-bottom:15px;\n",
       "        margin-top:15px;\n",
       "           \n",
       "}\n",
       "body > #header {\n",
       "    #background: #D15555;\n",
       "    background: linear-gradient(to bottom, indianred 0%, #fff 100%);\n",
       "    opacity: 0.8;\n",
       "\n",
       "}\n",
       "\n",
       "\n",
       ".navbar-default .navbar-nav > li > a, #kernel_indicator {\n",
       "    color: white;\n",
       "    transition: all 0.25s;\n",
       "    font-size:10pt;\n",
       "    font-family: sans-serif;\n",
       "    font-weight:normal;\n",
       "}\n",
       ".navbar-default {\n",
       "    padding-left:100px;\n",
       "    background: none;\n",
       "    border: none;\n",
       "}\n",
       "\n",
       "\n",
       "body > menubar-container {\n",
       "    background-color: wheat;\n",
       "}\n",
       "#ipython_notebook img{                                                                                        \n",
       "    display:block; \n",
       "    \n",
       "    background: url(\"https://www.supportvectors.com/wp-content/uploads/2016/03/logo-poster-smaller.png\") no-repeat;\n",
       "    background-size: contain;\n",
       "   \n",
       "    padding-left: 600px;\n",
       "    padding-right: 100px;\n",
       "    \n",
       "    -moz-box-sizing: border-box;\n",
       "    box-sizing: border-box;\n",
       "}\n",
       "\n",
       "\n",
       "\n",
       "body {\n",
       " #font-family:  'Literata', serif;\n",
       "    font-family:'Lora', san-serif;\n",
       "    text-align: justify;\n",
       "    font-weight: 400;\n",
       "    font-size: 12pt;\n",
       "}\n",
       "\n",
       "iframe{\n",
       "    width:100%;\n",
       "    min-height:600px;\n",
       "}\n",
       "\n",
       "h1, h2, h3, h4, h5, h6 {\n",
       "# font-family: 'Montserrat', sans-serif;\n",
       " font-family:'Lora', serif;\n",
       " font-weight: 200;\n",
       " text-transform: uppercase;\n",
       " color: #EC7063 ;\n",
       "}\n",
       "\n",
       "h2 {\n",
       "    color: #000080;\n",
       "}\n",
       "\n",
       ".checkpoint_status, .autosave_status {\n",
       "    color:wheat;\n",
       "}\n",
       "\n",
       "#notebook_name {\n",
       "    font-weight: 600;\n",
       "    font-size:20pt;\n",
       "    text-variant:uppercase;\n",
       "    color: wheat; \n",
       "    margin-right:20px;\n",
       "    margin-left:-500px;\n",
       "}\n",
       "#notebook_name:hover {\n",
       "background-color: salmon;\n",
       "}\n",
       "\n",
       "\n",
       ".dataframe { /* dataframe atau table */\n",
       "    background: white;\n",
       "    box-shadow: 0px 1px 2px #bbb;\n",
       "}\n",
       ".dataframe thead th, .dataframe tbody td {\n",
       "    text-align: center;\n",
       "    padding: 1em;\n",
       "}\n",
       "\n",
       ".checkpoint_status, .autosave_status {\n",
       "    color:wheat;\n",
       "}\n",
       "\n",
       ".output {\n",
       "    align-items: center;\n",
       "}\n",
       "\n",
       "div.cell {\n",
       "    transition: all 0.25s;\n",
       "    border: none;\n",
       "    position: relative;\n",
       "    top: 0;\n",
       "}\n",
       "div.cell.selected, div.cell.selected.jupyter-soft-selected {\n",
       "    border: none;\n",
       "    background: transparent;\n",
       "    box-shadow: 0 6px 18px #aaa;\n",
       "    z-index: 10;\n",
       "    top: -10px;\n",
       "}\n",
       ".CodeMirror pre, .CodeMirror-dialog, .CodeMirror-dialog .CodeMirror-search-field, .terminal-app .terminal {\n",
       "    font-family: 'Hack' , serif; \n",
       "    font-weight: 500;\n",
       "    font-size: 14pt;\n",
       "}\n",
       "\n",
       "\n",
       "\n",
       "</style>    \n"
      ],
      "text/plain": [
       "<IPython.core.display.HTML object>"
      ]
     },
     "metadata": {},
     "output_type": "display_data"
    },
    {
     "data": {
      "text/markdown": [
       "\n",
       "\n",
       "<div style=\"color:#aaa;font-size:8pt\">\n",
       "<hr/>\n",
       "\n",
       " </blockquote>\n",
       " <hr/>\n",
       "</div>\n",
       "\n"
      ],
      "text/plain": [
       "<IPython.core.display.Markdown object>"
      ]
     },
     "metadata": {},
     "output_type": "display_data"
    }
   ],
   "source": [
    "%run supportvectors-common.ipynb"
   ]
  },
  {
   "cell_type": "markdown",
   "metadata": {},
   "source": [
    "# Approximate k-NN using FAISS\n",
    "\n",
    "In this lab, we will experiment with one of the approximate nearest neighbors search algorithm, `FAISS`. It is highly scalable to large datasets, as well as being very fast. Let us start by installing it first."
   ]
  },
  {
   "cell_type": "code",
   "execution_count": 2,
   "metadata": {},
   "outputs": [
    {
     "name": "stdout",
     "output_type": "stream",
     "text": [
      "Requirement already satisfied: faiss-gpu in /home/asif/anaconda3/lib/python3.10/site-packages (1.7.2)\r\n"
     ]
    }
   ],
   "source": [
    "#!pip install faiss-cpu\n",
    "!pip install faiss-gpu"
   ]
  },
  {
   "cell_type": "code",
   "execution_count": 3,
   "metadata": {},
   "outputs": [],
   "source": [
    "import faiss                   # make faiss available\n",
    "d = 768\n",
    "index = faiss.IndexFlatL2(d)   # build the index"
   ]
  },
  {
   "cell_type": "code",
   "execution_count": 4,
   "metadata": {},
   "outputs": [],
   "source": [
    "%run Lesson_34___corpus.ipynb"
   ]
  },
  {
   "cell_type": "markdown",
   "metadata": {},
   "source": [
    "### Load the sentence transformer\n",
    "\n",
    "We need a sentence transformer to convert documents or sentences into vector embeddings."
   ]
  },
  {
   "cell_type": "code",
   "execution_count": 5,
   "metadata": {},
   "outputs": [],
   "source": [
    "from sentence_transformers import SentenceTransformer\n",
    "\n",
    "MODEL = 'msmarco-distilbert-base-v4'\n",
    "embedder = SentenceTransformer(MODEL)"
   ]
  },
  {
   "cell_type": "markdown",
   "metadata": {},
   "source": [
    "#### Search index of sentence embeddings\n",
    "\n",
    "Let us now create the search index of sentence embeddings."
   ]
  },
  {
   "cell_type": "code",
   "execution_count": 6,
   "metadata": {},
   "outputs": [
    {
     "data": {
      "text/plain": [
       "(16, 768)"
      ]
     },
     "execution_count": 6,
     "metadata": {},
     "output_type": "execute_result"
    }
   ],
   "source": [
    "embeddings = embedder.encode(sentences)\n",
    "embeddings.shape"
   ]
  },
  {
   "cell_type": "code",
   "execution_count": 7,
   "metadata": {},
   "outputs": [
    {
     "data": {
      "text/plain": [
       "dtype('float32')"
      ]
     },
     "execution_count": 7,
     "metadata": {},
     "output_type": "execute_result"
    }
   ],
   "source": [
    "embeddings.dtype"
   ]
  },
  {
   "cell_type": "markdown",
   "metadata": {},
   "source": [
    "Clearly, there are 16 embeddings, each of a 768 dimensional vector. Let us glance at a sentence, and its embedding:"
   ]
  },
  {
   "cell_type": "code",
   "execution_count": 8,
   "metadata": {
    "scrolled": false
   },
   "outputs": [
    {
     "name": "stdout",
     "output_type": "stream",
     "text": [
      "\n",
      "’Twas brillig, and the slithy toves\n",
      "      Did gyre and gimble in the wabe:\n",
      "All mimsy were the borogoves,\n",
      "      And the mome raths outgrabe.\n",
      "\n",
      "“Beware the Jabberwock, my son!\n",
      "      The jaws that bite, the claws that catch!\n",
      "Beware the Jubjub bird, and shun\n",
      "      The frumious Bandersnatch!”\n",
      "\n",
      "He took his vorpal sword in hand;\n",
      "      Long time the manxome foe he sought—\n",
      "So rested he by the Tumtum tree\n",
      "      And stood awhile in thought.\n",
      "\n",
      "And, as in uffish thought he stood,\n",
      "      The Jabberwock, with eyes of flame,\n",
      "Came whiffling through the tulgey wood,\n",
      "      And burbled as it came!\n",
      "\n",
      "One, two! One, two! And through and through\n",
      "      The vorpal blade went snicker-snack!\n",
      "He left it dead, and with its head\n",
      "      He went galumphing back.\n",
      "\n",
      "“And hast thou slain the Jabberwock?\n",
      "      Come to my arms, my beamish boy!\n",
      "O frabjous day! Callooh! Callay!”\n",
      "      He chortled in his joy.\n",
      "\n",
      "’Twas brillig, and the slithy toves\n",
      "      Did gyre and gimble in the wabe:\n",
      "All mimsy were the borogoves,\n",
      "      And the mome raths outgrabe.\n",
      "\n",
      "  [ 1.79170687e-02  3.25751603e-01 -5.26737154e-01 -4.55944389e-01\n",
      " -1.90748274e-01  1.21217504e-01  6.56970024e-01  3.61870617e-01\n",
      " -3.13103378e-01  4.40817893e-01  1.43421972e-02  2.62440026e-01\n",
      "  5.33935964e-01  1.05897263e-01 -4.51850444e-01  1.29025951e-01\n",
      " -6.48020506e-02 -1.50913790e-01  7.39261210e-01 -5.16144454e-01\n",
      "  2.78522730e-01  2.72167921e-02  1.56338498e-01  3.48178864e-01\n",
      "  5.53251445e-01  3.80353063e-01  1.80873781e-01  4.82498258e-01\n",
      " -2.61854261e-01 -1.32529318e-01 -3.69697392e-01  3.32193524e-01\n",
      "  1.67455927e-01  2.18514409e-02  2.87244529e-01  7.94003382e-02\n",
      " -3.26093435e-01 -2.02875271e-01 -5.98563850e-01  8.83811563e-02\n",
      "  2.51520216e-01  3.55982631e-01  4.82149944e-02 -7.26058036e-02\n",
      "  1.96628943e-01 -3.81634124e-02  4.10776556e-01  1.45970404e-01\n",
      "  3.50118101e-01 -4.92100418e-01  4.48008537e-01  9.73438472e-03\n",
      "  5.43502748e-01 -2.78488964e-01 -2.83846974e-01 -7.28045404e-02\n",
      "  2.69303173e-01 -9.22210887e-03  2.52258569e-01  3.98797393e-01\n",
      " -4.84717667e-01 -5.03697991e-01  2.11616486e-01  4.40034181e-01\n",
      " -5.73405445e-01  3.13005954e-01 -1.40830353e-01  2.24103004e-01\n",
      " -4.44372624e-01 -1.85280055e-01  1.42323747e-01 -4.48136717e-01\n",
      " -5.32318987e-02  1.11221567e-01 -3.76064740e-02 -3.67222220e-01\n",
      " -7.77221471e-03 -4.34553146e-01 -1.42022848e-01  1.25951737e-01\n",
      " -7.60963485e-02 -2.74867803e-01  2.03017965e-01  4.06211942e-01\n",
      " -4.91966233e-02 -7.90956259e-01  2.90967017e-01  6.08022571e-01\n",
      " -3.73229265e-01  2.42449641e-01 -6.52028248e-02 -5.97068191e-01\n",
      " -1.92723304e-01  3.33050191e-01 -2.10338637e-01  2.26037562e-01\n",
      " -5.06604433e-01  2.17072248e-01  1.87147528e-01  3.81116420e-01\n",
      "  2.54733682e-01  1.60692111e-01  2.15198651e-01  2.91769058e-01\n",
      " -4.91314352e-01  4.05157506e-02 -2.21391976e-01 -4.25886624e-02\n",
      "  1.27158090e-01  1.59865692e-01  2.55439848e-01 -2.97702104e-01\n",
      " -1.31938741e-01  1.55491810e-02  5.08837998e-01  4.07493681e-01\n",
      " -2.14515179e-01 -3.01598549e-01 -3.16037059e-01 -1.71833009e-01\n",
      "  8.10622752e-01 -5.29530011e-02  2.72734880e-01 -5.13421893e-01\n",
      "  4.20061976e-01 -3.65311444e-01 -7.35158697e-02 -1.22601176e-02\n",
      " -1.70888722e-01 -1.33189961e-01  1.38787523e-01  9.83774483e-01\n",
      "  3.13172191e-02  1.26735643e-01  6.25509247e-02  1.09605063e-02\n",
      "  5.32468021e-01 -1.72930211e-01 -4.78548110e-01 -1.88833088e-01\n",
      " -3.18857618e-02  2.32504122e-02 -6.88621253e-02  6.17109895e-01\n",
      "  3.15466166e-01 -1.07870445e-01 -4.61694330e-01 -3.20518792e-01\n",
      " -9.74690244e-02  5.32351017e-01 -1.96158066e-01  3.46458070e-02\n",
      " -3.65771323e-01  2.90872097e-01  2.26710692e-01  2.19600737e-01\n",
      "  1.81538880e-01  4.08642918e-01  3.75464231e-01  1.15213811e-01\n",
      " -3.89264077e-01 -1.49726972e-01  7.60488808e-02 -6.76508024e-02\n",
      "  1.73760727e-01 -1.31233543e-01 -3.17418545e-01 -2.86241293e-01\n",
      " -1.58410519e-02 -1.41963035e-01  1.08805649e-01 -5.80467582e-01\n",
      "  4.43649858e-01  2.41154060e-01  5.40832095e-02 -5.31612277e-01\n",
      "  1.64743900e-01 -2.96102762e-01 -4.08902436e-01 -2.10817665e-01\n",
      " -5.23815334e-01 -5.57598174e-01  1.25094950e-01 -1.38240177e-02\n",
      "  4.23491076e-02  2.18214944e-01 -7.52179176e-02 -2.39789948e-01\n",
      " -5.71856678e-01  8.43665376e-02 -1.25755966e-01 -4.28869501e-02\n",
      "  5.59283376e-01  1.06541105e-01  8.99914950e-02 -2.35900134e-01\n",
      "  1.90820873e-01 -5.88354647e-01  1.76012263e-01 -3.41152281e-01\n",
      "  2.28216443e-02 -5.34413904e-02 -3.52357388e-01  1.12376899e-01\n",
      "  6.12406991e-02  1.21191598e-01 -3.25588405e-01  2.08836511e-01\n",
      "  3.32772583e-02  9.33390390e-03  4.42780465e-01 -1.86716586e-01\n",
      " -1.21110238e-01 -5.61363138e-02 -1.26798376e-01  1.61501646e-01\n",
      "  2.31527925e-01  1.87046602e-01  1.19467609e-01 -2.55723923e-01\n",
      " -9.26703274e-01 -6.96339607e-02  8.85651782e-02 -5.91109693e-01\n",
      "  2.74895877e-01  8.06235373e-01 -3.25957924e-01 -6.94619864e-02\n",
      " -6.46087050e-01  1.61494732e-01 -3.64386916e-01  3.93844582e-02\n",
      " -7.16751143e-02  1.97137922e-01  4.13326114e-01 -2.11305156e-01\n",
      " -2.62855321e-01 -2.97450244e-01 -1.63461357e-01 -1.17244132e-01\n",
      " -4.75439578e-01 -4.35450077e-01  3.79284285e-02  3.06950420e-01\n",
      " -1.37734944e-02 -2.02509314e-02  4.07077730e-01 -1.14501687e-03\n",
      "  3.18193316e-01  1.80847347e-01  4.65386540e-01  2.14534327e-02\n",
      " -4.08065952e-02 -2.80142218e-01 -2.76216358e-01  6.61789328e-02\n",
      " -1.86753303e-01 -7.53732622e-01  2.14174017e-02  3.10139060e-01\n",
      "  3.96463752e-01  4.02695894e-01  4.35781419e-01  1.89455867e-01\n",
      " -5.65216243e-02  7.19688952e-01  2.60492921e-01  1.70668289e-01\n",
      "  2.47908130e-01 -2.37051457e-01 -5.59301712e-02  1.73007865e-02\n",
      "  1.64134100e-01  4.05940443e-01  1.65042385e-01  7.53991753e-02\n",
      " -1.15699664e-01 -2.41886899e-01 -7.68086389e-02  6.38577640e-02\n",
      " -3.00811052e-01  7.41174996e-01 -6.99147224e-01 -1.42353937e-01\n",
      " -1.91571444e-01 -8.20393413e-02  5.74042380e-01  3.21582824e-01\n",
      "  2.72045344e-01 -2.16999605e-01  2.99865622e-02  7.92788744e-01\n",
      "  6.14271641e-01 -5.19893542e-02 -5.82237005e-01 -8.64434114e-04\n",
      "  1.57173991e-01  1.08601235e-01  2.26847842e-01  3.05624098e-01\n",
      " -2.33464256e-01  1.59075633e-01 -5.78162193e-01  1.67707846e-01\n",
      " -3.82823348e-01 -2.49828458e-01 -1.94329277e-01 -1.53923929e-01\n",
      " -1.70700252e+00  2.65975952e-01  1.18014328e-01 -2.20740810e-01\n",
      "  6.32937551e-01  3.65948260e-01 -9.08361450e-02  1.10782482e-01\n",
      "  5.92017593e-03 -1.80701707e-02 -2.45743468e-01 -5.44781387e-01\n",
      "  6.00921214e-01 -2.28727967e-01  2.30632201e-01 -6.80536330e-01\n",
      " -2.96289861e-01 -3.20185781e-01  3.45497221e-01 -6.75186753e-01\n",
      "  1.92618683e-01  2.33877392e-04  9.49059725e-02 -5.41704535e-01\n",
      " -2.94847995e-01  1.77884981e-01  4.35822546e-01 -1.55829683e-01\n",
      " -4.08292189e-02  1.73306167e-01 -2.28996232e-01  4.26043361e-01\n",
      "  2.27391556e-01  2.99012475e-02  1.29497303e-02 -3.88110839e-02\n",
      "  5.09311020e-01 -6.99106008e-02 -6.85970411e-02 -1.06752418e-01\n",
      " -6.81358576e-03  2.33474553e-01 -5.09543836e-01  2.26175487e-01\n",
      "  3.18386823e-01 -4.50752452e-02 -5.28403223e-01 -3.61804664e-01\n",
      "  6.92447007e-01 -4.75325296e-03 -3.21369797e-01 -2.21059933e-01\n",
      " -2.19651520e-01 -1.49220839e-01  1.53942391e-01 -3.24440785e-02\n",
      " -1.90348551e-01 -7.61653110e-03  5.02080359e-02 -5.50467730e-01\n",
      " -3.26004364e-02  2.82823712e-01  2.72659604e-02 -2.84304798e-01\n",
      "  4.88478765e-02  3.31337243e-01  3.75613533e-02  2.43940562e-01\n",
      "  8.33787862e-03 -1.22707803e-02 -1.45899709e-02 -3.12262535e-01\n",
      " -4.01607528e-02 -5.04157245e-01  3.65687996e-01  1.01526737e+00\n",
      "  1.98106300e-02  7.87568802e-04  2.73613453e-01 -4.20701563e-01\n",
      " -3.82216901e-01 -4.23968464e-01  2.56257117e-01 -5.27811587e-01\n",
      " -3.44844639e-01 -5.62677264e-01  1.22614875e-01 -3.99352193e-01\n",
      "  5.19995540e-02 -5.54697156e-01  8.01288858e-02 -2.25900039e-02\n",
      " -7.67126143e-01  7.76943684e-01  3.24278682e-01  1.99492633e-01\n",
      "  5.56461692e-01  2.28633843e-02  6.86199069e-02  4.18016285e-01\n",
      "  3.99693519e-01 -6.49302602e-02 -3.45731415e-02 -7.86732063e-02\n",
      "  4.03437972e-01 -1.69612169e-01 -2.02514348e-03 -3.97534780e-02\n",
      " -2.62646735e-01  2.72036225e-01  1.58712696e-02 -2.38299876e-01\n",
      "  1.80406854e-01  5.54544687e-01 -5.03219187e-01 -2.14395314e-01\n",
      " -3.60376686e-01 -2.81410009e-01  2.39261821e-01  1.59518868e-01\n",
      "  1.36997283e-01  1.96909517e-01  1.04874030e-01  1.29435837e-01\n",
      "  1.64271802e-01 -4.31159854e-01 -1.41198441e-01 -1.96056694e-01\n",
      " -2.37912774e-01 -2.82815993e-01 -3.01801890e-01 -2.00967267e-01\n",
      " -2.84377068e-01 -7.96457082e-02  4.19953883e-01  5.70602342e-02\n",
      " -7.07919359e-01 -6.13635123e-01  2.98585653e-01 -3.25333834e-01\n",
      " -7.56282955e-02 -3.66115756e-02  4.63587761e-01  2.87817270e-01\n",
      "  3.41861993e-02  3.36791813e-01  1.07665181e-01 -1.05262488e-01\n",
      " -2.73506969e-01  3.66512656e-01 -5.96855760e-01  5.07020094e-02\n",
      "  2.08266556e-01 -3.35469544e-01  1.39939770e-01  7.50791803e-02\n",
      " -2.94885486e-01 -1.89107612e-01  4.09289330e-01  5.26496768e-01\n",
      " -8.50714073e-02  3.87602419e-01  2.37977669e-01  7.02533245e-01\n",
      "  1.32226855e-01 -4.75957274e-01  1.53177440e-01 -2.21179441e-01\n",
      " -2.00276840e-02 -1.96280912e-01 -2.67424554e-01  5.76369464e-02\n",
      " -1.61699772e-01  8.37495863e-01 -3.96143198e-01  4.16088313e-01\n",
      " -3.28070372e-02  5.17208688e-02 -4.47775990e-01  3.56068164e-01\n",
      "  1.97807848e-01  3.06083560e-01 -4.20997888e-01  4.27987784e-01\n",
      "  3.28330070e-01 -1.29952505e-01 -2.26606861e-01 -1.90736026e-01\n",
      " -5.54665923e-01  2.64807165e-01 -2.74694294e-01  5.65985590e-02\n",
      "  4.02078450e-01 -1.70437589e-01 -5.29929757e-01  6.13645427e-02\n",
      " -2.62431294e-01 -2.62879394e-02 -2.47562826e-01 -7.50672594e-02\n",
      "  4.90166306e-01 -2.18012080e-01 -1.27465740e-01 -3.42006721e-02\n",
      " -2.58923501e-01 -3.51876527e-01 -6.69996142e-02 -4.21721399e-01\n",
      "  1.42963633e-01 -4.11835313e-01 -9.42634826e-04 -6.49842262e-01\n",
      " -1.24431998e-01 -2.29772031e-02  3.10797513e-01 -5.32019615e-01\n",
      "  9.23090875e-02  5.17382681e-01  1.63573712e-01  4.13058363e-02\n",
      " -7.28636980e-02 -1.83735520e-01 -9.14558992e-02  8.70332047e-02\n",
      " -5.21399021e-01  8.43929708e-01 -2.66574740e-01  4.11240965e-01\n",
      "  2.23572239e-01 -1.95833072e-01  3.49191129e-01 -6.04203224e-01\n",
      " -3.42751801e-01  1.79220319e-01  7.17023313e-01 -6.55194968e-02\n",
      "  3.32258075e-01  1.94936886e-01  3.70744705e-01  4.82863098e-01\n",
      "  8.65422428e-01  1.92555353e-01  1.87965892e-02  8.18549514e-01\n",
      " -4.38926369e-01  2.15458095e-01 -3.08483094e-01  2.58447945e-01\n",
      " -2.64301032e-01  2.76938736e-01  1.33152083e-01  9.55271900e-01\n",
      "  1.51934266e-01 -1.48421809e-01  3.92412424e-01  3.57815146e-01\n",
      " -5.97918689e-01  1.17256179e-01  1.31094217e-01 -3.52676034e-01\n",
      " -3.02816480e-01  4.12478969e-02  3.66558701e-01 -1.82820223e-02\n",
      "  9.72581934e-03 -2.42839620e-01  1.15142241e-01  1.35591760e-01\n",
      " -1.86123639e-01  3.18479896e-01  1.92587942e-01 -3.06520671e-01\n",
      " -5.21789849e-01 -1.88188091e-01 -1.00929402e-01  2.04139635e-01\n",
      " -3.26642185e-01 -3.65301937e-01  1.58732548e-01 -5.57269394e-01\n",
      " -1.92395046e-01  4.54408973e-02 -1.79763198e-01 -3.18751007e-01\n",
      " -7.15919554e-01  2.68291514e-02  2.92933732e-01  2.54077986e-02\n",
      " -9.06816125e-02 -3.02210838e-01  1.28961384e-01 -4.52492982e-02\n",
      " -2.73957878e-01  2.45005656e-02  1.01298794e-01  1.00198194e-01\n",
      "  2.77010381e-01 -3.04671019e-01 -1.02600738e-01  2.81718999e-01\n",
      "  2.30849516e-02  5.78356124e-02  6.07952118e-01 -6.09606624e-01\n",
      " -2.48925369e-02 -5.05760983e-02  5.54057024e-02  1.29058082e-02\n",
      " -2.08166853e-01  2.45337263e-01 -2.25003079e-01  2.94254702e-02\n",
      " -2.74795413e-01  7.47297049e-01  1.89804077e-01  2.50813186e-01\n",
      "  1.58509851e-01 -4.02350366e-01 -1.69689506e-01 -3.71360391e-01\n",
      "  7.68900290e-02 -8.56764376e-01  1.23520851e-01 -2.45414525e-01\n",
      "  1.32726207e-01  1.03188329e-03 -1.51465908e-01  2.78874189e-02\n",
      " -2.39346381e-02 -3.59930634e-01 -3.29504818e-01  2.27888554e-01\n",
      "  2.56143473e-02 -4.43943217e-02 -1.27337366e-01  5.59246957e-01\n",
      "  2.45084897e-01 -3.95628959e-01  4.02459055e-01  8.59178752e-02\n",
      "  2.39300042e-01  5.55541292e-02  1.59763083e-01  3.13046813e-01\n",
      " -6.97056055e-02 -2.41587624e-01  5.36331832e-01  2.53384821e-02\n",
      "  2.18701988e-01  7.38165677e-02 -5.92837155e-01  3.91186059e-01\n",
      " -2.69543052e-01 -3.64371017e-03  4.24452394e-01 -3.66705924e-01\n",
      " -2.29683697e-01  2.27606729e-01  2.04090446e-01  9.79820788e-02\n",
      "  3.01232696e-01  4.20156449e-01 -2.92273015e-01  1.86211675e-01\n",
      " -7.08449259e-02  5.22045717e-02 -6.82651997e-01  2.28969231e-01\n",
      " -1.58913061e-02  2.42382467e-01  1.03892887e+00  6.22968256e-01\n",
      "  3.11470836e-01 -3.10410321e-01 -6.57746673e-01  8.60176757e-02\n",
      " -3.38298418e-02 -7.75018707e-02 -1.66623712e-01 -3.82027149e-01\n",
      "  5.91712780e-02  3.43757719e-01 -1.32355839e-01  3.92072946e-01\n",
      "  4.51857328e-01 -2.71966994e-01 -4.34611365e-02 -1.07114743e-02\n",
      "  1.96606025e-01 -3.68616521e-01  3.27718705e-02 -3.82539332e-01\n",
      " -2.63368934e-01  7.39385188e-02 -2.20478296e-01 -3.35778654e-01\n",
      "  3.91280264e-01  5.84045172e-01 -9.87244099e-02  6.27892613e-01\n",
      "  3.01857263e-01  2.69174814e-01 -6.34611666e-01  2.41535708e-01\n",
      "  4.73971784e-01  3.42636526e-01  6.68547824e-02 -1.02523193e-01\n",
      "  8.59425068e-02 -1.40613005e-01  5.32535970e-01  5.53187668e-01\n",
      " -3.11077922e-03 -5.76829761e-02 -9.48398709e-02 -5.53740025e-01\n",
      " -1.04314439e-01 -6.41410649e-01 -3.65864605e-01  3.11252251e-02\n",
      " -4.19124246e-01 -8.16606060e-02  1.00807749e-01  4.07708026e-02\n",
      " -1.40540719e-01 -1.42267525e-01  1.38903141e-01  3.76533985e-01\n",
      "  1.27233773e-01 -4.64196295e-01  1.17462404e-01  7.36001357e-02\n",
      "  5.33634603e-01 -6.54096246e-01  4.54911202e-01  3.22880447e-01\n",
      " -4.94333386e-01 -2.12526873e-01  2.33694419e-01 -7.73386121e-01\n",
      "  5.90495646e-01 -4.03243452e-01  3.81411821e-01  3.21165025e-01\n",
      " -9.56847310e-01 -4.82959181e-01  5.14968753e-01 -2.85503864e-02\n",
      "  1.28857359e-01 -2.18966939e-02  1.99644770e-02  5.53594530e-02\n",
      " -4.99371111e-01  4.32926834e-01  2.43914768e-01  2.60395974e-01\n",
      " -4.25169393e-02  5.22103846e-01  4.43724871e-01  8.34668055e-02]\n"
     ]
    }
   ],
   "source": [
    "print (f'{sentences[0]}  {embeddings[0]}')"
   ]
  },
  {
   "cell_type": "code",
   "execution_count": 9,
   "metadata": {},
   "outputs": [],
   "source": [
    "index.add(embeddings)"
   ]
  },
  {
   "cell_type": "markdown",
   "metadata": {},
   "source": [
    "## Query for approximate k-nearest neighbors\n",
    "Finally, let us now query for a few nearest neighbor searches. We will take the query phrase `a friendship with animals`, just as in the previous labs. We must remember to first create the sentence vector embedding of the query text."
   ]
  },
  {
   "cell_type": "code",
   "execution_count": 10,
   "metadata": {},
   "outputs": [
    {
     "data": {
      "text/plain": [
       "array([[ 4,  7, 10]])"
      ]
     },
     "execution_count": 10,
     "metadata": {},
     "output_type": "execute_result"
    }
   ],
   "source": [
    "query_text = 'a love of dogs'\n",
    "query = embedder.encode(query_text).reshape(1, 768)\n",
    "k = 3\n",
    "D, I = index.search(query, k)\n",
    "\n",
    "I"
   ]
  },
  {
   "cell_type": "markdown",
   "metadata": {},
   "source": [
    "### ANN-Search results\n"
   ]
  },
  {
   "cell_type": "markdown",
   "metadata": {},
   "source": [
    "Let us now print the documents at those indices."
   ]
  },
  {
   "cell_type": "code",
   "execution_count": 11,
   "metadata": {},
   "outputs": [
    {
     "name": "stdout",
     "output_type": "stream",
     "text": [
      "--------------------------------------------------------------------------------\n"
     ]
    },
    {
     "data": {
      "text/html": [
       "<p><b>Search result # 0</b></p><p>\n",
       "The dog is a gentleman; I hope to go to his heaven not man's.\n",
       "</p>"
      ],
      "text/plain": [
       "<IPython.core.display.HTML object>"
      ]
     },
     "metadata": {},
     "output_type": "display_data"
    },
    {
     "name": "stdout",
     "output_type": "stream",
     "text": [
      "--------------------------------------------------------------------------------\n"
     ]
    },
    {
     "data": {
      "text/html": [
       "<p><b>Search result # 1</b></p><p>\n",
       "Golden retrievers are not bred to be guard dogs, and considering the size of their hearts and their irrepressible joy and life, they are less likely to bite than to bark, less likely to bark than to lick a hand in greeting. In spite of their size, they think they are lap dogs, and in spite of being dogs, they think they’re also human, and nearly every human they meet is judged to have the potential to be a boon companion who might at any moment, cry, “Let’s go!” and lead them on a great adventure.\n",
       "</p>"
      ],
      "text/plain": [
       "<IPython.core.display.HTML object>"
      ]
     },
     "metadata": {},
     "output_type": "display_data"
    },
    {
     "name": "stdout",
     "output_type": "stream",
     "text": [
      "--------------------------------------------------------------------------------\n"
     ]
    },
    {
     "data": {
      "text/html": [
       "<p><b>Search result # 2</b></p><p>\n",
       "If you don’t believe that dogs have souls, you haven’t looked into their eyes long enough.\n",
       "</p>"
      ],
      "text/plain": [
       "<IPython.core.display.HTML object>"
      ]
     },
     "metadata": {},
     "output_type": "display_data"
    }
   ],
   "source": [
    "from IPython.display import Markdown, HTML\n",
    "for i, idx in enumerate(I[0]):\n",
    "    result = sentences[idx]\n",
    "    display_result = f'<p><b>Search result # {i}</b></p><p>{result}</p>'\n",
    "    print('-'*80)\n",
    "    display(HTML(display_result))\n"
   ]
  },
  {
   "cell_type": "code",
   "execution_count": null,
   "metadata": {},
   "outputs": [],
   "source": []
  }
 ],
 "metadata": {
  "hide_input": false,
  "kernelspec": {
   "display_name": "Python 3 (ipykernel)",
   "language": "python",
   "name": "python3"
  },
  "language_info": {
   "codemirror_mode": {
    "name": "ipython",
    "version": 3
   },
   "file_extension": ".py",
   "mimetype": "text/x-python",
   "name": "python",
   "nbconvert_exporter": "python",
   "pygments_lexer": "ipython3",
   "version": "3.10.9"
  },
  "latex_envs": {
   "LaTeX_envs_menu_present": true,
   "autoclose": false,
   "autocomplete": true,
   "bibliofile": "biblio.bib",
   "cite_by": "apalike",
   "current_citInitial": 1,
   "eqLabelWithNumbers": true,
   "eqNumInitial": 1,
   "hotkeys": {
    "equation": "Ctrl-E",
    "itemize": "Ctrl-I"
   },
   "labels_anchors": false,
   "latex_user_defs": false,
   "report_style_numbering": false,
   "user_envs_cfg": false
  },
  "nbTranslate": {
   "displayLangs": [
    "*"
   ],
   "hotkey": "alt-t",
   "langInMainMenu": true,
   "sourceLang": "en",
   "targetLang": "fr",
   "useGoogleTranslate": true
  },
  "toc": {
   "base_numbering": 1,
   "nav_menu": {},
   "number_sections": true,
   "sideBar": true,
   "skip_h1_title": false,
   "title_cell": "Table of Contents",
   "title_sidebar": "Contents",
   "toc_cell": false,
   "toc_position": {},
   "toc_section_display": true,
   "toc_window_display": false
  },
  "varInspector": {
   "cols": {
    "lenName": 16,
    "lenType": 16,
    "lenVar": 40
   },
   "kernels_config": {
    "python": {
     "delete_cmd_postfix": "",
     "delete_cmd_prefix": "del ",
     "library": "var_list.py",
     "varRefreshCmd": "print(var_dic_list())"
    },
    "r": {
     "delete_cmd_postfix": ") ",
     "delete_cmd_prefix": "rm(",
     "library": "var_list.r",
     "varRefreshCmd": "cat(var_dic_list()) "
    }
   },
   "types_to_exclude": [
    "module",
    "function",
    "builtin_function_or_method",
    "instance",
    "_Feature"
   ],
   "window_display": false
  }
 },
 "nbformat": 4,
 "nbformat_minor": 4
}
