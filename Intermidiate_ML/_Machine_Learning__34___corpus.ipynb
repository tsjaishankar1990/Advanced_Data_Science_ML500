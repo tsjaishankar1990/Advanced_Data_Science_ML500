{
 "cells": [
  {
   "cell_type": "markdown",
   "metadata": {
    "ExecuteTime": {
     "end_time": "2021-12-15T23:28:41.781265Z",
     "start_time": "2021-12-15T23:28:41.750084Z"
    }
   },
   "source": [
    "# Toy corpus for semantic search\n",
    "\n",
    "Here, we create a toy corpus comprising of a few small document texts. Then we will make this the context of semantic search.\n"
   ]
  },
  {
   "cell_type": "code",
   "execution_count": 2,
   "metadata": {
    "ExecuteTime": {
     "end_time": "2023-03-18T14:43:25.410077Z",
     "start_time": "2023-03-18T14:43:25.395081Z"
    }
   },
   "outputs": [],
   "source": [
    "#\n",
    "# From \"Through the looking Glass\" by Lewis Caroll\n",
    "#\n",
    "jabberwocky = \"\"\"\n",
    "’Twas brillig, and the slithy toves\n",
    "      Did gyre and gimble in the wabe:\n",
    "All mimsy were the borogoves,\n",
    "      And the mome raths outgrabe.\n",
    "\n",
    "“Beware the Jabberwock, my son!\n",
    "      The jaws that bite, the claws that catch!\n",
    "Beware the Jubjub bird, and shun\n",
    "      The frumious Bandersnatch!”\n",
    "\n",
    "He took his vorpal sword in hand;\n",
    "      Long time the manxome foe he sought—\n",
    "So rested he by the Tumtum tree\n",
    "      And stood awhile in thought.\n",
    "\n",
    "And, as in uffish thought he stood,\n",
    "      The Jabberwock, with eyes of flame,\n",
    "Came whiffling through the tulgey wood,\n",
    "      And burbled as it came!\n",
    "\n",
    "One, two! One, two! And through and through\n",
    "      The vorpal blade went snicker-snack!\n",
    "He left it dead, and with its head\n",
    "      He went galumphing back.\n",
    "\n",
    "“And hast thou slain the Jabberwock?\n",
    "      Come to my arms, my beamish boy!\n",
    "O frabjous day! Callooh! Callay!”\n",
    "      He chortled in his joy.\n",
    "\n",
    "’Twas brillig, and the slithy toves\n",
    "      Did gyre and gimble in the wabe:\n",
    "All mimsy were the borogoves,\n",
    "      And the mome raths outgrabe.\n",
    "\n",
    "\"\"\""
   ]
  },
  {
   "cell_type": "code",
   "execution_count": 3,
   "metadata": {
    "ExecuteTime": {
     "end_time": "2023-03-18T14:43:25.426078Z",
     "start_time": "2023-03-18T14:43:25.414080Z"
    }
   },
   "outputs": [],
   "source": [
    "#\n",
    "# The beginning of the \"Tale of two cities\", by Charles Dickens\n",
    "#\n",
    "best_of_times = \"\"\"\n",
    "It was the best of times, it was the worst of times, \n",
    "it was the age of wisdom, it was the age of foolishness, \n",
    "it was the epoch of belief, it was the epoch of incredulity, \n",
    "it was the season of light, it was the season of darkness, \n",
    "it was the spring of hope, it was the winter of despair, \n",
    "we had everything before us, we had nothing before us, \n",
    "we were all going direct to heaven, \n",
    "we were all going direct the other way–in short, \n",
    "the period was so far like the present period, \n",
    "that some of its noisiest authorities insisted on its being received, \n",
    "for good or for evil, in the superlative degree of comparison only.\n",
    "\"\"\""
   ]
  },
  {
   "cell_type": "code",
   "execution_count": 4,
   "metadata": {
    "ExecuteTime": {
     "end_time": "2023-03-18T14:43:25.442140Z",
     "start_time": "2023-03-18T14:43:25.427088Z"
    }
   },
   "outputs": [],
   "source": [
    "#\n",
    "# From the \"Tale of two cities\" by Charles Dickens\n",
    "#\n",
    "mystery = \"\"\"\n",
    "A wonderful fact to reflect upon, that every human creature is \n",
    "constituted to be that profound secret and mystery to every other. \n",
    "\"\"\""
   ]
  },
  {
   "cell_type": "code",
   "execution_count": 5,
   "metadata": {
    "ExecuteTime": {
     "end_time": "2023-03-18T14:43:25.458138Z",
     "start_time": "2023-03-18T14:43:25.444127Z"
    }
   },
   "outputs": [],
   "source": [
    "#\n",
    "# A poignant passage from the \"Tale of two cities\", by Charles Dickens\n",
    "#\n",
    "last_dream = \"\"\"\n",
    "I wish you to know that you have been the last dream of my soul. \n",
    "In my degradation I have not been so degraded but that the sight \n",
    "of you with your father, and of this home made such a home by you, \n",
    "has stirred old shadows that I thought had died out of me. \n",
    "Since I knew you, I have been troubled by a remorse that I \n",
    "thought would never reproach me again, and have heard whispers \n",
    "from old voices impelling me upward, that I thought were silent \n",
    "for ever. I have had unformed ideas of striving afresh, beginning anew, \n",
    "shaking off sloth and sensuality, and fighting out the abandoned fight. \n",
    "A dream, all a dream, that ends in nothing, and leaves the sleeper \n",
    "where he lay down, but I wish you to know that you inspired it.\n",
    "\"\"\""
   ]
  },
  {
   "cell_type": "code",
   "execution_count": 6,
   "metadata": {
    "ExecuteTime": {
     "end_time": "2023-03-18T14:43:25.474149Z",
     "start_time": "2023-03-18T14:43:25.459146Z"
    }
   },
   "outputs": [],
   "source": [
    "mark_twain_dog = \"\"\"\n",
    "The dog is a gentleman; I hope to go to his heaven not man's.\n",
    "\"\"\""
   ]
  },
  {
   "cell_type": "code",
   "execution_count": 7,
   "metadata": {
    "ExecuteTime": {
     "end_time": "2023-03-18T14:43:25.490170Z",
     "start_time": "2023-03-18T14:43:25.476405Z"
    }
   },
   "outputs": [],
   "source": [
    "einstein = \"\"\"If a man aspires towards a righteous life, his first act of abstinence is from injury to animals.\"\"\""
   ]
  },
  {
   "cell_type": "code",
   "execution_count": 8,
   "metadata": {
    "ExecuteTime": {
     "end_time": "2023-03-18T14:43:25.506220Z",
     "start_time": "2023-03-18T14:43:25.491171Z"
    }
   },
   "outputs": [],
   "source": [
    "tweedledee  = \"\"\"\n",
    "Tweedledum and Tweedledee: She then meets the fat twin brothers \n",
    "Tweedledum and Tweedledee, whom she knows from the nursery rhyme. \n",
    "After reciting the long poem \"The Walrus and the Carpenter\", \n",
    "they draw Alice's attention to the Red King—loudly snoring away \n",
    "under a nearby tree—and maliciously provoke her with idle philosophical \n",
    "banter that she exists only as an imaginary figure in the Red King's dreams. \n",
    "Finally, the brothers begin suiting up for battle, only to be frightened \n",
    "away by an enormous crow, as the nursery rhyme about them predicts.\n",
    "\"\"\""
   ]
  },
  {
   "cell_type": "code",
   "execution_count": 15,
   "metadata": {
    "ExecuteTime": {
     "end_time": "2023-03-18T14:43:45.485524Z",
     "start_time": "2023-03-18T14:43:45.473522Z"
    }
   },
   "outputs": [],
   "source": [
    "goldens_1 = \"\"\"\n",
    "Golden retrievers are not bred to be guard dogs, and considering the size of their hearts and their irrepressible joy and life, they are less likely to bite than to bark, less likely to bark than to lick a hand in greeting. In spite of their size, they think they are lap dogs, and in spite of being dogs, they think they’re also human, and nearly every human they meet is judged to have the potential to be a boon companion who might at any moment, cry, “Let’s go!” and lead them on a great adventure.\n",
    "\"\"\"\n",
    "\n",
    "goldens_2 = \"\"\"\n",
    "If you’re lucky, a golden retriever will come into your life, steal your heart, and change everything\n",
    "\"\"\"\n",
    "\n",
    "goldens_3 = \"\"\"\n",
    "My friend Phil has a theory that the Lord, having made teenagers, felt constrained to make amends and so created the golden retriever.\n",
    "\"\"\"\n",
    "\n",
    "dog_soul = \"\"\"\n",
    "If you don’t believe that dogs have souls, you haven’t looked into their eyes long enough.\n",
    "\"\"\""
   ]
  },
  {
   "cell_type": "code",
   "execution_count": 10,
   "metadata": {
    "ExecuteTime": {
     "end_time": "2023-03-18T14:43:25.537753Z",
     "start_time": "2023-03-18T14:43:25.524223Z"
    }
   },
   "outputs": [],
   "source": [
    "keats = \"\"\"\n",
    "A thing of beauty is a joy for ever:\n",
    "Its loveliness increases; it will never\n",
    "Pass into nothingness; but still will keep\n",
    "A bower quiet for us, and a sleep\n",
    "Full of sweet dreams, and health, and quiet breathing.\n",
    "Therefore, on every morrow, are we wreathing\n",
    "A flowery band to bind us to the earth,\n",
    "Spite of despondence, of the inhuman dearth\n",
    "Of noble natures, of the gloomy days,\n",
    "Of all the unhealthy and o'er-darkn'd ways\n",
    "Made for our searching: yes, in spite of all,\n",
    "Some shape of beauty moves away the pall\n",
    "From our dark spirits. Such the sun, the moon,\n",
    "Trees old and young, sprouting a shady boon\n",
    "For simple sheep; and such are daffodils\n",
    "With the green world they live in; and clear rills\n",
    "That for themselves a cooling covert make\n",
    "'Gainst the hot season; the mid-forest brake,\n",
    "Rich with a sprinkling of fair musk-rose blooms:\n",
    "And such too is the grandeur of the dooms\n",
    "We have imagined for the mighty dead;\n",
    "An endless fountain of immortal drink,\n",
    "Pouring unto us from the heaven's brink\n",
    "\"\"\""
   ]
  },
  {
   "cell_type": "code",
   "execution_count": 11,
   "metadata": {
    "ExecuteTime": {
     "end_time": "2023-03-18T14:43:25.553579Z",
     "start_time": "2023-03-18T14:43:25.539754Z"
    }
   },
   "outputs": [],
   "source": [
    "attention = \"\"\"\n",
    "The dominant sequence transduction models are based on \n",
    "complex recurrent or convolutional neural networks in an encoder-decoder configuration. \n",
    "The best performing models also connect the encoder and decoder through \n",
    "an attention mechanism. We propose a new simple network architecture, \n",
    "the Transformer, based solely on attention mechanisms, \n",
    "dispensing with recurrence and convolutions entirely. \n",
    "Experiments on two machine translation tasks show these models \n",
    "to be superior in quality while being more parallelizable \n",
    "and requiring significantly less time to train. \n",
    "Our model achieves 28.4 BLEU on the WMT 2014 English-to-German translation task, \n",
    "improving over the existing best results, including ensembles by over 2 BLEU. \n",
    "On the WMT 2014 English-to-French translation task, our model establishes \n",
    "a new single-model state-of-the-art BLEU score of 41.8 after training for \n",
    "3.5 days on eight GPUs, a small fraction of the training costs of the \n",
    "best models from the literature. We show that the Transformer \n",
    "generalizes well to other tasks by applying it successfully to \n",
    "English constituency parsing both with large and limited training data.\n",
    "\n",
    "\"\"\""
   ]
  },
  {
   "cell_type": "code",
   "execution_count": 12,
   "metadata": {
    "ExecuteTime": {
     "end_time": "2023-03-18T14:43:25.569582Z",
     "start_time": "2023-03-18T14:43:25.558589Z"
    }
   },
   "outputs": [],
   "source": [
    "backprop = \"\"\"\n",
    "In machine learning, backpropagation\n",
    "(backprop,[1] BP) is a widely used\n",
    "algorithm for training feedforward\n",
    "artificial neural networks.\n",
    "Generalizations of backpropagation\n",
    "exist for other artificial neural\n",
    "networks (ANNs), and for functions\n",
    "generally. These classes of algorithms\n",
    "are all referred to generically as\n",
    "\"backpropagation\".[2] In fitting a\n",
    "neural network, backpropagation\n",
    "computes the gradient of the loss\n",
    "function with respect to the weights of\n",
    "the network for a single input–output\n",
    "example, and does so efficiently,\n",
    "unlike a naive direct computation of\n",
    "the gradient with respect to each\n",
    "weight individually. This efficiency\n",
    "makes it feasible to use gradient\n",
    "methods for training multilayer\n",
    "networks, updating weights to minimize\n",
    "loss; gradient descent, or variants\n",
    "such as stochastic gradient descent,\n",
    "are commonly used. The backpropagation\n",
    "algorithm works by computing the\n",
    "gradient of the loss function with\n",
    "respect to each weight by the chain\n",
    "rule, computing the gradient one layer\n",
    "at a time, iterating backward from the\n",
    "last layer to avoid redundant\n",
    "calculations of intermediate terms in\n",
    "the chain rule; this is an example of\n",
    "dynamic programming.[3]\n",
    "\"\"\""
   ]
  },
  {
   "cell_type": "code",
   "execution_count": 13,
   "metadata": {
    "ExecuteTime": {
     "end_time": "2023-03-18T14:43:25.584594Z",
     "start_time": "2023-03-18T14:43:25.571585Z"
    }
   },
   "outputs": [],
   "source": [
    "# Wordsworth\n",
    "lucy = \"\"\"\n",
    "She dwelt among the untrodden ways\n",
    "Beside the springs of Dove,\n",
    "A Maid whom there were none to praise\n",
    "And very few to love:\n",
    "\n",
    "A violet by a mossy stone\n",
    "Half hidden from the eye!\n",
    "—Fair as a star, when only one\n",
    "Is shining in the sky.\n",
    "\n",
    "She lived unknown, and few could know\n",
    "When Lucy ceased to be;\n",
    "But she is in her grave, and, oh,\n",
    "The difference to me!\n",
    "\n",
    "\"\"\"\n",
    "\n",
    "# Davies\n",
    "full_of_cares = \"\"\"\n",
    "What is this life if, full of care,\n",
    "We have no time to stand and stare.\n",
    "\n",
    "No time to stand beneath the boughs\n",
    "And stare as long as sheep or cows.\n",
    "\n",
    "No time to see, when woods we pass,\n",
    "Where squirrels hide their nuts in grass.\n",
    "\n",
    "No time to see, in broad daylight,\n",
    "Streams full of stars, like skies at night.\n",
    "\n",
    "No time to turn at Beauty's glance,\n",
    "And watch her feet, how they can dance.\n",
    "\n",
    "No time to wait till her mouth can\n",
    "Enrich that smile her eyes began.\n",
    "\n",
    "A poor life this if, full of care,\n",
    "We have no time to stand and stare.\n",
    "\n",
    " \n",
    "\"\"\""
   ]
  },
  {
   "cell_type": "code",
   "execution_count": 18,
   "metadata": {
    "ExecuteTime": {
     "end_time": "2023-03-18T14:50:39.494549Z",
     "start_time": "2023-03-18T14:50:39.486547Z"
    }
   },
   "outputs": [
    {
     "data": {
      "text/plain": [
       "['’Twas brillig, and the slithy toves      Did gyre and gimble in the wabe:All mimsy were the borogoves,      And the mome raths outgrabe.“Beware the Jabberwock, my son!      The jaws that bite, the claws that catch!Beware the Jubjub bird, and shun      The frumious Bandersnatch!”He took his vorpal sword in hand;      Long time the manxome foe he sought—So rested he by the Tumtum tree      And stood awhile in thought.And, as in uffish thought he stood,      The Jabberwock, with eyes of flame,Came whiffling through the tulgey wood,      And burbled as it came!One, two! One, two! And through and through      The vorpal blade went snicker-snack!He left it dead, and with its head      He went galumphing back.“And hast thou slain the Jabberwock?      Come to my arms, my beamish boy!O frabjous day! Callooh! Callay!”      He chortled in his joy.’Twas brillig, and the slithy toves      Did gyre and gimble in the wabe:All mimsy were the borogoves,      And the mome raths outgrabe.',\n",
       " 'It was the best of times, it was the worst of times, it was the age of wisdom, it was the age of foolishness, it was the epoch of belief, it was the epoch of incredulity, it was the season of light, it was the season of darkness, it was the spring of hope, it was the winter of despair, we had everything before us, we had nothing before us, we were all going direct to heaven, we were all going direct the other way–in short, the period was so far like the present period, that some of its noisiest authorities insisted on its being received, for good or for evil, in the superlative degree of comparison only.',\n",
       " 'I wish you to know that you have been the last dream of my soul. In my degradation I have not been so degraded but that the sight of you with your father, and of this home made such a home by you, has stirred old shadows that I thought had died out of me. Since I knew you, I have been troubled by a remorse that I thought would never reproach me again, and have heard whispers from old voices impelling me upward, that I thought were silent for ever. I have had unformed ideas of striving afresh, beginning anew, shaking off sloth and sensuality, and fighting out the abandoned fight. A dream, all a dream, that ends in nothing, and leaves the sleeper where he lay down, but I wish you to know that you inspired it.',\n",
       " 'A wonderful fact to reflect upon, that every human creature is constituted to be that profound secret and mystery to every other. ',\n",
       " \"The dog is a gentleman; I hope to go to his heaven not man's.\",\n",
       " 'If a man aspires towards a righteous life, his first act of abstinence is from injury to animals.',\n",
       " 'Tweedledum and Tweedledee: She then meets the fat twin brothers Tweedledum and Tweedledee, whom she knows from the nursery rhyme. After reciting the long poem \"The Walrus and the Carpenter\", they draw Alice\\'s attention to the Red King—loudly snoring away under a nearby tree—and maliciously provoke her with idle philosophical banter that she exists only as an imaginary figure in the Red King\\'s dreams. Finally, the brothers begin suiting up for battle, only to be frightened away by an enormous crow, as the nursery rhyme about them predicts.',\n",
       " 'Golden retrievers are not bred to be guard dogs, and considering the size of their hearts and their irrepressible joy and life, they are less likely to bite than to bark, less likely to bark than to lick a hand in greeting. In spite of their size, they think they are lap dogs, and in spite of being dogs, they think they’re also human, and nearly every human they meet is judged to have the potential to be a boon companion who might at any moment, cry, “Let’s go!” and lead them on a great adventure.',\n",
       " 'If you’re lucky, a golden retriever will come into your life, steal your heart, and change everything',\n",
       " 'My friend Phil has a theory that the Lord, having made teenagers, felt constrained to make amends and so created the golden retriever.',\n",
       " 'If you don’t believe that dogs have souls, you haven’t looked into their eyes long enough.',\n",
       " \"A thing of beauty is a joy for ever:Its loveliness increases; it will neverPass into nothingness; but still will keepA bower quiet for us, and a sleepFull of sweet dreams, and health, and quiet breathing.Therefore, on every morrow, are we wreathingA flowery band to bind us to the earth,Spite of despondence, of the inhuman dearthOf noble natures, of the gloomy days,Of all the unhealthy and o'er-darkn'd waysMade for our searching: yes, in spite of all,Some shape of beauty moves away the pallFrom our dark spirits. Such the sun, the moon,Trees old and young, sprouting a shady boonFor simple sheep; and such are daffodilsWith the green world they live in; and clear rillsThat for themselves a cooling covert make'Gainst the hot season; the mid-forest brake,Rich with a sprinkling of fair musk-rose blooms:And such too is the grandeur of the doomsWe have imagined for the mighty dead;An endless fountain of immortal drink,Pouring unto us from the heaven's brink\",\n",
       " 'The dominant sequence transduction models are based on complex recurrent or convolutional neural networks in an encoder-decoder configuration. The best performing models also connect the encoder and decoder through an attention mechanism. We propose a new simple network architecture, the Transformer, based solely on attention mechanisms, dispensing with recurrence and convolutions entirely. Experiments on two machine translation tasks show these models to be superior in quality while being more parallelizable and requiring significantly less time to train. Our model achieves 28.4 BLEU on the WMT 2014 English-to-German translation task, improving over the existing best results, including ensembles by over 2 BLEU. On the WMT 2014 English-to-French translation task, our model establishes a new single-model state-of-the-art BLEU score of 41.8 after training for 3.5 days on eight GPUs, a small fraction of the training costs of the best models from the literature. We show that the Transformer generalizes well to other tasks by applying it successfully to English constituency parsing both with large and limited training data.',\n",
       " 'In machine learning, backpropagation(backprop,[1] BP) is a widely usedalgorithm for training feedforwardartificial neural networks.Generalizations of backpropagationexist for other artificial neuralnetworks (ANNs), and for functionsgenerally. These classes of algorithmsare all referred to generically as\"backpropagation\".[2] In fitting aneural network, backpropagationcomputes the gradient of the lossfunction with respect to the weights ofthe network for a single input–outputexample, and does so efficiently,unlike a naive direct computation ofthe gradient with respect to eachweight individually. This efficiencymakes it feasible to use gradientmethods for training multilayernetworks, updating weights to minimizeloss; gradient descent, or variantssuch as stochastic gradient descent,are commonly used. The backpropagationalgorithm works by computing thegradient of the loss function withrespect to each weight by the chainrule, computing the gradient one layerat a time, iterating backward from thelast layer to avoid redundantcalculations of intermediate terms inthe chain rule; this is an example ofdynamic programming.[3]',\n",
       " 'She dwelt among the untrodden waysBeside the springs of Dove,A Maid whom there were none to praiseAnd very few to love:A violet by a mossy stoneHalf hidden from the eye!—Fair as a star, when only oneIs shining in the sky.She lived unknown, and few could knowWhen Lucy ceased to be;But she is in her grave, and, oh,The difference to me!',\n",
       " \"What is this life if, full of care,We have no time to stand and stare.No time to stand beneath the boughsAnd stare as long as sheep or cows.No time to see, when woods we pass,Where squirrels hide their nuts in grass.No time to see, in broad daylight,Streams full of stars, like skies at night.No time to turn at Beauty's glance,And watch her feet, how they can dance.No time to wait till her mouth canEnrich that smile her eyes began.A poor life this if, full of care,We have no time to stand and stare. \"]"
      ]
     },
     "execution_count": 18,
     "metadata": {},
     "output_type": "execute_result"
    }
   ],
   "source": [
    "sentences = [\n",
    "    jabberwocky, best_of_times, last_dream, mystery, mark_twain_dog, einstein,\n",
    "    tweedledee, goldens_1, goldens_2, goldens_3, dog_soul, keats, attention, backprop, lucy, full_of_cares\n",
    "]\n",
    "\n",
    "\n"
   ]
  },
  {
   "cell_type": "code",
   "execution_count": null,
   "metadata": {},
   "outputs": [],
   "source": []
  }
 ],
 "metadata": {
  "hide_input": false,
  "kernelspec": {
   "display_name": "Python 3 (ipykernel)",
   "language": "python",
   "name": "python3"
  },
  "language_info": {
   "codemirror_mode": {
    "name": "ipython",
    "version": 3
   },
   "file_extension": ".py",
   "mimetype": "text/x-python",
   "name": "python",
   "nbconvert_exporter": "python",
   "pygments_lexer": "ipython3",
   "version": "3.10.9"
  },
  "latex_envs": {
   "LaTeX_envs_menu_present": true,
   "autoclose": false,
   "autocomplete": true,
   "bibliofile": "biblio.bib",
   "cite_by": "apalike",
   "current_citInitial": 1,
   "eqLabelWithNumbers": true,
   "eqNumInitial": 1,
   "hotkeys": {
    "equation": "Ctrl-E",
    "itemize": "Ctrl-I"
   },
   "labels_anchors": false,
   "latex_user_defs": false,
   "report_style_numbering": false,
   "user_envs_cfg": false
  },
  "nbTranslate": {
   "displayLangs": [
    "*"
   ],
   "hotkey": "alt-t",
   "langInMainMenu": true,
   "sourceLang": "en",
   "targetLang": "fr",
   "useGoogleTranslate": true
  },
  "toc": {
   "base_numbering": 1,
   "nav_menu": {},
   "number_sections": true,
   "sideBar": true,
   "skip_h1_title": false,
   "title_cell": "Table of Contents",
   "title_sidebar": "Contents",
   "toc_cell": false,
   "toc_position": {},
   "toc_section_display": true,
   "toc_window_display": false
  },
  "varInspector": {
   "cols": {
    "lenName": 16,
    "lenType": 16,
    "lenVar": 40
   },
   "kernels_config": {
    "python": {
     "delete_cmd_postfix": "",
     "delete_cmd_prefix": "del ",
     "library": "var_list.py",
     "varRefreshCmd": "print(var_dic_list())"
    },
    "r": {
     "delete_cmd_postfix": ") ",
     "delete_cmd_prefix": "rm(",
     "library": "var_list.r",
     "varRefreshCmd": "cat(var_dic_list()) "
    }
   },
   "types_to_exclude": [
    "module",
    "function",
    "builtin_function_or_method",
    "instance",
    "_Feature"
   ],
   "window_display": false
  }
 },
 "nbformat": 4,
 "nbformat_minor": 4
}
