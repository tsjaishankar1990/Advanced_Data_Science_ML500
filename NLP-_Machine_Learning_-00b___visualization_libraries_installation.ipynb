{
 "cells": [
  {
   "cell_type": "code",
   "execution_count": 1,
   "metadata": {
    "ExecuteTime": {
     "end_time": "2023-03-22T21:27:41.402043Z",
     "start_time": "2023-03-22T21:27:35.647896Z"
    },
    "tags": []
   },
   "outputs": [
    {
     "data": {
      "text/html": [
       "\n",
       "<!-- Many of the styles here are inspired by: \n",
       "    https://towardsdatascience.com/10-practical-tips-you-need-to-know-to-personalize-jupyter-notebook-fbd202777e20 \n",
       "       \n",
       "    \n",
       "    On the author's local machine, these exist in the custom.css file. However, in order to keep uniform look and feel, \n",
       "    and at the request of participants, I have added it to this common import-file here.\n",
       "\n",
       "    -->\n",
       "\n",
       "<link href=\"https://fonts.googleapis.com/css?family=Lora:400,700|Montserrat:300\" rel=\"stylesheet\">\n",
       "\n",
       "<link href=\"https://fonts.googleapis.com/css2?family=Crimson+Pro&family=Literata&display=swap\" rel=\"stylesheet\">\n",
       "<style>\n",
       "\n",
       "\n",
       "#ipython_notebook::before{\n",
       " content:\"NLP with Transformers\";\n",
       "        color: white;\n",
       "        font-weight: bold;\n",
       "        text-transform: uppercase;\n",
       "        font-family: 'Lora',serif;\n",
       "        font-size:16pt;\n",
       "        margin-bottom:15px;\n",
       "        margin-top:15px;\n",
       "           \n",
       "}\n",
       "body > #header {\n",
       "    #background: #D15555;\n",
       "    background: linear-gradient(to bottom, indianred 0%, #fff 100%);\n",
       "    opacity: 0.8;\n",
       "\n",
       "}\n",
       "\n",
       "\n",
       ".navbar-default .navbar-nav > li > a, #kernel_indicator {\n",
       "    color: white;\n",
       "    transition: all 0.25s;\n",
       "    font-size:10pt;\n",
       "    font-family: sans-serif;\n",
       "    font-weight:normal;\n",
       "}\n",
       ".navbar-default {\n",
       "    padding-left:100px;\n",
       "    background: none;\n",
       "    border: none;\n",
       "}\n",
       "\n",
       "\n",
       "body > menubar-container {\n",
       "    background-color: wheat;\n",
       "}\n",
       "#ipython_notebook img{                                                                                        \n",
       "    display:block; \n",
       "    \n",
       "    background: url(\"https://www.supportvectors.com/wp-content/uploads/2016/03/logo-poster-smaller.png\") no-repeat;\n",
       "    background-size: contain;\n",
       "   \n",
       "    padding-left: 600px;\n",
       "    padding-right: 100px;\n",
       "    \n",
       "    -moz-box-sizing: border-box;\n",
       "    box-sizing: border-box;\n",
       "}\n",
       "\n",
       "\n",
       "\n",
       "body {\n",
       " #font-family:  'Literata', serif;\n",
       "    font-family:'Lora', san-serif;\n",
       "    text-align: justify;\n",
       "    font-weight: 400;\n",
       "    font-size: 12pt;\n",
       "}\n",
       "\n",
       "iframe{\n",
       "    width:100%;\n",
       "    min-height:600px;\n",
       "}\n",
       "\n",
       "h1, h2, h3, h4, h5, h6 {\n",
       "# font-family: 'Montserrat', sans-serif;\n",
       " font-family:'Lora', serif;\n",
       " font-weight: 200;\n",
       " text-transform: uppercase;\n",
       " color: #EC7063 ;\n",
       "}\n",
       "\n",
       "h2 {\n",
       "    color: #000080;\n",
       "}\n",
       "\n",
       ".checkpoint_status, .autosave_status {\n",
       "    color:wheat;\n",
       "}\n",
       "\n",
       "#notebook_name {\n",
       "    font-weight: 600;\n",
       "    font-size:20pt;\n",
       "    text-variant:uppercase;\n",
       "    color: wheat; \n",
       "    margin-right:20px;\n",
       "    margin-left:-500px;\n",
       "}\n",
       "#notebook_name:hover {\n",
       "background-color: salmon;\n",
       "}\n",
       "\n",
       "\n",
       ".dataframe { /* dataframe atau table */\n",
       "    background: white;\n",
       "    box-shadow: 0px 1px 2px #bbb;\n",
       "}\n",
       ".dataframe thead th, .dataframe tbody td {\n",
       "    text-align: center;\n",
       "    padding: 1em;\n",
       "}\n",
       "\n",
       ".checkpoint_status, .autosave_status {\n",
       "    color:wheat;\n",
       "}\n",
       "\n",
       ".output {\n",
       "    align-items: center;\n",
       "}\n",
       "\n",
       "div.cell {\n",
       "    transition: all 0.25s;\n",
       "    border: none;\n",
       "    position: relative;\n",
       "    top: 0;\n",
       "}\n",
       "div.cell.selected, div.cell.selected.jupyter-soft-selected {\n",
       "    border: none;\n",
       "    background: transparent;\n",
       "    box-shadow: 0 6px 18px #aaa;\n",
       "    z-index: 10;\n",
       "    top: -10px;\n",
       "}\n",
       ".CodeMirror pre, .CodeMirror-dialog, .CodeMirror-dialog .CodeMirror-search-field, .terminal-app .terminal {\n",
       "    font-family: 'Hack' , serif; \n",
       "    font-weight: 500;\n",
       "    font-size: 14pt;\n",
       "}\n",
       "\n",
       "\n",
       "\n",
       "</style>    \n"
      ],
      "text/plain": [
       "<IPython.core.display.HTML object>"
      ]
     },
     "metadata": {},
     "output_type": "display_data"
    },
    {
     "data": {
      "text/markdown": [
       "\n",
       "\n",
       "<center><img src=\"https://d4x5p7s4.rocketcdn.me/wp-content/uploads/2016/03/logo-poster-smaller.png\"/> </center>\n",
       "<div style=\"color:#aaa;font-size:8pt\">\n",
       "<hr/>\n",
       "&copy; SupportVectors. All rights reserved. <blockquote>This notebook is the intellectual property of SupportVectors, and part of its training material. \n",
       "Only the participants in SupportVectors workshops are allowed to study the notebooks for educational purposes currently, but is prohibited from copying or using it for any other purposes without written permission.\n",
       "\n",
       "<b> These notebooks are chapters and sections from Asif Qamar's textbook that he is writing on Data Science. So we request you to not circulate the material to others.</b>\n",
       " </blockquote>\n",
       " <hr/>\n",
       "</div>\n",
       "\n"
      ],
      "text/plain": [
       "<IPython.core.display.Markdown object>"
      ]
     },
     "metadata": {},
     "output_type": "display_data"
    }
   ],
   "source": [
    "%run supportvectors-common.ipynb"
   ]
  },
  {
   "cell_type": "markdown",
   "metadata": {},
   "source": [
    "# Installation of the visualization libraries\n",
    "\n",
    "In the course of the workshop, we will need the following libraries for our data visualization needs. Run the below cell to install these."
   ]
  },
  {
   "cell_type": "code",
   "execution_count": 2,
   "metadata": {
    "ExecuteTime": {
     "end_time": "2023-03-22T21:29:00.141002Z",
     "start_time": "2023-03-22T21:27:41.404030Z"
    }
   },
   "outputs": [
    {
     "data": {
      "text/markdown": [
       "<hr  height=\"5px\"><span style=\"color: salmon; font-weight: bold; width=1000px\">SEABORN library verification and installation if needed</span> <hr height=\"5px\">"
      ],
      "text/plain": [
       "<IPython.core.display.Markdown object>"
      ]
     },
     "metadata": {},
     "output_type": "display_data"
    },
    {
     "name": "stdout",
     "output_type": "stream",
     "text": [
      "\u001b[33mWARNING: Skipping /home/shaanvi/anaconda3/lib/python3.11/site-packages/torchvision-0.15.2.dist-info due to invalid metadata entry 'name'\u001b[0m\u001b[33m\n",
      "\u001b[0m\u001b[33mWARNING: Skipping /home/shaanvi/anaconda3/lib/python3.11/site-packages/torchvision-0.15.2.dist-info due to invalid metadata entry 'name'\u001b[0m\u001b[33m\n",
      "\u001b[0m\u001b[33mDEPRECATION: Loading egg at /home/shaanvi/anaconda3/lib/python3.11/site-packages/svlearn_bootcamp-1.0.0-py3.11.egg is deprecated. pip 24.3 will enforce this behaviour change. A possible replacement is to use pip for package installation.. Discussion can be found at https://github.com/pypa/pip/issues/12330\u001b[0m\u001b[33m\n",
      "\u001b[0mRequirement already satisfied: seaborn in /home/shaanvi/.local/lib/python3.11/site-packages (0.13.0)\n",
      "Requirement already satisfied: numpy!=1.24.0,>=1.20 in /home/shaanvi/.local/lib/python3.11/site-packages (from seaborn) (1.26.1)\n",
      "Requirement already satisfied: pandas>=1.2 in /home/shaanvi/.local/lib/python3.11/site-packages (from seaborn) (2.1.3)\n",
      "Requirement already satisfied: matplotlib!=3.6.1,>=3.3 in /home/shaanvi/anaconda3/lib/python3.11/site-packages (from seaborn) (3.8.1)\n",
      "Requirement already satisfied: contourpy>=1.0.1 in /home/shaanvi/anaconda3/lib/python3.11/site-packages (from matplotlib!=3.6.1,>=3.3->seaborn) (1.0.5)\n",
      "Requirement already satisfied: cycler>=0.10 in /home/shaanvi/anaconda3/lib/python3.11/site-packages (from matplotlib!=3.6.1,>=3.3->seaborn) (0.11.0)\n",
      "Requirement already satisfied: fonttools>=4.22.0 in /home/shaanvi/anaconda3/lib/python3.11/site-packages (from matplotlib!=3.6.1,>=3.3->seaborn) (4.25.0)\n",
      "Requirement already satisfied: kiwisolver>=1.3.1 in /home/shaanvi/anaconda3/lib/python3.11/site-packages (from matplotlib!=3.6.1,>=3.3->seaborn) (1.4.4)\n",
      "Requirement already satisfied: packaging>=20.0 in /home/shaanvi/anaconda3/lib/python3.11/site-packages (from matplotlib!=3.6.1,>=3.3->seaborn) (23.1)\n",
      "Requirement already satisfied: pillow>=8 in /home/shaanvi/anaconda3/lib/python3.11/site-packages (from matplotlib!=3.6.1,>=3.3->seaborn) (9.4.0)\n",
      "Requirement already satisfied: pyparsing>=2.3.1 in /home/shaanvi/anaconda3/lib/python3.11/site-packages (from matplotlib!=3.6.1,>=3.3->seaborn) (3.0.9)\n",
      "Requirement already satisfied: python-dateutil>=2.7 in /home/shaanvi/anaconda3/lib/python3.11/site-packages (from matplotlib!=3.6.1,>=3.3->seaborn) (2.8.2)\n",
      "Requirement already satisfied: pytz>=2020.1 in /home/shaanvi/anaconda3/lib/python3.11/site-packages (from pandas>=1.2->seaborn) (2023.3.post1)\n",
      "Requirement already satisfied: tzdata>=2022.1 in /home/shaanvi/anaconda3/lib/python3.11/site-packages (from pandas>=1.2->seaborn) (2023.3)\n",
      "Requirement already satisfied: six>=1.5 in /home/shaanvi/anaconda3/lib/python3.11/site-packages (from python-dateutil>=2.7->matplotlib!=3.6.1,>=3.3->seaborn) (1.16.0)\n",
      "\u001b[33mWARNING: Skipping /home/shaanvi/anaconda3/lib/python3.11/site-packages/torchvision-0.15.2.dist-info due to invalid metadata entry 'name'\u001b[0m\u001b[33m\n",
      "\u001b[0m\u001b[33mWARNING: Skipping /home/shaanvi/anaconda3/lib/python3.11/site-packages/torchvision-0.15.2.dist-info due to invalid metadata entry 'name'\u001b[0m\u001b[33m\n",
      "\u001b[0m\u001b[33mWARNING: Skipping /home/shaanvi/anaconda3/lib/python3.11/site-packages/torchvision-0.15.2.dist-info due to invalid metadata entry 'name'\u001b[0m\u001b[33m\n",
      "\u001b[0m\u001b[33mWARNING: Skipping /home/shaanvi/anaconda3/lib/python3.11/site-packages/torchvision-0.15.2.dist-info due to invalid metadata entry 'name'\u001b[0m\u001b[33m\n",
      "\u001b[0m"
     ]
    },
    {
     "data": {
      "text/markdown": [
       "<hr  height=\"5px\"><span style=\"color: salmon; font-weight: bold; width=1000px\">ALTAIR library verification and installation if needed</span> <hr height=\"5px\">"
      ],
      "text/plain": [
       "<IPython.core.display.Markdown object>"
      ]
     },
     "metadata": {},
     "output_type": "display_data"
    },
    {
     "name": "stdout",
     "output_type": "stream",
     "text": [
      "\u001b[33mWARNING: Skipping /home/shaanvi/anaconda3/lib/python3.11/site-packages/torchvision-0.15.2.dist-info due to invalid metadata entry 'name'\u001b[0m\u001b[33m\n",
      "\u001b[0m\u001b[33mWARNING: Skipping /home/shaanvi/anaconda3/lib/python3.11/site-packages/torchvision-0.15.2.dist-info due to invalid metadata entry 'name'\u001b[0m\u001b[33m\n",
      "\u001b[0m\u001b[33mDEPRECATION: Loading egg at /home/shaanvi/anaconda3/lib/python3.11/site-packages/svlearn_bootcamp-1.0.0-py3.11.egg is deprecated. pip 24.3 will enforce this behaviour change. A possible replacement is to use pip for package installation.. Discussion can be found at https://github.com/pypa/pip/issues/12330\u001b[0m\u001b[33m\n",
      "\u001b[0mRequirement already satisfied: altair in /home/shaanvi/.local/lib/python3.11/site-packages (5.1.2)\n",
      "Requirement already satisfied: jinja2 in /home/shaanvi/anaconda3/lib/python3.11/site-packages (from altair) (3.1.2)\n",
      "Requirement already satisfied: jsonschema>=3.0 in /home/shaanvi/anaconda3/lib/python3.11/site-packages (from altair) (4.17.3)\n",
      "Requirement already satisfied: numpy in /home/shaanvi/.local/lib/python3.11/site-packages (from altair) (1.26.1)\n",
      "Requirement already satisfied: packaging in /home/shaanvi/anaconda3/lib/python3.11/site-packages (from altair) (23.1)\n",
      "Requirement already satisfied: pandas>=0.25 in /home/shaanvi/.local/lib/python3.11/site-packages (from altair) (2.1.3)\n",
      "Requirement already satisfied: toolz in /home/shaanvi/anaconda3/lib/python3.11/site-packages (from altair) (0.12.0)\n",
      "Requirement already satisfied: attrs>=17.4.0 in /home/shaanvi/anaconda3/lib/python3.11/site-packages (from jsonschema>=3.0->altair) (23.1.0)\n",
      "Requirement already satisfied: pyrsistent!=0.17.0,!=0.17.1,!=0.17.2,>=0.14.0 in /home/shaanvi/anaconda3/lib/python3.11/site-packages (from jsonschema>=3.0->altair) (0.18.0)\n",
      "Requirement already satisfied: python-dateutil>=2.8.2 in /home/shaanvi/anaconda3/lib/python3.11/site-packages (from pandas>=0.25->altair) (2.8.2)\n",
      "Requirement already satisfied: pytz>=2020.1 in /home/shaanvi/anaconda3/lib/python3.11/site-packages (from pandas>=0.25->altair) (2023.3.post1)\n",
      "Requirement already satisfied: tzdata>=2022.1 in /home/shaanvi/anaconda3/lib/python3.11/site-packages (from pandas>=0.25->altair) (2023.3)\n",
      "Requirement already satisfied: MarkupSafe>=2.0 in /home/shaanvi/anaconda3/lib/python3.11/site-packages (from jinja2->altair) (2.1.1)\n",
      "Requirement already satisfied: six>=1.5 in /home/shaanvi/anaconda3/lib/python3.11/site-packages (from python-dateutil>=2.8.2->pandas>=0.25->altair) (1.16.0)\n",
      "\u001b[33mWARNING: Skipping /home/shaanvi/anaconda3/lib/python3.11/site-packages/torchvision-0.15.2.dist-info due to invalid metadata entry 'name'\u001b[0m\u001b[33m\n",
      "\u001b[0m\u001b[33mWARNING: Skipping /home/shaanvi/anaconda3/lib/python3.11/site-packages/torchvision-0.15.2.dist-info due to invalid metadata entry 'name'\u001b[0m\u001b[33m\n",
      "\u001b[0m\u001b[33mWARNING: Skipping /home/shaanvi/anaconda3/lib/python3.11/site-packages/torchvision-0.15.2.dist-info due to invalid metadata entry 'name'\u001b[0m\u001b[33m\n",
      "\u001b[0m\u001b[33mWARNING: Skipping /home/shaanvi/anaconda3/lib/python3.11/site-packages/torchvision-0.15.2.dist-info due to invalid metadata entry 'name'\u001b[0m\u001b[33m\n",
      "\u001b[0m"
     ]
    },
    {
     "data": {
      "text/markdown": [
       "<hr  height=\"5px\"><span style=\"color: salmon; font-weight: bold; width=1000px\">BOKEH library verification and installation if needed</span> <hr height=\"5px\">"
      ],
      "text/plain": [
       "<IPython.core.display.Markdown object>"
      ]
     },
     "metadata": {},
     "output_type": "display_data"
    },
    {
     "name": "stdout",
     "output_type": "stream",
     "text": [
      "\u001b[33mWARNING: Skipping /home/shaanvi/anaconda3/lib/python3.11/site-packages/torchvision-0.15.2.dist-info due to invalid metadata entry 'name'\u001b[0m\u001b[33m\n",
      "\u001b[0m\u001b[33mWARNING: Skipping /home/shaanvi/anaconda3/lib/python3.11/site-packages/torchvision-0.15.2.dist-info due to invalid metadata entry 'name'\u001b[0m\u001b[33m\n",
      "\u001b[0m\u001b[33mDEPRECATION: Loading egg at /home/shaanvi/anaconda3/lib/python3.11/site-packages/svlearn_bootcamp-1.0.0-py3.11.egg is deprecated. pip 24.3 will enforce this behaviour change. A possible replacement is to use pip for package installation.. Discussion can be found at https://github.com/pypa/pip/issues/12330\u001b[0m\u001b[33m\n",
      "\u001b[0mRequirement already satisfied: bokeh in /home/shaanvi/anaconda3/lib/python3.11/site-packages (3.2.2)\n",
      "Collecting bokeh\n",
      "  Using cached bokeh-3.3.1-py3-none-any.whl.metadata (12 kB)\n",
      "Requirement already satisfied: Jinja2>=2.9 in /home/shaanvi/anaconda3/lib/python3.11/site-packages (from bokeh) (3.1.2)\n",
      "Requirement already satisfied: contourpy>=1 in /home/shaanvi/anaconda3/lib/python3.11/site-packages (from bokeh) (1.0.5)\n",
      "Requirement already satisfied: numpy>=1.16 in /home/shaanvi/.local/lib/python3.11/site-packages (from bokeh) (1.26.1)\n",
      "Requirement already satisfied: packaging>=16.8 in /home/shaanvi/anaconda3/lib/python3.11/site-packages (from bokeh) (23.1)\n",
      "Requirement already satisfied: pandas>=1.2 in /home/shaanvi/.local/lib/python3.11/site-packages (from bokeh) (2.1.3)\n",
      "Requirement already satisfied: pillow>=7.1.0 in /home/shaanvi/anaconda3/lib/python3.11/site-packages (from bokeh) (9.4.0)\n",
      "Requirement already satisfied: PyYAML>=3.10 in /home/shaanvi/anaconda3/lib/python3.11/site-packages (from bokeh) (6.0.1)\n",
      "Requirement already satisfied: tornado>=5.1 in /home/shaanvi/anaconda3/lib/python3.11/site-packages (from bokeh) (6.3.2)\n",
      "Requirement already satisfied: xyzservices>=2021.09.1 in /home/shaanvi/anaconda3/lib/python3.11/site-packages (from bokeh) (2022.9.0)\n",
      "Requirement already satisfied: MarkupSafe>=2.0 in /home/shaanvi/anaconda3/lib/python3.11/site-packages (from Jinja2>=2.9->bokeh) (2.1.1)\n",
      "Requirement already satisfied: python-dateutil>=2.8.2 in /home/shaanvi/anaconda3/lib/python3.11/site-packages (from pandas>=1.2->bokeh) (2.8.2)\n",
      "Requirement already satisfied: pytz>=2020.1 in /home/shaanvi/anaconda3/lib/python3.11/site-packages (from pandas>=1.2->bokeh) (2023.3.post1)\n",
      "Requirement already satisfied: tzdata>=2022.1 in /home/shaanvi/anaconda3/lib/python3.11/site-packages (from pandas>=1.2->bokeh) (2023.3)\n",
      "Requirement already satisfied: six>=1.5 in /home/shaanvi/anaconda3/lib/python3.11/site-packages (from python-dateutil>=2.8.2->pandas>=1.2->bokeh) (1.16.0)\n",
      "Using cached bokeh-3.3.1-py3-none-any.whl (6.8 MB)\n",
      "\u001b[33mWARNING: Skipping /home/shaanvi/anaconda3/lib/python3.11/site-packages/torchvision-0.15.2.dist-info due to invalid metadata entry 'name'\u001b[0m\u001b[33m\n",
      "\u001b[0mInstalling collected packages: bokeh\n",
      "  Attempting uninstall: bokeh\n",
      "\u001b[33m    WARNING: Skipping /home/shaanvi/anaconda3/lib/python3.11/site-packages/torchvision-0.15.2.dist-info due to invalid metadata entry 'name'\u001b[0m\u001b[33m\n",
      "\u001b[0m    Found existing installation: bokeh 3.2.2\n",
      "    Uninstalling bokeh-3.2.2:\n",
      "      Successfully uninstalled bokeh-3.2.2\n",
      "\u001b[33mWARNING: Skipping /home/shaanvi/anaconda3/lib/python3.11/site-packages/torchvision-0.15.2.dist-info due to invalid metadata entry 'name'\u001b[0m\u001b[33m\n",
      "\u001b[0m\u001b[31mERROR: pip's dependency resolver does not currently take into account all the packages that are installed. This behaviour is the source of the following dependency conflicts.\n",
      "panel 1.2.3 requires bokeh<3.3.0,>=3.1.1, but you have bokeh 3.3.1 which is incompatible.\u001b[0m\u001b[31m\n",
      "\u001b[0mSuccessfully installed bokeh-3.3.1\n",
      "\u001b[33mWARNING: Skipping /home/shaanvi/anaconda3/lib/python3.11/site-packages/torchvision-0.15.2.dist-info due to invalid metadata entry 'name'\u001b[0m\u001b[33m\n",
      "\u001b[0m\u001b[33mWARNING: Skipping /home/shaanvi/anaconda3/lib/python3.11/site-packages/torchvision-0.15.2.dist-info due to invalid metadata entry 'name'\u001b[0m\u001b[33m\n",
      "\u001b[0m\u001b[33mWARNING: Skipping /home/shaanvi/anaconda3/lib/python3.11/site-packages/torchvision-0.15.2.dist-info due to invalid metadata entry 'name'\u001b[0m\u001b[33m\n",
      "\u001b[0m"
     ]
    },
    {
     "data": {
      "text/markdown": [
       "<hr  height=\"5px\"><span style=\"color: salmon; font-weight: bold; width=1000px\">PLOTLY library verification and installation if needed</span> <hr height=\"5px\">"
      ],
      "text/plain": [
       "<IPython.core.display.Markdown object>"
      ]
     },
     "metadata": {},
     "output_type": "display_data"
    },
    {
     "name": "stdout",
     "output_type": "stream",
     "text": [
      "\u001b[33mWARNING: Skipping /home/shaanvi/anaconda3/lib/python3.11/site-packages/torchvision-0.15.2.dist-info due to invalid metadata entry 'name'\u001b[0m\u001b[33m\n",
      "\u001b[0m\u001b[33mWARNING: Skipping /home/shaanvi/anaconda3/lib/python3.11/site-packages/torchvision-0.15.2.dist-info due to invalid metadata entry 'name'\u001b[0m\u001b[33m\n",
      "\u001b[0m\u001b[33mDEPRECATION: Loading egg at /home/shaanvi/anaconda3/lib/python3.11/site-packages/svlearn_bootcamp-1.0.0-py3.11.egg is deprecated. pip 24.3 will enforce this behaviour change. A possible replacement is to use pip for package installation.. Discussion can be found at https://github.com/pypa/pip/issues/12330\u001b[0m\u001b[33m\n",
      "\u001b[0mRequirement already satisfied: plotly in /home/shaanvi/anaconda3/lib/python3.11/site-packages (5.18.0)\n",
      "Requirement already satisfied: tenacity>=6.2.0 in /home/shaanvi/anaconda3/lib/python3.11/site-packages (from plotly) (8.2.3)\n",
      "Requirement already satisfied: packaging in /home/shaanvi/anaconda3/lib/python3.11/site-packages (from plotly) (23.1)\n",
      "\u001b[33mWARNING: Skipping /home/shaanvi/anaconda3/lib/python3.11/site-packages/torchvision-0.15.2.dist-info due to invalid metadata entry 'name'\u001b[0m\u001b[33m\n",
      "\u001b[0m\u001b[33mWARNING: Skipping /home/shaanvi/anaconda3/lib/python3.11/site-packages/torchvision-0.15.2.dist-info due to invalid metadata entry 'name'\u001b[0m\u001b[33m\n",
      "\u001b[0m\u001b[33mWARNING: Skipping /home/shaanvi/anaconda3/lib/python3.11/site-packages/torchvision-0.15.2.dist-info due to invalid metadata entry 'name'\u001b[0m\u001b[33m\n",
      "\u001b[0m\u001b[33mWARNING: Skipping /home/shaanvi/anaconda3/lib/python3.11/site-packages/torchvision-0.15.2.dist-info due to invalid metadata entry 'name'\u001b[0m\u001b[33m\n",
      "\u001b[0m"
     ]
    },
    {
     "data": {
      "text/markdown": [
       "<hr  height=\"5px\"><span style=\"color: salmon; font-weight: bold; width=1000px\">HVPLOT library verification and installation if needed</span> <hr height=\"5px\">"
      ],
      "text/plain": [
       "<IPython.core.display.Markdown object>"
      ]
     },
     "metadata": {},
     "output_type": "display_data"
    },
    {
     "name": "stdout",
     "output_type": "stream",
     "text": [
      "\u001b[33mWARNING: Skipping /home/shaanvi/anaconda3/lib/python3.11/site-packages/torchvision-0.15.2.dist-info due to invalid metadata entry 'name'\u001b[0m\u001b[33m\n",
      "\u001b[0m\u001b[33mWARNING: Skipping /home/shaanvi/anaconda3/lib/python3.11/site-packages/torchvision-0.15.2.dist-info due to invalid metadata entry 'name'\u001b[0m\u001b[33m\n",
      "\u001b[0m\u001b[33mDEPRECATION: Loading egg at /home/shaanvi/anaconda3/lib/python3.11/site-packages/svlearn_bootcamp-1.0.0-py3.11.egg is deprecated. pip 24.3 will enforce this behaviour change. A possible replacement is to use pip for package installation.. Discussion can be found at https://github.com/pypa/pip/issues/12330\u001b[0m\u001b[33m\n",
      "\u001b[0mRequirement already satisfied: hvplot in /home/shaanvi/anaconda3/lib/python3.11/site-packages (0.9.0)\n",
      "Requirement already satisfied: bokeh>=1.0.0 in /home/shaanvi/anaconda3/lib/python3.11/site-packages (from hvplot) (3.3.1)\n",
      "Requirement already satisfied: colorcet>=2 in /home/shaanvi/anaconda3/lib/python3.11/site-packages (from hvplot) (3.0.1)\n",
      "Requirement already satisfied: holoviews>=1.11.0 in /home/shaanvi/anaconda3/lib/python3.11/site-packages (from hvplot) (1.17.1)\n",
      "Requirement already satisfied: pandas in /home/shaanvi/.local/lib/python3.11/site-packages (from hvplot) (2.1.3)\n",
      "Requirement already satisfied: numpy>=1.15 in /home/shaanvi/.local/lib/python3.11/site-packages (from hvplot) (1.26.1)\n",
      "Requirement already satisfied: packaging in /home/shaanvi/anaconda3/lib/python3.11/site-packages (from hvplot) (23.1)\n",
      "Requirement already satisfied: panel>=0.11.0 in /home/shaanvi/anaconda3/lib/python3.11/site-packages (from hvplot) (1.2.3)\n",
      "Requirement already satisfied: param<3.0,>=1.9.0 in /home/shaanvi/anaconda3/lib/python3.11/site-packages (from hvplot) (1.13.0)\n",
      "Requirement already satisfied: Jinja2>=2.9 in /home/shaanvi/anaconda3/lib/python3.11/site-packages (from bokeh>=1.0.0->hvplot) (3.1.2)\n",
      "Requirement already satisfied: contourpy>=1 in /home/shaanvi/anaconda3/lib/python3.11/site-packages (from bokeh>=1.0.0->hvplot) (1.0.5)\n",
      "Requirement already satisfied: pillow>=7.1.0 in /home/shaanvi/anaconda3/lib/python3.11/site-packages (from bokeh>=1.0.0->hvplot) (9.4.0)\n",
      "Requirement already satisfied: PyYAML>=3.10 in /home/shaanvi/anaconda3/lib/python3.11/site-packages (from bokeh>=1.0.0->hvplot) (6.0.1)\n",
      "Requirement already satisfied: tornado>=5.1 in /home/shaanvi/anaconda3/lib/python3.11/site-packages (from bokeh>=1.0.0->hvplot) (6.3.2)\n",
      "Requirement already satisfied: xyzservices>=2021.09.1 in /home/shaanvi/anaconda3/lib/python3.11/site-packages (from bokeh>=1.0.0->hvplot) (2022.9.0)\n",
      "Requirement already satisfied: pyct>=0.4.4 in /home/shaanvi/anaconda3/lib/python3.11/site-packages (from colorcet>=2->hvplot) (0.5.0)\n",
      "Requirement already satisfied: pyviz-comms>=0.7.4 in /home/shaanvi/anaconda3/lib/python3.11/site-packages (from holoviews>=1.11.0->hvplot) (2.3.0)\n",
      "Requirement already satisfied: python-dateutil>=2.8.2 in /home/shaanvi/anaconda3/lib/python3.11/site-packages (from pandas->hvplot) (2.8.2)\n",
      "Requirement already satisfied: pytz>=2020.1 in /home/shaanvi/anaconda3/lib/python3.11/site-packages (from pandas->hvplot) (2023.3.post1)\n",
      "Requirement already satisfied: tzdata>=2022.1 in /home/shaanvi/anaconda3/lib/python3.11/site-packages (from pandas->hvplot) (2023.3)\n",
      "Collecting bokeh>=1.0.0 (from hvplot)\n",
      "  Using cached bokeh-3.2.2-py3-none-any.whl.metadata (12 kB)\n",
      "Requirement already satisfied: markdown in /home/shaanvi/anaconda3/lib/python3.11/site-packages (from panel>=0.11.0->hvplot) (3.4.1)\n",
      "Requirement already satisfied: markdown-it-py in /home/shaanvi/anaconda3/lib/python3.11/site-packages (from panel>=0.11.0->hvplot) (2.2.0)\n",
      "Requirement already satisfied: linkify-it-py in /home/shaanvi/anaconda3/lib/python3.11/site-packages (from panel>=0.11.0->hvplot) (2.0.0)\n",
      "Requirement already satisfied: mdit-py-plugins in /home/shaanvi/anaconda3/lib/python3.11/site-packages (from panel>=0.11.0->hvplot) (0.3.0)\n",
      "Requirement already satisfied: requests in /home/shaanvi/anaconda3/lib/python3.11/site-packages (from panel>=0.11.0->hvplot) (2.31.0)\n",
      "Requirement already satisfied: tqdm>=4.48.0 in /home/shaanvi/anaconda3/lib/python3.11/site-packages (from panel>=0.11.0->hvplot) (4.65.0)\n",
      "Requirement already satisfied: bleach in /home/shaanvi/anaconda3/lib/python3.11/site-packages (from panel>=0.11.0->hvplot) (4.1.0)\n",
      "Requirement already satisfied: typing-extensions in /home/shaanvi/anaconda3/lib/python3.11/site-packages (from panel>=0.11.0->hvplot) (4.7.1)\n",
      "Requirement already satisfied: MarkupSafe>=2.0 in /home/shaanvi/anaconda3/lib/python3.11/site-packages (from Jinja2>=2.9->bokeh>=1.0.0->hvplot) (2.1.1)\n",
      "Requirement already satisfied: six>=1.5 in /home/shaanvi/anaconda3/lib/python3.11/site-packages (from python-dateutil>=2.8.2->pandas->hvplot) (1.16.0)\n",
      "Requirement already satisfied: webencodings in /home/shaanvi/anaconda3/lib/python3.11/site-packages (from bleach->panel>=0.11.0->hvplot) (0.5.1)\n",
      "Requirement already satisfied: uc-micro-py in /home/shaanvi/anaconda3/lib/python3.11/site-packages (from linkify-it-py->panel>=0.11.0->hvplot) (1.0.1)\n",
      "Requirement already satisfied: mdurl~=0.1 in /home/shaanvi/anaconda3/lib/python3.11/site-packages (from markdown-it-py->panel>=0.11.0->hvplot) (0.1.0)\n",
      "Requirement already satisfied: charset-normalizer<4,>=2 in /home/shaanvi/anaconda3/lib/python3.11/site-packages (from requests->panel>=0.11.0->hvplot) (3.2.0)\n",
      "Requirement already satisfied: idna<4,>=2.5 in /home/shaanvi/anaconda3/lib/python3.11/site-packages (from requests->panel>=0.11.0->hvplot) (3.4)\n",
      "Requirement already satisfied: urllib3<3,>=1.21.1 in /home/shaanvi/.local/lib/python3.11/site-packages (from requests->panel>=0.11.0->hvplot) (1.26.17)\n",
      "Requirement already satisfied: certifi>=2017.4.17 in /home/shaanvi/anaconda3/lib/python3.11/site-packages (from requests->panel>=0.11.0->hvplot) (2023.7.22)\n",
      "Using cached bokeh-3.2.2-py3-none-any.whl (7.8 MB)\n",
      "\u001b[33mWARNING: Skipping /home/shaanvi/anaconda3/lib/python3.11/site-packages/torchvision-0.15.2.dist-info due to invalid metadata entry 'name'\u001b[0m\u001b[33m\n",
      "\u001b[0mInstalling collected packages: bokeh\n",
      "  Attempting uninstall: bokeh\n",
      "\u001b[33m    WARNING: Skipping /home/shaanvi/anaconda3/lib/python3.11/site-packages/torchvision-0.15.2.dist-info due to invalid metadata entry 'name'\u001b[0m\u001b[33m\n",
      "\u001b[0m    Found existing installation: bokeh 3.3.1\n",
      "    Uninstalling bokeh-3.3.1:\n",
      "      Successfully uninstalled bokeh-3.3.1\n",
      "\u001b[33mWARNING: Skipping /home/shaanvi/anaconda3/lib/python3.11/site-packages/torchvision-0.15.2.dist-info due to invalid metadata entry 'name'\u001b[0m\u001b[33m\n",
      "\u001b[0mSuccessfully installed bokeh-3.2.2\n",
      "\u001b[33mWARNING: Skipping /home/shaanvi/anaconda3/lib/python3.11/site-packages/torchvision-0.15.2.dist-info due to invalid metadata entry 'name'\u001b[0m\u001b[33m\n",
      "\u001b[0m\u001b[33mWARNING: Skipping /home/shaanvi/anaconda3/lib/python3.11/site-packages/torchvision-0.15.2.dist-info due to invalid metadata entry 'name'\u001b[0m\u001b[33m\n",
      "\u001b[0m\u001b[33mWARNING: Skipping /home/shaanvi/anaconda3/lib/python3.11/site-packages/torchvision-0.15.2.dist-info due to invalid metadata entry 'name'\u001b[0m\u001b[33m\n",
      "\u001b[0m"
     ]
    },
    {
     "data": {
      "text/markdown": [
       "<hr  height=\"5px\"><span style=\"color: salmon; font-weight: bold; width=1000px\">FOLIUM library verification and installation if needed</span> <hr height=\"5px\">"
      ],
      "text/plain": [
       "<IPython.core.display.Markdown object>"
      ]
     },
     "metadata": {},
     "output_type": "display_data"
    },
    {
     "name": "stdout",
     "output_type": "stream",
     "text": [
      "\u001b[33mWARNING: Skipping /home/shaanvi/anaconda3/lib/python3.11/site-packages/torchvision-0.15.2.dist-info due to invalid metadata entry 'name'\u001b[0m\u001b[33m\n",
      "\u001b[0m\u001b[33mWARNING: Skipping /home/shaanvi/anaconda3/lib/python3.11/site-packages/torchvision-0.15.2.dist-info due to invalid metadata entry 'name'\u001b[0m\u001b[33m\n",
      "\u001b[0m\u001b[33mDEPRECATION: Loading egg at /home/shaanvi/anaconda3/lib/python3.11/site-packages/svlearn_bootcamp-1.0.0-py3.11.egg is deprecated. pip 24.3 will enforce this behaviour change. A possible replacement is to use pip for package installation.. Discussion can be found at https://github.com/pypa/pip/issues/12330\u001b[0m\u001b[33m\n",
      "\u001b[0mRequirement already satisfied: folium in /home/shaanvi/anaconda3/lib/python3.11/site-packages (0.15.0)\n",
      "Requirement already satisfied: branca>=0.6.0 in /home/shaanvi/anaconda3/lib/python3.11/site-packages (from folium) (0.6.0)\n",
      "Requirement already satisfied: jinja2>=2.9 in /home/shaanvi/anaconda3/lib/python3.11/site-packages (from folium) (3.1.2)\n",
      "Requirement already satisfied: numpy in /home/shaanvi/.local/lib/python3.11/site-packages (from folium) (1.26.1)\n",
      "Requirement already satisfied: requests in /home/shaanvi/anaconda3/lib/python3.11/site-packages (from folium) (2.31.0)\n",
      "Requirement already satisfied: MarkupSafe>=2.0 in /home/shaanvi/anaconda3/lib/python3.11/site-packages (from jinja2>=2.9->folium) (2.1.1)\n",
      "Requirement already satisfied: charset-normalizer<4,>=2 in /home/shaanvi/anaconda3/lib/python3.11/site-packages (from requests->folium) (3.2.0)\n",
      "Requirement already satisfied: idna<4,>=2.5 in /home/shaanvi/anaconda3/lib/python3.11/site-packages (from requests->folium) (3.4)\n",
      "Requirement already satisfied: urllib3<3,>=1.21.1 in /home/shaanvi/.local/lib/python3.11/site-packages (from requests->folium) (1.26.17)\n",
      "Requirement already satisfied: certifi>=2017.4.17 in /home/shaanvi/anaconda3/lib/python3.11/site-packages (from requests->folium) (2023.7.22)\n",
      "\u001b[33mWARNING: Skipping /home/shaanvi/anaconda3/lib/python3.11/site-packages/torchvision-0.15.2.dist-info due to invalid metadata entry 'name'\u001b[0m\u001b[33m\n",
      "\u001b[0m\u001b[33mWARNING: Skipping /home/shaanvi/anaconda3/lib/python3.11/site-packages/torchvision-0.15.2.dist-info due to invalid metadata entry 'name'\u001b[0m\u001b[33m\n",
      "\u001b[0m\u001b[33mWARNING: Skipping /home/shaanvi/anaconda3/lib/python3.11/site-packages/torchvision-0.15.2.dist-info due to invalid metadata entry 'name'\u001b[0m\u001b[33m\n",
      "\u001b[0m\u001b[33mWARNING: Skipping /home/shaanvi/anaconda3/lib/python3.11/site-packages/torchvision-0.15.2.dist-info due to invalid metadata entry 'name'\u001b[0m\u001b[33m\n",
      "\u001b[0m"
     ]
    },
    {
     "data": {
      "text/markdown": [
       "<hr  height=\"5px\"><span style=\"color: salmon; font-weight: bold; width=1000px\">GEOPANDAS library verification and installation if needed</span> <hr height=\"5px\">"
      ],
      "text/plain": [
       "<IPython.core.display.Markdown object>"
      ]
     },
     "metadata": {},
     "output_type": "display_data"
    },
    {
     "name": "stdout",
     "output_type": "stream",
     "text": [
      "\u001b[33mWARNING: Skipping /home/shaanvi/anaconda3/lib/python3.11/site-packages/torchvision-0.15.2.dist-info due to invalid metadata entry 'name'\u001b[0m\u001b[33m\n",
      "\u001b[0m\u001b[33mWARNING: Skipping /home/shaanvi/anaconda3/lib/python3.11/site-packages/torchvision-0.15.2.dist-info due to invalid metadata entry 'name'\u001b[0m\u001b[33m\n",
      "\u001b[0m\u001b[33mDEPRECATION: Loading egg at /home/shaanvi/anaconda3/lib/python3.11/site-packages/svlearn_bootcamp-1.0.0-py3.11.egg is deprecated. pip 24.3 will enforce this behaviour change. A possible replacement is to use pip for package installation.. Discussion can be found at https://github.com/pypa/pip/issues/12330\u001b[0m\u001b[33m\n",
      "\u001b[0mRequirement already satisfied: geopandas in /home/shaanvi/anaconda3/lib/python3.11/site-packages (0.14.0)\n",
      "Collecting geopandas\n",
      "  Downloading geopandas-0.14.1-py3-none-any.whl.metadata (1.5 kB)\n",
      "Requirement already satisfied: fiona>=1.8.21 in /home/shaanvi/anaconda3/lib/python3.11/site-packages (from geopandas) (1.9.4.post1)\n",
      "Requirement already satisfied: packaging in /home/shaanvi/anaconda3/lib/python3.11/site-packages (from geopandas) (23.1)\n",
      "Requirement already satisfied: pandas>=1.4.0 in /home/shaanvi/.local/lib/python3.11/site-packages (from geopandas) (2.1.3)\n",
      "Requirement already satisfied: pyproj>=3.3.0 in /home/shaanvi/anaconda3/lib/python3.11/site-packages (from geopandas) (3.6.0)\n",
      "Requirement already satisfied: shapely>=1.8.0 in /home/shaanvi/anaconda3/lib/python3.11/site-packages (from geopandas) (2.0.1)\n",
      "Requirement already satisfied: attrs>=19.2.0 in /home/shaanvi/anaconda3/lib/python3.11/site-packages (from fiona>=1.8.21->geopandas) (23.1.0)\n",
      "Requirement already satisfied: certifi in /home/shaanvi/anaconda3/lib/python3.11/site-packages (from fiona>=1.8.21->geopandas) (2023.7.22)\n",
      "Requirement already satisfied: click~=8.0 in /home/shaanvi/anaconda3/lib/python3.11/site-packages (from fiona>=1.8.21->geopandas) (8.0.4)\n",
      "Requirement already satisfied: click-plugins>=1.0 in /home/shaanvi/anaconda3/lib/python3.11/site-packages (from fiona>=1.8.21->geopandas) (1.1.1)\n",
      "Requirement already satisfied: cligj>=0.5 in /home/shaanvi/anaconda3/lib/python3.11/site-packages (from fiona>=1.8.21->geopandas) (0.7.2)\n",
      "Requirement already satisfied: six in /home/shaanvi/anaconda3/lib/python3.11/site-packages (from fiona>=1.8.21->geopandas) (1.16.0)\n",
      "Requirement already satisfied: numpy<2,>=1.23.2 in /home/shaanvi/.local/lib/python3.11/site-packages (from pandas>=1.4.0->geopandas) (1.26.1)\n",
      "Requirement already satisfied: python-dateutil>=2.8.2 in /home/shaanvi/anaconda3/lib/python3.11/site-packages (from pandas>=1.4.0->geopandas) (2.8.2)\n",
      "Requirement already satisfied: pytz>=2020.1 in /home/shaanvi/anaconda3/lib/python3.11/site-packages (from pandas>=1.4.0->geopandas) (2023.3.post1)\n",
      "Requirement already satisfied: tzdata>=2022.1 in /home/shaanvi/anaconda3/lib/python3.11/site-packages (from pandas>=1.4.0->geopandas) (2023.3)\n",
      "Downloading geopandas-0.14.1-py3-none-any.whl (1.1 MB)\n",
      "\u001b[2K   \u001b[38;2;114;156;31m━━━━━━━━━━━━━━━━━━━━━━━━━━━━━━━━━━━━━━━━\u001b[0m \u001b[32m1.1/1.1 MB\u001b[0m \u001b[31m7.8 MB/s\u001b[0m eta \u001b[36m0:00:00\u001b[0mm eta \u001b[36m0:00:01\u001b[0m[36m0:00:01\u001b[0m\n",
      "\u001b[?25h\u001b[33mWARNING: Skipping /home/shaanvi/anaconda3/lib/python3.11/site-packages/torchvision-0.15.2.dist-info due to invalid metadata entry 'name'\u001b[0m\u001b[33m\n",
      "\u001b[0mInstalling collected packages: geopandas\n",
      "  Attempting uninstall: geopandas\n",
      "\u001b[33m    WARNING: Skipping /home/shaanvi/anaconda3/lib/python3.11/site-packages/torchvision-0.15.2.dist-info due to invalid metadata entry 'name'\u001b[0m\u001b[33m\n",
      "\u001b[0m    Found existing installation: geopandas 0.14.0\n",
      "    Uninstalling geopandas-0.14.0:\n",
      "      Successfully uninstalled geopandas-0.14.0\n",
      "\u001b[33mWARNING: Skipping /home/shaanvi/anaconda3/lib/python3.11/site-packages/torchvision-0.15.2.dist-info due to invalid metadata entry 'name'\u001b[0m\u001b[33m\n",
      "\u001b[0mSuccessfully installed geopandas-0.14.1\n",
      "\u001b[33mWARNING: Skipping /home/shaanvi/anaconda3/lib/python3.11/site-packages/torchvision-0.15.2.dist-info due to invalid metadata entry 'name'\u001b[0m\u001b[33m\n",
      "\u001b[0m\u001b[33mWARNING: Skipping /home/shaanvi/anaconda3/lib/python3.11/site-packages/torchvision-0.15.2.dist-info due to invalid metadata entry 'name'\u001b[0m\u001b[33m\n",
      "\u001b[0m\u001b[33mWARNING: Skipping /home/shaanvi/anaconda3/lib/python3.11/site-packages/torchvision-0.15.2.dist-info due to invalid metadata entry 'name'\u001b[0m\u001b[33m\n",
      "\u001b[0m"
     ]
    },
    {
     "data": {
      "text/markdown": [
       "<hr  height=\"5px\"><span style=\"color: salmon; font-weight: bold; width=1000px\">GEEMAP library verification and installation if needed</span> <hr height=\"5px\">"
      ],
      "text/plain": [
       "<IPython.core.display.Markdown object>"
      ]
     },
     "metadata": {},
     "output_type": "display_data"
    },
    {
     "name": "stdout",
     "output_type": "stream",
     "text": [
      "\u001b[33mWARNING: Skipping /home/shaanvi/anaconda3/lib/python3.11/site-packages/torchvision-0.15.2.dist-info due to invalid metadata entry 'name'\u001b[0m\u001b[33m\n",
      "\u001b[0m\u001b[33mWARNING: Skipping /home/shaanvi/anaconda3/lib/python3.11/site-packages/torchvision-0.15.2.dist-info due to invalid metadata entry 'name'\u001b[0m\u001b[33m\n",
      "\u001b[0m\u001b[33mDEPRECATION: Loading egg at /home/shaanvi/anaconda3/lib/python3.11/site-packages/svlearn_bootcamp-1.0.0-py3.11.egg is deprecated. pip 24.3 will enforce this behaviour change. A possible replacement is to use pip for package installation.. Discussion can be found at https://github.com/pypa/pip/issues/12330\u001b[0m\u001b[33m\n",
      "\u001b[0mRequirement already satisfied: geemap in /home/shaanvi/anaconda3/lib/python3.11/site-packages (0.29.5)\n",
      "Requirement already satisfied: bqplot in /home/shaanvi/anaconda3/lib/python3.11/site-packages (from geemap) (0.12.40)\n",
      "Requirement already satisfied: colour in /home/shaanvi/anaconda3/lib/python3.11/site-packages (from geemap) (0.1.5)\n",
      "Requirement already satisfied: earthengine-api>=0.1.347 in /home/shaanvi/anaconda3/lib/python3.11/site-packages (from geemap) (0.1.369)\n",
      "Requirement already satisfied: eerepr>=0.0.4 in /home/shaanvi/anaconda3/lib/python3.11/site-packages (from geemap) (0.0.4)\n",
      "Requirement already satisfied: folium>=0.13.0 in /home/shaanvi/anaconda3/lib/python3.11/site-packages (from geemap) (0.15.0)\n",
      "Requirement already satisfied: geocoder in /home/shaanvi/anaconda3/lib/python3.11/site-packages (from geemap) (1.38.1)\n",
      "Requirement already satisfied: ipyevents in /home/shaanvi/anaconda3/lib/python3.11/site-packages (from geemap) (2.0.2)\n",
      "Requirement already satisfied: ipyfilechooser>=0.6.0 in /home/shaanvi/anaconda3/lib/python3.11/site-packages (from geemap) (0.6.0)\n",
      "Requirement already satisfied: ipyleaflet>=0.17.0 in /home/shaanvi/anaconda3/lib/python3.11/site-packages (from geemap) (0.17.4)\n",
      "Requirement already satisfied: ipytree in /home/shaanvi/anaconda3/lib/python3.11/site-packages (from geemap) (0.2.2)\n",
      "Requirement already satisfied: matplotlib in /home/shaanvi/anaconda3/lib/python3.11/site-packages (from geemap) (3.8.1)\n",
      "Requirement already satisfied: numpy in /home/shaanvi/.local/lib/python3.11/site-packages (from geemap) (1.26.1)\n",
      "Requirement already satisfied: pandas in /home/shaanvi/.local/lib/python3.11/site-packages (from geemap) (2.1.3)\n",
      "Requirement already satisfied: plotly in /home/shaanvi/anaconda3/lib/python3.11/site-packages (from geemap) (5.18.0)\n",
      "Requirement already satisfied: pyperclip in /home/shaanvi/anaconda3/lib/python3.11/site-packages (from geemap) (1.8.2)\n",
      "Requirement already satisfied: pyshp>=2.1.3 in /home/shaanvi/anaconda3/lib/python3.11/site-packages (from geemap) (2.3.1)\n",
      "Requirement already satisfied: python-box in /home/shaanvi/anaconda3/lib/python3.11/site-packages (from geemap) (7.1.1)\n",
      "Requirement already satisfied: scooby in /home/shaanvi/anaconda3/lib/python3.11/site-packages (from geemap) (0.7.2)\n",
      "Requirement already satisfied: google-cloud-storage in /home/shaanvi/anaconda3/lib/python3.11/site-packages (from earthengine-api>=0.1.347->geemap) (2.10.0)\n",
      "Requirement already satisfied: google-api-python-client>=1.12.1 in /home/shaanvi/anaconda3/lib/python3.11/site-packages (from earthengine-api>=0.1.347->geemap) (2.100.0)\n",
      "Requirement already satisfied: google-auth>=1.4.1 in /home/shaanvi/anaconda3/lib/python3.11/site-packages (from earthengine-api>=0.1.347->geemap) (2.23.0)\n",
      "Requirement already satisfied: google-auth-httplib2>=0.0.3 in /home/shaanvi/anaconda3/lib/python3.11/site-packages (from earthengine-api>=0.1.347->geemap) (0.1.1)\n",
      "Requirement already satisfied: httplib2<1dev,>=0.9.2 in /home/shaanvi/anaconda3/lib/python3.11/site-packages (from earthengine-api>=0.1.347->geemap) (0.22.0)\n",
      "Requirement already satisfied: requests in /home/shaanvi/anaconda3/lib/python3.11/site-packages (from earthengine-api>=0.1.347->geemap) (2.31.0)\n",
      "Requirement already satisfied: branca>=0.6.0 in /home/shaanvi/anaconda3/lib/python3.11/site-packages (from folium>=0.13.0->geemap) (0.6.0)\n",
      "Requirement already satisfied: jinja2>=2.9 in /home/shaanvi/anaconda3/lib/python3.11/site-packages (from folium>=0.13.0->geemap) (3.1.2)\n",
      "Requirement already satisfied: ipywidgets in /home/shaanvi/anaconda3/lib/python3.11/site-packages (from ipyfilechooser>=0.6.0->geemap) (8.0.4)\n",
      "Requirement already satisfied: traittypes<3,>=0.2.1 in /home/shaanvi/anaconda3/lib/python3.11/site-packages (from ipyleaflet>=0.17.0->geemap) (0.2.1)\n",
      "Requirement already satisfied: xyzservices>=2021.8.1 in /home/shaanvi/anaconda3/lib/python3.11/site-packages (from ipyleaflet>=0.17.0->geemap) (2022.9.0)\n",
      "Requirement already satisfied: traitlets>=4.3.0 in /home/shaanvi/anaconda3/lib/python3.11/site-packages (from bqplot->geemap) (5.7.1)\n",
      "Requirement already satisfied: python-dateutil>=2.8.2 in /home/shaanvi/anaconda3/lib/python3.11/site-packages (from pandas->geemap) (2.8.2)\n",
      "Requirement already satisfied: pytz>=2020.1 in /home/shaanvi/anaconda3/lib/python3.11/site-packages (from pandas->geemap) (2023.3.post1)\n",
      "Requirement already satisfied: tzdata>=2022.1 in /home/shaanvi/anaconda3/lib/python3.11/site-packages (from pandas->geemap) (2023.3)\n",
      "Requirement already satisfied: click in /home/shaanvi/anaconda3/lib/python3.11/site-packages (from geocoder->geemap) (8.0.4)\n",
      "Requirement already satisfied: future in /home/shaanvi/anaconda3/lib/python3.11/site-packages (from geocoder->geemap) (0.18.3)\n",
      "Requirement already satisfied: ratelim in /home/shaanvi/anaconda3/lib/python3.11/site-packages (from geocoder->geemap) (0.1.6)\n",
      "Requirement already satisfied: six in /home/shaanvi/anaconda3/lib/python3.11/site-packages (from geocoder->geemap) (1.16.0)\n",
      "Requirement already satisfied: contourpy>=1.0.1 in /home/shaanvi/anaconda3/lib/python3.11/site-packages (from matplotlib->geemap) (1.0.5)\n",
      "Requirement already satisfied: cycler>=0.10 in /home/shaanvi/anaconda3/lib/python3.11/site-packages (from matplotlib->geemap) (0.11.0)\n",
      "Requirement already satisfied: fonttools>=4.22.0 in /home/shaanvi/anaconda3/lib/python3.11/site-packages (from matplotlib->geemap) (4.25.0)\n",
      "Requirement already satisfied: kiwisolver>=1.3.1 in /home/shaanvi/anaconda3/lib/python3.11/site-packages (from matplotlib->geemap) (1.4.4)\n",
      "Requirement already satisfied: packaging>=20.0 in /home/shaanvi/anaconda3/lib/python3.11/site-packages (from matplotlib->geemap) (23.1)\n",
      "Requirement already satisfied: pillow>=8 in /home/shaanvi/anaconda3/lib/python3.11/site-packages (from matplotlib->geemap) (9.4.0)\n",
      "Requirement already satisfied: pyparsing>=2.3.1 in /home/shaanvi/anaconda3/lib/python3.11/site-packages (from matplotlib->geemap) (3.0.9)\n",
      "Requirement already satisfied: tenacity>=6.2.0 in /home/shaanvi/anaconda3/lib/python3.11/site-packages (from plotly->geemap) (8.2.3)\n",
      "Requirement already satisfied: google-api-core!=2.0.*,!=2.1.*,!=2.2.*,!=2.3.0,<3.0.0.dev0,>=1.31.5 in /home/shaanvi/anaconda3/lib/python3.11/site-packages (from google-api-python-client>=1.12.1->earthengine-api>=0.1.347->geemap) (2.11.1)\n",
      "Requirement already satisfied: uritemplate<5,>=3.0.1 in /home/shaanvi/anaconda3/lib/python3.11/site-packages (from google-api-python-client>=1.12.1->earthengine-api>=0.1.347->geemap) (4.1.1)\n",
      "Requirement already satisfied: cachetools<6.0,>=2.0.0 in /home/shaanvi/.local/lib/python3.11/site-packages (from google-auth>=1.4.1->earthengine-api>=0.1.347->geemap) (5.3.1)\n",
      "Requirement already satisfied: pyasn1-modules>=0.2.1 in /home/shaanvi/anaconda3/lib/python3.11/site-packages (from google-auth>=1.4.1->earthengine-api>=0.1.347->geemap) (0.2.8)\n",
      "Requirement already satisfied: rsa<5,>=3.1.4 in /home/shaanvi/anaconda3/lib/python3.11/site-packages (from google-auth>=1.4.1->earthengine-api>=0.1.347->geemap) (4.9)\n",
      "Requirement already satisfied: urllib3<2.0 in /home/shaanvi/.local/lib/python3.11/site-packages (from google-auth>=1.4.1->earthengine-api>=0.1.347->geemap) (1.26.17)\n",
      "Requirement already satisfied: ipykernel>=4.5.1 in /home/shaanvi/anaconda3/lib/python3.11/site-packages (from ipywidgets->ipyfilechooser>=0.6.0->geemap) (6.25.0)\n",
      "Requirement already satisfied: ipython>=6.1.0 in /home/shaanvi/anaconda3/lib/python3.11/site-packages (from ipywidgets->ipyfilechooser>=0.6.0->geemap) (8.15.0)\n",
      "Requirement already satisfied: widgetsnbextension~=4.0 in /home/shaanvi/anaconda3/lib/python3.11/site-packages (from ipywidgets->ipyfilechooser>=0.6.0->geemap) (4.0.5)\n",
      "Requirement already satisfied: jupyterlab-widgets~=3.0 in /home/shaanvi/anaconda3/lib/python3.11/site-packages (from ipywidgets->ipyfilechooser>=0.6.0->geemap) (3.0.5)\n",
      "Requirement already satisfied: MarkupSafe>=2.0 in /home/shaanvi/anaconda3/lib/python3.11/site-packages (from jinja2>=2.9->folium>=0.13.0->geemap) (2.1.1)\n",
      "Requirement already satisfied: google-cloud-core<3.0dev,>=2.3.0 in /home/shaanvi/anaconda3/lib/python3.11/site-packages (from google-cloud-storage->earthengine-api>=0.1.347->geemap) (2.3.3)\n",
      "Requirement already satisfied: google-resumable-media>=2.3.2 in /home/shaanvi/anaconda3/lib/python3.11/site-packages (from google-cloud-storage->earthengine-api>=0.1.347->geemap) (2.6.0)\n",
      "Requirement already satisfied: charset-normalizer<4,>=2 in /home/shaanvi/anaconda3/lib/python3.11/site-packages (from requests->earthengine-api>=0.1.347->geemap) (3.2.0)\n",
      "Requirement already satisfied: idna<4,>=2.5 in /home/shaanvi/anaconda3/lib/python3.11/site-packages (from requests->earthengine-api>=0.1.347->geemap) (3.4)\n",
      "Requirement already satisfied: certifi>=2017.4.17 in /home/shaanvi/anaconda3/lib/python3.11/site-packages (from requests->earthengine-api>=0.1.347->geemap) (2023.7.22)\n",
      "Requirement already satisfied: decorator in /home/shaanvi/anaconda3/lib/python3.11/site-packages (from ratelim->geocoder->geemap) (5.1.1)\n",
      "Requirement already satisfied: googleapis-common-protos<2.0.dev0,>=1.56.2 in /home/shaanvi/anaconda3/lib/python3.11/site-packages (from google-api-core!=2.0.*,!=2.1.*,!=2.2.*,!=2.3.0,<3.0.0.dev0,>=1.31.5->google-api-python-client>=1.12.1->earthengine-api>=0.1.347->geemap) (1.60.0)\n",
      "Requirement already satisfied: protobuf!=3.20.0,!=3.20.1,!=4.21.0,!=4.21.1,!=4.21.2,!=4.21.3,!=4.21.4,!=4.21.5,<5.0.0.dev0,>=3.19.5 in /home/shaanvi/anaconda3/lib/python3.11/site-packages (from google-api-core!=2.0.*,!=2.1.*,!=2.2.*,!=2.3.0,<3.0.0.dev0,>=1.31.5->google-api-python-client>=1.12.1->earthengine-api>=0.1.347->geemap) (4.21.12)\n",
      "Requirement already satisfied: google-crc32c<2.0dev,>=1.0 in /home/shaanvi/anaconda3/lib/python3.11/site-packages (from google-resumable-media>=2.3.2->google-cloud-storage->earthengine-api>=0.1.347->geemap) (1.5.0)\n",
      "Requirement already satisfied: comm>=0.1.1 in /home/shaanvi/anaconda3/lib/python3.11/site-packages (from ipykernel>=4.5.1->ipywidgets->ipyfilechooser>=0.6.0->geemap) (0.1.2)\n",
      "Requirement already satisfied: debugpy>=1.6.5 in /home/shaanvi/anaconda3/lib/python3.11/site-packages (from ipykernel>=4.5.1->ipywidgets->ipyfilechooser>=0.6.0->geemap) (1.6.7)\n",
      "Requirement already satisfied: jupyter-client>=6.1.12 in /home/shaanvi/anaconda3/lib/python3.11/site-packages (from ipykernel>=4.5.1->ipywidgets->ipyfilechooser>=0.6.0->geemap) (7.4.9)\n",
      "Requirement already satisfied: jupyter-core!=5.0.*,>=4.12 in /home/shaanvi/anaconda3/lib/python3.11/site-packages (from ipykernel>=4.5.1->ipywidgets->ipyfilechooser>=0.6.0->geemap) (5.3.0)\n",
      "Requirement already satisfied: matplotlib-inline>=0.1 in /home/shaanvi/anaconda3/lib/python3.11/site-packages (from ipykernel>=4.5.1->ipywidgets->ipyfilechooser>=0.6.0->geemap) (0.1.6)\n",
      "Requirement already satisfied: nest-asyncio in /home/shaanvi/anaconda3/lib/python3.11/site-packages (from ipykernel>=4.5.1->ipywidgets->ipyfilechooser>=0.6.0->geemap) (1.5.8)\n",
      "Requirement already satisfied: psutil in /home/shaanvi/anaconda3/lib/python3.11/site-packages (from ipykernel>=4.5.1->ipywidgets->ipyfilechooser>=0.6.0->geemap) (5.9.0)\n",
      "Requirement already satisfied: pyzmq>=20 in /home/shaanvi/anaconda3/lib/python3.11/site-packages (from ipykernel>=4.5.1->ipywidgets->ipyfilechooser>=0.6.0->geemap) (23.2.0)\n",
      "Requirement already satisfied: tornado>=6.1 in /home/shaanvi/anaconda3/lib/python3.11/site-packages (from ipykernel>=4.5.1->ipywidgets->ipyfilechooser>=0.6.0->geemap) (6.3.2)\n",
      "Requirement already satisfied: backcall in /home/shaanvi/anaconda3/lib/python3.11/site-packages (from ipython>=6.1.0->ipywidgets->ipyfilechooser>=0.6.0->geemap) (0.2.0)\n",
      "Requirement already satisfied: jedi>=0.16 in /home/shaanvi/anaconda3/lib/python3.11/site-packages (from ipython>=6.1.0->ipywidgets->ipyfilechooser>=0.6.0->geemap) (0.18.1)\n",
      "Requirement already satisfied: pickleshare in /home/shaanvi/anaconda3/lib/python3.11/site-packages (from ipython>=6.1.0->ipywidgets->ipyfilechooser>=0.6.0->geemap) (0.7.5)\n",
      "Requirement already satisfied: prompt-toolkit!=3.0.37,<3.1.0,>=3.0.30 in /home/shaanvi/anaconda3/lib/python3.11/site-packages (from ipython>=6.1.0->ipywidgets->ipyfilechooser>=0.6.0->geemap) (3.0.36)\n",
      "Requirement already satisfied: pygments>=2.4.0 in /home/shaanvi/anaconda3/lib/python3.11/site-packages (from ipython>=6.1.0->ipywidgets->ipyfilechooser>=0.6.0->geemap) (2.15.1)\n",
      "Requirement already satisfied: stack-data in /home/shaanvi/anaconda3/lib/python3.11/site-packages (from ipython>=6.1.0->ipywidgets->ipyfilechooser>=0.6.0->geemap) (0.2.0)\n",
      "Requirement already satisfied: pexpect>4.3 in /home/shaanvi/anaconda3/lib/python3.11/site-packages (from ipython>=6.1.0->ipywidgets->ipyfilechooser>=0.6.0->geemap) (4.8.0)\n",
      "Requirement already satisfied: pyasn1<0.5.0,>=0.4.6 in /home/shaanvi/anaconda3/lib/python3.11/site-packages (from pyasn1-modules>=0.2.1->google-auth>=1.4.1->earthengine-api>=0.1.347->geemap) (0.4.8)\n",
      "Requirement already satisfied: parso<0.9.0,>=0.8.0 in /home/shaanvi/anaconda3/lib/python3.11/site-packages (from jedi>=0.16->ipython>=6.1.0->ipywidgets->ipyfilechooser>=0.6.0->geemap) (0.8.3)\n",
      "Requirement already satisfied: entrypoints in /home/shaanvi/anaconda3/lib/python3.11/site-packages (from jupyter-client>=6.1.12->ipykernel>=4.5.1->ipywidgets->ipyfilechooser>=0.6.0->geemap) (0.4)\n",
      "Requirement already satisfied: platformdirs>=2.5 in /home/shaanvi/anaconda3/lib/python3.11/site-packages (from jupyter-core!=5.0.*,>=4.12->ipykernel>=4.5.1->ipywidgets->ipyfilechooser>=0.6.0->geemap) (3.10.0)\n",
      "Requirement already satisfied: ptyprocess>=0.5 in /home/shaanvi/anaconda3/lib/python3.11/site-packages (from pexpect>4.3->ipython>=6.1.0->ipywidgets->ipyfilechooser>=0.6.0->geemap) (0.7.0)\n",
      "Requirement already satisfied: wcwidth in /home/shaanvi/anaconda3/lib/python3.11/site-packages (from prompt-toolkit!=3.0.37,<3.1.0,>=3.0.30->ipython>=6.1.0->ipywidgets->ipyfilechooser>=0.6.0->geemap) (0.2.5)\n",
      "Requirement already satisfied: executing in /home/shaanvi/anaconda3/lib/python3.11/site-packages (from stack-data->ipython>=6.1.0->ipywidgets->ipyfilechooser>=0.6.0->geemap) (0.8.3)\n",
      "Requirement already satisfied: asttokens in /home/shaanvi/anaconda3/lib/python3.11/site-packages (from stack-data->ipython>=6.1.0->ipywidgets->ipyfilechooser>=0.6.0->geemap) (2.0.5)\n",
      "Requirement already satisfied: pure-eval in /home/shaanvi/anaconda3/lib/python3.11/site-packages (from stack-data->ipython>=6.1.0->ipywidgets->ipyfilechooser>=0.6.0->geemap) (0.2.2)\n",
      "\u001b[33mWARNING: Skipping /home/shaanvi/anaconda3/lib/python3.11/site-packages/torchvision-0.15.2.dist-info due to invalid metadata entry 'name'\u001b[0m\u001b[33m\n",
      "\u001b[0m\u001b[33mWARNING: Skipping /home/shaanvi/anaconda3/lib/python3.11/site-packages/torchvision-0.15.2.dist-info due to invalid metadata entry 'name'\u001b[0m\u001b[33m\n",
      "\u001b[0m\u001b[33mWARNING: Skipping /home/shaanvi/anaconda3/lib/python3.11/site-packages/torchvision-0.15.2.dist-info due to invalid metadata entry 'name'\u001b[0m\u001b[33m\n",
      "\u001b[0m\u001b[33mWARNING: Skipping /home/shaanvi/anaconda3/lib/python3.11/site-packages/torchvision-0.15.2.dist-info due to invalid metadata entry 'name'\u001b[0m\u001b[33m\n",
      "\u001b[0m"
     ]
    },
    {
     "data": {
      "text/markdown": [
       "<hr  height=\"5px\"><span style=\"color: salmon; font-weight: bold; width=1000px\">EE library verification and installation if needed</span> <hr height=\"5px\">"
      ],
      "text/plain": [
       "<IPython.core.display.Markdown object>"
      ]
     },
     "metadata": {},
     "output_type": "display_data"
    },
    {
     "name": "stdout",
     "output_type": "stream",
     "text": [
      "\u001b[33mWARNING: Skipping /home/shaanvi/anaconda3/lib/python3.11/site-packages/torchvision-0.15.2.dist-info due to invalid metadata entry 'name'\u001b[0m\u001b[33m\n",
      "\u001b[0m\u001b[33mWARNING: Skipping /home/shaanvi/anaconda3/lib/python3.11/site-packages/torchvision-0.15.2.dist-info due to invalid metadata entry 'name'\u001b[0m\u001b[33m\n",
      "\u001b[0m\u001b[33mDEPRECATION: Loading egg at /home/shaanvi/anaconda3/lib/python3.11/site-packages/svlearn_bootcamp-1.0.0-py3.11.egg is deprecated. pip 24.3 will enforce this behaviour change. A possible replacement is to use pip for package installation.. Discussion can be found at https://github.com/pypa/pip/issues/12330\u001b[0m\u001b[33m\n",
      "\u001b[0mRequirement already satisfied: ee in /home/shaanvi/anaconda3/lib/python3.11/site-packages (0.2)\n",
      "Requirement already satisfied: blessings in /home/shaanvi/anaconda3/lib/python3.11/site-packages (from ee) (1.7)\n",
      "Requirement already satisfied: six in /home/shaanvi/anaconda3/lib/python3.11/site-packages (from blessings->ee) (1.16.0)\n",
      "\u001b[33mWARNING: Skipping /home/shaanvi/anaconda3/lib/python3.11/site-packages/torchvision-0.15.2.dist-info due to invalid metadata entry 'name'\u001b[0m\u001b[33m\n",
      "\u001b[0m\u001b[33mWARNING: Skipping /home/shaanvi/anaconda3/lib/python3.11/site-packages/torchvision-0.15.2.dist-info due to invalid metadata entry 'name'\u001b[0m\u001b[33m\n",
      "\u001b[0m\u001b[33mWARNING: Skipping /home/shaanvi/anaconda3/lib/python3.11/site-packages/torchvision-0.15.2.dist-info due to invalid metadata entry 'name'\u001b[0m\u001b[33m\n",
      "\u001b[0m\u001b[33mWARNING: Skipping /home/shaanvi/anaconda3/lib/python3.11/site-packages/torchvision-0.15.2.dist-info due to invalid metadata entry 'name'\u001b[0m\u001b[33m\n",
      "\u001b[0m"
     ]
    },
    {
     "data": {
      "text/markdown": [
       "<hr  height=\"5px\"><span style=\"color: salmon; font-weight: bold; width=1000px\">SHAP library verification and installation if needed</span> <hr height=\"5px\">"
      ],
      "text/plain": [
       "<IPython.core.display.Markdown object>"
      ]
     },
     "metadata": {},
     "output_type": "display_data"
    },
    {
     "name": "stdout",
     "output_type": "stream",
     "text": [
      "\u001b[33mWARNING: Skipping /home/shaanvi/anaconda3/lib/python3.11/site-packages/torchvision-0.15.2.dist-info due to invalid metadata entry 'name'\u001b[0m\u001b[33m\n",
      "\u001b[0m\u001b[33mWARNING: Skipping /home/shaanvi/anaconda3/lib/python3.11/site-packages/torchvision-0.15.2.dist-info due to invalid metadata entry 'name'\u001b[0m\u001b[33m\n",
      "\u001b[0m\u001b[33mDEPRECATION: Loading egg at /home/shaanvi/anaconda3/lib/python3.11/site-packages/svlearn_bootcamp-1.0.0-py3.11.egg is deprecated. pip 24.3 will enforce this behaviour change. A possible replacement is to use pip for package installation.. Discussion can be found at https://github.com/pypa/pip/issues/12330\u001b[0m\u001b[33m\n",
      "\u001b[0mRequirement already satisfied: shap in /home/shaanvi/anaconda3/lib/python3.11/site-packages (0.43.0)\n",
      "Requirement already satisfied: numpy in /home/shaanvi/.local/lib/python3.11/site-packages (from shap) (1.26.1)\n",
      "Requirement already satisfied: scipy in /home/shaanvi/.local/lib/python3.11/site-packages (from shap) (1.11.3)\n",
      "Requirement already satisfied: scikit-learn in /home/shaanvi/anaconda3/lib/python3.11/site-packages (from shap) (1.3.0)\n",
      "Requirement already satisfied: pandas in /home/shaanvi/.local/lib/python3.11/site-packages (from shap) (2.1.3)\n",
      "Requirement already satisfied: tqdm>=4.27.0 in /home/shaanvi/anaconda3/lib/python3.11/site-packages (from shap) (4.65.0)\n",
      "Requirement already satisfied: packaging>20.9 in /home/shaanvi/anaconda3/lib/python3.11/site-packages (from shap) (23.1)\n",
      "Requirement already satisfied: slicer==0.0.7 in /home/shaanvi/anaconda3/lib/python3.11/site-packages (from shap) (0.0.7)\n",
      "Requirement already satisfied: numba in /home/shaanvi/anaconda3/lib/python3.11/site-packages (from shap) (0.57.1)\n",
      "Requirement already satisfied: cloudpickle in /home/shaanvi/anaconda3/lib/python3.11/site-packages (from shap) (2.2.1)\n",
      "Requirement already satisfied: llvmlite<0.41,>=0.40.0dev0 in /home/shaanvi/anaconda3/lib/python3.11/site-packages (from numba->shap) (0.40.0)\n",
      "Collecting numpy (from shap)\n",
      "  Downloading numpy-1.24.4-cp311-cp311-manylinux_2_17_x86_64.manylinux2014_x86_64.whl.metadata (5.6 kB)\n",
      "Requirement already satisfied: python-dateutil>=2.8.2 in /home/shaanvi/anaconda3/lib/python3.11/site-packages (from pandas->shap) (2.8.2)\n",
      "Requirement already satisfied: pytz>=2020.1 in /home/shaanvi/anaconda3/lib/python3.11/site-packages (from pandas->shap) (2023.3.post1)\n",
      "Requirement already satisfied: tzdata>=2022.1 in /home/shaanvi/anaconda3/lib/python3.11/site-packages (from pandas->shap) (2023.3)\n",
      "Requirement already satisfied: joblib>=1.1.1 in /home/shaanvi/anaconda3/lib/python3.11/site-packages (from scikit-learn->shap) (1.2.0)\n",
      "Requirement already satisfied: threadpoolctl>=2.0.0 in /home/shaanvi/anaconda3/lib/python3.11/site-packages (from scikit-learn->shap) (2.2.0)\n",
      "Requirement already satisfied: six>=1.5 in /home/shaanvi/anaconda3/lib/python3.11/site-packages (from python-dateutil>=2.8.2->pandas->shap) (1.16.0)\n",
      "Downloading numpy-1.24.4-cp311-cp311-manylinux_2_17_x86_64.manylinux2014_x86_64.whl (17.3 MB)\n",
      "\u001b[2K   \u001b[38;2;114;156;31m━━━━━━━━━━━━━━━━━━━━━━━━━━━━━━━━━━━━━━━━\u001b[0m \u001b[32m17.3/17.3 MB\u001b[0m \u001b[31m30.2 MB/s\u001b[0m eta \u001b[36m0:00:00\u001b[0mm eta \u001b[36m0:00:01\u001b[0m0:01\u001b[0m:01\u001b[0m\n",
      "\u001b[?25h\u001b[33mWARNING: Skipping /home/shaanvi/anaconda3/lib/python3.11/site-packages/torchvision-0.15.2.dist-info due to invalid metadata entry 'name'\u001b[0m\u001b[33m\n",
      "\u001b[0mInstalling collected packages: numpy\n",
      "  Attempting uninstall: numpy\n",
      "    Found existing installation: numpy 1.26.1\n",
      "    Uninstalling numpy-1.26.1:\n",
      "      Successfully uninstalled numpy-1.26.1\n",
      "\u001b[33mWARNING: Skipping /home/shaanvi/anaconda3/lib/python3.11/site-packages/torchvision-0.15.2.dist-info due to invalid metadata entry 'name'\u001b[0m\u001b[33m\n",
      "\u001b[0m\u001b[31mERROR: pip's dependency resolver does not currently take into account all the packages that are installed. This behaviour is the source of the following dependency conflicts.\n",
      "tables 3.8.0 requires blosc2~=2.0.0, which is not installed.\n",
      "tables 3.8.0 requires cython>=0.29.21, which is not installed.\n",
      "xformers 0.0.20 requires torch==2.0.1, but you have torch 2.1.0 which is incompatible.\u001b[0m\u001b[31m\n",
      "\u001b[0mSuccessfully installed numpy-1.24.4\n",
      "\u001b[33mWARNING: Skipping /home/shaanvi/anaconda3/lib/python3.11/site-packages/torchvision-0.15.2.dist-info due to invalid metadata entry 'name'\u001b[0m\u001b[33m\n",
      "\u001b[0m\u001b[33mWARNING: Skipping /home/shaanvi/anaconda3/lib/python3.11/site-packages/torchvision-0.15.2.dist-info due to invalid metadata entry 'name'\u001b[0m\u001b[33m\n",
      "\u001b[0m\u001b[33mWARNING: Skipping /home/shaanvi/anaconda3/lib/python3.11/site-packages/torchvision-0.15.2.dist-info due to invalid metadata entry 'name'\u001b[0m\u001b[33m\n",
      "\u001b[0m"
     ]
    },
    {
     "data": {
      "text/markdown": [
       "<hr  height=\"5px\"><span style=\"color: salmon; font-weight: bold; width=1000px\">MATPLOTLIB library verification and installation if needed</span> <hr height=\"5px\">"
      ],
      "text/plain": [
       "<IPython.core.display.Markdown object>"
      ]
     },
     "metadata": {},
     "output_type": "display_data"
    },
    {
     "name": "stdout",
     "output_type": "stream",
     "text": [
      "\u001b[33mWARNING: Skipping /home/shaanvi/anaconda3/lib/python3.11/site-packages/torchvision-0.15.2.dist-info due to invalid metadata entry 'name'\u001b[0m\u001b[33m\n",
      "\u001b[0m\u001b[33mWARNING: Skipping /home/shaanvi/anaconda3/lib/python3.11/site-packages/torchvision-0.15.2.dist-info due to invalid metadata entry 'name'\u001b[0m\u001b[33m\n",
      "\u001b[0m\u001b[33mDEPRECATION: Loading egg at /home/shaanvi/anaconda3/lib/python3.11/site-packages/svlearn_bootcamp-1.0.0-py3.11.egg is deprecated. pip 24.3 will enforce this behaviour change. A possible replacement is to use pip for package installation.. Discussion can be found at https://github.com/pypa/pip/issues/12330\u001b[0m\u001b[33m\n",
      "\u001b[0mRequirement already satisfied: matplotlib in /home/shaanvi/anaconda3/lib/python3.11/site-packages (3.8.1)\n",
      "Requirement already satisfied: contourpy>=1.0.1 in /home/shaanvi/anaconda3/lib/python3.11/site-packages (from matplotlib) (1.0.5)\n",
      "Requirement already satisfied: cycler>=0.10 in /home/shaanvi/anaconda3/lib/python3.11/site-packages (from matplotlib) (0.11.0)\n",
      "Requirement already satisfied: fonttools>=4.22.0 in /home/shaanvi/anaconda3/lib/python3.11/site-packages (from matplotlib) (4.25.0)\n",
      "Requirement already satisfied: kiwisolver>=1.3.1 in /home/shaanvi/anaconda3/lib/python3.11/site-packages (from matplotlib) (1.4.4)\n",
      "Requirement already satisfied: numpy<2,>=1.21 in /home/shaanvi/anaconda3/lib/python3.11/site-packages (from matplotlib) (1.24.4)\n",
      "Requirement already satisfied: packaging>=20.0 in /home/shaanvi/anaconda3/lib/python3.11/site-packages (from matplotlib) (23.1)\n",
      "Requirement already satisfied: pillow>=8 in /home/shaanvi/anaconda3/lib/python3.11/site-packages (from matplotlib) (9.4.0)\n",
      "Requirement already satisfied: pyparsing>=2.3.1 in /home/shaanvi/anaconda3/lib/python3.11/site-packages (from matplotlib) (3.0.9)\n",
      "Requirement already satisfied: python-dateutil>=2.7 in /home/shaanvi/anaconda3/lib/python3.11/site-packages (from matplotlib) (2.8.2)\n",
      "Requirement already satisfied: six>=1.5 in /home/shaanvi/anaconda3/lib/python3.11/site-packages (from python-dateutil>=2.7->matplotlib) (1.16.0)\n",
      "\u001b[33mWARNING: Skipping /home/shaanvi/anaconda3/lib/python3.11/site-packages/torchvision-0.15.2.dist-info due to invalid metadata entry 'name'\u001b[0m\u001b[33m\n",
      "\u001b[0m\u001b[33mWARNING: Skipping /home/shaanvi/anaconda3/lib/python3.11/site-packages/torchvision-0.15.2.dist-info due to invalid metadata entry 'name'\u001b[0m\u001b[33m\n",
      "\u001b[0m\u001b[33mWARNING: Skipping /home/shaanvi/anaconda3/lib/python3.11/site-packages/torchvision-0.15.2.dist-info due to invalid metadata entry 'name'\u001b[0m\u001b[33m\n",
      "\u001b[0m\u001b[33mWARNING: Skipping /home/shaanvi/anaconda3/lib/python3.11/site-packages/torchvision-0.15.2.dist-info due to invalid metadata entry 'name'\u001b[0m\u001b[33m\n",
      "\u001b[0m"
     ]
    }
   ],
   "source": [
    "from IPython.display import Markdown\n",
    "\n",
    "libraries = [\n",
    "    'seaborn',\n",
    "    'altair',\n",
    "    'bokeh',\n",
    "    'plotly',\n",
    "    'hvplot',\n",
    "    'folium',\n",
    "    'geopandas',\n",
    "    'geemap',\n",
    "    'ee',\n",
    "    'shap',\n",
    "    'matplotlib'\n",
    "]\n",
    "\n",
    "\n",
    "for library in libraries:\n",
    "    message = f'<hr  height=\"5px\"><span style=\"color: salmon; font-weight: bold; width=1000px\">{library.upper()} ' \\\n",
    "    + 'library verification and installation if needed</span> <hr height=\"5px\">'\n",
    "    display (Markdown(message))\n",
    "    \n",
    "    !pip install {library} --upgrade"
   ]
  },
  {
   "cell_type": "markdown",
   "metadata": {
    "tags": []
   },
   "source": [
    "## Conclusion\n",
    "\n",
    "Now, you have all the data visualization libraries that we may need in the course of this workshop on NLP."
   ]
  },
  {
   "cell_type": "code",
   "execution_count": null,
   "metadata": {},
   "outputs": [],
   "source": []
  }
 ],
 "metadata": {
  "hide_input": false,
  "kernelspec": {
   "display_name": "Python 3 (ipykernel)",
   "language": "python",
   "name": "python3"
  },
  "language_info": {
   "codemirror_mode": {
    "name": "ipython",
    "version": 3
   },
   "file_extension": ".py",
   "mimetype": "text/x-python",
   "name": "python",
   "nbconvert_exporter": "python",
   "pygments_lexer": "ipython3",
   "version": "3.11.4"
  },
  "toc": {
   "base_numbering": 1,
   "nav_menu": {},
   "number_sections": true,
   "sideBar": true,
   "skip_h1_title": false,
   "title_cell": "Table of Contents",
   "title_sidebar": "Contents",
   "toc_cell": false,
   "toc_position": {},
   "toc_section_display": true,
   "toc_window_display": false
  },
  "varInspector": {
   "cols": {
    "lenName": 16,
    "lenType": 16,
    "lenVar": 40
   },
   "kernels_config": {
    "python": {
     "delete_cmd_postfix": "",
     "delete_cmd_prefix": "del ",
     "library": "var_list.py",
     "varRefreshCmd": "print(var_dic_list())"
    },
    "r": {
     "delete_cmd_postfix": ") ",
     "delete_cmd_prefix": "rm(",
     "library": "var_list.r",
     "varRefreshCmd": "cat(var_dic_list()) "
    }
   },
   "types_to_exclude": [
    "module",
    "function",
    "builtin_function_or_method",
    "instance",
    "_Feature"
   ],
   "window_display": false
  }
 },
 "nbformat": 4,
 "nbformat_minor": 4
}
