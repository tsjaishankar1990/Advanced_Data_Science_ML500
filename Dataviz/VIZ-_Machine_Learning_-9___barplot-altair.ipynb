{
 "cells": [
  {
   "cell_type": "code",
   "execution_count": 1,
   "id": "69e79445",
   "metadata": {
    "ExecuteTime": {
     "end_time": "2023-02-25T07:25:44.428966Z",
     "start_time": "2023-02-25T07:25:42.604542Z"
    }
   },
   "outputs": [
    {
     "data": {
      "text/html": [
       "\n",
       "<!-- Many of the styles here are inspired by: \n",
       "    https://towardsdatascience.com/10-practical-tips-you-need-to-know-to-personalize-jupyter-notebook-fbd202777e20 \n",
       "       \n",
       "    \n",
       "    On the author's local machine, these exist in the custom.css file. However, in order to keep uniform look and feel, \n",
       "    and at the request of participants, I have added it to this common import-file here.\n",
       "\n",
       "    -->\n",
       "\n",
       "<link href=\"https://fonts.googleapis.com/css?family=Lora:400,700|Montserrat:300\" rel=\"stylesheet\">\n",
       "\n",
       "<link href=\"https://fonts.googleapis.com/css2?family=Crimson+Pro&family=Literata&display=swap\" rel=\"stylesheet\">\n",
       "<style>\n",
       "\n",
       "\n",
       "#ipython_notebook::before{\n",
       " content:\"Data Visualization\";\n",
       "        color: white;\n",
       "        font-weight: bold;\n",
       "        text-transform: uppercase;\n",
       "        font-family: 'Lora',serif;\n",
       "        font-size:16pt;\n",
       "        margin-bottom:15px;\n",
       "        margin-top:15px;\n",
       "           \n",
       "}\n",
       "body > #header {\n",
       "    #background: #D15555;\n",
       "    background: linear-gradient(to bottom, indianred 0%, #fff 100%);\n",
       "    opacity: 0.8;\n",
       "\n",
       "}\n",
       "\n",
       "\n",
       ".navbar-default .navbar-nav > li > a, #kernel_indicator {\n",
       "    color: white;\n",
       "    transition: all 0.25s;\n",
       "    font-size:10pt;\n",
       "    font-family: sans-serif;\n",
       "    font-weight:normal;\n",
       "}\n",
       ".navbar-default {\n",
       "    padding-left:100px;\n",
       "    background: none;\n",
       "    border: none;\n",
       "}\n",
       "\n",
       "\n",
       "body > menubar-container {\n",
       "    background-color: wheat;\n",
       "}\n",
       "#ipython_notebook img{                                                                                        \n",
       "    display:block; \n",
       "    \n",
       "    background: url(\"https://www.supportvectors.com/wp-content/uploads/2016/03/logo-poster-smaller.png\") no-repeat;\n",
       "    background-size: contain;\n",
       "   \n",
       "    padding-left: 600px;\n",
       "    padding-right: 100px;\n",
       "    \n",
       "    -moz-box-sizing: border-box;\n",
       "    box-sizing: border-box;\n",
       "}\n",
       "\n",
       "\n",
       "\n",
       "body {\n",
       " #font-family:  'Literata', serif;\n",
       "    font-family:'Lora', san-serif;\n",
       "    text-align: justify;\n",
       "    font-weight: 400;\n",
       "    font-size: 12pt;\n",
       "}\n",
       "\n",
       "iframe{\n",
       "    width:100%;\n",
       "    min-height:600px;\n",
       "}\n",
       "\n",
       "h1, h2, h3, h4, h5, h6 {\n",
       "# font-family: 'Montserrat', sans-serif;\n",
       " font-family:'Lora', serif;\n",
       " font-weight: 200;\n",
       " text-transform: uppercase;\n",
       " color: #EC7063 ;\n",
       "}\n",
       "\n",
       "h2 {\n",
       "    color: #000080;\n",
       "}\n",
       "\n",
       ".checkpoint_status, .autosave_status {\n",
       "    color:wheat;\n",
       "}\n",
       "\n",
       "#notebook_name {\n",
       "    font-weight: 600;\n",
       "    font-size:20pt;\n",
       "    text-variant:uppercase;\n",
       "    color: wheat; \n",
       "    margin-right:20px;\n",
       "    margin-left:-500px;\n",
       "}\n",
       "#notebook_name:hover {\n",
       "background-color: salmon;\n",
       "}\n",
       "\n",
       "\n",
       ".dataframe { /* dataframe atau table */\n",
       "    background: white;\n",
       "    box-shadow: 0px 1px 2px #bbb;\n",
       "}\n",
       ".dataframe thead th, .dataframe tbody td {\n",
       "    text-align: center;\n",
       "    padding: 1em;\n",
       "}\n",
       "\n",
       ".checkpoint_status, .autosave_status {\n",
       "    color:wheat;\n",
       "}\n",
       "\n",
       ".output {\n",
       "    align-items: center;\n",
       "}\n",
       "\n",
       "div.cell {\n",
       "    transition: all 0.25s;\n",
       "    border: none;\n",
       "    position: relative;\n",
       "    top: 0;\n",
       "}\n",
       "div.cell.selected, div.cell.selected.jupyter-soft-selected {\n",
       "    border: none;\n",
       "    background: transparent;\n",
       "    box-shadow: 0 6px 18px #aaa;\n",
       "    z-index: 10;\n",
       "    top: -10px;\n",
       "}\n",
       ".CodeMirror pre, .CodeMirror-dialog, .CodeMirror-dialog .CodeMirror-search-field, .terminal-app .terminal {\n",
       "    font-family: 'Hack' , serif; \n",
       "    font-weight: 500;\n",
       "    font-size: 14pt;\n",
       "}\n",
       "\n",
       "\n",
       "\n",
       "</style>    \n"
      ],
      "text/plain": [
       "<IPython.core.display.HTML object>"
      ]
     },
     "metadata": {},
     "output_type": "display_data"
    },
    {
     "data": {
      "text/markdown": [
       "\n",
       "\n",
       "<div style=\"color:#aaa;font-size:8pt\">\n",
       "<hr/>\n",
       "\n",
       " </blockquote>\n",
       " <hr/>\n",
       "</div>\n",
       "\n"
      ],
      "text/plain": [
       "<IPython.core.display.Markdown object>"
      ]
     },
     "metadata": {},
     "output_type": "display_data"
    }
   ],
   "source": [
    "%run supportvectors-common.ipynb"
   ]
  },
  {
   "cell_type": "markdown",
   "id": "e982f0a7",
   "metadata": {
    "ExecuteTime": {
     "end_time": "2021-12-30T09:27:13.165380Z",
     "start_time": "2021-12-30T09:27:13.157780Z"
    },
    "slideshow": {
     "slide_type": "slide"
    }
   },
   "source": [
    "# Revisiting the bar, with Altair\n",
    "\n",
    "We will now repeat the bar-plots exercise we did with `matplotlib`, but this time with the `altair` library."
   ]
  },
  {
   "cell_type": "markdown",
   "id": "a4681ee3",
   "metadata": {
    "ExecuteTime": {
     "end_time": "2021-12-30T09:27:13.165380Z",
     "start_time": "2021-12-30T09:27:13.157780Z"
    },
    "slideshow": {
     "slide_type": "slide"
    }
   },
   "source": [
    "## Load and summarize"
   ]
  },
  {
   "cell_type": "code",
   "execution_count": 2,
   "id": "9855ed31",
   "metadata": {
    "ExecuteTime": {
     "end_time": "2023-02-25T01:14:42.728726Z",
     "start_time": "2023-02-25T01:14:42.652617Z"
    },
    "slideshow": {
     "slide_type": "fragment"
    }
   },
   "outputs": [
    {
     "data": {
      "text/html": [
       "<div>\n",
       "<style scoped>\n",
       "    .dataframe tbody tr th:only-of-type {\n",
       "        vertical-align: middle;\n",
       "    }\n",
       "\n",
       "    .dataframe tbody tr th {\n",
       "        vertical-align: top;\n",
       "    }\n",
       "\n",
       "    .dataframe thead th {\n",
       "        text-align: right;\n",
       "    }\n",
       "</style>\n",
       "<table border=\"1\" class=\"dataframe\">\n",
       "  <thead>\n",
       "    <tr style=\"text-align: right;\">\n",
       "      <th></th>\n",
       "      <th>Region</th>\n",
       "      <th>Confirmed</th>\n",
       "      <th>Deaths</th>\n",
       "      <th>Recovered</th>\n",
       "      <th>Active</th>\n",
       "    </tr>\n",
       "  </thead>\n",
       "  <tbody>\n",
       "    <tr>\n",
       "      <th>0</th>\n",
       "      <td>Africa</td>\n",
       "      <td>723207</td>\n",
       "      <td>12223</td>\n",
       "      <td>440645</td>\n",
       "      <td>270339</td>\n",
       "    </tr>\n",
       "    <tr>\n",
       "      <th>1</th>\n",
       "      <td>Americas</td>\n",
       "      <td>8839286</td>\n",
       "      <td>342732</td>\n",
       "      <td>4468616</td>\n",
       "      <td>4027938</td>\n",
       "    </tr>\n",
       "    <tr>\n",
       "      <th>2</th>\n",
       "      <td>Eastern Mediterranean</td>\n",
       "      <td>1490744</td>\n",
       "      <td>38339</td>\n",
       "      <td>1201400</td>\n",
       "      <td>251005</td>\n",
       "    </tr>\n",
       "    <tr>\n",
       "      <th>3</th>\n",
       "      <td>Europe</td>\n",
       "      <td>3299523</td>\n",
       "      <td>211144</td>\n",
       "      <td>1993723</td>\n",
       "      <td>1094656</td>\n",
       "    </tr>\n",
       "    <tr>\n",
       "      <th>4</th>\n",
       "      <td>South-East Asia</td>\n",
       "      <td>1835297</td>\n",
       "      <td>41349</td>\n",
       "      <td>1156933</td>\n",
       "      <td>637015</td>\n",
       "    </tr>\n",
       "    <tr>\n",
       "      <th>5</th>\n",
       "      <td>Western Pacific</td>\n",
       "      <td>292428</td>\n",
       "      <td>8249</td>\n",
       "      <td>206770</td>\n",
       "      <td>77409</td>\n",
       "    </tr>\n",
       "  </tbody>\n",
       "</table>\n",
       "</div>"
      ],
      "text/plain": [
       "                  Region  Confirmed  Deaths  Recovered   Active\n",
       "0                 Africa     723207   12223     440645   270339\n",
       "1               Americas    8839286  342732    4468616  4027938\n",
       "2  Eastern Mediterranean    1490744   38339    1201400   251005\n",
       "3                 Europe    3299523  211144    1993723  1094656\n",
       "4        South-East Asia    1835297   41349    1156933   637015\n",
       "5        Western Pacific     292428    8249     206770    77409"
      ]
     },
     "execution_count": 2,
     "metadata": {},
     "output_type": "execute_result"
    }
   ],
   "source": [
    "url = \"https://raw.githubusercontent.com/supportvectors/viz-datasets/main/\" \\\n",
    "    + \"regional_covid_data.csv\"\n",
    "data = pd.read_csv(url)\n",
    "data"
   ]
  },
  {
   "cell_type": "markdown",
   "id": "4f571631",
   "metadata": {
    "ExecuteTime": {
     "end_time": "2021-12-28T03:10:52.531657Z",
     "start_time": "2021-12-28T03:10:52.527575Z"
    },
    "slideshow": {
     "slide_type": "slide"
    }
   },
   "source": [
    "## The Bar chart family\n",
    "\n",
    "Let us now start learning to create bar-charts with `altair`, starting with the very basic one.\n",
    "\n",
    "`altair` chart visualization can be done using the `Chart` class and its methods.\n",
    "\n",
    "*  top level **chart** object accepts data\n",
    "*  **mark** method specifies how the encoded attributes should be represented in the chart\n",
    "*  **encode** method maps data columns to visual attributes of the chart\n",
    "\n",
    "We create bar charts using the `Chart.mark_bar()` method. \n",
    "Refer the code below and try to understand the syntax. We will break it down in the next cell."
   ]
  },
  {
   "cell_type": "code",
   "execution_count": 3,
   "id": "57f6b67c",
   "metadata": {
    "ExecuteTime": {
     "end_time": "2023-02-25T01:14:42.792764Z",
     "start_time": "2023-02-25T01:14:42.731724Z"
    },
    "scrolled": false,
    "slideshow": {
     "slide_type": "fragment"
    }
   },
   "outputs": [
    {
     "data": {
      "text/html": [
       "\n",
       "<div id=\"altair-viz-4d82c94ab1de44f6b42570c8b46e6364\"></div>\n",
       "<script type=\"text/javascript\">\n",
       "  var VEGA_DEBUG = (typeof VEGA_DEBUG == \"undefined\") ? {} : VEGA_DEBUG;\n",
       "  (function(spec, embedOpt){\n",
       "    let outputDiv = document.currentScript.previousElementSibling;\n",
       "    if (outputDiv.id !== \"altair-viz-4d82c94ab1de44f6b42570c8b46e6364\") {\n",
       "      outputDiv = document.getElementById(\"altair-viz-4d82c94ab1de44f6b42570c8b46e6364\");\n",
       "    }\n",
       "    const paths = {\n",
       "      \"vega\": \"https://cdn.jsdelivr.net/npm//vega@5?noext\",\n",
       "      \"vega-lib\": \"https://cdn.jsdelivr.net/npm//vega-lib?noext\",\n",
       "      \"vega-lite\": \"https://cdn.jsdelivr.net/npm//vega-lite@4.17.0?noext\",\n",
       "      \"vega-embed\": \"https://cdn.jsdelivr.net/npm//vega-embed@6?noext\",\n",
       "    };\n",
       "\n",
       "    function maybeLoadScript(lib, version) {\n",
       "      var key = `${lib.replace(\"-\", \"\")}_version`;\n",
       "      return (VEGA_DEBUG[key] == version) ?\n",
       "        Promise.resolve(paths[lib]) :\n",
       "        new Promise(function(resolve, reject) {\n",
       "          var s = document.createElement('script');\n",
       "          document.getElementsByTagName(\"head\")[0].appendChild(s);\n",
       "          s.async = true;\n",
       "          s.onload = () => {\n",
       "            VEGA_DEBUG[key] = version;\n",
       "            return resolve(paths[lib]);\n",
       "          };\n",
       "          s.onerror = () => reject(`Error loading script: ${paths[lib]}`);\n",
       "          s.src = paths[lib];\n",
       "        });\n",
       "    }\n",
       "\n",
       "    function showError(err) {\n",
       "      outputDiv.innerHTML = `<div class=\"error\" style=\"color:red;\">${err}</div>`;\n",
       "      throw err;\n",
       "    }\n",
       "\n",
       "    function displayChart(vegaEmbed) {\n",
       "      vegaEmbed(outputDiv, spec, embedOpt)\n",
       "        .catch(err => showError(`Javascript Error: ${err.message}<br>This usually means there's a typo in your chart specification. See the javascript console for the full traceback.`));\n",
       "    }\n",
       "\n",
       "    if(typeof define === \"function\" && define.amd) {\n",
       "      requirejs.config({paths});\n",
       "      require([\"vega-embed\"], displayChart, err => showError(`Error loading script: ${err.message}`));\n",
       "    } else {\n",
       "      maybeLoadScript(\"vega\", \"5\")\n",
       "        .then(() => maybeLoadScript(\"vega-lite\", \"4.17.0\"))\n",
       "        .then(() => maybeLoadScript(\"vega-embed\", \"6\"))\n",
       "        .catch(showError)\n",
       "        .then(() => displayChart(vegaEmbed));\n",
       "    }\n",
       "  })({\"config\": {\"view\": {\"continuousWidth\": 400, \"continuousHeight\": 300}}, \"data\": {\"name\": \"data-863ebb4242ba9b5a2bd4e20db4f44d26\"}, \"mark\": \"bar\", \"encoding\": {\"x\": {\"field\": \"Region\", \"type\": \"nominal\"}, \"y\": {\"field\": \"Confirmed\", \"type\": \"quantitative\"}}, \"$schema\": \"https://vega.github.io/schema/vega-lite/v4.17.0.json\", \"datasets\": {\"data-863ebb4242ba9b5a2bd4e20db4f44d26\": [{\"Region\": \"Africa\", \"Confirmed\": 723207, \"Deaths\": 12223, \"Recovered\": 440645, \"Active\": 270339}, {\"Region\": \"Americas\", \"Confirmed\": 8839286, \"Deaths\": 342732, \"Recovered\": 4468616, \"Active\": 4027938}, {\"Region\": \"Eastern Mediterranean\", \"Confirmed\": 1490744, \"Deaths\": 38339, \"Recovered\": 1201400, \"Active\": 251005}, {\"Region\": \"Europe\", \"Confirmed\": 3299523, \"Deaths\": 211144, \"Recovered\": 1993723, \"Active\": 1094656}, {\"Region\": \"South-East Asia\", \"Confirmed\": 1835297, \"Deaths\": 41349, \"Recovered\": 1156933, \"Active\": 637015}, {\"Region\": \"Western Pacific\", \"Confirmed\": 292428, \"Deaths\": 8249, \"Recovered\": 206770, \"Active\": 77409}]}}, {\"mode\": \"vega-lite\"});\n",
       "</script>"
      ],
      "text/plain": [
       "alt.Chart(...)"
      ]
     },
     "execution_count": 3,
     "metadata": {},
     "output_type": "execute_result"
    }
   ],
   "source": [
    "\n",
    "(alt.Chart(data)\n",
    "     .mark_bar()                      # mark_bar for creating bar plots\n",
    "     .encode(\n",
    "             x='Region:N',            # encode x-axis values to the data column 'Region' of type \"nominal\"\n",
    "             y='Confirmed:Q',         # encode y-axis values to the data column 'Confirmed' of type \"quantitative\"\n",
    "     )\n",
    ")\n",
    "\n",
    "# compare to plotting with pandas\n",
    "# data.plot.bar(x='Region', y='Confirmed')"
   ]
  },
  {
   "cell_type": "markdown",
   "id": "80d96248",
   "metadata": {},
   "source": [
    "### The encode method\n",
    "\n",
    "Let us now try to understand the encode method.\n",
    "\n",
    "The `Chart.encode()` method provides several **channels** for mapping the data columns to visual attributes of which we will review three in this notebook:\n",
    "\n",
    "1. position channels - `x`, `y`, `theta` etc.\n",
    "2. mark property channels - `color`, `size`, `row`, `column` etc.\n",
    "3. text and tooltip channels - `text`, `tooltip`\n",
    "\n",
    "In the code above we encode the position channel `x` with the data column `Region`. Which means the x-axis values are inferred from the data column `Region`. What about the `:N` ?\n",
    "\n",
    "#### Encoding types\n",
    "\n",
    "The encoding type of a data column determines how altair interprets the values of the column. The data columns can be encoded in several different types:\n",
    "\n",
    "| encoding type | shorthand* | description |\n",
    "|---|---|---|\n",
    "| `quantitative` | `Q` | continuous real valued quantity |\n",
    "| `ordinal` | `O` | discrete ordered quantity |\n",
    "| `norminal` | `N` | discrete unordered category |\n",
    "| `temporal` | `T` | time or date value |\n",
    "| `geojson` | `G` | geographic shape |\n",
    "\n",
    "To learn more about encoding types refer:\n",
    "https://altair-viz.github.io/user_guide/encoding.html#encoding-data-types \n",
    "\n",
    "Since `Region` is a categorical variable, we choose the type as `nominal`. Note that it is very important to choose the appropriate encoding type. \n",
    "\n",
    "### Shorthand\n",
    "\n",
    "A **shorthand** is used to conviniently specify the column name and it's type as a string. (It is used to specify the aggregate type as well). \n",
    "\n",
    "`x = 'Region:N'` is short for `x = alt.X(field='Region', type='nominal')`\n",
    "\n",
    "The shorthand is used throughout this notebook.\n",
    "\n",
    "### Observations on the basic bar chart\n",
    "\n",
    "This is a straightforward rendering of the bar chart, where we see the number of confirmed cases by region. This is a much better graph compared to matplotlib's basic bar chart. However Altair provides many options to improve over this. Let us take a step by step approach to improve this chart.\n",
    "\n",
    "### Try out the horizontal format?\n",
    "\n",
    "We may be tempted to experiment with a horizontal layout of the graph instead. With `altair` this can be done simply by interchanging the x-axis and y-axis values i.e. put quantitative values on the x-axis and categoricals on the y-axis.\n"
   ]
  },
  {
   "cell_type": "code",
   "execution_count": 4,
   "id": "5627cf50",
   "metadata": {
    "ExecuteTime": {
     "end_time": "2023-02-25T01:14:42.840776Z",
     "start_time": "2023-02-25T01:14:42.794775Z"
    }
   },
   "outputs": [
    {
     "data": {
      "text/html": [
       "\n",
       "<div id=\"altair-viz-dc2f974661ae495e8b7b48efc53992b2\"></div>\n",
       "<script type=\"text/javascript\">\n",
       "  var VEGA_DEBUG = (typeof VEGA_DEBUG == \"undefined\") ? {} : VEGA_DEBUG;\n",
       "  (function(spec, embedOpt){\n",
       "    let outputDiv = document.currentScript.previousElementSibling;\n",
       "    if (outputDiv.id !== \"altair-viz-dc2f974661ae495e8b7b48efc53992b2\") {\n",
       "      outputDiv = document.getElementById(\"altair-viz-dc2f974661ae495e8b7b48efc53992b2\");\n",
       "    }\n",
       "    const paths = {\n",
       "      \"vega\": \"https://cdn.jsdelivr.net/npm//vega@5?noext\",\n",
       "      \"vega-lib\": \"https://cdn.jsdelivr.net/npm//vega-lib?noext\",\n",
       "      \"vega-lite\": \"https://cdn.jsdelivr.net/npm//vega-lite@4.17.0?noext\",\n",
       "      \"vega-embed\": \"https://cdn.jsdelivr.net/npm//vega-embed@6?noext\",\n",
       "    };\n",
       "\n",
       "    function maybeLoadScript(lib, version) {\n",
       "      var key = `${lib.replace(\"-\", \"\")}_version`;\n",
       "      return (VEGA_DEBUG[key] == version) ?\n",
       "        Promise.resolve(paths[lib]) :\n",
       "        new Promise(function(resolve, reject) {\n",
       "          var s = document.createElement('script');\n",
       "          document.getElementsByTagName(\"head\")[0].appendChild(s);\n",
       "          s.async = true;\n",
       "          s.onload = () => {\n",
       "            VEGA_DEBUG[key] = version;\n",
       "            return resolve(paths[lib]);\n",
       "          };\n",
       "          s.onerror = () => reject(`Error loading script: ${paths[lib]}`);\n",
       "          s.src = paths[lib];\n",
       "        });\n",
       "    }\n",
       "\n",
       "    function showError(err) {\n",
       "      outputDiv.innerHTML = `<div class=\"error\" style=\"color:red;\">${err}</div>`;\n",
       "      throw err;\n",
       "    }\n",
       "\n",
       "    function displayChart(vegaEmbed) {\n",
       "      vegaEmbed(outputDiv, spec, embedOpt)\n",
       "        .catch(err => showError(`Javascript Error: ${err.message}<br>This usually means there's a typo in your chart specification. See the javascript console for the full traceback.`));\n",
       "    }\n",
       "\n",
       "    if(typeof define === \"function\" && define.amd) {\n",
       "      requirejs.config({paths});\n",
       "      require([\"vega-embed\"], displayChart, err => showError(`Error loading script: ${err.message}`));\n",
       "    } else {\n",
       "      maybeLoadScript(\"vega\", \"5\")\n",
       "        .then(() => maybeLoadScript(\"vega-lite\", \"4.17.0\"))\n",
       "        .then(() => maybeLoadScript(\"vega-embed\", \"6\"))\n",
       "        .catch(showError)\n",
       "        .then(() => displayChart(vegaEmbed));\n",
       "    }\n",
       "  })({\"config\": {\"view\": {\"continuousWidth\": 400, \"continuousHeight\": 300}}, \"data\": {\"name\": \"data-863ebb4242ba9b5a2bd4e20db4f44d26\"}, \"mark\": \"bar\", \"encoding\": {\"x\": {\"field\": \"Confirmed\", \"type\": \"quantitative\"}, \"y\": {\"field\": \"Region\", \"type\": \"nominal\"}}, \"$schema\": \"https://vega.github.io/schema/vega-lite/v4.17.0.json\", \"datasets\": {\"data-863ebb4242ba9b5a2bd4e20db4f44d26\": [{\"Region\": \"Africa\", \"Confirmed\": 723207, \"Deaths\": 12223, \"Recovered\": 440645, \"Active\": 270339}, {\"Region\": \"Americas\", \"Confirmed\": 8839286, \"Deaths\": 342732, \"Recovered\": 4468616, \"Active\": 4027938}, {\"Region\": \"Eastern Mediterranean\", \"Confirmed\": 1490744, \"Deaths\": 38339, \"Recovered\": 1201400, \"Active\": 251005}, {\"Region\": \"Europe\", \"Confirmed\": 3299523, \"Deaths\": 211144, \"Recovered\": 1993723, \"Active\": 1094656}, {\"Region\": \"South-East Asia\", \"Confirmed\": 1835297, \"Deaths\": 41349, \"Recovered\": 1156933, \"Active\": 637015}, {\"Region\": \"Western Pacific\", \"Confirmed\": 292428, \"Deaths\": 8249, \"Recovered\": 206770, \"Active\": 77409}]}}, {\"mode\": \"vega-lite\"});\n",
       "</script>"
      ],
      "text/plain": [
       "alt.Chart(...)"
      ]
     },
     "execution_count": 4,
     "metadata": {},
     "output_type": "execute_result"
    }
   ],
   "source": [
    "(alt.Chart(data)\n",
    "    .mark_bar()\n",
    "    .encode(\n",
    "            x='Confirmed:Q', # put quantitative values on the x-axis\n",
    "            y='Region:N',\n",
    "           )\n",
    ")"
   ]
  },
  {
   "cell_type": "markdown",
   "id": "2ebc2f0e",
   "metadata": {
    "slideshow": {
     "slide_type": "-"
    }
   },
   "source": [
    "### Customize with encode \n",
    "\n",
    "Each channel can be customized using the **encode channel options**. For example the channel `x` can be encoded using the `alt.X` class with the encode channel options passed as arguments. The encode channel options include:\n",
    "* `field`\n",
    "* `type`\n",
    "* `aggregate`\n",
    "* `title`\n",
    "* `scale` \n",
    "* `sort` etc.\n",
    "\n",
    "For the full list of encode channel options refer : https://altair-viz.github.io/user_guide/encoding.html#encoding-channel-options.\n",
    "\n",
    "### Sorting the bars by size\n",
    "\n",
    "Previously with pandas chart visualizations we had to sort the underlying dataframe before passing it to the plotting function. With `altair` we can specify the sort using a shorthand and pass it as an argument to the relevent axis encoding.\n",
    "\n",
    "`sort = '-x'` is short for `sort = alt.Sort(encoding='x', order='descending')`"
   ]
  },
  {
   "cell_type": "code",
   "execution_count": 5,
   "id": "fdb61f32",
   "metadata": {
    "ExecuteTime": {
     "end_time": "2023-02-25T01:14:42.872783Z",
     "start_time": "2023-02-25T01:14:42.842776Z"
    }
   },
   "outputs": [
    {
     "data": {
      "text/html": [
       "\n",
       "<div id=\"altair-viz-ddcad053b2a5499b8c795755057296a1\"></div>\n",
       "<script type=\"text/javascript\">\n",
       "  var VEGA_DEBUG = (typeof VEGA_DEBUG == \"undefined\") ? {} : VEGA_DEBUG;\n",
       "  (function(spec, embedOpt){\n",
       "    let outputDiv = document.currentScript.previousElementSibling;\n",
       "    if (outputDiv.id !== \"altair-viz-ddcad053b2a5499b8c795755057296a1\") {\n",
       "      outputDiv = document.getElementById(\"altair-viz-ddcad053b2a5499b8c795755057296a1\");\n",
       "    }\n",
       "    const paths = {\n",
       "      \"vega\": \"https://cdn.jsdelivr.net/npm//vega@5?noext\",\n",
       "      \"vega-lib\": \"https://cdn.jsdelivr.net/npm//vega-lib?noext\",\n",
       "      \"vega-lite\": \"https://cdn.jsdelivr.net/npm//vega-lite@4.17.0?noext\",\n",
       "      \"vega-embed\": \"https://cdn.jsdelivr.net/npm//vega-embed@6?noext\",\n",
       "    };\n",
       "\n",
       "    function maybeLoadScript(lib, version) {\n",
       "      var key = `${lib.replace(\"-\", \"\")}_version`;\n",
       "      return (VEGA_DEBUG[key] == version) ?\n",
       "        Promise.resolve(paths[lib]) :\n",
       "        new Promise(function(resolve, reject) {\n",
       "          var s = document.createElement('script');\n",
       "          document.getElementsByTagName(\"head\")[0].appendChild(s);\n",
       "          s.async = true;\n",
       "          s.onload = () => {\n",
       "            VEGA_DEBUG[key] = version;\n",
       "            return resolve(paths[lib]);\n",
       "          };\n",
       "          s.onerror = () => reject(`Error loading script: ${paths[lib]}`);\n",
       "          s.src = paths[lib];\n",
       "        });\n",
       "    }\n",
       "\n",
       "    function showError(err) {\n",
       "      outputDiv.innerHTML = `<div class=\"error\" style=\"color:red;\">${err}</div>`;\n",
       "      throw err;\n",
       "    }\n",
       "\n",
       "    function displayChart(vegaEmbed) {\n",
       "      vegaEmbed(outputDiv, spec, embedOpt)\n",
       "        .catch(err => showError(`Javascript Error: ${err.message}<br>This usually means there's a typo in your chart specification. See the javascript console for the full traceback.`));\n",
       "    }\n",
       "\n",
       "    if(typeof define === \"function\" && define.amd) {\n",
       "      requirejs.config({paths});\n",
       "      require([\"vega-embed\"], displayChart, err => showError(`Error loading script: ${err.message}`));\n",
       "    } else {\n",
       "      maybeLoadScript(\"vega\", \"5\")\n",
       "        .then(() => maybeLoadScript(\"vega-lite\", \"4.17.0\"))\n",
       "        .then(() => maybeLoadScript(\"vega-embed\", \"6\"))\n",
       "        .catch(showError)\n",
       "        .then(() => displayChart(vegaEmbed));\n",
       "    }\n",
       "  })({\"config\": {\"view\": {\"continuousWidth\": 400, \"continuousHeight\": 300}}, \"data\": {\"name\": \"data-863ebb4242ba9b5a2bd4e20db4f44d26\"}, \"mark\": \"bar\", \"encoding\": {\"x\": {\"field\": \"Confirmed\", \"type\": \"quantitative\"}, \"y\": {\"field\": \"Region\", \"sort\": \"-x\", \"type\": \"nominal\"}}, \"$schema\": \"https://vega.github.io/schema/vega-lite/v4.17.0.json\", \"datasets\": {\"data-863ebb4242ba9b5a2bd4e20db4f44d26\": [{\"Region\": \"Africa\", \"Confirmed\": 723207, \"Deaths\": 12223, \"Recovered\": 440645, \"Active\": 270339}, {\"Region\": \"Americas\", \"Confirmed\": 8839286, \"Deaths\": 342732, \"Recovered\": 4468616, \"Active\": 4027938}, {\"Region\": \"Eastern Mediterranean\", \"Confirmed\": 1490744, \"Deaths\": 38339, \"Recovered\": 1201400, \"Active\": 251005}, {\"Region\": \"Europe\", \"Confirmed\": 3299523, \"Deaths\": 211144, \"Recovered\": 1993723, \"Active\": 1094656}, {\"Region\": \"South-East Asia\", \"Confirmed\": 1835297, \"Deaths\": 41349, \"Recovered\": 1156933, \"Active\": 637015}, {\"Region\": \"Western Pacific\", \"Confirmed\": 292428, \"Deaths\": 8249, \"Recovered\": 206770, \"Active\": 77409}]}}, {\"mode\": \"vega-lite\"});\n",
       "</script>"
      ],
      "text/plain": [
       "alt.Chart(...)"
      ]
     },
     "execution_count": 5,
     "metadata": {},
     "output_type": "execute_result"
    }
   ],
   "source": [
    "(alt.Chart(data)\n",
    "    .mark_bar()\n",
    "    .encode(\n",
    "            x='Confirmed:Q', \n",
    "             y=alt.Y(\n",
    "                     'Region:N', \n",
    "                      sort='-x', #sort y-values by x-values in descending order\n",
    "                     ),\n",
    "           )\n",
    ")"
   ]
  },
  {
   "cell_type": "markdown",
   "id": "da63ac97",
   "metadata": {
    "slideshow": {
     "slide_type": "slide"
    }
   },
   "source": [
    "### Resizing the graph\n",
    "\n",
    "The graph looks a bit too small-- perhaps we can set the size of the graph explicitly.\n",
    "\n",
    "The `Chart.properties()` method is used to configure the figure."
   ]
  },
  {
   "cell_type": "code",
   "execution_count": 6,
   "id": "64bfc5c9",
   "metadata": {
    "ExecuteTime": {
     "end_time": "2023-02-25T01:14:42.920803Z",
     "start_time": "2023-02-25T01:14:42.874793Z"
    }
   },
   "outputs": [
    {
     "data": {
      "text/html": [
       "\n",
       "<div id=\"altair-viz-b66bbcf5d76b4af6a9e7f61ce4945b32\"></div>\n",
       "<script type=\"text/javascript\">\n",
       "  var VEGA_DEBUG = (typeof VEGA_DEBUG == \"undefined\") ? {} : VEGA_DEBUG;\n",
       "  (function(spec, embedOpt){\n",
       "    let outputDiv = document.currentScript.previousElementSibling;\n",
       "    if (outputDiv.id !== \"altair-viz-b66bbcf5d76b4af6a9e7f61ce4945b32\") {\n",
       "      outputDiv = document.getElementById(\"altair-viz-b66bbcf5d76b4af6a9e7f61ce4945b32\");\n",
       "    }\n",
       "    const paths = {\n",
       "      \"vega\": \"https://cdn.jsdelivr.net/npm//vega@5?noext\",\n",
       "      \"vega-lib\": \"https://cdn.jsdelivr.net/npm//vega-lib?noext\",\n",
       "      \"vega-lite\": \"https://cdn.jsdelivr.net/npm//vega-lite@4.17.0?noext\",\n",
       "      \"vega-embed\": \"https://cdn.jsdelivr.net/npm//vega-embed@6?noext\",\n",
       "    };\n",
       "\n",
       "    function maybeLoadScript(lib, version) {\n",
       "      var key = `${lib.replace(\"-\", \"\")}_version`;\n",
       "      return (VEGA_DEBUG[key] == version) ?\n",
       "        Promise.resolve(paths[lib]) :\n",
       "        new Promise(function(resolve, reject) {\n",
       "          var s = document.createElement('script');\n",
       "          document.getElementsByTagName(\"head\")[0].appendChild(s);\n",
       "          s.async = true;\n",
       "          s.onload = () => {\n",
       "            VEGA_DEBUG[key] = version;\n",
       "            return resolve(paths[lib]);\n",
       "          };\n",
       "          s.onerror = () => reject(`Error loading script: ${paths[lib]}`);\n",
       "          s.src = paths[lib];\n",
       "        });\n",
       "    }\n",
       "\n",
       "    function showError(err) {\n",
       "      outputDiv.innerHTML = `<div class=\"error\" style=\"color:red;\">${err}</div>`;\n",
       "      throw err;\n",
       "    }\n",
       "\n",
       "    function displayChart(vegaEmbed) {\n",
       "      vegaEmbed(outputDiv, spec, embedOpt)\n",
       "        .catch(err => showError(`Javascript Error: ${err.message}<br>This usually means there's a typo in your chart specification. See the javascript console for the full traceback.`));\n",
       "    }\n",
       "\n",
       "    if(typeof define === \"function\" && define.amd) {\n",
       "      requirejs.config({paths});\n",
       "      require([\"vega-embed\"], displayChart, err => showError(`Error loading script: ${err.message}`));\n",
       "    } else {\n",
       "      maybeLoadScript(\"vega\", \"5\")\n",
       "        .then(() => maybeLoadScript(\"vega-lite\", \"4.17.0\"))\n",
       "        .then(() => maybeLoadScript(\"vega-embed\", \"6\"))\n",
       "        .catch(showError)\n",
       "        .then(() => displayChart(vegaEmbed));\n",
       "    }\n",
       "  })({\"config\": {\"view\": {\"continuousWidth\": 400, \"continuousHeight\": 300}}, \"data\": {\"name\": \"data-863ebb4242ba9b5a2bd4e20db4f44d26\"}, \"mark\": \"bar\", \"encoding\": {\"x\": {\"field\": \"Confirmed\", \"type\": \"quantitative\"}, \"y\": {\"field\": \"Region\", \"sort\": \"-x\", \"type\": \"nominal\"}}, \"height\": 400, \"width\": 800, \"$schema\": \"https://vega.github.io/schema/vega-lite/v4.17.0.json\", \"datasets\": {\"data-863ebb4242ba9b5a2bd4e20db4f44d26\": [{\"Region\": \"Africa\", \"Confirmed\": 723207, \"Deaths\": 12223, \"Recovered\": 440645, \"Active\": 270339}, {\"Region\": \"Americas\", \"Confirmed\": 8839286, \"Deaths\": 342732, \"Recovered\": 4468616, \"Active\": 4027938}, {\"Region\": \"Eastern Mediterranean\", \"Confirmed\": 1490744, \"Deaths\": 38339, \"Recovered\": 1201400, \"Active\": 251005}, {\"Region\": \"Europe\", \"Confirmed\": 3299523, \"Deaths\": 211144, \"Recovered\": 1993723, \"Active\": 1094656}, {\"Region\": \"South-East Asia\", \"Confirmed\": 1835297, \"Deaths\": 41349, \"Recovered\": 1156933, \"Active\": 637015}, {\"Region\": \"Western Pacific\", \"Confirmed\": 292428, \"Deaths\": 8249, \"Recovered\": 206770, \"Active\": 77409}]}}, {\"mode\": \"vega-lite\"});\n",
       "</script>"
      ],
      "text/plain": [
       "alt.Chart(...)"
      ]
     },
     "execution_count": 6,
     "metadata": {},
     "output_type": "execute_result"
    }
   ],
   "source": [
    "(alt.Chart(data)\n",
    "    .mark_bar()\n",
    "    .encode(\n",
    "            x='Confirmed:Q',                \n",
    "            y=alt.Y('Region:N', sort='-x'), \n",
    "           )\n",
    "    .properties(\n",
    "                width=800,         #set the width of the figure\n",
    "                height=400,        #set the height of the figure\n",
    "               )\n",
    ")"
   ]
  },
  {
   "cell_type": "markdown",
   "id": "21b3b370",
   "metadata": {},
   "source": [
    "### Set a title to the figure\n",
    "\n",
    "Unless there is a reason to, we should always specify a title to our figures. The title of the figure is specified using the `Chart.properties()` method"
   ]
  },
  {
   "cell_type": "code",
   "execution_count": 7,
   "id": "186e57e4",
   "metadata": {
    "ExecuteTime": {
     "end_time": "2023-02-25T01:14:42.968805Z",
     "start_time": "2023-02-25T01:14:42.922803Z"
    }
   },
   "outputs": [
    {
     "data": {
      "text/html": [
       "\n",
       "<div id=\"altair-viz-917a9bd1584e4c3da91f5fd03283e1b1\"></div>\n",
       "<script type=\"text/javascript\">\n",
       "  var VEGA_DEBUG = (typeof VEGA_DEBUG == \"undefined\") ? {} : VEGA_DEBUG;\n",
       "  (function(spec, embedOpt){\n",
       "    let outputDiv = document.currentScript.previousElementSibling;\n",
       "    if (outputDiv.id !== \"altair-viz-917a9bd1584e4c3da91f5fd03283e1b1\") {\n",
       "      outputDiv = document.getElementById(\"altair-viz-917a9bd1584e4c3da91f5fd03283e1b1\");\n",
       "    }\n",
       "    const paths = {\n",
       "      \"vega\": \"https://cdn.jsdelivr.net/npm//vega@5?noext\",\n",
       "      \"vega-lib\": \"https://cdn.jsdelivr.net/npm//vega-lib?noext\",\n",
       "      \"vega-lite\": \"https://cdn.jsdelivr.net/npm//vega-lite@4.17.0?noext\",\n",
       "      \"vega-embed\": \"https://cdn.jsdelivr.net/npm//vega-embed@6?noext\",\n",
       "    };\n",
       "\n",
       "    function maybeLoadScript(lib, version) {\n",
       "      var key = `${lib.replace(\"-\", \"\")}_version`;\n",
       "      return (VEGA_DEBUG[key] == version) ?\n",
       "        Promise.resolve(paths[lib]) :\n",
       "        new Promise(function(resolve, reject) {\n",
       "          var s = document.createElement('script');\n",
       "          document.getElementsByTagName(\"head\")[0].appendChild(s);\n",
       "          s.async = true;\n",
       "          s.onload = () => {\n",
       "            VEGA_DEBUG[key] = version;\n",
       "            return resolve(paths[lib]);\n",
       "          };\n",
       "          s.onerror = () => reject(`Error loading script: ${paths[lib]}`);\n",
       "          s.src = paths[lib];\n",
       "        });\n",
       "    }\n",
       "\n",
       "    function showError(err) {\n",
       "      outputDiv.innerHTML = `<div class=\"error\" style=\"color:red;\">${err}</div>`;\n",
       "      throw err;\n",
       "    }\n",
       "\n",
       "    function displayChart(vegaEmbed) {\n",
       "      vegaEmbed(outputDiv, spec, embedOpt)\n",
       "        .catch(err => showError(`Javascript Error: ${err.message}<br>This usually means there's a typo in your chart specification. See the javascript console for the full traceback.`));\n",
       "    }\n",
       "\n",
       "    if(typeof define === \"function\" && define.amd) {\n",
       "      requirejs.config({paths});\n",
       "      require([\"vega-embed\"], displayChart, err => showError(`Error loading script: ${err.message}`));\n",
       "    } else {\n",
       "      maybeLoadScript(\"vega\", \"5\")\n",
       "        .then(() => maybeLoadScript(\"vega-lite\", \"4.17.0\"))\n",
       "        .then(() => maybeLoadScript(\"vega-embed\", \"6\"))\n",
       "        .catch(showError)\n",
       "        .then(() => displayChart(vegaEmbed));\n",
       "    }\n",
       "  })({\"config\": {\"view\": {\"continuousWidth\": 400, \"continuousHeight\": 300}}, \"data\": {\"name\": \"data-863ebb4242ba9b5a2bd4e20db4f44d26\"}, \"mark\": \"bar\", \"encoding\": {\"x\": {\"field\": \"Confirmed\", \"type\": \"quantitative\"}, \"y\": {\"field\": \"Region\", \"sort\": \"-x\", \"type\": \"nominal\"}}, \"height\": 400, \"title\": \"Confirmed COVID-19 cases by UN region\", \"width\": 800, \"$schema\": \"https://vega.github.io/schema/vega-lite/v4.17.0.json\", \"datasets\": {\"data-863ebb4242ba9b5a2bd4e20db4f44d26\": [{\"Region\": \"Africa\", \"Confirmed\": 723207, \"Deaths\": 12223, \"Recovered\": 440645, \"Active\": 270339}, {\"Region\": \"Americas\", \"Confirmed\": 8839286, \"Deaths\": 342732, \"Recovered\": 4468616, \"Active\": 4027938}, {\"Region\": \"Eastern Mediterranean\", \"Confirmed\": 1490744, \"Deaths\": 38339, \"Recovered\": 1201400, \"Active\": 251005}, {\"Region\": \"Europe\", \"Confirmed\": 3299523, \"Deaths\": 211144, \"Recovered\": 1993723, \"Active\": 1094656}, {\"Region\": \"South-East Asia\", \"Confirmed\": 1835297, \"Deaths\": 41349, \"Recovered\": 1156933, \"Active\": 637015}, {\"Region\": \"Western Pacific\", \"Confirmed\": 292428, \"Deaths\": 8249, \"Recovered\": 206770, \"Active\": 77409}]}}, {\"mode\": \"vega-lite\"});\n",
       "</script>"
      ],
      "text/plain": [
       "alt.Chart(...)"
      ]
     },
     "execution_count": 7,
     "metadata": {},
     "output_type": "execute_result"
    }
   ],
   "source": [
    "(alt.Chart(data)\n",
    "    .mark_bar()\n",
    "    .encode(\n",
    "            x='Confirmed:Q',               \n",
    "            y=alt.Y('Region:N', sort='-x'), \n",
    "            )\n",
    "    .properties(\n",
    "                width=800,\n",
    "                height=400,\n",
    "                title='Confirmed COVID-19 cases by UN region', # set the title of the figure\n",
    "                )\n",
    ")\n"
   ]
  },
  {
   "cell_type": "markdown",
   "id": "0211ca90",
   "metadata": {},
   "source": [
    "### Customize the x-axis label"
   ]
  },
  {
   "cell_type": "code",
   "execution_count": 8,
   "id": "b4f02a3d",
   "metadata": {
    "ExecuteTime": {
     "end_time": "2023-02-25T01:14:43.014814Z",
     "start_time": "2023-02-25T01:14:42.970805Z"
    }
   },
   "outputs": [
    {
     "data": {
      "text/html": [
       "\n",
       "<div id=\"altair-viz-f02f2544fab34b168e0ec4072184f9e6\"></div>\n",
       "<script type=\"text/javascript\">\n",
       "  var VEGA_DEBUG = (typeof VEGA_DEBUG == \"undefined\") ? {} : VEGA_DEBUG;\n",
       "  (function(spec, embedOpt){\n",
       "    let outputDiv = document.currentScript.previousElementSibling;\n",
       "    if (outputDiv.id !== \"altair-viz-f02f2544fab34b168e0ec4072184f9e6\") {\n",
       "      outputDiv = document.getElementById(\"altair-viz-f02f2544fab34b168e0ec4072184f9e6\");\n",
       "    }\n",
       "    const paths = {\n",
       "      \"vega\": \"https://cdn.jsdelivr.net/npm//vega@5?noext\",\n",
       "      \"vega-lib\": \"https://cdn.jsdelivr.net/npm//vega-lib?noext\",\n",
       "      \"vega-lite\": \"https://cdn.jsdelivr.net/npm//vega-lite@4.17.0?noext\",\n",
       "      \"vega-embed\": \"https://cdn.jsdelivr.net/npm//vega-embed@6?noext\",\n",
       "    };\n",
       "\n",
       "    function maybeLoadScript(lib, version) {\n",
       "      var key = `${lib.replace(\"-\", \"\")}_version`;\n",
       "      return (VEGA_DEBUG[key] == version) ?\n",
       "        Promise.resolve(paths[lib]) :\n",
       "        new Promise(function(resolve, reject) {\n",
       "          var s = document.createElement('script');\n",
       "          document.getElementsByTagName(\"head\")[0].appendChild(s);\n",
       "          s.async = true;\n",
       "          s.onload = () => {\n",
       "            VEGA_DEBUG[key] = version;\n",
       "            return resolve(paths[lib]);\n",
       "          };\n",
       "          s.onerror = () => reject(`Error loading script: ${paths[lib]}`);\n",
       "          s.src = paths[lib];\n",
       "        });\n",
       "    }\n",
       "\n",
       "    function showError(err) {\n",
       "      outputDiv.innerHTML = `<div class=\"error\" style=\"color:red;\">${err}</div>`;\n",
       "      throw err;\n",
       "    }\n",
       "\n",
       "    function displayChart(vegaEmbed) {\n",
       "      vegaEmbed(outputDiv, spec, embedOpt)\n",
       "        .catch(err => showError(`Javascript Error: ${err.message}<br>This usually means there's a typo in your chart specification. See the javascript console for the full traceback.`));\n",
       "    }\n",
       "\n",
       "    if(typeof define === \"function\" && define.amd) {\n",
       "      requirejs.config({paths});\n",
       "      require([\"vega-embed\"], displayChart, err => showError(`Error loading script: ${err.message}`));\n",
       "    } else {\n",
       "      maybeLoadScript(\"vega\", \"5\")\n",
       "        .then(() => maybeLoadScript(\"vega-lite\", \"4.17.0\"))\n",
       "        .then(() => maybeLoadScript(\"vega-embed\", \"6\"))\n",
       "        .catch(showError)\n",
       "        .then(() => displayChart(vegaEmbed));\n",
       "    }\n",
       "  })({\"config\": {\"view\": {\"continuousWidth\": 400, \"continuousHeight\": 300}}, \"data\": {\"name\": \"data-863ebb4242ba9b5a2bd4e20db4f44d26\"}, \"mark\": \"bar\", \"encoding\": {\"x\": {\"axis\": {\"title\": \"Confirmed covid cases\"}, \"field\": \"Confirmed\", \"type\": \"quantitative\"}, \"y\": {\"field\": \"Region\", \"sort\": \"-x\", \"type\": \"nominal\"}}, \"height\": 400, \"title\": \"Confirmed COVID-19 cases by UN region\", \"width\": 800, \"$schema\": \"https://vega.github.io/schema/vega-lite/v4.17.0.json\", \"datasets\": {\"data-863ebb4242ba9b5a2bd4e20db4f44d26\": [{\"Region\": \"Africa\", \"Confirmed\": 723207, \"Deaths\": 12223, \"Recovered\": 440645, \"Active\": 270339}, {\"Region\": \"Americas\", \"Confirmed\": 8839286, \"Deaths\": 342732, \"Recovered\": 4468616, \"Active\": 4027938}, {\"Region\": \"Eastern Mediterranean\", \"Confirmed\": 1490744, \"Deaths\": 38339, \"Recovered\": 1201400, \"Active\": 251005}, {\"Region\": \"Europe\", \"Confirmed\": 3299523, \"Deaths\": 211144, \"Recovered\": 1993723, \"Active\": 1094656}, {\"Region\": \"South-East Asia\", \"Confirmed\": 1835297, \"Deaths\": 41349, \"Recovered\": 1156933, \"Active\": 637015}, {\"Region\": \"Western Pacific\", \"Confirmed\": 292428, \"Deaths\": 8249, \"Recovered\": 206770, \"Active\": 77409}]}}, {\"mode\": \"vega-lite\"});\n",
       "</script>"
      ],
      "text/plain": [
       "alt.Chart(...)"
      ]
     },
     "execution_count": 8,
     "metadata": {},
     "output_type": "execute_result"
    }
   ],
   "source": [
    "(alt.Chart(data)\n",
    "    .mark_bar()\n",
    "    .encode(\n",
    "            x=alt.X(\n",
    "                    'Confirmed:Q',\n",
    "                    axis=alt.Axis(title='Confirmed covid cases') # set the x-axis label\n",
    "                    ),               \n",
    "            y=alt.Y('Region:N', sort='-x'), \n",
    "            )\n",
    "    .properties(\n",
    "                width=800,\n",
    "                height=400,\n",
    "                title='Confirmed COVID-19 cases by UN region', \n",
    "                )\n",
    ")"
   ]
  },
  {
   "cell_type": "markdown",
   "id": "d7fee944",
   "metadata": {},
   "source": [
    "### Adding the values explicitly to the bars\n",
    "\n",
    "Sometimes, to explain vital parts of the data, it may desirable to draw attention to a few facts. Perhaps the values are not quite easy to infer accurately in the figure above. To help the reader,let us add text adjacent to each bar. It can be done by layering separate charts for the text over the base chart. Text charts are created using the `Chart.mark_text()` method. \n",
    "\n",
    "We intend to reuse `data`, `x` and `y` encoding of the bar chart: `bar` for the text chart as well. Therefore we use `bar.mark_text()` to create the text chart which utilizes the encodings and the data of `bar`. We pass the mark properties to the `mark_text()` method and encode the text values with the data column `Confirmed`  \n",
    "\n",
    "Let us run the following cell to see what happens.\n"
   ]
  },
  {
   "cell_type": "code",
   "execution_count": 9,
   "id": "5245624e",
   "metadata": {
    "ExecuteTime": {
     "end_time": "2023-02-25T01:14:43.046823Z",
     "start_time": "2023-02-25T01:14:43.016815Z"
    }
   },
   "outputs": [],
   "source": [
    "bar = (alt.Chart(data)\n",
    "          .mark_bar()\n",
    "          .encode(\n",
    "                  x=alt.X(\n",
    "                          'Confirmed', \n",
    "                           axis=alt.Axis(title='Confirmed covid cases') # customize x-axis label\n",
    "                         ), \n",
    "                  y=alt.Y('Region', sort='-x'),\n",
    "                 )\n",
    "      )\n",
    "\n",
    "\n",
    "text = (bar.mark_text(\n",
    "                      align='left',\n",
    "                      baseline='middle',\n",
    "                      dx=3,  # move text to right of the x and y position so it doesn't overlap with the top of the bar\n",
    "                      fontWeight='bold',\n",
    "                      color='salmon',\n",
    "                     )\n",
    "           .encode(text='Confirmed:Q') # encode text to the data column 'Confirmed' of type 'quantitative'\n",
    "       )\n"
   ]
  },
  {
   "cell_type": "markdown",
   "id": "82a23030",
   "metadata": {},
   "source": [
    "Neither `bar` nor `text` is rendered! This is because  we are yet to compose these charts to form a compound plot style.\n",
    "\n",
    "#### Compound charts\n",
    "\n",
    "Charts can be vertically concatenated using `&` and horizontally concatenated using `|`. Charts can be layered on top of each other using `+`. \n",
    "\n",
    "Here we layer the bar and text chart using `(bar + text)`"
   ]
  },
  {
   "cell_type": "code",
   "execution_count": 10,
   "id": "23677e07",
   "metadata": {
    "ExecuteTime": {
     "end_time": "2023-02-25T01:14:43.126853Z",
     "start_time": "2023-02-25T01:14:43.048823Z"
    }
   },
   "outputs": [
    {
     "data": {
      "text/html": [
       "\n",
       "<div id=\"altair-viz-ed5f3503abc042549661f406cfe56cec\"></div>\n",
       "<script type=\"text/javascript\">\n",
       "  var VEGA_DEBUG = (typeof VEGA_DEBUG == \"undefined\") ? {} : VEGA_DEBUG;\n",
       "  (function(spec, embedOpt){\n",
       "    let outputDiv = document.currentScript.previousElementSibling;\n",
       "    if (outputDiv.id !== \"altair-viz-ed5f3503abc042549661f406cfe56cec\") {\n",
       "      outputDiv = document.getElementById(\"altair-viz-ed5f3503abc042549661f406cfe56cec\");\n",
       "    }\n",
       "    const paths = {\n",
       "      \"vega\": \"https://cdn.jsdelivr.net/npm//vega@5?noext\",\n",
       "      \"vega-lib\": \"https://cdn.jsdelivr.net/npm//vega-lib?noext\",\n",
       "      \"vega-lite\": \"https://cdn.jsdelivr.net/npm//vega-lite@4.17.0?noext\",\n",
       "      \"vega-embed\": \"https://cdn.jsdelivr.net/npm//vega-embed@6?noext\",\n",
       "    };\n",
       "\n",
       "    function maybeLoadScript(lib, version) {\n",
       "      var key = `${lib.replace(\"-\", \"\")}_version`;\n",
       "      return (VEGA_DEBUG[key] == version) ?\n",
       "        Promise.resolve(paths[lib]) :\n",
       "        new Promise(function(resolve, reject) {\n",
       "          var s = document.createElement('script');\n",
       "          document.getElementsByTagName(\"head\")[0].appendChild(s);\n",
       "          s.async = true;\n",
       "          s.onload = () => {\n",
       "            VEGA_DEBUG[key] = version;\n",
       "            return resolve(paths[lib]);\n",
       "          };\n",
       "          s.onerror = () => reject(`Error loading script: ${paths[lib]}`);\n",
       "          s.src = paths[lib];\n",
       "        });\n",
       "    }\n",
       "\n",
       "    function showError(err) {\n",
       "      outputDiv.innerHTML = `<div class=\"error\" style=\"color:red;\">${err}</div>`;\n",
       "      throw err;\n",
       "    }\n",
       "\n",
       "    function displayChart(vegaEmbed) {\n",
       "      vegaEmbed(outputDiv, spec, embedOpt)\n",
       "        .catch(err => showError(`Javascript Error: ${err.message}<br>This usually means there's a typo in your chart specification. See the javascript console for the full traceback.`));\n",
       "    }\n",
       "\n",
       "    if(typeof define === \"function\" && define.amd) {\n",
       "      requirejs.config({paths});\n",
       "      require([\"vega-embed\"], displayChart, err => showError(`Error loading script: ${err.message}`));\n",
       "    } else {\n",
       "      maybeLoadScript(\"vega\", \"5\")\n",
       "        .then(() => maybeLoadScript(\"vega-lite\", \"4.17.0\"))\n",
       "        .then(() => maybeLoadScript(\"vega-embed\", \"6\"))\n",
       "        .catch(showError)\n",
       "        .then(() => displayChart(vegaEmbed));\n",
       "    }\n",
       "  })({\"config\": {\"view\": {\"continuousWidth\": 400, \"continuousHeight\": 300}}, \"layer\": [{\"mark\": \"bar\", \"encoding\": {\"x\": {\"axis\": {\"title\": \"Confirmed covid cases\"}, \"field\": \"Confirmed\", \"type\": \"quantitative\"}, \"y\": {\"field\": \"Region\", \"sort\": \"-x\", \"type\": \"nominal\"}}}, {\"mark\": {\"type\": \"text\", \"align\": \"left\", \"baseline\": \"middle\", \"color\": \"salmon\", \"dx\": 3, \"fontWeight\": \"bold\"}, \"encoding\": {\"text\": {\"field\": \"Confirmed\", \"type\": \"quantitative\"}, \"x\": {\"axis\": {\"title\": \"Confirmed covid cases\"}, \"field\": \"Confirmed\", \"type\": \"quantitative\"}, \"y\": {\"field\": \"Region\", \"sort\": \"-x\", \"type\": \"nominal\"}}}], \"data\": {\"name\": \"data-863ebb4242ba9b5a2bd4e20db4f44d26\"}, \"height\": 400, \"title\": \"Confirmed COVID-19 cases by UN region\", \"width\": 800, \"$schema\": \"https://vega.github.io/schema/vega-lite/v4.17.0.json\", \"datasets\": {\"data-863ebb4242ba9b5a2bd4e20db4f44d26\": [{\"Region\": \"Africa\", \"Confirmed\": 723207, \"Deaths\": 12223, \"Recovered\": 440645, \"Active\": 270339}, {\"Region\": \"Americas\", \"Confirmed\": 8839286, \"Deaths\": 342732, \"Recovered\": 4468616, \"Active\": 4027938}, {\"Region\": \"Eastern Mediterranean\", \"Confirmed\": 1490744, \"Deaths\": 38339, \"Recovered\": 1201400, \"Active\": 251005}, {\"Region\": \"Europe\", \"Confirmed\": 3299523, \"Deaths\": 211144, \"Recovered\": 1993723, \"Active\": 1094656}, {\"Region\": \"South-East Asia\", \"Confirmed\": 1835297, \"Deaths\": 41349, \"Recovered\": 1156933, \"Active\": 637015}, {\"Region\": \"Western Pacific\", \"Confirmed\": 292428, \"Deaths\": 8249, \"Recovered\": 206770, \"Active\": 77409}]}}, {\"mode\": \"vega-lite\"});\n",
       "</script>"
      ],
      "text/plain": [
       "alt.LayerChart(...)"
      ]
     },
     "execution_count": 10,
     "metadata": {},
     "output_type": "execute_result"
    }
   ],
   "source": [
    "bar = (alt.Chart(data)\n",
    "          .mark_bar()\n",
    "          .encode(\n",
    "                  x=alt.X(\n",
    "                          'Confirmed', \n",
    "                           axis=alt.Axis(title='Confirmed covid cases') # customize x-axis label\n",
    "                         ), \n",
    "                  y=alt.Y('Region', sort='-x'),\n",
    "                 )\n",
    "      )\n",
    "\n",
    "\n",
    "text = (bar.mark_text(\n",
    "                      align='left',\n",
    "                      baseline='middle',\n",
    "                      dx=3, \n",
    "                      fontWeight='bold',\n",
    "                      color='salmon',\n",
    "                     )\n",
    "           .encode(text='Confirmed:Q')\n",
    "       )\n",
    "\n",
    "\n",
    "(bar+text).properties(                        # layer charts\n",
    "                      width=800,\n",
    "                      height=400,\n",
    "                      title='Confirmed COVID-19 cases by UN region',\n",
    "                     )"
   ]
  },
  {
   "cell_type": "markdown",
   "id": "6cba5ef8",
   "metadata": {},
   "source": [
    "## Multi-bars\n",
    "\n",
    "How would we plot not just the feature `Confirmed` but also, say, `Deaths` in the same bar-plot? Similar to layering a text chart over the bar chart, we can layer two bar charts over one another as shown below."
   ]
  },
  {
   "cell_type": "code",
   "execution_count": 11,
   "id": "3f3f2e67",
   "metadata": {
    "ExecuteTime": {
     "end_time": "2023-02-25T01:14:43.190855Z",
     "start_time": "2023-02-25T01:14:43.128869Z"
    }
   },
   "outputs": [
    {
     "data": {
      "text/html": [
       "\n",
       "<div id=\"altair-viz-3039caf47f4942fb9595977489f07c7d\"></div>\n",
       "<script type=\"text/javascript\">\n",
       "  var VEGA_DEBUG = (typeof VEGA_DEBUG == \"undefined\") ? {} : VEGA_DEBUG;\n",
       "  (function(spec, embedOpt){\n",
       "    let outputDiv = document.currentScript.previousElementSibling;\n",
       "    if (outputDiv.id !== \"altair-viz-3039caf47f4942fb9595977489f07c7d\") {\n",
       "      outputDiv = document.getElementById(\"altair-viz-3039caf47f4942fb9595977489f07c7d\");\n",
       "    }\n",
       "    const paths = {\n",
       "      \"vega\": \"https://cdn.jsdelivr.net/npm//vega@5?noext\",\n",
       "      \"vega-lib\": \"https://cdn.jsdelivr.net/npm//vega-lib?noext\",\n",
       "      \"vega-lite\": \"https://cdn.jsdelivr.net/npm//vega-lite@4.17.0?noext\",\n",
       "      \"vega-embed\": \"https://cdn.jsdelivr.net/npm//vega-embed@6?noext\",\n",
       "    };\n",
       "\n",
       "    function maybeLoadScript(lib, version) {\n",
       "      var key = `${lib.replace(\"-\", \"\")}_version`;\n",
       "      return (VEGA_DEBUG[key] == version) ?\n",
       "        Promise.resolve(paths[lib]) :\n",
       "        new Promise(function(resolve, reject) {\n",
       "          var s = document.createElement('script');\n",
       "          document.getElementsByTagName(\"head\")[0].appendChild(s);\n",
       "          s.async = true;\n",
       "          s.onload = () => {\n",
       "            VEGA_DEBUG[key] = version;\n",
       "            return resolve(paths[lib]);\n",
       "          };\n",
       "          s.onerror = () => reject(`Error loading script: ${paths[lib]}`);\n",
       "          s.src = paths[lib];\n",
       "        });\n",
       "    }\n",
       "\n",
       "    function showError(err) {\n",
       "      outputDiv.innerHTML = `<div class=\"error\" style=\"color:red;\">${err}</div>`;\n",
       "      throw err;\n",
       "    }\n",
       "\n",
       "    function displayChart(vegaEmbed) {\n",
       "      vegaEmbed(outputDiv, spec, embedOpt)\n",
       "        .catch(err => showError(`Javascript Error: ${err.message}<br>This usually means there's a typo in your chart specification. See the javascript console for the full traceback.`));\n",
       "    }\n",
       "\n",
       "    if(typeof define === \"function\" && define.amd) {\n",
       "      requirejs.config({paths});\n",
       "      require([\"vega-embed\"], displayChart, err => showError(`Error loading script: ${err.message}`));\n",
       "    } else {\n",
       "      maybeLoadScript(\"vega\", \"5\")\n",
       "        .then(() => maybeLoadScript(\"vega-lite\", \"4.17.0\"))\n",
       "        .then(() => maybeLoadScript(\"vega-embed\", \"6\"))\n",
       "        .catch(showError)\n",
       "        .then(() => displayChart(vegaEmbed));\n",
       "    }\n",
       "  })({\"config\": {\"view\": {\"continuousWidth\": 400, \"continuousHeight\": 300}}, \"layer\": [{\"mark\": \"bar\", \"encoding\": {\"x\": {\"axis\": {\"title\": \"Confirmed covid cases\"}, \"field\": \"Confirmed\", \"type\": \"quantitative\"}, \"y\": {\"field\": \"Region\", \"type\": \"nominal\"}}}, {\"mark\": {\"type\": \"bar\", \"color\": \"#e76f51\"}, \"encoding\": {\"x\": {\"axis\": {\"title\": \"Deaths\"}, \"field\": \"Deaths\", \"type\": \"quantitative\"}, \"y\": {\"field\": \"Region\", \"type\": \"nominal\"}}}], \"data\": {\"name\": \"data-863ebb4242ba9b5a2bd4e20db4f44d26\"}, \"height\": 400, \"title\": \"COVID-19 Confirmed cases vs Deaths by UN region\", \"width\": 800, \"$schema\": \"https://vega.github.io/schema/vega-lite/v4.17.0.json\", \"datasets\": {\"data-863ebb4242ba9b5a2bd4e20db4f44d26\": [{\"Region\": \"Africa\", \"Confirmed\": 723207, \"Deaths\": 12223, \"Recovered\": 440645, \"Active\": 270339}, {\"Region\": \"Americas\", \"Confirmed\": 8839286, \"Deaths\": 342732, \"Recovered\": 4468616, \"Active\": 4027938}, {\"Region\": \"Eastern Mediterranean\", \"Confirmed\": 1490744, \"Deaths\": 38339, \"Recovered\": 1201400, \"Active\": 251005}, {\"Region\": \"Europe\", \"Confirmed\": 3299523, \"Deaths\": 211144, \"Recovered\": 1993723, \"Active\": 1094656}, {\"Region\": \"South-East Asia\", \"Confirmed\": 1835297, \"Deaths\": 41349, \"Recovered\": 1156933, \"Active\": 637015}, {\"Region\": \"Western Pacific\", \"Confirmed\": 292428, \"Deaths\": 8249, \"Recovered\": 206770, \"Active\": 77409}]}}, {\"mode\": \"vega-lite\"});\n",
       "</script>"
      ],
      "text/plain": [
       "alt.LayerChart(...)"
      ]
     },
     "execution_count": 11,
     "metadata": {},
     "output_type": "execute_result"
    }
   ],
   "source": [
    "confirmed = (alt.Chart(data)\n",
    "          .mark_bar()\n",
    "          .encode(\n",
    "                  x=alt.X(\n",
    "                          'Confirmed', \n",
    "                           axis=alt.Axis(title='Confirmed covid cases') \n",
    "                         ), \n",
    "                  y=alt.Y('Region'),\n",
    "                 )\n",
    "      )\n",
    "\n",
    "deaths = (alt.Chart(data)\n",
    "          .mark_bar(color='#e76f51')                                   \n",
    "          .encode(\n",
    "                  x=alt.X(\n",
    "                          'Deaths', \n",
    "                           axis=alt.Axis(title='Deaths') \n",
    "                         ), \n",
    "                  y=alt.Y('Region'),\n",
    "                 )\n",
    "      )\n",
    "\n",
    "\n",
    "(confirmed + deaths).properties(\n",
    "                      width=800,\n",
    "                      height=400,\n",
    "                      title='COVID-19 Confirmed cases vs Deaths by UN region',\n",
    "                     )"
   ]
  },
  {
   "cell_type": "markdown",
   "id": "c13afb36",
   "metadata": {},
   "source": [
    "Layering charts does have a disadvantage because it is not possible to add custom legends without encoding. Also, layering many charts become quite tedious. We will look at a simple and efficient method next.\n",
    "\n",
    "## Stacked bar chart\n",
    "\n",
    "This is a variant of the bar chart where the bars are stacked on top of each other. Let us create a stacked bar chart to show the different case types: `Recovered`, `Active`, and `Deaths`\n",
    "\n",
    "The dataset at present is in **wide-form**, i.e. each row contains one independent variable. In our dataset each `region` has its own row and the case status types: `Recovered`, `Active`, and `Deaths` are in separate columns. To create a stacked bar chart we would need to create separate charts for each column and layer them on top of one another as we did previously. However there is a much easier and simpler way to do this. We will need to transform the data to long-form.\n",
    "\n",
    "`altair` works best with **long-form** data. To learn about long-form and wide-form data refer: https://altair-viz.github.io/user_guide/data.html#long-form-vs-wide-form-data \n",
    "\n",
    "### Using transform fold\n",
    "\n",
    "To create a stacked bar chart with `Recovered`, `Active`, and `Deaths` we must transform these columns to two columns : `case status` and `case count`, either using altair's `transform_fold()` method or with `pandas.melt()`. Here let us learn to  use `transform_fold()`\n",
    "\n",
    "`transform_fold()` takes two arguments: \n",
    "* `fold` : the columns to fold/(melt) \n",
    "* `as_` : the names of the two new columns (default being `['key', 'value']`)\n",
    "\n",
    "Once transformed these new columns `key` and `value` can be used for encoding"
   ]
  },
  {
   "cell_type": "code",
   "execution_count": 12,
   "id": "acef9b0e",
   "metadata": {
    "ExecuteTime": {
     "end_time": "2023-02-25T01:14:43.252152Z",
     "start_time": "2023-02-25T01:14:43.195865Z"
    }
   },
   "outputs": [
    {
     "data": {
      "text/html": [
       "\n",
       "<div id=\"altair-viz-d73cdf61ae684604bd3925f1cf7c22d3\"></div>\n",
       "<script type=\"text/javascript\">\n",
       "  var VEGA_DEBUG = (typeof VEGA_DEBUG == \"undefined\") ? {} : VEGA_DEBUG;\n",
       "  (function(spec, embedOpt){\n",
       "    let outputDiv = document.currentScript.previousElementSibling;\n",
       "    if (outputDiv.id !== \"altair-viz-d73cdf61ae684604bd3925f1cf7c22d3\") {\n",
       "      outputDiv = document.getElementById(\"altair-viz-d73cdf61ae684604bd3925f1cf7c22d3\");\n",
       "    }\n",
       "    const paths = {\n",
       "      \"vega\": \"https://cdn.jsdelivr.net/npm//vega@5?noext\",\n",
       "      \"vega-lib\": \"https://cdn.jsdelivr.net/npm//vega-lib?noext\",\n",
       "      \"vega-lite\": \"https://cdn.jsdelivr.net/npm//vega-lite@4.17.0?noext\",\n",
       "      \"vega-embed\": \"https://cdn.jsdelivr.net/npm//vega-embed@6?noext\",\n",
       "    };\n",
       "\n",
       "    function maybeLoadScript(lib, version) {\n",
       "      var key = `${lib.replace(\"-\", \"\")}_version`;\n",
       "      return (VEGA_DEBUG[key] == version) ?\n",
       "        Promise.resolve(paths[lib]) :\n",
       "        new Promise(function(resolve, reject) {\n",
       "          var s = document.createElement('script');\n",
       "          document.getElementsByTagName(\"head\")[0].appendChild(s);\n",
       "          s.async = true;\n",
       "          s.onload = () => {\n",
       "            VEGA_DEBUG[key] = version;\n",
       "            return resolve(paths[lib]);\n",
       "          };\n",
       "          s.onerror = () => reject(`Error loading script: ${paths[lib]}`);\n",
       "          s.src = paths[lib];\n",
       "        });\n",
       "    }\n",
       "\n",
       "    function showError(err) {\n",
       "      outputDiv.innerHTML = `<div class=\"error\" style=\"color:red;\">${err}</div>`;\n",
       "      throw err;\n",
       "    }\n",
       "\n",
       "    function displayChart(vegaEmbed) {\n",
       "      vegaEmbed(outputDiv, spec, embedOpt)\n",
       "        .catch(err => showError(`Javascript Error: ${err.message}<br>This usually means there's a typo in your chart specification. See the javascript console for the full traceback.`));\n",
       "    }\n",
       "\n",
       "    if(typeof define === \"function\" && define.amd) {\n",
       "      requirejs.config({paths});\n",
       "      require([\"vega-embed\"], displayChart, err => showError(`Error loading script: ${err.message}`));\n",
       "    } else {\n",
       "      maybeLoadScript(\"vega\", \"5\")\n",
       "        .then(() => maybeLoadScript(\"vega-lite\", \"4.17.0\"))\n",
       "        .then(() => maybeLoadScript(\"vega-embed\", \"6\"))\n",
       "        .catch(showError)\n",
       "        .then(() => displayChart(vegaEmbed));\n",
       "    }\n",
       "  })({\"config\": {\"view\": {\"continuousWidth\": 400, \"continuousHeight\": 300}}, \"data\": {\"name\": \"data-863ebb4242ba9b5a2bd4e20db4f44d26\"}, \"mark\": \"bar\", \"encoding\": {\"color\": {\"field\": \"Case status\", \"type\": \"nominal\"}, \"x\": {\"field\": \"Case count\", \"type\": \"quantitative\"}, \"y\": {\"field\": \"Region\", \"type\": \"nominal\"}}, \"height\": 400, \"title\": \"COVID-19 cases by UN region\", \"transform\": [{\"fold\": [\"Recovered\", \"Active\", \"Deaths\"], \"as\": [\"Case status\", \"Case count\"]}], \"width\": 800, \"$schema\": \"https://vega.github.io/schema/vega-lite/v4.17.0.json\", \"datasets\": {\"data-863ebb4242ba9b5a2bd4e20db4f44d26\": [{\"Region\": \"Africa\", \"Confirmed\": 723207, \"Deaths\": 12223, \"Recovered\": 440645, \"Active\": 270339}, {\"Region\": \"Americas\", \"Confirmed\": 8839286, \"Deaths\": 342732, \"Recovered\": 4468616, \"Active\": 4027938}, {\"Region\": \"Eastern Mediterranean\", \"Confirmed\": 1490744, \"Deaths\": 38339, \"Recovered\": 1201400, \"Active\": 251005}, {\"Region\": \"Europe\", \"Confirmed\": 3299523, \"Deaths\": 211144, \"Recovered\": 1993723, \"Active\": 1094656}, {\"Region\": \"South-East Asia\", \"Confirmed\": 1835297, \"Deaths\": 41349, \"Recovered\": 1156933, \"Active\": 637015}, {\"Region\": \"Western Pacific\", \"Confirmed\": 292428, \"Deaths\": 8249, \"Recovered\": 206770, \"Active\": 77409}]}}, {\"mode\": \"vega-lite\"});\n",
       "</script>"
      ],
      "text/plain": [
       "alt.Chart(...)"
      ]
     },
     "execution_count": 12,
     "metadata": {},
     "output_type": "execute_result"
    }
   ],
   "source": [
    "(alt.Chart(data)\n",
    "     .transform_fold(\n",
    "                     fold=['Recovered', 'Active', 'Deaths'],\n",
    "                     as_=['Case status','Case count'],                               \n",
    "                    )\n",
    "     .mark_bar()\n",
    "     .encode(\n",
    "             x=alt.X(\n",
    "                     'Case count:Q', \n",
    "                     ),\n",
    "             y='Region:N',\n",
    "             color=alt.Color('Case status:N')\n",
    "             )\n",
    "     .properties(\n",
    "                 width=800,\n",
    "                 height=400,\n",
    "                 title='COVID-19 cases by UN region',\n",
    "                )\n",
    ")\n"
   ]
  },
  {
   "cell_type": "markdown",
   "id": "8c3d6f78",
   "metadata": {},
   "source": [
    "Note that applying `transform_fold()` does not modify the dataset. The transformation is local to the chart."
   ]
  },
  {
   "cell_type": "code",
   "execution_count": 13,
   "id": "2ee56fd9",
   "metadata": {
    "ExecuteTime": {
     "end_time": "2023-02-25T01:14:43.267873Z",
     "start_time": "2023-02-25T01:14:43.252870Z"
    }
   },
   "outputs": [
    {
     "data": {
      "text/html": [
       "<div>\n",
       "<style scoped>\n",
       "    .dataframe tbody tr th:only-of-type {\n",
       "        vertical-align: middle;\n",
       "    }\n",
       "\n",
       "    .dataframe tbody tr th {\n",
       "        vertical-align: top;\n",
       "    }\n",
       "\n",
       "    .dataframe thead th {\n",
       "        text-align: right;\n",
       "    }\n",
       "</style>\n",
       "<table border=\"1\" class=\"dataframe\">\n",
       "  <thead>\n",
       "    <tr style=\"text-align: right;\">\n",
       "      <th></th>\n",
       "      <th>Region</th>\n",
       "      <th>Confirmed</th>\n",
       "      <th>Deaths</th>\n",
       "      <th>Recovered</th>\n",
       "      <th>Active</th>\n",
       "    </tr>\n",
       "  </thead>\n",
       "  <tbody>\n",
       "    <tr>\n",
       "      <th>0</th>\n",
       "      <td>Africa</td>\n",
       "      <td>723207</td>\n",
       "      <td>12223</td>\n",
       "      <td>440645</td>\n",
       "      <td>270339</td>\n",
       "    </tr>\n",
       "    <tr>\n",
       "      <th>1</th>\n",
       "      <td>Americas</td>\n",
       "      <td>8839286</td>\n",
       "      <td>342732</td>\n",
       "      <td>4468616</td>\n",
       "      <td>4027938</td>\n",
       "    </tr>\n",
       "    <tr>\n",
       "      <th>2</th>\n",
       "      <td>Eastern Mediterranean</td>\n",
       "      <td>1490744</td>\n",
       "      <td>38339</td>\n",
       "      <td>1201400</td>\n",
       "      <td>251005</td>\n",
       "    </tr>\n",
       "    <tr>\n",
       "      <th>3</th>\n",
       "      <td>Europe</td>\n",
       "      <td>3299523</td>\n",
       "      <td>211144</td>\n",
       "      <td>1993723</td>\n",
       "      <td>1094656</td>\n",
       "    </tr>\n",
       "    <tr>\n",
       "      <th>4</th>\n",
       "      <td>South-East Asia</td>\n",
       "      <td>1835297</td>\n",
       "      <td>41349</td>\n",
       "      <td>1156933</td>\n",
       "      <td>637015</td>\n",
       "    </tr>\n",
       "    <tr>\n",
       "      <th>5</th>\n",
       "      <td>Western Pacific</td>\n",
       "      <td>292428</td>\n",
       "      <td>8249</td>\n",
       "      <td>206770</td>\n",
       "      <td>77409</td>\n",
       "    </tr>\n",
       "  </tbody>\n",
       "</table>\n",
       "</div>"
      ],
      "text/plain": [
       "                  Region  Confirmed  Deaths  Recovered   Active\n",
       "0                 Africa     723207   12223     440645   270339\n",
       "1               Americas    8839286  342732    4468616  4027938\n",
       "2  Eastern Mediterranean    1490744   38339    1201400   251005\n",
       "3                 Europe    3299523  211144    1993723  1094656\n",
       "4        South-East Asia    1835297   41349    1156933   637015\n",
       "5        Western Pacific     292428    8249     206770    77409"
      ]
     },
     "execution_count": 13,
     "metadata": {},
     "output_type": "execute_result"
    }
   ],
   "source": [
    "data"
   ]
  },
  {
   "cell_type": "markdown",
   "id": "1861b95f",
   "metadata": {},
   "source": [
    "### Add tooltips\n",
    "\n",
    "To add more information to the plot, the tooltip feature can be used. Tooltip shows selected column values when the cursor hovers over points. Tooltips can be encoded in the same way as other channels."
   ]
  },
  {
   "cell_type": "code",
   "execution_count": 14,
   "id": "b2d63442",
   "metadata": {
    "ExecuteTime": {
     "end_time": "2023-02-25T01:14:43.347900Z",
     "start_time": "2023-02-25T01:14:43.269882Z"
    }
   },
   "outputs": [
    {
     "data": {
      "text/html": [
       "\n",
       "<div id=\"altair-viz-11eda1e489434e0c82984d882ae9af95\"></div>\n",
       "<script type=\"text/javascript\">\n",
       "  var VEGA_DEBUG = (typeof VEGA_DEBUG == \"undefined\") ? {} : VEGA_DEBUG;\n",
       "  (function(spec, embedOpt){\n",
       "    let outputDiv = document.currentScript.previousElementSibling;\n",
       "    if (outputDiv.id !== \"altair-viz-11eda1e489434e0c82984d882ae9af95\") {\n",
       "      outputDiv = document.getElementById(\"altair-viz-11eda1e489434e0c82984d882ae9af95\");\n",
       "    }\n",
       "    const paths = {\n",
       "      \"vega\": \"https://cdn.jsdelivr.net/npm//vega@5?noext\",\n",
       "      \"vega-lib\": \"https://cdn.jsdelivr.net/npm//vega-lib?noext\",\n",
       "      \"vega-lite\": \"https://cdn.jsdelivr.net/npm//vega-lite@4.17.0?noext\",\n",
       "      \"vega-embed\": \"https://cdn.jsdelivr.net/npm//vega-embed@6?noext\",\n",
       "    };\n",
       "\n",
       "    function maybeLoadScript(lib, version) {\n",
       "      var key = `${lib.replace(\"-\", \"\")}_version`;\n",
       "      return (VEGA_DEBUG[key] == version) ?\n",
       "        Promise.resolve(paths[lib]) :\n",
       "        new Promise(function(resolve, reject) {\n",
       "          var s = document.createElement('script');\n",
       "          document.getElementsByTagName(\"head\")[0].appendChild(s);\n",
       "          s.async = true;\n",
       "          s.onload = () => {\n",
       "            VEGA_DEBUG[key] = version;\n",
       "            return resolve(paths[lib]);\n",
       "          };\n",
       "          s.onerror = () => reject(`Error loading script: ${paths[lib]}`);\n",
       "          s.src = paths[lib];\n",
       "        });\n",
       "    }\n",
       "\n",
       "    function showError(err) {\n",
       "      outputDiv.innerHTML = `<div class=\"error\" style=\"color:red;\">${err}</div>`;\n",
       "      throw err;\n",
       "    }\n",
       "\n",
       "    function displayChart(vegaEmbed) {\n",
       "      vegaEmbed(outputDiv, spec, embedOpt)\n",
       "        .catch(err => showError(`Javascript Error: ${err.message}<br>This usually means there's a typo in your chart specification. See the javascript console for the full traceback.`));\n",
       "    }\n",
       "\n",
       "    if(typeof define === \"function\" && define.amd) {\n",
       "      requirejs.config({paths});\n",
       "      require([\"vega-embed\"], displayChart, err => showError(`Error loading script: ${err.message}`));\n",
       "    } else {\n",
       "      maybeLoadScript(\"vega\", \"5\")\n",
       "        .then(() => maybeLoadScript(\"vega-lite\", \"4.17.0\"))\n",
       "        .then(() => maybeLoadScript(\"vega-embed\", \"6\"))\n",
       "        .catch(showError)\n",
       "        .then(() => displayChart(vegaEmbed));\n",
       "    }\n",
       "  })({\"config\": {\"view\": {\"continuousWidth\": 400, \"continuousHeight\": 300}}, \"data\": {\"name\": \"data-863ebb4242ba9b5a2bd4e20db4f44d26\"}, \"mark\": \"bar\", \"encoding\": {\"color\": {\"field\": \"Case status\", \"type\": \"nominal\"}, \"tooltip\": [{\"field\": \"Case status\", \"type\": \"nominal\"}, {\"field\": \"Case count\", \"type\": \"quantitative\"}], \"x\": {\"field\": \"Case count\", \"type\": \"quantitative\"}, \"y\": {\"field\": \"Region\", \"type\": \"nominal\"}}, \"height\": 400, \"title\": \"COVID-19 cases by UN region\", \"transform\": [{\"fold\": [\"Recovered\", \"Active\", \"Deaths\"], \"as\": [\"Case status\", \"Case count\"]}], \"width\": 800, \"$schema\": \"https://vega.github.io/schema/vega-lite/v4.17.0.json\", \"datasets\": {\"data-863ebb4242ba9b5a2bd4e20db4f44d26\": [{\"Region\": \"Africa\", \"Confirmed\": 723207, \"Deaths\": 12223, \"Recovered\": 440645, \"Active\": 270339}, {\"Region\": \"Americas\", \"Confirmed\": 8839286, \"Deaths\": 342732, \"Recovered\": 4468616, \"Active\": 4027938}, {\"Region\": \"Eastern Mediterranean\", \"Confirmed\": 1490744, \"Deaths\": 38339, \"Recovered\": 1201400, \"Active\": 251005}, {\"Region\": \"Europe\", \"Confirmed\": 3299523, \"Deaths\": 211144, \"Recovered\": 1993723, \"Active\": 1094656}, {\"Region\": \"South-East Asia\", \"Confirmed\": 1835297, \"Deaths\": 41349, \"Recovered\": 1156933, \"Active\": 637015}, {\"Region\": \"Western Pacific\", \"Confirmed\": 292428, \"Deaths\": 8249, \"Recovered\": 206770, \"Active\": 77409}]}}, {\"mode\": \"vega-lite\"});\n",
       "</script>"
      ],
      "text/plain": [
       "alt.Chart(...)"
      ]
     },
     "execution_count": 14,
     "metadata": {},
     "output_type": "execute_result"
    }
   ],
   "source": [
    "(alt.Chart(data)\n",
    "     .transform_fold(\n",
    "                     fold=['Recovered', 'Active', 'Deaths'],\n",
    "                     as_=['Case status','Case count'],                               \n",
    "                    )\n",
    "     .mark_bar()\n",
    "     .encode(\n",
    "             x=alt.X(\n",
    "                     'Case count:Q', \n",
    "                     ),\n",
    "             y='Region:N',\n",
    "             color=alt.Color('Case status:N'),\n",
    "             tooltip=['Case status:N','Case count:Q']  # add tooltip\n",
    "             )\n",
    "     .properties(\n",
    "                 width=800,\n",
    "                 height=400,\n",
    "                 title='COVID-19 cases by UN region',\n",
    "                )\n",
    ")"
   ]
  },
  {
   "cell_type": "markdown",
   "id": "eed23b63",
   "metadata": {},
   "source": [
    "## Grouped Multi-bars  \n",
    "\n",
    "With the transformed data, we can un-stack the bars and create subplots for each region. In `altair` this is done very easily by the encoding channel `row` with the column `Region:N` , which creates subplots for each region. \n",
    "\n",
    "Exercise: How can this be done with vertical bars? "
   ]
  },
  {
   "cell_type": "code",
   "execution_count": 15,
   "id": "e32594a8",
   "metadata": {
    "ExecuteTime": {
     "end_time": "2023-02-25T01:14:43.440653Z",
     "start_time": "2023-02-25T01:14:43.349901Z"
    }
   },
   "outputs": [
    {
     "data": {
      "text/html": [
       "\n",
       "<div id=\"altair-viz-7ce767944f5c4245904b8353f931b99f\"></div>\n",
       "<script type=\"text/javascript\">\n",
       "  var VEGA_DEBUG = (typeof VEGA_DEBUG == \"undefined\") ? {} : VEGA_DEBUG;\n",
       "  (function(spec, embedOpt){\n",
       "    let outputDiv = document.currentScript.previousElementSibling;\n",
       "    if (outputDiv.id !== \"altair-viz-7ce767944f5c4245904b8353f931b99f\") {\n",
       "      outputDiv = document.getElementById(\"altair-viz-7ce767944f5c4245904b8353f931b99f\");\n",
       "    }\n",
       "    const paths = {\n",
       "      \"vega\": \"https://cdn.jsdelivr.net/npm//vega@5?noext\",\n",
       "      \"vega-lib\": \"https://cdn.jsdelivr.net/npm//vega-lib?noext\",\n",
       "      \"vega-lite\": \"https://cdn.jsdelivr.net/npm//vega-lite@4.17.0?noext\",\n",
       "      \"vega-embed\": \"https://cdn.jsdelivr.net/npm//vega-embed@6?noext\",\n",
       "    };\n",
       "\n",
       "    function maybeLoadScript(lib, version) {\n",
       "      var key = `${lib.replace(\"-\", \"\")}_version`;\n",
       "      return (VEGA_DEBUG[key] == version) ?\n",
       "        Promise.resolve(paths[lib]) :\n",
       "        new Promise(function(resolve, reject) {\n",
       "          var s = document.createElement('script');\n",
       "          document.getElementsByTagName(\"head\")[0].appendChild(s);\n",
       "          s.async = true;\n",
       "          s.onload = () => {\n",
       "            VEGA_DEBUG[key] = version;\n",
       "            return resolve(paths[lib]);\n",
       "          };\n",
       "          s.onerror = () => reject(`Error loading script: ${paths[lib]}`);\n",
       "          s.src = paths[lib];\n",
       "        });\n",
       "    }\n",
       "\n",
       "    function showError(err) {\n",
       "      outputDiv.innerHTML = `<div class=\"error\" style=\"color:red;\">${err}</div>`;\n",
       "      throw err;\n",
       "    }\n",
       "\n",
       "    function displayChart(vegaEmbed) {\n",
       "      vegaEmbed(outputDiv, spec, embedOpt)\n",
       "        .catch(err => showError(`Javascript Error: ${err.message}<br>This usually means there's a typo in your chart specification. See the javascript console for the full traceback.`));\n",
       "    }\n",
       "\n",
       "    if(typeof define === \"function\" && define.amd) {\n",
       "      requirejs.config({paths});\n",
       "      require([\"vega-embed\"], displayChart, err => showError(`Error loading script: ${err.message}`));\n",
       "    } else {\n",
       "      maybeLoadScript(\"vega\", \"5\")\n",
       "        .then(() => maybeLoadScript(\"vega-lite\", \"4.17.0\"))\n",
       "        .then(() => maybeLoadScript(\"vega-embed\", \"6\"))\n",
       "        .catch(showError)\n",
       "        .then(() => displayChart(vegaEmbed));\n",
       "    }\n",
       "  })({\"config\": {\"view\": {\"continuousWidth\": 400, \"continuousHeight\": 300}}, \"data\": {\"name\": \"data-863ebb4242ba9b5a2bd4e20db4f44d26\"}, \"mark\": \"bar\", \"encoding\": {\"color\": {\"field\": \"Case status\", \"type\": \"nominal\"}, \"row\": {\"field\": \"Region\", \"type\": \"nominal\"}, \"tooltip\": [{\"field\": \"Case status\", \"type\": \"nominal\"}, {\"field\": \"Case count\", \"type\": \"quantitative\"}], \"x\": {\"field\": \"Case count\", \"type\": \"quantitative\"}, \"y\": {\"axis\": {\"title\": \"\"}, \"field\": \"Case status\", \"type\": \"nominal\"}}, \"height\": 75, \"title\": \"COVID-19 cases by UN region\", \"transform\": [{\"fold\": [\"Recovered\", \"Active\", \"Deaths\"], \"as\": [\"Case status\", \"Case count\"]}], \"width\": 800, \"$schema\": \"https://vega.github.io/schema/vega-lite/v4.17.0.json\", \"datasets\": {\"data-863ebb4242ba9b5a2bd4e20db4f44d26\": [{\"Region\": \"Africa\", \"Confirmed\": 723207, \"Deaths\": 12223, \"Recovered\": 440645, \"Active\": 270339}, {\"Region\": \"Americas\", \"Confirmed\": 8839286, \"Deaths\": 342732, \"Recovered\": 4468616, \"Active\": 4027938}, {\"Region\": \"Eastern Mediterranean\", \"Confirmed\": 1490744, \"Deaths\": 38339, \"Recovered\": 1201400, \"Active\": 251005}, {\"Region\": \"Europe\", \"Confirmed\": 3299523, \"Deaths\": 211144, \"Recovered\": 1993723, \"Active\": 1094656}, {\"Region\": \"South-East Asia\", \"Confirmed\": 1835297, \"Deaths\": 41349, \"Recovered\": 1156933, \"Active\": 637015}, {\"Region\": \"Western Pacific\", \"Confirmed\": 292428, \"Deaths\": 8249, \"Recovered\": 206770, \"Active\": 77409}]}}, {\"mode\": \"vega-lite\"});\n",
       "</script>"
      ],
      "text/plain": [
       "alt.Chart(...)"
      ]
     },
     "execution_count": 15,
     "metadata": {},
     "output_type": "execute_result"
    }
   ],
   "source": [
    "(alt.Chart(data)\n",
    "     .transform_fold(\n",
    "                     fold=['Recovered', 'Active', 'Deaths'],\n",
    "                     as_=['Case status','Case count'],                               \n",
    "                    )\n",
    "     .mark_bar()\n",
    "     .encode(\n",
    "             x=alt.X(\n",
    "                     'Case count:Q', \n",
    "                     ),\n",
    "             y=alt.Y('Case status:N',                  # change y-axis values from Region to Case status\n",
    "                     axis=alt.Axis(title=\"\")\n",
    "                     ),\n",
    "             color=alt.Color('Case status:N'),\n",
    "             tooltip=['Case status:N','Case count:Q'],\n",
    "             row='Region:N',                           # subplots are generated for each region \n",
    "             )\n",
    ").properties(\n",
    "                 width=800,\n",
    "                 height=75,\n",
    "                 title='COVID-19 cases by UN region',\n",
    "                )\n"
   ]
  },
  {
   "cell_type": "markdown",
   "id": "ce698873",
   "metadata": {},
   "source": [
    "## Proportional bar chart\n",
    "\n",
    "Another variation of the compound bar chart is the \"proportional bar chart\" which more clearly delineates the proportional relationship between two features.\n",
    "\n",
    "In our current dataset, perhaps it is worthwhile comparing the proportion of recoveries vs deaths vs active, for each region. So first we need to create the proportion features in the data, as shown below."
   ]
  },
  {
   "cell_type": "code",
   "execution_count": 16,
   "id": "a9862a4d",
   "metadata": {
    "ExecuteTime": {
     "end_time": "2023-02-25T01:14:43.456657Z",
     "start_time": "2023-02-25T01:14:43.443645Z"
    }
   },
   "outputs": [],
   "source": [
    "data['Death_prop'] =( data.Deaths/data.Confirmed)\n",
    "data['Active_prop'] =( data.Active/data.Confirmed)\n",
    "data['Recovered_prop'] =( data.Recovered/data.Confirmed)"
   ]
  },
  {
   "cell_type": "code",
   "execution_count": 17,
   "id": "7278fe1f",
   "metadata": {
    "ExecuteTime": {
     "end_time": "2023-02-25T01:14:43.520663Z",
     "start_time": "2023-02-25T01:14:43.457657Z"
    }
   },
   "outputs": [
    {
     "data": {
      "text/html": [
       "\n",
       "<div id=\"altair-viz-e2cdd073d51d47908f90793a04497912\"></div>\n",
       "<script type=\"text/javascript\">\n",
       "  var VEGA_DEBUG = (typeof VEGA_DEBUG == \"undefined\") ? {} : VEGA_DEBUG;\n",
       "  (function(spec, embedOpt){\n",
       "    let outputDiv = document.currentScript.previousElementSibling;\n",
       "    if (outputDiv.id !== \"altair-viz-e2cdd073d51d47908f90793a04497912\") {\n",
       "      outputDiv = document.getElementById(\"altair-viz-e2cdd073d51d47908f90793a04497912\");\n",
       "    }\n",
       "    const paths = {\n",
       "      \"vega\": \"https://cdn.jsdelivr.net/npm//vega@5?noext\",\n",
       "      \"vega-lib\": \"https://cdn.jsdelivr.net/npm//vega-lib?noext\",\n",
       "      \"vega-lite\": \"https://cdn.jsdelivr.net/npm//vega-lite@4.17.0?noext\",\n",
       "      \"vega-embed\": \"https://cdn.jsdelivr.net/npm//vega-embed@6?noext\",\n",
       "    };\n",
       "\n",
       "    function maybeLoadScript(lib, version) {\n",
       "      var key = `${lib.replace(\"-\", \"\")}_version`;\n",
       "      return (VEGA_DEBUG[key] == version) ?\n",
       "        Promise.resolve(paths[lib]) :\n",
       "        new Promise(function(resolve, reject) {\n",
       "          var s = document.createElement('script');\n",
       "          document.getElementsByTagName(\"head\")[0].appendChild(s);\n",
       "          s.async = true;\n",
       "          s.onload = () => {\n",
       "            VEGA_DEBUG[key] = version;\n",
       "            return resolve(paths[lib]);\n",
       "          };\n",
       "          s.onerror = () => reject(`Error loading script: ${paths[lib]}`);\n",
       "          s.src = paths[lib];\n",
       "        });\n",
       "    }\n",
       "\n",
       "    function showError(err) {\n",
       "      outputDiv.innerHTML = `<div class=\"error\" style=\"color:red;\">${err}</div>`;\n",
       "      throw err;\n",
       "    }\n",
       "\n",
       "    function displayChart(vegaEmbed) {\n",
       "      vegaEmbed(outputDiv, spec, embedOpt)\n",
       "        .catch(err => showError(`Javascript Error: ${err.message}<br>This usually means there's a typo in your chart specification. See the javascript console for the full traceback.`));\n",
       "    }\n",
       "\n",
       "    if(typeof define === \"function\" && define.amd) {\n",
       "      requirejs.config({paths});\n",
       "      require([\"vega-embed\"], displayChart, err => showError(`Error loading script: ${err.message}`));\n",
       "    } else {\n",
       "      maybeLoadScript(\"vega\", \"5\")\n",
       "        .then(() => maybeLoadScript(\"vega-lite\", \"4.17.0\"))\n",
       "        .then(() => maybeLoadScript(\"vega-embed\", \"6\"))\n",
       "        .catch(showError)\n",
       "        .then(() => displayChart(vegaEmbed));\n",
       "    }\n",
       "  })({\"config\": {\"view\": {\"continuousWidth\": 400, \"continuousHeight\": 300}}, \"data\": {\"name\": \"data-6b3d8eee0d9564aecea89a3d05101aa4\"}, \"mark\": \"bar\", \"encoding\": {\"color\": {\"field\": \"case status percent\", \"title\": \"Case status\", \"type\": \"nominal\"}, \"tooltip\": {\"field\": \"case count percent\", \"format\": \".2%\", \"type\": \"quantitative\"}, \"x\": {\"axis\": {\"format\": \"p\", \"title\": \"\"}, \"field\": \"case count percent\", \"type\": \"quantitative\"}, \"y\": {\"field\": \"Region\", \"type\": \"nominal\"}}, \"height\": 400, \"title\": \"Distribution of disease status in confirmed Covid-19 patients\", \"transform\": [{\"fold\": [\"Recovered_prop\", \"Active_prop\", \"Death_prop\"], \"as\": [\"case status percent\", \"case count percent\"]}], \"width\": 800, \"$schema\": \"https://vega.github.io/schema/vega-lite/v4.17.0.json\", \"datasets\": {\"data-6b3d8eee0d9564aecea89a3d05101aa4\": [{\"Region\": \"Africa\", \"Confirmed\": 723207, \"Deaths\": 12223, \"Recovered\": 440645, \"Active\": 270339, \"Death_prop\": 0.01690110853462425, \"Active_prop\": 0.3738058398217938, \"Recovered_prop\": 0.6092930516435819}, {\"Region\": \"Americas\", \"Confirmed\": 8839286, \"Deaths\": 342732, \"Recovered\": 4468616, \"Active\": 4027938, \"Death_prop\": 0.03877371995882926, \"Active_prop\": 0.4556859004222739, \"Recovered_prop\": 0.5055403796188969}, {\"Region\": \"Eastern Mediterranean\", \"Confirmed\": 1490744, \"Deaths\": 38339, \"Recovered\": 1201400, \"Active\": 251005, \"Death_prop\": 0.025718030728280643, \"Active_prop\": 0.16837565671906107, \"Recovered_prop\": 0.8059063125526583}, {\"Region\": \"Europe\", \"Confirmed\": 3299523, \"Deaths\": 211144, \"Recovered\": 1993723, \"Active\": 1094656, \"Death_prop\": 0.06399228009624422, \"Active_prop\": 0.3317618940677183, \"Recovered_prop\": 0.6042458258360375}, {\"Region\": \"South-East Asia\", \"Confirmed\": 1835297, \"Deaths\": 41349, \"Recovered\": 1156933, \"Active\": 637015, \"Death_prop\": 0.02252986846270658, \"Active_prop\": 0.34709096129945183, \"Recovered_prop\": 0.6303791702378416}, {\"Region\": \"Western Pacific\", \"Confirmed\": 292428, \"Deaths\": 8249, \"Recovered\": 206770, \"Active\": 77409, \"Death_prop\": 0.02820865307015744, \"Active_prop\": 0.2647113135541056, \"Recovered_prop\": 0.7070800333757369}]}}, {\"mode\": \"vega-lite\"});\n",
       "</script>"
      ],
      "text/plain": [
       "alt.Chart(...)"
      ]
     },
     "execution_count": 17,
     "metadata": {},
     "output_type": "execute_result"
    }
   ],
   "source": [
    "(alt.Chart(data)\n",
    "     .transform_fold(\n",
    "                     as_=['case status percent','case count percent'], \n",
    "                     fold=['Recovered_prop', 'Active_prop', 'Death_prop'],                                \n",
    "                    )\n",
    "     .mark_bar()\n",
    "     .encode(\n",
    "             x=alt.X(\n",
    "                     'case count percent:Q', \n",
    "                     axis=alt.Axis(\n",
    "                                   title=\"\",\n",
    "                                   format='p'\n",
    "                                ),\n",
    "                     ),\n",
    "             y='Region:N',\n",
    "             color=alt.Color('case status percent:N', title='Case status'),\n",
    "             tooltip=alt.Tooltip(\n",
    "                                 'case count percent:Q', \n",
    "                                  format='.2%',       # added tooltip with percentage formatting,\n",
    "                                )\n",
    "             )\n",
    "     .properties(\n",
    "                 width=800,\n",
    "                 height=400,\n",
    "                 title='Distribution of disease status in confirmed Covid-19 patients',\n",
    "                )\n",
    ")"
   ]
  },
  {
   "cell_type": "markdown",
   "id": "51105d15",
   "metadata": {},
   "source": [
    "### Inferences from the proportional bar chart \n",
    "\n",
    "From the previous plots we observed that the Americas has the highest number of confirmed Covid cases, however the proportion of active cases to recovered cases is the most balanced in the Americas. Europe has the highest deaths in proportion to the number of confirmed cases."
   ]
  },
  {
   "cell_type": "code",
   "execution_count": null,
   "id": "f9be9a2b",
   "metadata": {},
   "outputs": [],
   "source": []
  }
 ],
 "metadata": {
  "celltoolbar": "Slideshow",
  "hide_input": false,
  "kernelspec": {
   "display_name": "Python 3 (ipykernel)",
   "language": "python",
   "name": "python3"
  },
  "language_info": {
   "codemirror_mode": {
    "name": "ipython",
    "version": 3
   },
   "file_extension": ".py",
   "mimetype": "text/x-python",
   "name": "python",
   "nbconvert_exporter": "python",
   "pygments_lexer": "ipython3",
   "version": "3.9.13"
  },
  "latex_envs": {
   "LaTeX_envs_menu_present": true,
   "autoclose": false,
   "autocomplete": true,
   "bibliofile": "biblio.bib",
   "cite_by": "apalike",
   "current_citInitial": 1,
   "eqLabelWithNumbers": true,
   "eqNumInitial": 1,
   "hotkeys": {
    "equation": "Ctrl-E",
    "itemize": "Ctrl-I"
   },
   "labels_anchors": false,
   "latex_user_defs": false,
   "report_style_numbering": false,
   "user_envs_cfg": false
  },
  "nbTranslate": {
   "displayLangs": [
    "*"
   ],
   "hotkey": "alt-t",
   "langInMainMenu": true,
   "sourceLang": "en",
   "targetLang": "fr",
   "useGoogleTranslate": true
  },
  "toc": {
   "base_numbering": 1,
   "nav_menu": {},
   "number_sections": true,
   "sideBar": true,
   "skip_h1_title": false,
   "title_cell": "Table of Contents",
   "title_sidebar": "Contents",
   "toc_cell": false,
   "toc_position": {
    "height": "calc(100% - 180px)",
    "left": "10px",
    "top": "150px",
    "width": "165px"
   },
   "toc_section_display": true,
   "toc_window_display": true
  },
  "varInspector": {
   "cols": {
    "lenName": 16,
    "lenType": 16,
    "lenVar": 40
   },
   "kernels_config": {
    "python": {
     "delete_cmd_postfix": "",
     "delete_cmd_prefix": "del ",
     "library": "var_list.py",
     "varRefreshCmd": "print(var_dic_list())"
    },
    "r": {
     "delete_cmd_postfix": ") ",
     "delete_cmd_prefix": "rm(",
     "library": "var_list.r",
     "varRefreshCmd": "cat(var_dic_list()) "
    }
   },
   "types_to_exclude": [
    "module",
    "function",
    "builtin_function_or_method",
    "instance",
    "_Feature"
   ],
   "window_display": false
  }
 },
 "nbformat": 4,
 "nbformat_minor": 5
}
