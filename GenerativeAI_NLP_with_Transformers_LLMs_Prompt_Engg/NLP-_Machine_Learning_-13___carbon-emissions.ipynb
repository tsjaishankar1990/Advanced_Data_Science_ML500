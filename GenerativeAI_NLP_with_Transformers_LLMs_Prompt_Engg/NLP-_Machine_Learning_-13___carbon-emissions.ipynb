{
 "cells": [
  {
   "cell_type": "code",
   "execution_count": 1,
   "id": "aa2f8212",
   "metadata": {
    "ExecuteTime": {
     "end_time": "2023-04-08T08:19:49.294037Z",
     "start_time": "2023-04-08T08:19:47.533476Z"
    },
    "scrolled": false
   },
   "outputs": [
    {
     "data": {
      "text/html": [
       "\n",
       "<!-- Many of the styles here are inspired by: \n",
       "    https://towardsdatascience.com/10-practical-tips-you-need-to-know-to-personalize-jupyter-notebook-fbd202777e20 \n",
       "       \n",
       "    \n",
       "    On the author's local machine, these exist in the custom.css file. However, in order to keep uniform look and feel, \n",
       "    and at the request of participants, I have added it to this common import-file here.\n",
       "\n",
       "    -->\n",
       "\n",
       "<link href=\"https://fonts.googleapis.com/css?family=Lora:400,700|Montserrat:300\" rel=\"stylesheet\">\n",
       "\n",
       "<link href=\"https://fonts.googleapis.com/css2?family=Crimson+Pro&family=Literata&display=swap\" rel=\"stylesheet\">\n",
       "<style>\n",
       "\n",
       "\n",
       "#ipython_notebook::before{\n",
       " content:\"NLP with Transformers\";\n",
       "        color: white;\n",
       "        font-weight: bold;\n",
       "        text-transform: uppercase;\n",
       "        font-family: 'Lora',serif;\n",
       "        font-size:16pt;\n",
       "        margin-bottom:15px;\n",
       "        margin-top:15px;\n",
       "           \n",
       "}\n",
       "body > #header {\n",
       "    #background: #D15555;\n",
       "    background: linear-gradient(to bottom, indianred 0%, #fff 100%);\n",
       "    opacity: 0.8;\n",
       "\n",
       "}\n",
       "\n",
       "\n",
       ".navbar-default .navbar-nav > li > a, #kernel_indicator {\n",
       "    color: white;\n",
       "    transition: all 0.25s;\n",
       "    font-size:10pt;\n",
       "    font-family: sans-serif;\n",
       "    font-weight:normal;\n",
       "}\n",
       ".navbar-default {\n",
       "    padding-left:100px;\n",
       "    background: none;\n",
       "    border: none;\n",
       "}\n",
       "\n",
       "\n",
       "body > menubar-container {\n",
       "    background-color: wheat;\n",
       "}\n",
       "#ipython_notebook img{                                                                                        \n",
       "    display:block; \n",
       "    \n",
       "    background: url(\"https://www.supportvectors.com/wp-content/uploads/2016/03/logo-poster-smaller.png\") no-repeat;\n",
       "    background-size: contain;\n",
       "   \n",
       "    padding-left: 600px;\n",
       "    padding-right: 100px;\n",
       "    \n",
       "    -moz-box-sizing: border-box;\n",
       "    box-sizing: border-box;\n",
       "}\n",
       "\n",
       "\n",
       "\n",
       "body {\n",
       " #font-family:  'Literata', serif;\n",
       "    font-family:'Lora', san-serif;\n",
       "    text-align: justify;\n",
       "    font-weight: 400;\n",
       "    font-size: 12pt;\n",
       "}\n",
       "\n",
       "iframe{\n",
       "    width:100%;\n",
       "    min-height:600px;\n",
       "}\n",
       "\n",
       "h1, h2, h3, h4, h5, h6 {\n",
       "# font-family: 'Montserrat', sans-serif;\n",
       " font-family:'Lora', serif;\n",
       " font-weight: 200;\n",
       " text-transform: uppercase;\n",
       " color: #EC7063 ;\n",
       "}\n",
       "\n",
       "h2 {\n",
       "    color: #000080;\n",
       "}\n",
       "\n",
       ".checkpoint_status, .autosave_status {\n",
       "    color:wheat;\n",
       "}\n",
       "\n",
       "#notebook_name {\n",
       "    font-weight: 600;\n",
       "    font-size:20pt;\n",
       "    text-variant:uppercase;\n",
       "    color: wheat; \n",
       "    margin-right:20px;\n",
       "    margin-left:-500px;\n",
       "}\n",
       "#notebook_name:hover {\n",
       "background-color: salmon;\n",
       "}\n",
       "\n",
       "\n",
       ".dataframe { /* dataframe atau table */\n",
       "    background: white;\n",
       "    box-shadow: 0px 1px 2px #bbb;\n",
       "}\n",
       ".dataframe thead th, .dataframe tbody td {\n",
       "    text-align: center;\n",
       "    padding: 1em;\n",
       "}\n",
       "\n",
       ".checkpoint_status, .autosave_status {\n",
       "    color:wheat;\n",
       "}\n",
       "\n",
       ".output {\n",
       "    align-items: center;\n",
       "}\n",
       "\n",
       "div.cell {\n",
       "    transition: all 0.25s;\n",
       "    border: none;\n",
       "    position: relative;\n",
       "    top: 0;\n",
       "}\n",
       "div.cell.selected, div.cell.selected.jupyter-soft-selected {\n",
       "    border: none;\n",
       "    background: transparent;\n",
       "    box-shadow: 0 6px 18px #aaa;\n",
       "    z-index: 10;\n",
       "    top: -10px;\n",
       "}\n",
       ".CodeMirror pre, .CodeMirror-dialog, .CodeMirror-dialog .CodeMirror-search-field, .terminal-app .terminal {\n",
       "    font-family: 'Hack' , serif; \n",
       "    font-weight: 500;\n",
       "    font-size: 14pt;\n",
       "}\n",
       "\n",
       "\n",
       "\n",
       "</style>    \n"
      ],
      "text/plain": [
       "<IPython.core.display.HTML object>"
      ]
     },
     "metadata": {},
     "output_type": "display_data"
    },
    {
     "data": {
      "text/markdown": [
       "\n",
       "\n",
       "<div style=\"color:#aaa;font-size:8pt\">\n",
       "<hr/>\n",
       "\n",
       " </blockquote>\n",
       " <hr/>\n",
       "</div>\n",
       "\n"
      ],
      "text/plain": [
       "<IPython.core.display.Markdown object>"
      ]
     },
     "metadata": {},
     "output_type": "display_data"
    }
   ],
   "source": [
    "%run supportvectors-common.ipynb"
   ]
  },
  {
   "cell_type": "markdown",
   "id": "85541636",
   "metadata": {},
   "source": [
    "##   The environmental impact\n",
    "\n",
    "Circa 2023, large language models have transcended from being solely a technical tool of AI experts to something that people from all walks of life engage with in some capacity. As a result, awareness of these models pervades the general discourse, and the zeitgeist is imbued with a sense of amazement and endless possibilities of these LLMs. Lost in all of this, perhaps, is the consideration of environmental impact of training these large language models.\n",
    "\n",
    "The following chart from <a href=\"https://huggingface.co/course/chapter1/4?fw=pt\"> the huggingface course</a> gives us a sense of the astonishingly large carbon footprint of training a transformer.\n",
    "\n",
    "<img src=\"https://huggingface.co/datasets/huggingface-course/documentation-images/resolve/main/en/chapter1/carbon_footprint.svg\"/>\n",
    "\n",
    "The following video provides further color to this topic:\n"
   ]
  },
  {
   "cell_type": "code",
   "execution_count": 2,
   "id": "479e7fa2",
   "metadata": {
    "scrolled": false
   },
   "outputs": [
    {
     "data": {
      "image/jpeg": "[encoded data removed]",
      "text/html": [
       "\n",
       "        <iframe\n",
       "            width=\"600\"\n",
       "            height=\"300\"\n",
       "            src=\"https://www.youtube.com/embed/ftWlj4FBHTg\"\n",
       "            frameborder=\"0\"\n",
       "            allowfullscreen\n",
       "            \n",
       "        ></iframe>\n",
       "        "
      ],
      "text/plain": [
       "<IPython.lib.display.YouTubeVideo at 0x7f91d876ae90>"
      ]
     },
     "execution_count": 2,
     "metadata": {},
     "output_type": "execute_result"
    }
   ],
   "source": [
    "from IPython.display import YouTubeVideo\n",
    "YouTubeVideo(\"ftWlj4FBHTg\", width=600)"
   ]
  },
  {
   "cell_type": "code",
   "execution_count": 4,
   "id": "440b5333",
   "metadata": {},
   "outputs": [],
   "source": [
    "# Uncomment this if you have not installed it yet.\n",
    "# ! pip install codecarbon"
   ]
  },
  {
   "cell_type": "code",
   "execution_count": 5,
   "id": "db7f83e3",
   "metadata": {},
   "outputs": [
    {
     "name": "stderr",
     "output_type": "stream",
     "text": [
      "[codecarbon INFO @ 13:56:54] [setup] RAM Tracking...\n",
      "[codecarbon INFO @ 13:56:54] [setup] GPU Tracking...\n",
      "[codecarbon INFO @ 13:56:54] Tracking Nvidia GPU via pynvml\n",
      "[codecarbon INFO @ 13:56:54] [setup] CPU Tracking...\n",
      "[codecarbon ERROR @ 13:56:54] Unable to read Intel RAPL files for CPU power, we will use a constant for your CPU power. Please view https://github.com/mlco2/codecarbon/issues/244 for workarounds : [Errno 13] Permission denied: '/sys/class/powercap/intel-rapl/intel-rapl:0/energy_uj'\n",
      "[codecarbon INFO @ 13:56:54] Tracking Intel CPU via RAPL interface\n",
      "[codecarbon ERROR @ 13:56:55] Unable to read Intel RAPL files for CPU power, we will use a constant for your CPU power. Please view https://github.com/mlco2/codecarbon/issues/244 for workarounds : [Errno 13] Permission denied: '/sys/class/powercap/intel-rapl/intel-rapl:0/energy_uj'\n",
      "[codecarbon INFO @ 13:56:55] >>> Tracker's metadata:\n",
      "[codecarbon INFO @ 13:56:55]   Platform system: Linux-5.19.0-38-generic-x86_64-with-glibc2.35\n",
      "[codecarbon INFO @ 13:56:55]   Python version: 3.10.9\n",
      "[codecarbon INFO @ 13:56:55]   Available RAM : 125.570 GB\n",
      "[codecarbon INFO @ 13:56:55]   CPU count: 32\n",
      "[codecarbon INFO @ 13:56:55]   CPU model: 13th Gen Intel(R) Core(TM) i9-13900K\n",
      "[codecarbon INFO @ 13:56:55]   GPU count: 1\n",
      "[codecarbon INFO @ 13:56:55]   GPU model: 1 x NVIDIA GeForce RTX 4090\n",
      "[codecarbon INFO @ 13:56:59] Energy consumed for RAM : 0.000000 kWh. RAM Power : 47.08856391906738 W\n",
      "[codecarbon INFO @ 13:56:59] Energy consumed for all GPUs : 0.000000 kWh. All GPUs Power : 37.02300000000001 W\n",
      "[codecarbon INFO @ 13:56:59] Energy consumed for all CPUs : 0.000000 kWh. All CPUs Power : 0.0 W\n",
      "[codecarbon INFO @ 13:56:59] 0.000000 kWh of electricity used since the begining.\n"
     ]
    },
    {
     "data": {
      "text/plain": [
       "7.857989897353714e-09"
      ]
     },
     "execution_count": 5,
     "metadata": {},
     "output_type": "execute_result"
    }
   ],
   "source": [
    "from codecarbon import EmissionsTracker\n",
    "tracker = EmissionsTracker()\n",
    "tracker.start()\n",
    "#\n",
    "# Do you stuff\n",
    "#\n",
    "tracker.stop()"
   ]
  },
  {
   "cell_type": "markdown",
   "id": "50ddbdb9",
   "metadata": {},
   "source": [
    "### Reuse & Recycle\n",
    "\n",
    "Increasingly, the impact of human behavior on the environment, and the havoc it seems to create, is evident. As good citizens, there are the three **R**s that guide us, with respect to the resources we consume:\n",
    "\n",
    "* **Refuse**: if we can avoid using something -- say, it is not really important or necessary -- it is the best option. In our context, it may mean that we are not necessarily using the largest language model we can get our hands on; instead, using a much smaller model that suffices for our purposes.\n",
    "\n",
    "*  **Reuse**: if we can reuse something we have -- or borrow it from our friends, family and neighbors -- then we prevent unnecessary resource consumption. \n",
    "\n",
    "* **Recycle**: this is usually the last resort, since anything given to recycling has to go through a fairly expensive post-processing before it is transformed into something of utility. \n",
    "\n",
    "From the perspective of NLP engineers working with large language models, we can reframe the ethos above. When we use **transfer learning**, we are in effect practicing a reuse of something that has been trained with vast resource consumption, and at an enormous environmental impact. As such, we should consider searching for a pretrained model checkpoint that will serve our purposes well. And if needed, take the labelled data for our specific task to fine-tune the model with a few epochs of further training.\n",
    "\n",
    "Therefore, a repository of pretrained models becomes a communal resource, and we can all use them to do our tasks (with some fine-tuning as needed). This leads to a far lower carbon footprint than training a transformer from scratch."
   ]
  }
 ],
 "metadata": {
  "hide_input": false,
  "kernelspec": {
   "display_name": "Python 3 (ipykernel)",
   "language": "python",
   "name": "python3"
  },
  "language_info": {
   "codemirror_mode": {
    "name": "ipython",
    "version": 3
   },
   "file_extension": ".py",
   "mimetype": "text/x-python",
   "name": "python",
   "nbconvert_exporter": "python",
   "pygments_lexer": "ipython3",
   "version": "3.9.13"
  },
  "varInspector": {
   "cols": {
    "lenName": 16,
    "lenType": 16,
    "lenVar": 40
   },
   "kernels_config": {
    "python": {
     "delete_cmd_postfix": "",
     "delete_cmd_prefix": "del ",
     "library": "var_list.py",
     "varRefreshCmd": "print(var_dic_list())"
    },
    "r": {
     "delete_cmd_postfix": ") ",
     "delete_cmd_prefix": "rm(",
     "library": "var_list.r",
     "varRefreshCmd": "cat(var_dic_list()) "
    }
   },
   "types_to_exclude": [
    "module",
    "function",
    "builtin_function_or_method",
    "instance",
    "_Feature"
   ],
   "window_display": false
  }
 },
 "nbformat": 4,
 "nbformat_minor": 5
}
