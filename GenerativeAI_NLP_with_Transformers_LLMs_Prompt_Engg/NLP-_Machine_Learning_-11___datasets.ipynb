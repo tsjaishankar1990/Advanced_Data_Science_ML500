{
 "cells": [
  {
   "cell_type": "code",
   "execution_count": 1,
   "id": "aa2f8212",
   "metadata": {
    "ExecuteTime": {
     "end_time": "2023-04-08T08:19:49.294037Z",
     "start_time": "2023-04-08T08:19:47.533476Z"
    },
    "scrolled": true
   },
   "outputs": [
    {
     "data": {
      "text/html": [
       "\n",
       "<!-- Many of the styles here are inspired by: \n",
       "    https://towardsdatascience.com/10-practical-tips-you-need-to-know-to-personalize-jupyter-notebook-fbd202777e20 \n",
       "       \n",
       "    \n",
       "    On the author's local machine, these exist in the custom.css file. However, in order to keep uniform look and feel, \n",
       "    and at the request of participants, I have added it to this common import-file here.\n",
       "\n",
       "    -->\n",
       "\n",
       "<link href=\"https://fonts.googleapis.com/css?family=Lora:400,700|Montserrat:300\" rel=\"stylesheet\">\n",
       "\n",
       "<link href=\"https://fonts.googleapis.com/css2?family=Crimson+Pro&family=Literata&display=swap\" rel=\"stylesheet\">\n",
       "<style>\n",
       "\n",
       "\n",
       "#ipython_notebook::before{\n",
       " content:\"NLP with Transformers\";\n",
       "        color: white;\n",
       "        font-weight: bold;\n",
       "        text-transform: uppercase;\n",
       "        font-family: 'Lora',serif;\n",
       "        font-size:16pt;\n",
       "        margin-bottom:15px;\n",
       "        margin-top:15px;\n",
       "           \n",
       "}\n",
       "body > #header {\n",
       "    #background: #D15555;\n",
       "    background: linear-gradient(to bottom, indianred 0%, #fff 100%);\n",
       "    opacity: 0.8;\n",
       "\n",
       "}\n",
       "\n",
       "\n",
       ".navbar-default .navbar-nav > li > a, #kernel_indicator {\n",
       "    color: white;\n",
       "    transition: all 0.25s;\n",
       "    font-size:10pt;\n",
       "    font-family: sans-serif;\n",
       "    font-weight:normal;\n",
       "}\n",
       ".navbar-default {\n",
       "    padding-left:100px;\n",
       "    background: none;\n",
       "    border: none;\n",
       "}\n",
       "\n",
       "\n",
       "body > menubar-container {\n",
       "    background-color: wheat;\n",
       "}\n",
       "#ipython_notebook img{                                                                                        \n",
       "    display:block; \n",
       "    \n",
       "    background: url(\"https://www.supportvectors.com/wp-content/uploads/2016/03/logo-poster-smaller.png\") no-repeat;\n",
       "    background-size: contain;\n",
       "   \n",
       "    padding-left: 600px;\n",
       "    padding-right: 100px;\n",
       "    \n",
       "    -moz-box-sizing: border-box;\n",
       "    box-sizing: border-box;\n",
       "}\n",
       "\n",
       "\n",
       "\n",
       "body {\n",
       " #font-family:  'Literata', serif;\n",
       "    font-family:'Lora', san-serif;\n",
       "    text-align: justify;\n",
       "    font-weight: 400;\n",
       "    font-size: 12pt;\n",
       "}\n",
       "\n",
       "iframe{\n",
       "    width:100%;\n",
       "    min-height:600px;\n",
       "}\n",
       "\n",
       "h1, h2, h3, h4, h5, h6 {\n",
       "# font-family: 'Montserrat', sans-serif;\n",
       " font-family:'Lora', serif;\n",
       " font-weight: 200;\n",
       " text-transform: uppercase;\n",
       " color: #EC7063 ;\n",
       "}\n",
       "\n",
       "h2 {\n",
       "    color: #000080;\n",
       "}\n",
       "\n",
       ".checkpoint_status, .autosave_status {\n",
       "    color:wheat;\n",
       "}\n",
       "\n",
       "#notebook_name {\n",
       "    font-weight: 600;\n",
       "    font-size:20pt;\n",
       "    text-variant:uppercase;\n",
       "    color: wheat; \n",
       "    margin-right:20px;\n",
       "    margin-left:-500px;\n",
       "}\n",
       "#notebook_name:hover {\n",
       "background-color: salmon;\n",
       "}\n",
       "\n",
       "\n",
       ".dataframe { /* dataframe atau table */\n",
       "    background: white;\n",
       "    box-shadow: 0px 1px 2px #bbb;\n",
       "}\n",
       ".dataframe thead th, .dataframe tbody td {\n",
       "    text-align: center;\n",
       "    padding: 1em;\n",
       "}\n",
       "\n",
       ".checkpoint_status, .autosave_status {\n",
       "    color:wheat;\n",
       "}\n",
       "\n",
       ".output {\n",
       "    align-items: center;\n",
       "}\n",
       "\n",
       "div.cell {\n",
       "    transition: all 0.25s;\n",
       "    border: none;\n",
       "    position: relative;\n",
       "    top: 0;\n",
       "}\n",
       "div.cell.selected, div.cell.selected.jupyter-soft-selected {\n",
       "    border: none;\n",
       "    background: transparent;\n",
       "    box-shadow: 0 6px 18px #aaa;\n",
       "    z-index: 10;\n",
       "    top: -10px;\n",
       "}\n",
       ".CodeMirror pre, .CodeMirror-dialog, .CodeMirror-dialog .CodeMirror-search-field, .terminal-app .terminal {\n",
       "    font-family: 'Hack' , serif; \n",
       "    font-weight: 500;\n",
       "    font-size: 14pt;\n",
       "}\n",
       "\n",
       "\n",
       "\n",
       "</style>    \n"
      ],
      "text/plain": [
       "<IPython.core.display.HTML object>"
      ]
     },
     "metadata": {},
     "output_type": "display_data"
    },
    {
     "data": {
      "text/markdown": [
       "\n",
       "\n",
       "<div style=\"color:#aaa;font-size:8pt\">\n",
       "<hr/>\n",
       "\n",
       " </blockquote>\n",
       " <hr/>\n",
       "</div>\n",
       "\n"
      ],
      "text/plain": [
       "<IPython.core.display.Markdown object>"
      ]
     },
     "metadata": {},
     "output_type": "display_data"
    }
   ],
   "source": [
    "%run supportvectors-common.ipynb"
   ]
  },
  {
   "cell_type": "markdown",
   "id": "85541636",
   "metadata": {},
   "source": [
    "## Datasets\n",
    "\n",
    "\n",
    "HuggingFace provides a convenient and uniform api to access a large variety of datasets in a standardized manner. We will explore this core library in this lab.\n"
   ]
  },
  {
   "cell_type": "code",
   "execution_count": 2,
   "id": "fc50c387",
   "metadata": {
    "ExecuteTime": {
     "end_time": "2023-04-08T11:49:10.371083Z",
     "start_time": "2023-04-08T11:49:07.581077Z"
    }
   },
   "outputs": [
    {
     "name": "stdout",
     "output_type": "stream",
     "text": [
      "There are 28024 datasets present today on the HuggingFace hub!\n"
     ]
    }
   ],
   "source": [
    "# Uncomment this if you do not have datasets installed yet.\n",
    "# !pip install datasets\n",
    "\n",
    "from datasets import list_datasets\n",
    "\n",
    "available_datasets = list_datasets()\n",
    "\n",
    "print (f'There are {len(available_datasets)} datasets present today on the HuggingFace hub!')"
   ]
  },
  {
   "cell_type": "markdown",
   "id": "db2f374e",
   "metadata": {},
   "source": [
    "This is perhaps a number larger than one would have expected: it speaks to the richness of the ecosystem. We will consider the sentiment analysis as the classification task in the next lab. So let us explore a dataset appropriate for it. A dataset named `emotion` is a good choice."
   ]
  },
  {
   "cell_type": "code",
   "execution_count": 3,
   "id": "5b5a5450",
   "metadata": {
    "ExecuteTime": {
     "end_time": "2023-04-08T11:51:56.531420Z",
     "start_time": "2023-04-08T11:51:55.168412Z"
    }
   },
   "outputs": [
    {
     "name": "stderr",
     "output_type": "stream",
     "text": [
      "No config specified, defaulting to: emotion/split\n",
      "Found cached dataset emotion (/home/asif/.cache/huggingface/datasets/emotion/split/1.0.0/cca5efe2dfeb58c1d098e0f9eeb200e9927d889b5a03c67097275dfb5fe463bd)\n"
     ]
    },
    {
     "data": {
      "application/vnd.jupyter.widget-view+json": {
       "model_id": "cb39e06725164fdb95a6fdbae4c54082",
       "version_major": 2,
       "version_minor": 0
      },
      "text/plain": [
       "  0%|          | 0/3 [00:00<?, ?it/s]"
      ]
     },
     "metadata": {},
     "output_type": "display_data"
    },
    {
     "data": {
      "text/plain": [
       "DatasetDict({\n",
       "    train: Dataset({\n",
       "        features: ['text', 'label'],\n",
       "        num_rows: 16000\n",
       "    })\n",
       "    validation: Dataset({\n",
       "        features: ['text', 'label'],\n",
       "        num_rows: 2000\n",
       "    })\n",
       "    test: Dataset({\n",
       "        features: ['text', 'label'],\n",
       "        num_rows: 2000\n",
       "    })\n",
       "})"
      ]
     },
     "execution_count": 3,
     "metadata": {},
     "output_type": "execute_result"
    }
   ],
   "source": [
    "from datasets import load_dataset\n",
    "emotions = load_dataset('emotion')\n",
    "emotions"
   ]
  },
  {
   "cell_type": "markdown",
   "id": "3c06d67c",
   "metadata": {},
   "source": [
    "Conveniently for classification tasks\n",
    ", this dataset is already decomposed into the training set of 16K rows, validation set of 2K rows, and the test set of 2K rows. Let us explore the training set:"
   ]
  },
  {
   "cell_type": "code",
   "execution_count": 4,
   "id": "f722efa6",
   "metadata": {
    "ExecuteTime": {
     "end_time": "2023-04-08T11:54:13.062970Z",
     "start_time": "2023-04-08T11:54:13.058012Z"
    }
   },
   "outputs": [
    {
     "data": {
      "text/plain": [
       "Dataset({\n",
       "    features: ['text', 'label'],\n",
       "    num_rows: 16000\n",
       "})"
      ]
     },
     "execution_count": 4,
     "metadata": {},
     "output_type": "execute_result"
    }
   ],
   "source": [
    "training_dataset = emotions['train']\n",
    "training_dataset"
   ]
  },
  {
   "cell_type": "markdown",
   "id": "b0c2ff5d",
   "metadata": {},
   "source": [
    "As we would expect, this dataset contains labeled data. The feature is the text, and the label is the sentiment associated with the text. Let us look at a row:\n"
   ]
  },
  {
   "cell_type": "code",
   "execution_count": 9,
   "id": "67e0fe41",
   "metadata": {
    "ExecuteTime": {
     "end_time": "2023-04-08T11:55:40.239113Z",
     "start_time": "2023-04-08T11:55:40.233013Z"
    }
   },
   "outputs": [
    {
     "data": {
      "text/plain": [
       "{'text': 'i didnt feel humiliated', 'label': 0}"
      ]
     },
     "execution_count": 9,
     "metadata": {},
     "output_type": "execute_result"
    }
   ],
   "source": [
    "training_dataset[0]"
   ]
  },
  {
   "cell_type": "markdown",
   "id": "9c4a2281",
   "metadata": {},
   "source": [
    "The label `0` is not very informative. Let's try to relate it to the feature names."
   ]
  },
  {
   "cell_type": "code",
   "execution_count": 10,
   "id": "ee48a3b8",
   "metadata": {
    "ExecuteTime": {
     "end_time": "2023-04-08T11:56:20.334746Z",
     "start_time": "2023-04-08T11:56:20.329627Z"
    }
   },
   "outputs": [
    {
     "data": {
      "text/plain": [
       "{'text': Value(dtype='string', id=None),\n",
       " 'label': ClassLabel(names=['sadness', 'joy', 'love', 'anger', 'fear', 'surprise'], id=None)}"
      ]
     },
     "execution_count": 10,
     "metadata": {},
     "output_type": "execute_result"
    }
   ],
   "source": [
    "training_dataset.features"
   ]
  },
  {
   "cell_type": "markdown",
   "id": "5ebcad87",
   "metadata": {},
   "source": [
    "From this we gather that there are six possible sentiment labels:\n",
    "\n",
    "* sadness\n",
    "* joy\n",
    "* love\n",
    "* anger\n",
    "* fear\n",
    "* surprise\n"
   ]
  },
  {
   "cell_type": "markdown",
   "id": "b3e0572c",
   "metadata": {},
   "source": [
    "### From Dataset to Pandas Dataframe\n",
    "\n",
    "We are familiar with the `pandas.DataFrame` and use it conveniently to explore data. It turns out that the `datasets` library gives an easy bridge to `pandas.DataFrame`."
   ]
  },
  {
   "cell_type": "code",
   "execution_count": 11,
   "id": "297e9ac6",
   "metadata": {
    "ExecuteTime": {
     "end_time": "2023-04-08T12:01:34.284125Z",
     "start_time": "2023-04-08T12:01:34.261829Z"
    }
   },
   "outputs": [
    {
     "data": {
      "text/html": [
       "<div>\n",
       "<style scoped>\n",
       "    .dataframe tbody tr th:only-of-type {\n",
       "        vertical-align: middle;\n",
       "    }\n",
       "\n",
       "    .dataframe tbody tr th {\n",
       "        vertical-align: top;\n",
       "    }\n",
       "\n",
       "    .dataframe thead th {\n",
       "        text-align: right;\n",
       "    }\n",
       "</style>\n",
       "<table border=\"1\" class=\"dataframe\">\n",
       "  <thead>\n",
       "    <tr style=\"text-align: right;\">\n",
       "      <th></th>\n",
       "      <th>text</th>\n",
       "      <th>label</th>\n",
       "    </tr>\n",
       "  </thead>\n",
       "  <tbody>\n",
       "    <tr>\n",
       "      <th>0</th>\n",
       "      <td>i didnt feel humiliated</td>\n",
       "      <td>0</td>\n",
       "    </tr>\n",
       "    <tr>\n",
       "      <th>1</th>\n",
       "      <td>i can go from feeling so hopeless to so damned...</td>\n",
       "      <td>0</td>\n",
       "    </tr>\n",
       "    <tr>\n",
       "      <th>2</th>\n",
       "      <td>im grabbing a minute to post i feel greedy wrong</td>\n",
       "      <td>3</td>\n",
       "    </tr>\n",
       "    <tr>\n",
       "      <th>3</th>\n",
       "      <td>i am ever feeling nostalgic about the fireplac...</td>\n",
       "      <td>2</td>\n",
       "    </tr>\n",
       "    <tr>\n",
       "      <th>4</th>\n",
       "      <td>i am feeling grouchy</td>\n",
       "      <td>3</td>\n",
       "    </tr>\n",
       "  </tbody>\n",
       "</table>\n",
       "</div>"
      ],
      "text/plain": [
       "                                                text  label\n",
       "0                            i didnt feel humiliated      0\n",
       "1  i can go from feeling so hopeless to so damned...      0\n",
       "2   im grabbing a minute to post i feel greedy wrong      3\n",
       "3  i am ever feeling nostalgic about the fireplac...      2\n",
       "4                               i am feeling grouchy      3"
      ]
     },
     "execution_count": 11,
     "metadata": {},
     "output_type": "execute_result"
    }
   ],
   "source": [
    "emotions.set_format(type='pandas')\n",
    "training_df = emotions['train'][:]\n",
    "training_df.head()"
   ]
  },
  {
   "cell_type": "markdown",
   "id": "3b28be49",
   "metadata": {},
   "source": [
    "Let us augment this dataframe with the actual emption label name, by using the `ClassLabel.int2row()` function."
   ]
  },
  {
   "cell_type": "code",
   "execution_count": 12,
   "id": "946ca4c6",
   "metadata": {
    "ExecuteTime": {
     "end_time": "2023-04-08T12:07:18.948634Z",
     "start_time": "2023-04-08T12:07:18.920345Z"
    }
   },
   "outputs": [],
   "source": [
    "training_df['emotion_name'] = training_df['label'].apply(lambda row: training_dataset.features['label'].int2str(row))"
   ]
  },
  {
   "cell_type": "code",
   "execution_count": 13,
   "id": "d7709cdf",
   "metadata": {
    "ExecuteTime": {
     "end_time": "2023-04-08T12:10:42.525865Z",
     "start_time": "2023-04-08T12:10:42.488295Z"
    }
   },
   "outputs": [
    {
     "data": {
      "text/html": [
       "<div>\n",
       "<style scoped>\n",
       "    .dataframe tbody tr th:only-of-type {\n",
       "        vertical-align: middle;\n",
       "    }\n",
       "\n",
       "    .dataframe tbody tr th {\n",
       "        vertical-align: top;\n",
       "    }\n",
       "\n",
       "    .dataframe thead th {\n",
       "        text-align: right;\n",
       "    }\n",
       "</style>\n",
       "<table border=\"1\" class=\"dataframe\">\n",
       "  <thead>\n",
       "    <tr style=\"text-align: right;\">\n",
       "      <th></th>\n",
       "      <th>count</th>\n",
       "      <th>unique</th>\n",
       "      <th>top</th>\n",
       "      <th>freq</th>\n",
       "      <th>mean</th>\n",
       "      <th>std</th>\n",
       "      <th>min</th>\n",
       "      <th>25%</th>\n",
       "      <th>50%</th>\n",
       "      <th>75%</th>\n",
       "      <th>max</th>\n",
       "    </tr>\n",
       "  </thead>\n",
       "  <tbody>\n",
       "    <tr>\n",
       "      <th>text</th>\n",
       "      <td>16000</td>\n",
       "      <td>15969</td>\n",
       "      <td>i feel on the verge of tears from weariness i ...</td>\n",
       "      <td>2</td>\n",
       "      <td>NaN</td>\n",
       "      <td>NaN</td>\n",
       "      <td>NaN</td>\n",
       "      <td>NaN</td>\n",
       "      <td>NaN</td>\n",
       "      <td>NaN</td>\n",
       "      <td>NaN</td>\n",
       "    </tr>\n",
       "    <tr>\n",
       "      <th>label</th>\n",
       "      <td>16000.0</td>\n",
       "      <td>NaN</td>\n",
       "      <td>NaN</td>\n",
       "      <td>NaN</td>\n",
       "      <td>1.565937</td>\n",
       "      <td>1.50143</td>\n",
       "      <td>0.0</td>\n",
       "      <td>0.0</td>\n",
       "      <td>1.0</td>\n",
       "      <td>3.0</td>\n",
       "      <td>5.0</td>\n",
       "    </tr>\n",
       "    <tr>\n",
       "      <th>emotion_name</th>\n",
       "      <td>16000</td>\n",
       "      <td>6</td>\n",
       "      <td>joy</td>\n",
       "      <td>5362</td>\n",
       "      <td>NaN</td>\n",
       "      <td>NaN</td>\n",
       "      <td>NaN</td>\n",
       "      <td>NaN</td>\n",
       "      <td>NaN</td>\n",
       "      <td>NaN</td>\n",
       "      <td>NaN</td>\n",
       "    </tr>\n",
       "  </tbody>\n",
       "</table>\n",
       "</div>"
      ],
      "text/plain": [
       "                count unique  \\\n",
       "text            16000  15969   \n",
       "label         16000.0    NaN   \n",
       "emotion_name    16000      6   \n",
       "\n",
       "                                                            top  freq  \\\n",
       "text          i feel on the verge of tears from weariness i ...     2   \n",
       "label                                                       NaN   NaN   \n",
       "emotion_name                                                joy  5362   \n",
       "\n",
       "                  mean      std  min  25%  50%  75%  max  \n",
       "text               NaN      NaN  NaN  NaN  NaN  NaN  NaN  \n",
       "label         1.565937  1.50143  0.0  0.0  1.0  3.0  5.0  \n",
       "emotion_name       NaN      NaN  NaN  NaN  NaN  NaN  NaN  "
      ]
     },
     "execution_count": 13,
     "metadata": {},
     "output_type": "execute_result"
    }
   ],
   "source": [
    "training_df.describe(include='all').transpose()"
   ]
  },
  {
   "cell_type": "code",
   "execution_count": 14,
   "id": "0eaee00d",
   "metadata": {
    "ExecuteTime": {
     "end_time": "2023-04-08T12:11:00.052228Z",
     "start_time": "2023-04-08T12:11:00.039383Z"
    }
   },
   "outputs": [
    {
     "data": {
      "text/html": [
       "<div>\n",
       "<style scoped>\n",
       "    .dataframe tbody tr th:only-of-type {\n",
       "        vertical-align: middle;\n",
       "    }\n",
       "\n",
       "    .dataframe tbody tr th {\n",
       "        vertical-align: top;\n",
       "    }\n",
       "\n",
       "    .dataframe thead th {\n",
       "        text-align: right;\n",
       "    }\n",
       "</style>\n",
       "<table border=\"1\" class=\"dataframe\">\n",
       "  <thead>\n",
       "    <tr style=\"text-align: right;\">\n",
       "      <th></th>\n",
       "      <th>text</th>\n",
       "      <th>label</th>\n",
       "      <th>emotion_name</th>\n",
       "    </tr>\n",
       "  </thead>\n",
       "  <tbody>\n",
       "    <tr>\n",
       "      <th>8756</th>\n",
       "      <td>ive made it through a week i just feel beaten ...</td>\n",
       "      <td>0</td>\n",
       "      <td>sadness</td>\n",
       "    </tr>\n",
       "    <tr>\n",
       "      <th>4660</th>\n",
       "      <td>i feel this strategy is worthwhile</td>\n",
       "      <td>1</td>\n",
       "      <td>joy</td>\n",
       "    </tr>\n",
       "    <tr>\n",
       "      <th>6095</th>\n",
       "      <td>i feel so worthless and weak what does he have...</td>\n",
       "      <td>0</td>\n",
       "      <td>sadness</td>\n",
       "    </tr>\n",
       "    <tr>\n",
       "      <th>304</th>\n",
       "      <td>i feel clever nov</td>\n",
       "      <td>1</td>\n",
       "      <td>joy</td>\n",
       "    </tr>\n",
       "    <tr>\n",
       "      <th>8241</th>\n",
       "      <td>im moved in ive been feeling kind of gloomy</td>\n",
       "      <td>0</td>\n",
       "      <td>sadness</td>\n",
       "    </tr>\n",
       "    <tr>\n",
       "      <th>9577</th>\n",
       "      <td>i allowed myself to feel the really shitty fee...</td>\n",
       "      <td>0</td>\n",
       "      <td>sadness</td>\n",
       "    </tr>\n",
       "    <tr>\n",
       "      <th>1035</th>\n",
       "      <td>i feel confused too</td>\n",
       "      <td>4</td>\n",
       "      <td>fear</td>\n",
       "    </tr>\n",
       "    <tr>\n",
       "      <th>9976</th>\n",
       "      <td>i feel like a crappy mummy if were stuck in bu...</td>\n",
       "      <td>0</td>\n",
       "      <td>sadness</td>\n",
       "    </tr>\n",
       "    <tr>\n",
       "      <th>7872</th>\n",
       "      <td>i feel like i liked my hair much better before...</td>\n",
       "      <td>2</td>\n",
       "      <td>love</td>\n",
       "    </tr>\n",
       "    <tr>\n",
       "      <th>8341</th>\n",
       "      <td>i feel the self pressured expectation to keep ...</td>\n",
       "      <td>4</td>\n",
       "      <td>fear</td>\n",
       "    </tr>\n",
       "    <tr>\n",
       "      <th>10914</th>\n",
       "      <td>i get it she feel betrayed and hurt</td>\n",
       "      <td>0</td>\n",
       "      <td>sadness</td>\n",
       "    </tr>\n",
       "    <tr>\n",
       "      <th>5815</th>\n",
       "      <td>i cant shake off my feelings of being offended...</td>\n",
       "      <td>3</td>\n",
       "      <td>anger</td>\n",
       "    </tr>\n",
       "    <tr>\n",
       "      <th>11298</th>\n",
       "      <td>i feel like i need a artistic community or a f...</td>\n",
       "      <td>1</td>\n",
       "      <td>joy</td>\n",
       "    </tr>\n",
       "    <tr>\n",
       "      <th>14444</th>\n",
       "      <td>i feel so useless and stupid</td>\n",
       "      <td>0</td>\n",
       "      <td>sadness</td>\n",
       "    </tr>\n",
       "    <tr>\n",
       "      <th>8670</th>\n",
       "      <td>i was happy with the progress but i was also b...</td>\n",
       "      <td>0</td>\n",
       "      <td>sadness</td>\n",
       "    </tr>\n",
       "    <tr>\n",
       "      <th>3128</th>\n",
       "      <td>i feel overwhelmed and i want to forget it all</td>\n",
       "      <td>5</td>\n",
       "      <td>surprise</td>\n",
       "    </tr>\n",
       "    <tr>\n",
       "      <th>5514</th>\n",
       "      <td>i bet you are feeling really mad and hurt</td>\n",
       "      <td>3</td>\n",
       "      <td>anger</td>\n",
       "    </tr>\n",
       "    <tr>\n",
       "      <th>8498</th>\n",
       "      <td>i feel lucky on my birthday</td>\n",
       "      <td>1</td>\n",
       "      <td>joy</td>\n",
       "    </tr>\n",
       "    <tr>\n",
       "      <th>11492</th>\n",
       "      <td>i blinded feelings i meant liked stupid i</td>\n",
       "      <td>2</td>\n",
       "      <td>love</td>\n",
       "    </tr>\n",
       "    <tr>\n",
       "      <th>5028</th>\n",
       "      <td>i am feeling so stunned and sad about the eart...</td>\n",
       "      <td>5</td>\n",
       "      <td>surprise</td>\n",
       "    </tr>\n",
       "  </tbody>\n",
       "</table>\n",
       "</div>"
      ],
      "text/plain": [
       "                                                    text  label emotion_name\n",
       "8756   ive made it through a week i just feel beaten ...      0      sadness\n",
       "4660                  i feel this strategy is worthwhile      1          joy\n",
       "6095   i feel so worthless and weak what does he have...      0      sadness\n",
       "304                                    i feel clever nov      1          joy\n",
       "8241         im moved in ive been feeling kind of gloomy      0      sadness\n",
       "9577   i allowed myself to feel the really shitty fee...      0      sadness\n",
       "1035                                 i feel confused too      4         fear\n",
       "9976   i feel like a crappy mummy if were stuck in bu...      0      sadness\n",
       "7872   i feel like i liked my hair much better before...      2         love\n",
       "8341   i feel the self pressured expectation to keep ...      4         fear\n",
       "10914                i get it she feel betrayed and hurt      0      sadness\n",
       "5815   i cant shake off my feelings of being offended...      3        anger\n",
       "11298  i feel like i need a artistic community or a f...      1          joy\n",
       "14444                       i feel so useless and stupid      0      sadness\n",
       "8670   i was happy with the progress but i was also b...      0      sadness\n",
       "3128      i feel overwhelmed and i want to forget it all      5     surprise\n",
       "5514           i bet you are feeling really mad and hurt      3        anger\n",
       "8498                         i feel lucky on my birthday      1          joy\n",
       "11492          i blinded feelings i meant liked stupid i      2         love\n",
       "5028   i am feeling so stunned and sad about the eart...      5     surprise"
      ]
     },
     "execution_count": 14,
     "metadata": {},
     "output_type": "execute_result"
    }
   ],
   "source": [
    "training_df.sample(20)"
   ]
  },
  {
   "cell_type": "markdown",
   "id": "501fcfaa",
   "metadata": {},
   "source": [
    "#### `pandas.DataFrame` to `Dataset`\n",
    "\n",
    "Most data scientists are familiar with the `pandas.DataFrame`, and fluent with data wrangling using it. It may interest the reader to learn that `pandas` has released a high-performance and memory efficient `pyarrow` backend to `pandas` in their version 2. \n",
    "\n",
    "Creating the huggingface `Dataset` from a `pandas.DataFrame` is relatively straightforward:"
   ]
  },
  {
   "cell_type": "code",
   "execution_count": 32,
   "id": "b975a6bb",
   "metadata": {},
   "outputs": [
    {
     "data": {
      "text/html": [
       "<div>\n",
       "<style scoped>\n",
       "    .dataframe tbody tr th:only-of-type {\n",
       "        vertical-align: middle;\n",
       "    }\n",
       "\n",
       "    .dataframe tbody tr th {\n",
       "        vertical-align: top;\n",
       "    }\n",
       "\n",
       "    .dataframe thead th {\n",
       "        text-align: right;\n",
       "    }\n",
       "</style>\n",
       "<table border=\"1\" class=\"dataframe\">\n",
       "  <thead>\n",
       "    <tr style=\"text-align: right;\">\n",
       "      <th></th>\n",
       "      <th>count</th>\n",
       "      <th>mean</th>\n",
       "      <th>std</th>\n",
       "      <th>min</th>\n",
       "      <th>25%</th>\n",
       "      <th>50%</th>\n",
       "      <th>75%</th>\n",
       "      <th>max</th>\n",
       "    </tr>\n",
       "  </thead>\n",
       "  <tbody>\n",
       "    <tr>\n",
       "      <th>x1</th>\n",
       "      <td>1000.0</td>\n",
       "      <td>0.500000</td>\n",
       "      <td>0.289109</td>\n",
       "      <td>0.0</td>\n",
       "      <td>0.250000</td>\n",
       "      <td>0.500000</td>\n",
       "      <td>0.750000</td>\n",
       "      <td>1.000000</td>\n",
       "    </tr>\n",
       "    <tr>\n",
       "      <th>x2</th>\n",
       "      <td>1000.0</td>\n",
       "      <td>0.459659</td>\n",
       "      <td>0.248057</td>\n",
       "      <td>0.0</td>\n",
       "      <td>0.247404</td>\n",
       "      <td>0.479425</td>\n",
       "      <td>0.681639</td>\n",
       "      <td>0.841471</td>\n",
       "    </tr>\n",
       "    <tr>\n",
       "      <th>x3</th>\n",
       "      <td>1000.0</td>\n",
       "      <td>0.386255</td>\n",
       "      <td>0.198030</td>\n",
       "      <td>0.0</td>\n",
       "      <td>0.223143</td>\n",
       "      <td>0.405465</td>\n",
       "      <td>0.559616</td>\n",
       "      <td>0.693147</td>\n",
       "    </tr>\n",
       "  </tbody>\n",
       "</table>\n",
       "</div>"
      ],
      "text/plain": [
       "     count      mean       std  min       25%       50%       75%       max\n",
       "x1  1000.0  0.500000  0.289109  0.0  0.250000  0.500000  0.750000  1.000000\n",
       "x2  1000.0  0.459659  0.248057  0.0  0.247404  0.479425  0.681639  0.841471\n",
       "x3  1000.0  0.386255  0.198030  0.0  0.223143  0.405465  0.559616  0.693147"
      ]
     },
     "execution_count": 32,
     "metadata": {},
     "output_type": "execute_result"
    }
   ],
   "source": [
    "x1 = np.linspace(0, 1, 1000)\n",
    "x2 = np.sin(x)\n",
    "x3 = np.log(1+x1)\n",
    "\n",
    "data = pd.DataFrame(data={'x1': x1, 'x2':x2, 'x3': x3})\n",
    "data.describe().transpose()"
   ]
  },
  {
   "cell_type": "markdown",
   "id": "6d0ea093",
   "metadata": {},
   "source": [
    "Let us now create a huggingface `Dataset` object:"
   ]
  },
  {
   "cell_type": "code",
   "execution_count": 33,
   "id": "677746b6",
   "metadata": {},
   "outputs": [
    {
     "data": {
      "text/plain": [
       "Dataset({\n",
       "    features: ['x1', 'x2', 'x3'],\n",
       "    num_rows: 1000\n",
       "})"
      ]
     },
     "execution_count": 33,
     "metadata": {},
     "output_type": "execute_result"
    }
   ],
   "source": [
    "from datasets import Dataset\n",
    "ds = Dataset.from_pandas(data)\n",
    "ds"
   ]
  },
  {
   "cell_type": "code",
   "execution_count": null,
   "id": "36547624",
   "metadata": {},
   "outputs": [],
   "source": []
  }
 ],
 "metadata": {
  "hide_input": false,
  "kernelspec": {
   "display_name": "Python 3 (ipykernel)",
   "language": "python",
   "name": "python3"
  },
  "language_info": {
   "codemirror_mode": {
    "name": "ipython",
    "version": 3
   },
   "file_extension": ".py",
   "mimetype": "text/x-python",
   "name": "python",
   "nbconvert_exporter": "python",
   "pygments_lexer": "ipython3",
   "version": "3.10.9"
  },
  "varInspector": {
   "cols": {
    "lenName": 16,
    "lenType": 16,
    "lenVar": 40
   },
   "kernels_config": {
    "python": {
     "delete_cmd_postfix": "",
     "delete_cmd_prefix": "del ",
     "library": "var_list.py",
     "varRefreshCmd": "print(var_dic_list())"
    },
    "r": {
     "delete_cmd_postfix": ") ",
     "delete_cmd_prefix": "rm(",
     "library": "var_list.r",
     "varRefreshCmd": "cat(var_dic_list()) "
    }
   },
   "types_to_exclude": [
    "module",
    "function",
    "builtin_function_or_method",
    "instance",
    "_Feature"
   ],
   "window_display": false
  }
 },
 "nbformat": 4,
 "nbformat_minor": 5
}
