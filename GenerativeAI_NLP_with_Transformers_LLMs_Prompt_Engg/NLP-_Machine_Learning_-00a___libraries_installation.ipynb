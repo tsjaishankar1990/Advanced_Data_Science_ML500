{
 "cells": [
  {
   "cell_type": "markdown",
   "id": "25c6604d",
   "metadata": {},
   "source": [
    "\n",
    "\n",
    "# Installation of the data science libraries\n",
    "\n",
    "In this exercise, we will ensure that our environment has all the necessary libraries installed. If you are not using the VM provided for the workshop, then download and install the latest version of `anaconda` python distribution onto your workstation (or the cloud VM instance that you are using).\n",
    "\n",
    "After that, pull the relevant git repository from the supportvectors github site 'data-wrangling-v2'. This current notebook belongs to that repository. Once you have fired up the `jupyter notebook` and navigated to the directory where you have cloned the repository, open the notebook `DW-Lesson-0__libraries_installation.ipynb`.\n",
    "\n",
    "## Steps\n",
    "\n",
    "**Caveat Emptor** Run the following cells only once on a given workstation; it is *not* necessary to run it everytime you start your jupyter environment. If you are using the SupportVectors VM, then it has already been done for you, so you can skip the below exercise altogether.\n",
    "\n",
    "### Step 0\n",
    "\n",
    "Mark this notebook as trusted, by clicking the `Not Trusted` button near the top-right of the notebook."
   ]
  },
  {
   "cell_type": "markdown",
   "id": "7fe76e08",
   "metadata": {},
   "source": [
    "### Step 1\n",
    "\n",
    "Mark the notebooks in the directory as trusted. This is essential, otherwise, you will have to re-execute the entire notebook to see all the plots, etc. sometimes."
   ]
  },
  {
   "cell_type": "code",
   "execution_count": 1,
   "id": "443109f3",
   "metadata": {
    "ExecuteTime": {
     "end_time": "2023-03-22T22:00:40.210695Z",
     "start_time": "2023-03-22T22:00:35.259695Z"
    }
   },
   "outputs": [],
   "source": [
    "! ./trust.sh"
   ]
  },
  {
   "cell_type": "markdown",
   "id": "1bfaa110",
   "metadata": {},
   "source": [
    "### Step 2\n",
    "\n",
    "Run the following cell to install the libraries we need for this workshop, and/or ensure that they are the latest versions."
   ]
  },
  {
   "cell_type": "code",
   "execution_count": 2,
   "id": "2089c2b6",
   "metadata": {
    "ExecuteTime": {
     "end_time": "2023-03-22T22:00:48.030357Z",
     "start_time": "2023-03-22T22:00:40.211696Z"
    },
    "scrolled": false
   },
   "outputs": [
    {
     "name": "stdout",
     "output_type": "stream",
     "text": [
      "Requirement already satisfied: numpy in c:\\users\\asif\\appdata\\roaming\\python\\python39\\site-packages (from -r requirements.txt (line 1)) (1.24.2)\n",
      "Requirement already satisfied: scipy in c:\\users\\asif\\appdata\\roaming\\python\\python39\\site-packages (from -r requirements.txt (line 2)) (1.10.1)\n",
      "Requirement already satisfied: pandas in c:\\users\\asif\\appdata\\roaming\\python\\python39\\site-packages (from -r requirements.txt (line 3)) (1.5.3)\n",
      "Requirement already satisfied: sklearn in c:\\users\\asif\\anaconda3\\lib\\site-packages (from -r requirements.txt (line 4)) (0.0.post1)\n",
      "Requirement already satisfied: yellowbrick in c:\\users\\asif\\anaconda3\\lib\\site-packages (from -r requirements.txt (line 5)) (1.5)\n",
      "Requirement already satisfied: matplotlib in c:\\users\\asif\\anaconda3\\lib\\site-packages (from -r requirements.txt (line 6)) (3.7.1)\n",
      "Requirement already satisfied: seaborn in c:\\users\\asif\\appdata\\roaming\\python\\python39\\site-packages (from -r requirements.txt (line 7)) (0.12.2)\n",
      "Requirement already satisfied: altair in c:\\users\\asif\\anaconda3\\lib\\site-packages (from -r requirements.txt (line 8)) (4.2.2)\n",
      "Requirement already satisfied: plotly in c:\\users\\asif\\anaconda3\\lib\\site-packages (from -r requirements.txt (line 9)) (5.13.1)\n",
      "Requirement already satisfied: pandas_bokeh in c:\\users\\asif\\appdata\\roaming\\python\\python39\\site-packages (from -r requirements.txt (line 10)) (0.5.5)\n",
      "Requirement already satisfied: streamlit in c:\\users\\asif\\appdata\\roaming\\python\\python39\\site-packages (from -r requirements.txt (line 11)) (1.20.0)\n",
      "Requirement already satisfied: ipyplot in c:\\users\\asif\\anaconda3\\lib\\site-packages (from -r requirements.txt (line 12)) (1.1.1)\n",
      "Requirement already satisfied: jupyter_contrib_nbextensions in c:\\users\\asif\\appdata\\roaming\\python\\python39\\site-packages (from -r requirements.txt (line 13)) (0.7.0)\n",
      "Requirement already satisfied: python-dateutil>=2.8.1 in c:\\users\\asif\\anaconda3\\lib\\site-packages (from pandas->-r requirements.txt (line 3)) (2.8.2)\n",
      "Requirement already satisfied: pytz>=2020.1 in c:\\users\\asif\\anaconda3\\lib\\site-packages (from pandas->-r requirements.txt (line 3)) (2022.1)\n",
      "Requirement already satisfied: cycler>=0.10.0 in c:\\users\\asif\\anaconda3\\lib\\site-packages (from yellowbrick->-r requirements.txt (line 5)) (0.11.0)\n",
      "Requirement already satisfied: scikit-learn>=1.0.0 in c:\\users\\asif\\anaconda3\\lib\\site-packages (from yellowbrick->-r requirements.txt (line 5)) (1.0.2)\n",
      "Requirement already satisfied: pyparsing>=2.3.1 in c:\\users\\asif\\anaconda3\\lib\\site-packages (from matplotlib->-r requirements.txt (line 6)) (3.0.9)\n",
      "Requirement already satisfied: contourpy>=1.0.1 in c:\\users\\asif\\appdata\\roaming\\python\\python39\\site-packages (from matplotlib->-r requirements.txt (line 6)) (1.0.7)\n",
      "Requirement already satisfied: kiwisolver>=1.0.1 in c:\\users\\asif\\anaconda3\\lib\\site-packages (from matplotlib->-r requirements.txt (line 6)) (1.4.2)\n",
      "Requirement already satisfied: importlib-resources>=3.2.0 in c:\\users\\asif\\appdata\\roaming\\python\\python39\\site-packages (from matplotlib->-r requirements.txt (line 6)) (5.12.0)\n",
      "Requirement already satisfied: packaging>=20.0 in c:\\users\\asif\\anaconda3\\lib\\site-packages (from matplotlib->-r requirements.txt (line 6)) (21.3)\n",
      "Requirement already satisfied: pillow>=6.2.0 in c:\\users\\asif\\anaconda3\\lib\\site-packages (from matplotlib->-r requirements.txt (line 6)) (9.2.0)\n",
      "Requirement already satisfied: fonttools>=4.22.0 in c:\\users\\asif\\anaconda3\\lib\\site-packages (from matplotlib->-r requirements.txt (line 6)) (4.25.0)\n",
      "Requirement already satisfied: toolz in c:\\users\\asif\\anaconda3\\lib\\site-packages (from altair->-r requirements.txt (line 8)) (0.11.2)\n",
      "Requirement already satisfied: jsonschema>=3.0 in c:\\users\\asif\\anaconda3\\lib\\site-packages (from altair->-r requirements.txt (line 8)) (4.16.0)\n",
      "Requirement already satisfied: entrypoints in c:\\users\\asif\\anaconda3\\lib\\site-packages (from altair->-r requirements.txt (line 8)) (0.4)\n",
      "Requirement already satisfied: jinja2 in c:\\users\\asif\\appdata\\roaming\\python\\python39\\site-packages (from altair->-r requirements.txt (line 8)) (3.0.3)\n",
      "Requirement already satisfied: tenacity>=6.2.0 in c:\\users\\asif\\anaconda3\\lib\\site-packages (from plotly->-r requirements.txt (line 9)) (8.2.2)\n",
      "Requirement already satisfied: bokeh>=2.0 in c:\\users\\asif\\anaconda3\\lib\\site-packages (from pandas_bokeh->-r requirements.txt (line 10)) (2.4.3)\n",
      "Requirement already satisfied: watchdog in c:\\users\\asif\\anaconda3\\lib\\site-packages (from streamlit->-r requirements.txt (line 11)) (2.1.6)\n",
      "Requirement already satisfied: semver in c:\\users\\asif\\anaconda3\\lib\\site-packages (from streamlit->-r requirements.txt (line 11)) (2.13.0)\n",
      "Requirement already satisfied: pydeck>=0.1.dev5 in c:\\users\\asif\\appdata\\roaming\\python\\python39\\site-packages (from streamlit->-r requirements.txt (line 11)) (0.8.0)\n",
      "Requirement already satisfied: importlib-metadata>=1.4 in c:\\users\\asif\\anaconda3\\lib\\site-packages (from streamlit->-r requirements.txt (line 11)) (4.11.3)\n",
      "Requirement already satisfied: gitpython!=3.1.19 in c:\\users\\asif\\appdata\\roaming\\python\\python39\\site-packages (from streamlit->-r requirements.txt (line 11)) (3.1.31)\n",
      "Requirement already satisfied: typing-extensions>=3.10.0.0 in c:\\users\\asif\\anaconda3\\lib\\site-packages (from streamlit->-r requirements.txt (line 11)) (4.3.0)\n",
      "Requirement already satisfied: pyarrow>=4.0 in c:\\users\\asif\\appdata\\roaming\\python\\python39\\site-packages (from streamlit->-r requirements.txt (line 11)) (11.0.0)\n",
      "Requirement already satisfied: cachetools>=4.0 in c:\\users\\asif\\appdata\\roaming\\python\\python39\\site-packages (from streamlit->-r requirements.txt (line 11)) (5.3.0)\n",
      "Requirement already satisfied: tornado>=6.0.3 in c:\\users\\asif\\anaconda3\\lib\\site-packages (from streamlit->-r requirements.txt (line 11)) (6.1)\n",
      "Requirement already satisfied: protobuf<4,>=3.12 in c:\\users\\asif\\anaconda3\\lib\\site-packages (from streamlit->-r requirements.txt (line 11)) (3.20.3)\n",
      "Requirement already satisfied: toml in c:\\users\\asif\\anaconda3\\lib\\site-packages (from streamlit->-r requirements.txt (line 11)) (0.10.2)\n",
      "Requirement already satisfied: requests>=2.4 in c:\\users\\asif\\anaconda3\\lib\\site-packages (from streamlit->-r requirements.txt (line 11)) (2.28.1)\n",
      "Requirement already satisfied: rich>=10.11.0 in c:\\users\\asif\\appdata\\roaming\\python\\python39\\site-packages (from streamlit->-r requirements.txt (line 11)) (13.3.1)\n",
      "Requirement already satisfied: blinker>=1.0.0 in c:\\users\\asif\\appdata\\roaming\\python\\python39\\site-packages (from streamlit->-r requirements.txt (line 11)) (1.5)\n",
      "Requirement already satisfied: tzlocal>=1.1 in c:\\users\\asif\\appdata\\roaming\\python\\python39\\site-packages (from streamlit->-r requirements.txt (line 11)) (4.2)\n",
      "Requirement already satisfied: validators>=0.2 in c:\\users\\asif\\anaconda3\\lib\\site-packages (from streamlit->-r requirements.txt (line 11)) (0.20.0)\n",
      "Requirement already satisfied: click>=7.0 in c:\\users\\asif\\anaconda3\\lib\\site-packages (from streamlit->-r requirements.txt (line 11)) (8.0.4)\n",
      "Requirement already satisfied: pympler>=0.9 in c:\\users\\asif\\anaconda3\\lib\\site-packages (from streamlit->-r requirements.txt (line 11)) (1.0.1)\n",
      "Requirement already satisfied: IPython in c:\\users\\asif\\anaconda3\\lib\\site-packages (from ipyplot->-r requirements.txt (line 12)) (7.31.1)\n",
      "Requirement already satisfied: shortuuid in c:\\users\\asif\\anaconda3\\lib\\site-packages (from ipyplot->-r requirements.txt (line 12)) (1.0.11)\n",
      "Requirement already satisfied: jupyter-core in c:\\users\\asif\\anaconda3\\lib\\site-packages (from jupyter_contrib_nbextensions->-r requirements.txt (line 13)) (4.11.1)\n",
      "Requirement already satisfied: traitlets>=4.1 in c:\\users\\asif\\anaconda3\\lib\\site-packages (from jupyter_contrib_nbextensions->-r requirements.txt (line 13)) (5.1.1)\n",
      "Requirement already satisfied: nbconvert>=6.0 in c:\\users\\asif\\anaconda3\\lib\\site-packages (from jupyter_contrib_nbextensions->-r requirements.txt (line 13)) (6.4.4)\n",
      "Requirement already satisfied: jupyter-contrib-core>=0.3.3 in c:\\users\\asif\\appdata\\roaming\\python\\python39\\site-packages (from jupyter_contrib_nbextensions->-r requirements.txt (line 13)) (0.4.2)\n",
      "Requirement already satisfied: lxml in c:\\users\\asif\\anaconda3\\lib\\site-packages (from jupyter_contrib_nbextensions->-r requirements.txt (line 13)) (4.9.1)\n",
      "Requirement already satisfied: jupyter-highlight-selected-word>=0.1.1 in c:\\users\\asif\\anaconda3\\lib\\site-packages (from jupyter_contrib_nbextensions->-r requirements.txt (line 13)) (0.2.0)\n",
      "Requirement already satisfied: ipython-genutils in c:\\users\\asif\\anaconda3\\lib\\site-packages (from jupyter_contrib_nbextensions->-r requirements.txt (line 13)) (0.2.0)\n",
      "Requirement already satisfied: notebook>=6.0 in c:\\users\\asif\\anaconda3\\lib\\site-packages (from jupyter_contrib_nbextensions->-r requirements.txt (line 13)) (6.4.12)\n",
      "Requirement already satisfied: jupyter-nbextensions-configurator>=0.4.0 in c:\\users\\asif\\appdata\\roaming\\python\\python39\\site-packages (from jupyter_contrib_nbextensions->-r requirements.txt (line 13)) (0.6.1)\n",
      "Requirement already satisfied: PyYAML>=3.10 in c:\\users\\asif\\anaconda3\\lib\\site-packages (from bokeh>=2.0->pandas_bokeh->-r requirements.txt (line 10)) (6.0)\n",
      "Requirement already satisfied: colorama in c:\\users\\asif\\anaconda3\\lib\\site-packages (from click>=7.0->streamlit->-r requirements.txt (line 11)) (0.4.6)\n",
      "Requirement already satisfied: gitdb<5,>=4.0.1 in c:\\users\\asif\\appdata\\roaming\\python\\python39\\site-packages (from gitpython!=3.1.19->streamlit->-r requirements.txt (line 11)) (4.0.10)\n",
      "Requirement already satisfied: zipp>=0.5 in c:\\users\\asif\\anaconda3\\lib\\site-packages (from importlib-metadata>=1.4->streamlit->-r requirements.txt (line 11)) (3.8.0)\n",
      "Requirement already satisfied: MarkupSafe>=2.0 in c:\\users\\asif\\appdata\\roaming\\python\\python39\\site-packages (from jinja2->altair->-r requirements.txt (line 8)) (2.1.2)\n",
      "Requirement already satisfied: pyrsistent!=0.17.0,!=0.17.1,!=0.17.2,>=0.14.0 in c:\\users\\asif\\anaconda3\\lib\\site-packages (from jsonschema>=3.0->altair->-r requirements.txt (line 8)) (0.18.0)\n",
      "Requirement already satisfied: attrs>=17.4.0 in c:\\users\\asif\\anaconda3\\lib\\site-packages (from jsonschema>=3.0->altair->-r requirements.txt (line 8)) (21.4.0)\n",
      "Requirement already satisfied: setuptools in c:\\users\\asif\\anaconda3\\lib\\site-packages (from jupyter-contrib-core>=0.3.3->jupyter_contrib_nbextensions->-r requirements.txt (line 13)) (60.10.0)\n",
      "Requirement already satisfied: pygments>=2.4.1 in c:\\users\\asif\\anaconda3\\lib\\site-packages (from nbconvert>=6.0->jupyter_contrib_nbextensions->-r requirements.txt (line 13)) (2.14.0)\n",
      "Requirement already satisfied: pandocfilters>=1.4.1 in c:\\users\\asif\\anaconda3\\lib\\site-packages (from nbconvert>=6.0->jupyter_contrib_nbextensions->-r requirements.txt (line 13)) (1.5.0)\n",
      "Requirement already satisfied: testpath in c:\\users\\asif\\anaconda3\\lib\\site-packages (from nbconvert>=6.0->jupyter_contrib_nbextensions->-r requirements.txt (line 13)) (0.6.0)\n",
      "Requirement already satisfied: defusedxml in c:\\users\\asif\\anaconda3\\lib\\site-packages (from nbconvert>=6.0->jupyter_contrib_nbextensions->-r requirements.txt (line 13)) (0.7.1)\n",
      "Requirement already satisfied: bleach in c:\\users\\asif\\anaconda3\\lib\\site-packages (from nbconvert>=6.0->jupyter_contrib_nbextensions->-r requirements.txt (line 13)) (4.1.0)\n",
      "Requirement already satisfied: mistune<2,>=0.8.1 in c:\\users\\asif\\anaconda3\\lib\\site-packages (from nbconvert>=6.0->jupyter_contrib_nbextensions->-r requirements.txt (line 13)) (0.8.4)\n",
      "Requirement already satisfied: nbclient<0.6.0,>=0.5.0 in c:\\users\\asif\\anaconda3\\lib\\site-packages (from nbconvert>=6.0->jupyter_contrib_nbextensions->-r requirements.txt (line 13)) (0.5.13)\n",
      "Requirement already satisfied: nbformat>=4.4 in c:\\users\\asif\\anaconda3\\lib\\site-packages (from nbconvert>=6.0->jupyter_contrib_nbextensions->-r requirements.txt (line 13)) (5.5.0)\n",
      "Requirement already satisfied: beautifulsoup4 in c:\\users\\asif\\anaconda3\\lib\\site-packages (from nbconvert>=6.0->jupyter_contrib_nbextensions->-r requirements.txt (line 13)) (4.11.1)\n",
      "Requirement already satisfied: jupyterlab-pygments in c:\\users\\asif\\anaconda3\\lib\\site-packages (from nbconvert>=6.0->jupyter_contrib_nbextensions->-r requirements.txt (line 13)) (0.1.2)\n",
      "Requirement already satisfied: prometheus-client in c:\\users\\asif\\anaconda3\\lib\\site-packages (from notebook>=6.0->jupyter_contrib_nbextensions->-r requirements.txt (line 13)) (0.14.1)\n",
      "Requirement already satisfied: pyzmq>=17 in c:\\users\\asif\\anaconda3\\lib\\site-packages (from notebook>=6.0->jupyter_contrib_nbextensions->-r requirements.txt (line 13)) (23.2.0)\n",
      "Requirement already satisfied: ipykernel in c:\\users\\asif\\anaconda3\\lib\\site-packages (from notebook>=6.0->jupyter_contrib_nbextensions->-r requirements.txt (line 13)) (6.15.2)\n",
      "Requirement already satisfied: terminado>=0.8.3 in c:\\users\\asif\\anaconda3\\lib\\site-packages (from notebook>=6.0->jupyter_contrib_nbextensions->-r requirements.txt (line 13)) (0.13.1)\n",
      "Requirement already satisfied: Send2Trash>=1.8.0 in c:\\users\\asif\\anaconda3\\lib\\site-packages (from notebook>=6.0->jupyter_contrib_nbextensions->-r requirements.txt (line 13)) (1.8.0)\n",
      "Requirement already satisfied: nest-asyncio>=1.5 in c:\\users\\asif\\anaconda3\\lib\\site-packages (from notebook>=6.0->jupyter_contrib_nbextensions->-r requirements.txt (line 13)) (1.5.5)\n",
      "Requirement already satisfied: jupyter-client>=5.3.4 in c:\\users\\asif\\anaconda3\\lib\\site-packages (from notebook>=6.0->jupyter_contrib_nbextensions->-r requirements.txt (line 13)) (7.3.4)\n",
      "Requirement already satisfied: argon2-cffi in c:\\users\\asif\\anaconda3\\lib\\site-packages (from notebook>=6.0->jupyter_contrib_nbextensions->-r requirements.txt (line 13)) (21.3.0)\n",
      "Requirement already satisfied: pywin32>=1.0 in c:\\users\\asif\\anaconda3\\lib\\site-packages (from jupyter-core->jupyter_contrib_nbextensions->-r requirements.txt (line 13)) (302)\n",
      "Requirement already satisfied: six>=1.5 in c:\\users\\asif\\anaconda3\\lib\\site-packages (from python-dateutil>=2.8.1->pandas->-r requirements.txt (line 3)) (1.16.0)\n",
      "Requirement already satisfied: certifi>=2017.4.17 in c:\\users\\asif\\anaconda3\\lib\\site-packages (from requests>=2.4->streamlit->-r requirements.txt (line 11)) (2022.12.7)\n",
      "Requirement already satisfied: charset-normalizer<3,>=2 in c:\\users\\asif\\anaconda3\\lib\\site-packages (from requests>=2.4->streamlit->-r requirements.txt (line 11)) (2.0.4)\n",
      "Requirement already satisfied: idna<4,>=2.5 in c:\\users\\asif\\anaconda3\\lib\\site-packages (from requests>=2.4->streamlit->-r requirements.txt (line 11)) (3.3)\n",
      "Requirement already satisfied: urllib3<1.27,>=1.21.1 in c:\\users\\asif\\anaconda3\\lib\\site-packages (from requests>=2.4->streamlit->-r requirements.txt (line 11)) (1.26.11)\n",
      "Requirement already satisfied: markdown-it-py<3.0.0,>=2.1.0 in c:\\users\\asif\\appdata\\roaming\\python\\python39\\site-packages (from rich>=10.11.0->streamlit->-r requirements.txt (line 11)) (2.1.0)\n",
      "Requirement already satisfied: joblib>=0.11 in c:\\users\\asif\\anaconda3\\lib\\site-packages (from scikit-learn>=1.0.0->yellowbrick->-r requirements.txt (line 5)) (1.1.0)\n",
      "Requirement already satisfied: threadpoolctl>=2.0.0 in c:\\users\\asif\\anaconda3\\lib\\site-packages (from scikit-learn>=1.0.0->yellowbrick->-r requirements.txt (line 5)) (2.2.0)\n",
      "Requirement already satisfied: pytz-deprecation-shim in c:\\users\\asif\\anaconda3\\lib\\site-packages (from tzlocal>=1.1->streamlit->-r requirements.txt (line 11)) (0.1.0.post0)\n",
      "Requirement already satisfied: tzdata in c:\\users\\asif\\anaconda3\\lib\\site-packages (from tzlocal>=1.1->streamlit->-r requirements.txt (line 11)) (2022.7)\n",
      "Requirement already satisfied: decorator>=3.4.0 in c:\\users\\asif\\anaconda3\\lib\\site-packages (from validators>=0.2->streamlit->-r requirements.txt (line 11)) (5.1.1)\n",
      "Requirement already satisfied: pickleshare in c:\\users\\asif\\anaconda3\\lib\\site-packages (from IPython->ipyplot->-r requirements.txt (line 12)) (0.7.5)\n",
      "Requirement already satisfied: jedi>=0.16 in c:\\users\\asif\\anaconda3\\lib\\site-packages (from IPython->ipyplot->-r requirements.txt (line 12)) (0.18.1)\n",
      "Requirement already satisfied: backcall in c:\\users\\asif\\anaconda3\\lib\\site-packages (from IPython->ipyplot->-r requirements.txt (line 12)) (0.2.0)\n",
      "Requirement already satisfied: matplotlib-inline in c:\\users\\asif\\anaconda3\\lib\\site-packages (from IPython->ipyplot->-r requirements.txt (line 12)) (0.1.6)\n",
      "Requirement already satisfied: prompt-toolkit!=3.0.0,!=3.0.1,<3.1.0,>=2.0.0 in c:\\users\\asif\\anaconda3\\lib\\site-packages (from IPython->ipyplot->-r requirements.txt (line 12)) (3.0.20)\n",
      "Requirement already satisfied: smmap<6,>=3.0.1 in c:\\users\\asif\\anaconda3\\lib\\site-packages (from gitdb<5,>=4.0.1->gitpython!=3.1.19->streamlit->-r requirements.txt (line 11)) (5.0.0)\n",
      "Requirement already satisfied: parso<0.9.0,>=0.8.0 in c:\\users\\asif\\anaconda3\\lib\\site-packages (from jedi>=0.16->IPython->ipyplot->-r requirements.txt (line 12)) (0.8.3)\n",
      "Requirement already satisfied: mdurl~=0.1 in c:\\users\\asif\\appdata\\roaming\\python\\python39\\site-packages (from markdown-it-py<3.0.0,>=2.1.0->rich>=10.11.0->streamlit->-r requirements.txt (line 11)) (0.1.2)\n",
      "Requirement already satisfied: fastjsonschema in c:\\users\\asif\\anaconda3\\lib\\site-packages (from nbformat>=4.4->nbconvert>=6.0->jupyter_contrib_nbextensions->-r requirements.txt (line 13)) (2.16.2)\n",
      "Requirement already satisfied: wcwidth in c:\\users\\asif\\anaconda3\\lib\\site-packages (from prompt-toolkit!=3.0.0,!=3.0.1,<3.1.0,>=2.0.0->IPython->ipyplot->-r requirements.txt (line 12)) (0.2.5)\n",
      "Requirement already satisfied: pywinpty>=1.1.0 in c:\\users\\asif\\anaconda3\\lib\\site-packages (from terminado>=0.8.3->notebook>=6.0->jupyter_contrib_nbextensions->-r requirements.txt (line 13)) (2.0.2)\n",
      "Requirement already satisfied: argon2-cffi-bindings in c:\\users\\asif\\anaconda3\\lib\\site-packages (from argon2-cffi->notebook>=6.0->jupyter_contrib_nbextensions->-r requirements.txt (line 13)) (21.2.0)\n",
      "Requirement already satisfied: soupsieve>1.2 in c:\\users\\asif\\anaconda3\\lib\\site-packages (from beautifulsoup4->nbconvert>=6.0->jupyter_contrib_nbextensions->-r requirements.txt (line 13)) (2.3.1)\n",
      "Requirement already satisfied: webencodings in c:\\users\\asif\\anaconda3\\lib\\site-packages (from bleach->nbconvert>=6.0->jupyter_contrib_nbextensions->-r requirements.txt (line 13)) (0.5.1)\n",
      "Requirement already satisfied: debugpy>=1.0 in c:\\users\\asif\\anaconda3\\lib\\site-packages (from ipykernel->notebook>=6.0->jupyter_contrib_nbextensions->-r requirements.txt (line 13)) (1.5.1)\n",
      "Requirement already satisfied: psutil in c:\\users\\asif\\anaconda3\\lib\\site-packages (from ipykernel->notebook>=6.0->jupyter_contrib_nbextensions->-r requirements.txt (line 13)) (5.9.0)\n",
      "Requirement already satisfied: cffi>=1.0.1 in c:\\users\\asif\\anaconda3\\lib\\site-packages (from argon2-cffi-bindings->argon2-cffi->notebook>=6.0->jupyter_contrib_nbextensions->-r requirements.txt (line 13)) (1.15.1)\n",
      "Requirement already satisfied: pycparser in c:\\users\\asif\\anaconda3\\lib\\site-packages (from cffi>=1.0.1->argon2-cffi-bindings->argon2-cffi->notebook>=6.0->jupyter_contrib_nbextensions->-r requirements.txt (line 13)) (2.21)\n"
     ]
    }
   ],
   "source": [
    "!pip install  --upgrade -r requirements.txt --user"
   ]
  },
  {
   "cell_type": "markdown",
   "id": "52a6b6fe",
   "metadata": {},
   "source": [
    "### Step 3\n",
    "\n",
    "Now, it is time to copy the jupyter notebook extensions javascript and css files into the relevant locations."
   ]
  },
  {
   "cell_type": "code",
   "execution_count": 3,
   "id": "8648fb7b",
   "metadata": {
    "ExecuteTime": {
     "end_time": "2023-03-22T22:00:50.891154Z",
     "start_time": "2023-03-22T22:00:48.033350Z"
    },
    "scrolled": false
   },
   "outputs": [],
   "source": [
    "%%capture\n",
    "!jupyter contrib nbextension install --user"
   ]
  },
  {
   "cell_type": "markdown",
   "id": "17d958b3",
   "metadata": {},
   "source": [
    "Now, your environment should be ready for this workshop. **Bon Voyage!**"
   ]
  }
 ],
 "metadata": {
  "hide_input": false,
  "kernelspec": {
   "display_name": "Python 3 (ipykernel)",
   "language": "python",
   "name": "python3"
  },
  "language_info": {
   "codemirror_mode": {
    "name": "ipython",
    "version": 3
   },
   "file_extension": ".py",
   "mimetype": "text/x-python",
   "name": "python",
   "nbconvert_exporter": "python",
   "pygments_lexer": "ipython3",
   "version": "3.9.13"
  },
  "toc": {
   "base_numbering": 1,
   "nav_menu": {},
   "number_sections": true,
   "sideBar": true,
   "skip_h1_title": false,
   "title_cell": "Table of Contents",
   "title_sidebar": "Contents",
   "toc_cell": false,
   "toc_position": {},
   "toc_section_display": true,
   "toc_window_display": false
  },
  "varInspector": {
   "cols": {
    "lenName": 16,
    "lenType": 16,
    "lenVar": 40
   },
   "kernels_config": {
    "python": {
     "delete_cmd_postfix": "",
     "delete_cmd_prefix": "del ",
     "library": "var_list.py",
     "varRefreshCmd": "print(var_dic_list())"
    },
    "r": {
     "delete_cmd_postfix": ") ",
     "delete_cmd_prefix": "rm(",
     "library": "var_list.r",
     "varRefreshCmd": "cat(var_dic_list()) "
    }
   },
   "types_to_exclude": [
    "module",
    "function",
    "builtin_function_or_method",
    "instance",
    "_Feature"
   ],
   "window_display": false
  }
 },
 "nbformat": 4,
 "nbformat_minor": 5
}
