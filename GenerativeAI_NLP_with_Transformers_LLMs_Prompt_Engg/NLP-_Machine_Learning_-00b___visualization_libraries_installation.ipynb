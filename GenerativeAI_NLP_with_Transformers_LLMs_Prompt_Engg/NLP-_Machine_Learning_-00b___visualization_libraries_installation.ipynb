{
 "cells": [
  {
   "cell_type": "code",
   "execution_count": 1,
   "metadata": {
    "ExecuteTime": {
     "end_time": "2023-03-22T21:27:41.402043Z",
     "start_time": "2023-03-22T21:27:35.647896Z"
    }
   },
   "outputs": [
    {
     "data": {
      "text/html": [
       "\n",
       "<!-- Many of the styles here are inspired by: \n",
       "    https://towardsdatascience.com/10-practical-tips-you-need-to-know-to-personalize-jupyter-notebook-fbd202777e20 \n",
       "       \n",
       "    \n",
       "    On the author's local machine, these exist in the custom.css file. However, in order to keep uniform look and feel, \n",
       "    and at the request of participants, I have added it to this common import-file here.\n",
       "\n",
       "    -->\n",
       "\n",
       "<link href=\"https://fonts.googleapis.com/css?family=Lora:400,700|Montserrat:300\" rel=\"stylesheet\">\n",
       "\n",
       "<link href=\"https://fonts.googleapis.com/css2?family=Crimson+Pro&family=Literata&display=swap\" rel=\"stylesheet\">\n",
       "<style>\n",
       "\n",
       "\n",
       "#ipython_notebook::before{\n",
       " content:\"NLP with Transformers\";\n",
       "        color: white;\n",
       "        font-weight: bold;\n",
       "        text-transform: uppercase;\n",
       "        font-family: 'Lora',serif;\n",
       "        font-size:16pt;\n",
       "        margin-bottom:15px;\n",
       "        margin-top:15px;\n",
       "           \n",
       "}\n",
       "body > #header {\n",
       "    #background: #D15555;\n",
       "    background: linear-gradient(to bottom, indianred 0%, #fff 100%);\n",
       "    opacity: 0.8;\n",
       "\n",
       "}\n",
       "\n",
       "\n",
       ".navbar-default .navbar-nav > li > a, #kernel_indicator {\n",
       "    color: white;\n",
       "    transition: all 0.25s;\n",
       "    font-size:10pt;\n",
       "    font-family: sans-serif;\n",
       "    font-weight:normal;\n",
       "}\n",
       ".navbar-default {\n",
       "    padding-left:100px;\n",
       "    background: none;\n",
       "    border: none;\n",
       "}\n",
       "\n",
       "\n",
       "body > menubar-container {\n",
       "    background-color: wheat;\n",
       "}\n",
       "#ipython_notebook img{                                                                                        \n",
       "    display:block; \n",
       "    \n",
       "    background: url(\"https://www.supportvectors.com/wp-content/uploads/2016/03/logo-poster-smaller.png\") no-repeat;\n",
       "    background-size: contain;\n",
       "   \n",
       "    padding-left: 600px;\n",
       "    padding-right: 100px;\n",
       "    \n",
       "    -moz-box-sizing: border-box;\n",
       "    box-sizing: border-box;\n",
       "}\n",
       "\n",
       "\n",
       "\n",
       "body {\n",
       " #font-family:  'Literata', serif;\n",
       "    font-family:'Lora', san-serif;\n",
       "    text-align: justify;\n",
       "    font-weight: 400;\n",
       "    font-size: 12pt;\n",
       "}\n",
       "\n",
       "iframe{\n",
       "    width:100%;\n",
       "    min-height:600px;\n",
       "}\n",
       "\n",
       "h1, h2, h3, h4, h5, h6 {\n",
       "# font-family: 'Montserrat', sans-serif;\n",
       " font-family:'Lora', serif;\n",
       " font-weight: 200;\n",
       " text-transform: uppercase;\n",
       " color: #EC7063 ;\n",
       "}\n",
       "\n",
       "h2 {\n",
       "    color: #000080;\n",
       "}\n",
       "\n",
       ".checkpoint_status, .autosave_status {\n",
       "    color:wheat;\n",
       "}\n",
       "\n",
       "#notebook_name {\n",
       "    font-weight: 600;\n",
       "    font-size:20pt;\n",
       "    text-variant:uppercase;\n",
       "    color: wheat; \n",
       "    margin-right:20px;\n",
       "    margin-left:-500px;\n",
       "}\n",
       "#notebook_name:hover {\n",
       "background-color: salmon;\n",
       "}\n",
       "\n",
       "\n",
       ".dataframe { /* dataframe atau table */\n",
       "    background: white;\n",
       "    box-shadow: 0px 1px 2px #bbb;\n",
       "}\n",
       ".dataframe thead th, .dataframe tbody td {\n",
       "    text-align: center;\n",
       "    padding: 1em;\n",
       "}\n",
       "\n",
       ".checkpoint_status, .autosave_status {\n",
       "    color:wheat;\n",
       "}\n",
       "\n",
       ".output {\n",
       "    align-items: center;\n",
       "}\n",
       "\n",
       "div.cell {\n",
       "    transition: all 0.25s;\n",
       "    border: none;\n",
       "    position: relative;\n",
       "    top: 0;\n",
       "}\n",
       "div.cell.selected, div.cell.selected.jupyter-soft-selected {\n",
       "    border: none;\n",
       "    background: transparent;\n",
       "    box-shadow: 0 6px 18px #aaa;\n",
       "    z-index: 10;\n",
       "    top: -10px;\n",
       "}\n",
       ".CodeMirror pre, .CodeMirror-dialog, .CodeMirror-dialog .CodeMirror-search-field, .terminal-app .terminal {\n",
       "    font-family: 'Hack' , serif; \n",
       "    font-weight: 500;\n",
       "    font-size: 14pt;\n",
       "}\n",
       "\n",
       "\n",
       "\n",
       "</style>    \n"
      ],
      "text/plain": [
       "<IPython.core.display.HTML object>"
      ]
     },
     "metadata": {},
     "output_type": "display_data"
    },
    {
     "data": {
      "text/markdown": [
       "\n",
       "\n",
       "<div style=\"color:#aaa;font-size:8pt\">\n",
       "<hr/>\n",
       "\n",
       " </blockquote>\n",
       " <hr/>\n",
       "</div>\n",
       "\n"
      ],
      "text/plain": [
       "<IPython.core.display.Markdown object>"
      ]
     },
     "metadata": {},
     "output_type": "display_data"
    }
   ],
   "source": [
    "%run supportvectors-common.ipynb"
   ]
  },
  {
   "cell_type": "markdown",
   "metadata": {},
   "source": [
    "# Installation of the visualization libraries\n",
    "\n",
    "In the course of the workshop, we will need the following libraries for our data visualization needs. Run the below cell to install these."
   ]
  },
  {
   "cell_type": "code",
   "execution_count": 2,
   "metadata": {
    "ExecuteTime": {
     "end_time": "2023-03-22T21:29:00.141002Z",
     "start_time": "2023-03-22T21:27:41.404030Z"
    },
    "scrolled": false
   },
   "outputs": [
    {
     "data": {
      "text/markdown": [
       "<hr  height=\"5px\"><span style=\"color: salmon; font-weight: bold; width=1000px\">SEABORN library verification and installation if needed</span> <hr height=\"5px\">"
      ],
      "text/plain": [
       "<IPython.core.display.Markdown object>"
      ]
     },
     "metadata": {},
     "output_type": "display_data"
    },
    {
     "name": "stdout",
     "output_type": "stream",
     "text": [
      "Requirement already satisfied: seaborn in c:\\users\\asif\\appdata\\roaming\\python\\python39\\site-packages (0.12.2)\n",
      "Requirement already satisfied: matplotlib!=3.6.1,>=3.1 in c:\\users\\asif\\anaconda3\\lib\\site-packages (from seaborn) (3.7.1)\n",
      "Requirement already satisfied: pandas>=0.25 in c:\\users\\asif\\appdata\\roaming\\python\\python39\\site-packages (from seaborn) (1.5.3)\n",
      "Requirement already satisfied: numpy!=1.24.0,>=1.17 in c:\\users\\asif\\appdata\\roaming\\python\\python39\\site-packages (from seaborn) (1.24.2)\n",
      "Requirement already satisfied: pillow>=6.2.0 in c:\\users\\asif\\anaconda3\\lib\\site-packages (from matplotlib!=3.6.1,>=3.1->seaborn) (9.2.0)\n",
      "Requirement already satisfied: packaging>=20.0 in c:\\users\\asif\\anaconda3\\lib\\site-packages (from matplotlib!=3.6.1,>=3.1->seaborn) (21.3)\n",
      "Requirement already satisfied: python-dateutil>=2.7 in c:\\users\\asif\\anaconda3\\lib\\site-packages (from matplotlib!=3.6.1,>=3.1->seaborn) (2.8.2)\n",
      "Requirement already satisfied: cycler>=0.10 in c:\\users\\asif\\anaconda3\\lib\\site-packages (from matplotlib!=3.6.1,>=3.1->seaborn) (0.11.0)\n",
      "Requirement already satisfied: contourpy>=1.0.1 in c:\\users\\asif\\appdata\\roaming\\python\\python39\\site-packages (from matplotlib!=3.6.1,>=3.1->seaborn) (1.0.7)\n",
      "Requirement already satisfied: fonttools>=4.22.0 in c:\\users\\asif\\anaconda3\\lib\\site-packages (from matplotlib!=3.6.1,>=3.1->seaborn) (4.25.0)\n",
      "Requirement already satisfied: importlib-resources>=3.2.0 in c:\\users\\asif\\appdata\\roaming\\python\\python39\\site-packages (from matplotlib!=3.6.1,>=3.1->seaborn) (5.12.0)\n",
      "Requirement already satisfied: kiwisolver>=1.0.1 in c:\\users\\asif\\anaconda3\\lib\\site-packages (from matplotlib!=3.6.1,>=3.1->seaborn) (1.4.2)\n",
      "Requirement already satisfied: pyparsing>=2.3.1 in c:\\users\\asif\\anaconda3\\lib\\site-packages (from matplotlib!=3.6.1,>=3.1->seaborn) (3.0.9)\n",
      "Requirement already satisfied: pytz>=2020.1 in c:\\users\\asif\\anaconda3\\lib\\site-packages (from pandas>=0.25->seaborn) (2022.1)\n",
      "Requirement already satisfied: zipp>=3.1.0 in c:\\users\\asif\\anaconda3\\lib\\site-packages (from importlib-resources>=3.2.0->matplotlib!=3.6.1,>=3.1->seaborn) (3.8.0)\n",
      "Requirement already satisfied: six>=1.5 in c:\\users\\asif\\anaconda3\\lib\\site-packages (from python-dateutil>=2.7->matplotlib!=3.6.1,>=3.1->seaborn) (1.16.0)\n"
     ]
    },
    {
     "data": {
      "text/markdown": [
       "<hr  height=\"5px\"><span style=\"color: salmon; font-weight: bold; width=1000px\">ALTAIR library verification and installation if needed</span> <hr height=\"5px\">"
      ],
      "text/plain": [
       "<IPython.core.display.Markdown object>"
      ]
     },
     "metadata": {},
     "output_type": "display_data"
    },
    {
     "name": "stdout",
     "output_type": "stream",
     "text": [
      "Requirement already satisfied: altair in c:\\users\\asif\\anaconda3\\lib\\site-packages (4.2.2)\n",
      "Requirement already satisfied: jsonschema>=3.0 in c:\\users\\asif\\anaconda3\\lib\\site-packages (from altair) (4.16.0)\n",
      "Requirement already satisfied: jinja2 in c:\\users\\asif\\appdata\\roaming\\python\\python39\\site-packages (from altair) (3.0.3)\n",
      "Requirement already satisfied: pandas>=0.18 in c:\\users\\asif\\appdata\\roaming\\python\\python39\\site-packages (from altair) (1.5.3)\n",
      "Requirement already satisfied: numpy in c:\\users\\asif\\appdata\\roaming\\python\\python39\\site-packages (from altair) (1.24.2)\n",
      "Requirement already satisfied: entrypoints in c:\\users\\asif\\anaconda3\\lib\\site-packages (from altair) (0.4)\n",
      "Requirement already satisfied: toolz in c:\\users\\asif\\anaconda3\\lib\\site-packages (from altair) (0.11.2)\n",
      "Requirement already satisfied: attrs>=17.4.0 in c:\\users\\asif\\anaconda3\\lib\\site-packages (from jsonschema>=3.0->altair) (21.4.0)\n",
      "Requirement already satisfied: pyrsistent!=0.17.0,!=0.17.1,!=0.17.2,>=0.14.0 in c:\\users\\asif\\anaconda3\\lib\\site-packages (from jsonschema>=3.0->altair) (0.18.0)\n",
      "Requirement already satisfied: pytz>=2020.1 in c:\\users\\asif\\anaconda3\\lib\\site-packages (from pandas>=0.18->altair) (2022.1)\n",
      "Requirement already satisfied: python-dateutil>=2.8.1 in c:\\users\\asif\\anaconda3\\lib\\site-packages (from pandas>=0.18->altair) (2.8.2)\n",
      "Requirement already satisfied: MarkupSafe>=2.0 in c:\\users\\asif\\appdata\\roaming\\python\\python39\\site-packages (from jinja2->altair) (2.1.2)\n",
      "Requirement already satisfied: six>=1.5 in c:\\users\\asif\\anaconda3\\lib\\site-packages (from python-dateutil>=2.8.1->pandas>=0.18->altair) (1.16.0)\n"
     ]
    },
    {
     "data": {
      "text/markdown": [
       "<hr  height=\"5px\"><span style=\"color: salmon; font-weight: bold; width=1000px\">BOKEH library verification and installation if needed</span> <hr height=\"5px\">"
      ],
      "text/plain": [
       "<IPython.core.display.Markdown object>"
      ]
     },
     "metadata": {},
     "output_type": "display_data"
    },
    {
     "name": "stdout",
     "output_type": "stream",
     "text": [
      "Requirement already satisfied: bokeh in c:\\users\\asif\\anaconda3\\lib\\site-packages (2.4.3)\n",
      "Collecting bokeh\n",
      "  Using cached bokeh-3.1.0-py3-none-any.whl (8.3 MB)\n",
      "Requirement already satisfied: Jinja2>=2.9 in c:\\users\\asif\\appdata\\roaming\\python\\python39\\site-packages (from bokeh) (3.0.3)\n",
      "Requirement already satisfied: PyYAML>=3.10 in c:\\users\\asif\\anaconda3\\lib\\site-packages (from bokeh) (6.0)\n",
      "Requirement already satisfied: pandas>=1.2 in c:\\users\\asif\\appdata\\roaming\\python\\python39\\site-packages (from bokeh) (1.5.3)\n",
      "Requirement already satisfied: tornado>=5.1 in c:\\users\\asif\\anaconda3\\lib\\site-packages (from bokeh) (6.1)\n",
      "Requirement already satisfied: xyzservices>=2021.09.1 in c:\\users\\asif\\anaconda3\\lib\\site-packages (from bokeh) (2023.2.0)\n",
      "Requirement already satisfied: contourpy>=1 in c:\\users\\asif\\appdata\\roaming\\python\\python39\\site-packages (from bokeh) (1.0.7)\n",
      "Requirement already satisfied: packaging>=16.8 in c:\\users\\asif\\anaconda3\\lib\\site-packages (from bokeh) (21.3)\n",
      "Requirement already satisfied: numpy>=1.16 in c:\\users\\asif\\appdata\\roaming\\python\\python39\\site-packages (from bokeh) (1.24.2)\n",
      "Requirement already satisfied: pillow>=7.1.0 in c:\\users\\asif\\anaconda3\\lib\\site-packages (from bokeh) (9.2.0)\n",
      "Requirement already satisfied: MarkupSafe>=2.0 in c:\\users\\asif\\appdata\\roaming\\python\\python39\\site-packages (from Jinja2>=2.9->bokeh) (2.1.2)\n",
      "Requirement already satisfied: pyparsing!=3.0.5,>=2.0.2 in c:\\users\\asif\\anaconda3\\lib\\site-packages (from packaging>=16.8->bokeh) (3.0.9)\n",
      "Requirement already satisfied: python-dateutil>=2.8.1 in c:\\users\\asif\\anaconda3\\lib\\site-packages (from pandas>=1.2->bokeh) (2.8.2)\n",
      "Requirement already satisfied: pytz>=2020.1 in c:\\users\\asif\\anaconda3\\lib\\site-packages (from pandas>=1.2->bokeh) (2022.1)\n",
      "Requirement already satisfied: six>=1.5 in c:\\users\\asif\\anaconda3\\lib\\site-packages (from python-dateutil>=2.8.1->pandas>=1.2->bokeh) (1.16.0)\n",
      "Installing collected packages: bokeh\n",
      "  Attempting uninstall: bokeh\n",
      "    Found existing installation: bokeh 2.4.3\n",
      "    Uninstalling bokeh-2.4.3:\n",
      "      Successfully uninstalled bokeh-2.4.3\n",
      "Successfully installed bokeh-3.1.0\n"
     ]
    },
    {
     "name": "stderr",
     "output_type": "stream",
     "text": [
      "ERROR: pip's dependency resolver does not currently take into account all the packages that are installed. This behaviour is the source of the following dependency conflicts.\n",
      "panel 0.12.7 requires bokeh<2.5.0,>=2.4.0, but you have bokeh 3.1.0 which is incompatible.\n",
      "dataprep 0.4.5 requires bokeh<3,>=2, but you have bokeh 3.1.0 which is incompatible.\n"
     ]
    },
    {
     "data": {
      "text/markdown": [
       "<hr  height=\"5px\"><span style=\"color: salmon; font-weight: bold; width=1000px\">PLOTLY library verification and installation if needed</span> <hr height=\"5px\">"
      ],
      "text/plain": [
       "<IPython.core.display.Markdown object>"
      ]
     },
     "metadata": {},
     "output_type": "display_data"
    },
    {
     "name": "stdout",
     "output_type": "stream",
     "text": [
      "Requirement already satisfied: plotly in c:\\users\\asif\\anaconda3\\lib\\site-packages (5.13.1)\n",
      "Requirement already satisfied: tenacity>=6.2.0 in c:\\users\\asif\\anaconda3\\lib\\site-packages (from plotly) (8.2.2)\n"
     ]
    },
    {
     "data": {
      "text/markdown": [
       "<hr  height=\"5px\"><span style=\"color: salmon; font-weight: bold; width=1000px\">HVPLOT library verification and installation if needed</span> <hr height=\"5px\">"
      ],
      "text/plain": [
       "<IPython.core.display.Markdown object>"
      ]
     },
     "metadata": {},
     "output_type": "display_data"
    },
    {
     "name": "stdout",
     "output_type": "stream",
     "text": [
      "Requirement already satisfied: hvplot in c:\\users\\asif\\anaconda3\\lib\\site-packages (0.8.3)\n",
      "Requirement already satisfied: holoviews>=1.11.0 in c:\\users\\asif\\appdata\\roaming\\python\\python39\\site-packages (from hvplot) (1.14.9)\n",
      "Requirement already satisfied: panel>=0.11.0 in c:\\users\\asif\\appdata\\roaming\\python\\python39\\site-packages (from hvplot) (0.12.7)\n",
      "Requirement already satisfied: packaging in c:\\users\\asif\\anaconda3\\lib\\site-packages (from hvplot) (21.3)\n",
      "Requirement already satisfied: colorcet>=2 in c:\\users\\asif\\anaconda3\\lib\\site-packages (from hvplot) (3.0.0)\n",
      "Requirement already satisfied: numpy>=1.15 in c:\\users\\asif\\appdata\\roaming\\python\\python39\\site-packages (from hvplot) (1.24.2)\n",
      "Requirement already satisfied: bokeh>=1.0.0 in c:\\users\\asif\\anaconda3\\lib\\site-packages (from hvplot) (3.1.0)\n",
      "Requirement already satisfied: param>=1.9.0 in c:\\users\\asif\\anaconda3\\lib\\site-packages (from hvplot) (1.12.0)\n",
      "Requirement already satisfied: pandas in c:\\users\\asif\\appdata\\roaming\\python\\python39\\site-packages (from hvplot) (1.5.3)\n",
      "Requirement already satisfied: Jinja2>=2.9 in c:\\users\\asif\\appdata\\roaming\\python\\python39\\site-packages (from bokeh>=1.0.0->hvplot) (3.0.3)\n",
      "Requirement already satisfied: contourpy>=1 in c:\\users\\asif\\appdata\\roaming\\python\\python39\\site-packages (from bokeh>=1.0.0->hvplot) (1.0.7)\n",
      "Requirement already satisfied: PyYAML>=3.10 in c:\\users\\asif\\anaconda3\\lib\\site-packages (from bokeh>=1.0.0->hvplot) (6.0)\n",
      "Requirement already satisfied: xyzservices>=2021.09.1 in c:\\users\\asif\\anaconda3\\lib\\site-packages (from bokeh>=1.0.0->hvplot) (2023.2.0)\n",
      "Requirement already satisfied: pillow>=7.1.0 in c:\\users\\asif\\anaconda3\\lib\\site-packages (from bokeh>=1.0.0->hvplot) (9.2.0)\n",
      "Requirement already satisfied: tornado>=5.1 in c:\\users\\asif\\anaconda3\\lib\\site-packages (from bokeh>=1.0.0->hvplot) (6.1)\n",
      "Requirement already satisfied: pyct>=0.4.4 in c:\\users\\asif\\anaconda3\\lib\\site-packages (from colorcet>=2->hvplot) (0.4.8)\n",
      "Requirement already satisfied: pyviz-comms>=0.7.4 in c:\\users\\asif\\anaconda3\\lib\\site-packages (from holoviews>=1.11.0->hvplot) (2.0.2)\n",
      "Requirement already satisfied: pyparsing!=3.0.5,>=2.0.2 in c:\\users\\asif\\anaconda3\\lib\\site-packages (from packaging->hvplot) (3.0.9)\n",
      "Requirement already satisfied: pytz>=2020.1 in c:\\users\\asif\\anaconda3\\lib\\site-packages (from pandas->hvplot) (2022.1)\n",
      "Requirement already satisfied: python-dateutil>=2.8.1 in c:\\users\\asif\\anaconda3\\lib\\site-packages (from pandas->hvplot) (2.8.2)\n",
      "Requirement already satisfied: bleach in c:\\users\\asif\\anaconda3\\lib\\site-packages (from panel>=0.11.0->hvplot) (4.1.0)\n",
      "Requirement already satisfied: setuptools<61,>=42 in c:\\users\\asif\\anaconda3\\lib\\site-packages (from panel>=0.11.0->hvplot) (60.10.0)\n",
      "Requirement already satisfied: markdown in c:\\users\\asif\\anaconda3\\lib\\site-packages (from panel>=0.11.0->hvplot) (3.3.4)\n",
      "Collecting bokeh>=1.0.0\n",
      "  Using cached bokeh-2.4.3-py3-none-any.whl (18.5 MB)\n",
      "Requirement already satisfied: tqdm>=4.48.0 in c:\\users\\asif\\anaconda3\\lib\\site-packages (from panel>=0.11.0->hvplot) (4.64.1)\n",
      "Requirement already satisfied: requests in c:\\users\\asif\\anaconda3\\lib\\site-packages (from panel>=0.11.0->hvplot) (2.28.1)\n",
      "Requirement already satisfied: typing-extensions>=3.10.0 in c:\\users\\asif\\anaconda3\\lib\\site-packages (from bokeh>=1.0.0->hvplot) (4.3.0)\n",
      "Requirement already satisfied: MarkupSafe>=2.0 in c:\\users\\asif\\appdata\\roaming\\python\\python39\\site-packages (from Jinja2>=2.9->bokeh>=1.0.0->hvplot) (2.1.2)\n",
      "Requirement already satisfied: six>=1.5 in c:\\users\\asif\\anaconda3\\lib\\site-packages (from python-dateutil>=2.8.1->pandas->hvplot) (1.16.0)\n",
      "Requirement already satisfied: colorama in c:\\users\\asif\\anaconda3\\lib\\site-packages (from tqdm>=4.48.0->panel>=0.11.0->hvplot) (0.4.6)\n",
      "Requirement already satisfied: webencodings in c:\\users\\asif\\anaconda3\\lib\\site-packages (from bleach->panel>=0.11.0->hvplot) (0.5.1)\n",
      "Requirement already satisfied: charset-normalizer<3,>=2 in c:\\users\\asif\\anaconda3\\lib\\site-packages (from requests->panel>=0.11.0->hvplot) (2.0.4)\n",
      "Requirement already satisfied: certifi>=2017.4.17 in c:\\users\\asif\\anaconda3\\lib\\site-packages (from requests->panel>=0.11.0->hvplot) (2022.12.7)\n",
      "Requirement already satisfied: urllib3<1.27,>=1.21.1 in c:\\users\\asif\\anaconda3\\lib\\site-packages (from requests->panel>=0.11.0->hvplot) (1.26.11)\n",
      "Requirement already satisfied: idna<4,>=2.5 in c:\\users\\asif\\anaconda3\\lib\\site-packages (from requests->panel>=0.11.0->hvplot) (3.3)\n",
      "Installing collected packages: bokeh\n",
      "  Attempting uninstall: bokeh\n",
      "    Found existing installation: bokeh 3.1.0\n",
      "    Uninstalling bokeh-3.1.0:\n",
      "      Successfully uninstalled bokeh-3.1.0\n",
      "Successfully installed bokeh-2.4.3\n"
     ]
    },
    {
     "data": {
      "text/markdown": [
       "<hr  height=\"5px\"><span style=\"color: salmon; font-weight: bold; width=1000px\">FOLIUM library verification and installation if needed</span> <hr height=\"5px\">"
      ],
      "text/plain": [
       "<IPython.core.display.Markdown object>"
      ]
     },
     "metadata": {},
     "output_type": "display_data"
    },
    {
     "name": "stdout",
     "output_type": "stream",
     "text": [
      "Requirement already satisfied: folium in c:\\users\\asif\\anaconda3\\lib\\site-packages (0.14.0)\n",
      "Requirement already satisfied: numpy in c:\\users\\asif\\appdata\\roaming\\python\\python39\\site-packages (from folium) (1.24.2)\n",
      "Requirement already satisfied: jinja2>=2.9 in c:\\users\\asif\\appdata\\roaming\\python\\python39\\site-packages (from folium) (3.0.3)\n",
      "Requirement already satisfied: requests in c:\\users\\asif\\anaconda3\\lib\\site-packages (from folium) (2.28.1)\n",
      "Requirement already satisfied: branca>=0.6.0 in c:\\users\\asif\\anaconda3\\lib\\site-packages (from folium) (0.6.0)\n",
      "Requirement already satisfied: MarkupSafe>=2.0 in c:\\users\\asif\\appdata\\roaming\\python\\python39\\site-packages (from jinja2>=2.9->folium) (2.1.2)\n",
      "Requirement already satisfied: idna<4,>=2.5 in c:\\users\\asif\\anaconda3\\lib\\site-packages (from requests->folium) (3.3)\n",
      "Requirement already satisfied: certifi>=2017.4.17 in c:\\users\\asif\\anaconda3\\lib\\site-packages (from requests->folium) (2022.12.7)\n",
      "Requirement already satisfied: urllib3<1.27,>=1.21.1 in c:\\users\\asif\\anaconda3\\lib\\site-packages (from requests->folium) (1.26.11)\n",
      "Requirement already satisfied: charset-normalizer<3,>=2 in c:\\users\\asif\\anaconda3\\lib\\site-packages (from requests->folium) (2.0.4)\n"
     ]
    },
    {
     "data": {
      "text/markdown": [
       "<hr  height=\"5px\"><span style=\"color: salmon; font-weight: bold; width=1000px\">GEOPANDAS library verification and installation if needed</span> <hr height=\"5px\">"
      ],
      "text/plain": [
       "<IPython.core.display.Markdown object>"
      ]
     },
     "metadata": {},
     "output_type": "display_data"
    },
    {
     "name": "stdout",
     "output_type": "stream",
     "text": [
      "Requirement already satisfied: geopandas in c:\\users\\asif\\anaconda3\\lib\\site-packages (0.12.2)\n",
      "Requirement already satisfied: fiona>=1.8 in c:\\users\\asif\\anaconda3\\lib\\site-packages (from geopandas) (1.9.1)\n",
      "Requirement already satisfied: packaging in c:\\users\\asif\\anaconda3\\lib\\site-packages (from geopandas) (21.3)\n",
      "Requirement already satisfied: pandas>=1.0.0 in c:\\users\\asif\\appdata\\roaming\\python\\python39\\site-packages (from geopandas) (1.5.3)\n",
      "Requirement already satisfied: shapely>=1.7 in c:\\users\\asif\\anaconda3\\lib\\site-packages (from geopandas) (2.0.1)\n",
      "Requirement already satisfied: pyproj>=2.6.1.post1 in c:\\users\\asif\\anaconda3\\lib\\site-packages (from geopandas) (3.4.1)\n",
      "Requirement already satisfied: certifi in c:\\users\\asif\\anaconda3\\lib\\site-packages (from fiona>=1.8->geopandas) (2022.12.7)\n",
      "Requirement already satisfied: cligj>=0.5 in c:\\users\\asif\\anaconda3\\lib\\site-packages (from fiona>=1.8->geopandas) (0.7.2)\n",
      "Requirement already satisfied: setuptools in c:\\users\\asif\\anaconda3\\lib\\site-packages (from fiona>=1.8->geopandas) (60.10.0)\n",
      "Requirement already satisfied: attrs>=19.2.0 in c:\\users\\asif\\anaconda3\\lib\\site-packages (from fiona>=1.8->geopandas) (21.4.0)\n",
      "Requirement already satisfied: click-plugins>=1.0 in c:\\users\\asif\\anaconda3\\lib\\site-packages (from fiona>=1.8->geopandas) (1.1.1)\n",
      "Requirement already satisfied: munch>=2.3.2 in c:\\users\\asif\\anaconda3\\lib\\site-packages (from fiona>=1.8->geopandas) (2.5.0)\n",
      "Requirement already satisfied: click~=8.0 in c:\\users\\asif\\anaconda3\\lib\\site-packages (from fiona>=1.8->geopandas) (8.0.4)\n",
      "Requirement already satisfied: numpy>=1.20.3 in c:\\users\\asif\\appdata\\roaming\\python\\python39\\site-packages (from pandas>=1.0.0->geopandas) (1.24.2)\n",
      "Requirement already satisfied: pytz>=2020.1 in c:\\users\\asif\\anaconda3\\lib\\site-packages (from pandas>=1.0.0->geopandas) (2022.1)\n",
      "Requirement already satisfied: python-dateutil>=2.8.1 in c:\\users\\asif\\anaconda3\\lib\\site-packages (from pandas>=1.0.0->geopandas) (2.8.2)\n",
      "Requirement already satisfied: pyparsing!=3.0.5,>=2.0.2 in c:\\users\\asif\\anaconda3\\lib\\site-packages (from packaging->geopandas) (3.0.9)\n",
      "Requirement already satisfied: colorama in c:\\users\\asif\\anaconda3\\lib\\site-packages (from click~=8.0->fiona>=1.8->geopandas) (0.4.6)\n",
      "Requirement already satisfied: six in c:\\users\\asif\\anaconda3\\lib\\site-packages (from munch>=2.3.2->fiona>=1.8->geopandas) (1.16.0)\n"
     ]
    },
    {
     "data": {
      "text/markdown": [
       "<hr  height=\"5px\"><span style=\"color: salmon; font-weight: bold; width=1000px\">GEEMAP library verification and installation if needed</span> <hr height=\"5px\">"
      ],
      "text/plain": [
       "<IPython.core.display.Markdown object>"
      ]
     },
     "metadata": {},
     "output_type": "display_data"
    },
    {
     "name": "stdout",
     "output_type": "stream",
     "text": [
      "Requirement already satisfied: geemap in c:\\users\\asif\\anaconda3\\lib\\site-packages (0.20.3)\n",
      "Requirement already satisfied: geocoder in c:\\users\\asif\\anaconda3\\lib\\site-packages (from geemap) (1.38.1)\n",
      "Requirement already satisfied: geeadd>=0.5.1 in c:\\users\\asif\\anaconda3\\lib\\site-packages (from geemap) (0.5.6)\n",
      "Requirement already satisfied: ipyfilechooser>=0.6.0 in c:\\users\\asif\\anaconda3\\lib\\site-packages (from geemap) (0.6.0)\n",
      "Requirement already satisfied: whiteboxgui>=0.6.0 in c:\\users\\asif\\anaconda3\\lib\\site-packages (from geemap) (2.2.0)\n",
      "Requirement already satisfied: python-box in c:\\users\\asif\\anaconda3\\lib\\site-packages (from geemap) (7.0.1)\n",
      "Requirement already satisfied: earthengine-api>=0.1.304 in c:\\users\\asif\\anaconda3\\lib\\site-packages (from geemap) (0.1.342)\n",
      "Requirement already satisfied: matplotlib in c:\\users\\asif\\anaconda3\\lib\\site-packages (from geemap) (3.7.1)\n",
      "Requirement already satisfied: ipyevents in c:\\users\\asif\\anaconda3\\lib\\site-packages (from geemap) (2.0.1)\n",
      "Requirement already satisfied: pandas in c:\\users\\asif\\appdata\\roaming\\python\\python39\\site-packages (from geemap) (1.5.3)\n",
      "Requirement already satisfied: xyzservices in c:\\users\\asif\\anaconda3\\lib\\site-packages (from geemap) (2023.2.0)\n",
      "Requirement already satisfied: pillow in c:\\users\\asif\\anaconda3\\lib\\site-packages (from geemap) (9.2.0)\n",
      "Requirement already satisfied: pyperclip in c:\\users\\asif\\anaconda3\\lib\\site-packages (from geemap) (1.8.2)\n",
      "Requirement already satisfied: numpy in c:\\users\\asif\\appdata\\roaming\\python\\python39\\site-packages (from geemap) (1.24.2)\n",
      "Requirement already satisfied: sankee>=0.1.0 in c:\\users\\asif\\anaconda3\\lib\\site-packages (from geemap) (0.2.1)\n",
      "Requirement already satisfied: ee-extra>=0.0.10 in c:\\users\\asif\\anaconda3\\lib\\site-packages (from geemap) (0.0.15)\n",
      "Requirement already satisfied: ffmpeg-python in c:\\users\\asif\\anaconda3\\lib\\site-packages (from geemap) (0.2.0)\n",
      "Requirement already satisfied: scooby in c:\\users\\asif\\anaconda3\\lib\\site-packages (from geemap) (0.7.1)\n",
      "Requirement already satisfied: geojson in c:\\users\\asif\\anaconda3\\lib\\site-packages (from geemap) (3.0.1)\n",
      "Requirement already satisfied: gdown in c:\\users\\asif\\anaconda3\\lib\\site-packages (from geemap) (4.6.4)\n",
      "Requirement already satisfied: colour in c:\\users\\asif\\anaconda3\\lib\\site-packages (from geemap) (0.1.5)\n",
      "Requirement already satisfied: ipyleaflet>=0.17.0 in c:\\users\\asif\\anaconda3\\lib\\site-packages (from geemap) (0.17.2)\n",
      "Requirement already satisfied: pyshp>=2.1.3 in c:\\users\\asif\\anaconda3\\lib\\site-packages (from geemap) (2.3.1)\n",
      "Requirement already satisfied: pycrs in c:\\users\\asif\\anaconda3\\lib\\site-packages (from geemap) (1.0.2)\n",
      "Requirement already satisfied: folium>=0.11.0 in c:\\users\\asif\\anaconda3\\lib\\site-packages (from geemap) (0.14.0)\n",
      "Requirement already satisfied: ipykernel in c:\\users\\asif\\anaconda3\\lib\\site-packages (from geemap) (6.15.2)\n",
      "Requirement already satisfied: bqplot in c:\\users\\asif\\anaconda3\\lib\\site-packages (from geemap) (0.12.36)\n",
      "Requirement already satisfied: ipywidgets<8.0.0 in c:\\users\\asif\\anaconda3\\lib\\site-packages (from geemap) (7.6.5)\n",
      "Requirement already satisfied: ipytree in c:\\users\\asif\\anaconda3\\lib\\site-packages (from geemap) (0.2.2)\n",
      "Requirement already satisfied: eerepr>=0.0.4 in c:\\users\\asif\\anaconda3\\lib\\site-packages (from geemap) (0.0.4)\n",
      "Requirement already satisfied: httplib2<1dev,>=0.9.2 in c:\\users\\asif\\anaconda3\\lib\\site-packages (from earthengine-api>=0.1.304->geemap) (0.21.0)\n",
      "Requirement already satisfied: google-auth-httplib2>=0.0.3 in c:\\users\\asif\\anaconda3\\lib\\site-packages (from earthengine-api>=0.1.304->geemap) (0.1.0)\n",
      "Requirement already satisfied: google-cloud-storage in c:\\users\\asif\\anaconda3\\lib\\site-packages (from earthengine-api>=0.1.304->geemap) (2.7.0)\n",
      "Requirement already satisfied: requests in c:\\users\\asif\\anaconda3\\lib\\site-packages (from earthengine-api>=0.1.304->geemap) (2.28.1)\n",
      "Requirement already satisfied: google-auth>=1.4.1 in c:\\users\\asif\\anaconda3\\lib\\site-packages (from earthengine-api>=0.1.304->geemap) (2.16.1)\n",
      "Requirement already satisfied: google-api-python-client>=1.12.1 in c:\\users\\asif\\anaconda3\\lib\\site-packages (from earthengine-api>=0.1.304->geemap) (2.79.0)\n",
      "Requirement already satisfied: branca>=0.6.0 in c:\\users\\asif\\anaconda3\\lib\\site-packages (from folium>=0.11.0->geemap) (0.6.0)\n",
      "Requirement already satisfied: jinja2>=2.9 in c:\\users\\asif\\appdata\\roaming\\python\\python39\\site-packages (from folium>=0.11.0->geemap) (3.0.3)\n",
      "Requirement already satisfied: logzero>=1.5.0 in c:\\users\\asif\\anaconda3\\lib\\site-packages (from geeadd>=0.5.1->geemap) (1.7.0)\n",
      "Requirement already satisfied: beautifulsoup4>=4.9.0 in c:\\users\\asif\\anaconda3\\lib\\site-packages (from geeadd>=0.5.1->geemap) (4.11.1)\n",
      "Requirement already satisfied: traittypes<3,>=0.2.1 in c:\\users\\asif\\anaconda3\\lib\\site-packages (from ipyleaflet>=0.17.0->geemap) (0.2.1)\n",
      "Requirement already satisfied: ipython>=4.0.0 in c:\\users\\asif\\anaconda3\\lib\\site-packages (from ipywidgets<8.0.0->geemap) (7.31.1)\n",
      "Requirement already satisfied: ipython-genutils~=0.2.0 in c:\\users\\asif\\anaconda3\\lib\\site-packages (from ipywidgets<8.0.0->geemap) (0.2.0)\n",
      "Requirement already satisfied: widgetsnbextension~=3.5.0 in c:\\users\\asif\\anaconda3\\lib\\site-packages (from ipywidgets<8.0.0->geemap) (3.5.2)\n",
      "Requirement already satisfied: nbformat>=4.2.0 in c:\\users\\asif\\anaconda3\\lib\\site-packages (from ipywidgets<8.0.0->geemap) (5.5.0)\n",
      "Requirement already satisfied: traitlets>=4.3.1 in c:\\users\\asif\\anaconda3\\lib\\site-packages (from ipywidgets<8.0.0->geemap) (5.1.1)\n",
      "Requirement already satisfied: jupyterlab-widgets>=1.0.0 in c:\\users\\asif\\anaconda3\\lib\\site-packages (from ipywidgets<8.0.0->geemap) (1.0.0)\n",
      "Requirement already satisfied: psutil in c:\\users\\asif\\anaconda3\\lib\\site-packages (from ipykernel->geemap) (5.9.0)\n",
      "Requirement already satisfied: tornado>=6.1 in c:\\users\\asif\\anaconda3\\lib\\site-packages (from ipykernel->geemap) (6.1)\n",
      "Requirement already satisfied: debugpy>=1.0 in c:\\users\\asif\\anaconda3\\lib\\site-packages (from ipykernel->geemap) (1.5.1)\n",
      "Requirement already satisfied: jupyter-client>=6.1.12 in c:\\users\\asif\\anaconda3\\lib\\site-packages (from ipykernel->geemap) (7.3.4)\n",
      "Requirement already satisfied: nest-asyncio in c:\\users\\asif\\anaconda3\\lib\\site-packages (from ipykernel->geemap) (1.5.5)\n",
      "Requirement already satisfied: matplotlib-inline>=0.1 in c:\\users\\asif\\anaconda3\\lib\\site-packages (from ipykernel->geemap) (0.1.6)\n",
      "Requirement already satisfied: pyzmq>=17 in c:\\users\\asif\\anaconda3\\lib\\site-packages (from ipykernel->geemap) (23.2.0)\n",
      "Requirement already satisfied: packaging in c:\\users\\asif\\anaconda3\\lib\\site-packages (from ipykernel->geemap) (21.3)\n",
      "Requirement already satisfied: plotly>=5.2.2 in c:\\users\\asif\\anaconda3\\lib\\site-packages (from sankee>=0.1.0->geemap) (5.13.1)\n",
      "Requirement already satisfied: whitebox in c:\\users\\asif\\anaconda3\\lib\\site-packages (from whiteboxgui>=0.6.0->geemap) (2.2.0)\n",
      "Requirement already satisfied: python-dateutil>=2.8.1 in c:\\users\\asif\\anaconda3\\lib\\site-packages (from pandas->geemap) (2.8.2)\n",
      "Requirement already satisfied: pytz>=2020.1 in c:\\users\\asif\\anaconda3\\lib\\site-packages (from pandas->geemap) (2022.1)\n",
      "Requirement already satisfied: future in c:\\users\\asif\\anaconda3\\lib\\site-packages (from ffmpeg-python->geemap) (0.18.2)\n",
      "Requirement already satisfied: filelock in c:\\users\\asif\\anaconda3\\lib\\site-packages (from gdown->geemap) (3.6.0)\n",
      "Requirement already satisfied: tqdm in c:\\users\\asif\\anaconda3\\lib\\site-packages (from gdown->geemap) (4.64.1)\n",
      "Requirement already satisfied: six in c:\\users\\asif\\anaconda3\\lib\\site-packages (from gdown->geemap) (1.16.0)\n",
      "Requirement already satisfied: ratelim in c:\\users\\asif\\anaconda3\\lib\\site-packages (from geocoder->geemap) (0.1.6)\n",
      "Requirement already satisfied: click in c:\\users\\asif\\anaconda3\\lib\\site-packages (from geocoder->geemap) (8.0.4)\n",
      "Requirement already satisfied: kiwisolver>=1.0.1 in c:\\users\\asif\\anaconda3\\lib\\site-packages (from matplotlib->geemap) (1.4.2)\n",
      "Requirement already satisfied: fonttools>=4.22.0 in c:\\users\\asif\\anaconda3\\lib\\site-packages (from matplotlib->geemap) (4.25.0)\n",
      "Requirement already satisfied: contourpy>=1.0.1 in c:\\users\\asif\\appdata\\roaming\\python\\python39\\site-packages (from matplotlib->geemap) (1.0.7)\n",
      "Requirement already satisfied: importlib-resources>=3.2.0 in c:\\users\\asif\\appdata\\roaming\\python\\python39\\site-packages (from matplotlib->geemap) (5.12.0)\n",
      "Requirement already satisfied: pyparsing>=2.3.1 in c:\\users\\asif\\anaconda3\\lib\\site-packages (from matplotlib->geemap) (3.0.9)\n",
      "Requirement already satisfied: cycler>=0.10 in c:\\users\\asif\\anaconda3\\lib\\site-packages (from matplotlib->geemap) (0.11.0)\n",
      "Requirement already satisfied: soupsieve>1.2 in c:\\users\\asif\\anaconda3\\lib\\site-packages (from beautifulsoup4>=4.9.0->geeadd>=0.5.1->geemap) (2.3.1)\n",
      "Requirement already satisfied: uritemplate<5,>=3.0.1 in c:\\users\\asif\\anaconda3\\lib\\site-packages (from google-api-python-client>=1.12.1->earthengine-api>=0.1.304->geemap) (4.1.1)\n",
      "Requirement already satisfied: google-api-core!=2.0.*,!=2.1.*,!=2.2.*,!=2.3.0,<3.0.0dev,>=1.31.5 in c:\\users\\asif\\anaconda3\\lib\\site-packages (from google-api-python-client>=1.12.1->earthengine-api>=0.1.304->geemap) (2.11.0)\n",
      "Requirement already satisfied: cachetools<6.0,>=2.0.0 in c:\\users\\asif\\appdata\\roaming\\python\\python39\\site-packages (from google-auth>=1.4.1->earthengine-api>=0.1.304->geemap) (5.3.0)\n",
      "Requirement already satisfied: pyasn1-modules>=0.2.1 in c:\\users\\asif\\anaconda3\\lib\\site-packages (from google-auth>=1.4.1->earthengine-api>=0.1.304->geemap) (0.2.8)\n",
      "Requirement already satisfied: rsa<5,>=3.1.4 in c:\\users\\asif\\anaconda3\\lib\\site-packages (from google-auth>=1.4.1->earthengine-api>=0.1.304->geemap) (4.9)\n",
      "Requirement already satisfied: zipp>=3.1.0 in c:\\users\\asif\\anaconda3\\lib\\site-packages (from importlib-resources>=3.2.0->matplotlib->geemap) (3.8.0)\n",
      "Requirement already satisfied: colorama in c:\\users\\asif\\anaconda3\\lib\\site-packages (from ipython>=4.0.0->ipywidgets<8.0.0->geemap) (0.4.6)\n",
      "Requirement already satisfied: pickleshare in c:\\users\\asif\\anaconda3\\lib\\site-packages (from ipython>=4.0.0->ipywidgets<8.0.0->geemap) (0.7.5)\n",
      "Requirement already satisfied: prompt-toolkit!=3.0.0,!=3.0.1,<3.1.0,>=2.0.0 in c:\\users\\asif\\anaconda3\\lib\\site-packages (from ipython>=4.0.0->ipywidgets<8.0.0->geemap) (3.0.20)\n",
      "Requirement already satisfied: backcall in c:\\users\\asif\\anaconda3\\lib\\site-packages (from ipython>=4.0.0->ipywidgets<8.0.0->geemap) (0.2.0)\n",
      "Requirement already satisfied: pygments in c:\\users\\asif\\anaconda3\\lib\\site-packages (from ipython>=4.0.0->ipywidgets<8.0.0->geemap) (2.14.0)\n",
      "Requirement already satisfied: jedi>=0.16 in c:\\users\\asif\\anaconda3\\lib\\site-packages (from ipython>=4.0.0->ipywidgets<8.0.0->geemap) (0.18.1)\n",
      "Requirement already satisfied: decorator in c:\\users\\asif\\anaconda3\\lib\\site-packages (from ipython>=4.0.0->ipywidgets<8.0.0->geemap) (5.1.1)\n",
      "Requirement already satisfied: setuptools>=18.5 in c:\\users\\asif\\anaconda3\\lib\\site-packages (from ipython>=4.0.0->ipywidgets<8.0.0->geemap) (60.10.0)\n",
      "Requirement already satisfied: MarkupSafe>=2.0 in c:\\users\\asif\\appdata\\roaming\\python\\python39\\site-packages (from jinja2>=2.9->folium>=0.11.0->geemap) (2.1.2)\n",
      "Requirement already satisfied: entrypoints in c:\\users\\asif\\anaconda3\\lib\\site-packages (from jupyter-client>=6.1.12->ipykernel->geemap) (0.4)\n",
      "Requirement already satisfied: jupyter-core>=4.9.2 in c:\\users\\asif\\anaconda3\\lib\\site-packages (from jupyter-client>=6.1.12->ipykernel->geemap) (4.11.1)\n",
      "Requirement already satisfied: jsonschema>=2.6 in c:\\users\\asif\\anaconda3\\lib\\site-packages (from nbformat>=4.2.0->ipywidgets<8.0.0->geemap) (4.16.0)\n",
      "Requirement already satisfied: fastjsonschema in c:\\users\\asif\\anaconda3\\lib\\site-packages (from nbformat>=4.2.0->ipywidgets<8.0.0->geemap) (2.16.2)\n",
      "Requirement already satisfied: tenacity>=6.2.0 in c:\\users\\asif\\anaconda3\\lib\\site-packages (from plotly>=5.2.2->sankee>=0.1.0->geemap) (8.2.2)\n",
      "Requirement already satisfied: certifi>=2017.4.17 in c:\\users\\asif\\anaconda3\\lib\\site-packages (from requests->earthengine-api>=0.1.304->geemap) (2022.12.7)\n",
      "Requirement already satisfied: urllib3<1.27,>=1.21.1 in c:\\users\\asif\\anaconda3\\lib\\site-packages (from requests->earthengine-api>=0.1.304->geemap) (1.26.11)\n",
      "Requirement already satisfied: charset-normalizer<3,>=2 in c:\\users\\asif\\anaconda3\\lib\\site-packages (from requests->earthengine-api>=0.1.304->geemap) (2.0.4)\n",
      "Requirement already satisfied: idna<4,>=2.5 in c:\\users\\asif\\anaconda3\\lib\\site-packages (from requests->earthengine-api>=0.1.304->geemap) (3.3)\n",
      "Requirement already satisfied: notebook>=4.4.1 in c:\\users\\asif\\anaconda3\\lib\\site-packages (from widgetsnbextension~=3.5.0->ipywidgets<8.0.0->geemap) (6.4.12)\n",
      "Requirement already satisfied: google-cloud-core<3.0dev,>=2.3.0 in c:\\users\\asif\\anaconda3\\lib\\site-packages (from google-cloud-storage->earthengine-api>=0.1.304->geemap) (2.3.2)\n",
      "Requirement already satisfied: google-resumable-media>=2.3.2 in c:\\users\\asif\\anaconda3\\lib\\site-packages (from google-cloud-storage->earthengine-api>=0.1.304->geemap) (2.4.1)\n",
      "Requirement already satisfied: PySocks!=1.5.7,>=1.5.6 in c:\\users\\asif\\anaconda3\\lib\\site-packages (from requests->earthengine-api>=0.1.304->geemap) (1.7.1)\n",
      "Requirement already satisfied: protobuf!=3.20.0,!=3.20.1,!=4.21.0,!=4.21.1,!=4.21.2,!=4.21.3,!=4.21.4,!=4.21.5,<5.0.0dev,>=3.19.5 in c:\\users\\asif\\anaconda3\\lib\\site-packages (from google-api-core!=2.0.*,!=2.1.*,!=2.2.*,!=2.3.0,<3.0.0dev,>=1.31.5->google-api-python-client>=1.12.1->earthengine-api>=0.1.304->geemap) (3.20.3)\n",
      "Requirement already satisfied: googleapis-common-protos<2.0dev,>=1.56.2 in c:\\users\\asif\\anaconda3\\lib\\site-packages (from google-api-core!=2.0.*,!=2.1.*,!=2.2.*,!=2.3.0,<3.0.0dev,>=1.31.5->google-api-python-client>=1.12.1->earthengine-api>=0.1.304->geemap) (1.58.0)\n",
      "Requirement already satisfied: google-crc32c<2.0dev,>=1.0 in c:\\users\\asif\\anaconda3\\lib\\site-packages (from google-resumable-media>=2.3.2->google-cloud-storage->earthengine-api>=0.1.304->geemap) (1.5.0)\n",
      "Requirement already satisfied: parso<0.9.0,>=0.8.0 in c:\\users\\asif\\anaconda3\\lib\\site-packages (from jedi>=0.16->ipython>=4.0.0->ipywidgets<8.0.0->geemap) (0.8.3)\n",
      "Requirement already satisfied: pyrsistent!=0.17.0,!=0.17.1,!=0.17.2,>=0.14.0 in c:\\users\\asif\\anaconda3\\lib\\site-packages (from jsonschema>=2.6->nbformat>=4.2.0->ipywidgets<8.0.0->geemap) (0.18.0)\n",
      "Requirement already satisfied: attrs>=17.4.0 in c:\\users\\asif\\anaconda3\\lib\\site-packages (from jsonschema>=2.6->nbformat>=4.2.0->ipywidgets<8.0.0->geemap) (21.4.0)\n",
      "Requirement already satisfied: pywin32>=1.0 in c:\\users\\asif\\anaconda3\\lib\\site-packages (from jupyter-core>=4.9.2->jupyter-client>=6.1.12->ipykernel->geemap) (302)\n",
      "Requirement already satisfied: terminado>=0.8.3 in c:\\users\\asif\\anaconda3\\lib\\site-packages (from notebook>=4.4.1->widgetsnbextension~=3.5.0->ipywidgets<8.0.0->geemap) (0.13.1)\n",
      "Requirement already satisfied: Send2Trash>=1.8.0 in c:\\users\\asif\\anaconda3\\lib\\site-packages (from notebook>=4.4.1->widgetsnbextension~=3.5.0->ipywidgets<8.0.0->geemap) (1.8.0)\n",
      "Requirement already satisfied: nbconvert>=5 in c:\\users\\asif\\anaconda3\\lib\\site-packages (from notebook>=4.4.1->widgetsnbextension~=3.5.0->ipywidgets<8.0.0->geemap) (6.4.4)\n",
      "Requirement already satisfied: prometheus-client in c:\\users\\asif\\anaconda3\\lib\\site-packages (from notebook>=4.4.1->widgetsnbextension~=3.5.0->ipywidgets<8.0.0->geemap) (0.14.1)\n",
      "Requirement already satisfied: argon2-cffi in c:\\users\\asif\\anaconda3\\lib\\site-packages (from notebook>=4.4.1->widgetsnbextension~=3.5.0->ipywidgets<8.0.0->geemap) (21.3.0)\n",
      "Requirement already satisfied: wcwidth in c:\\users\\asif\\anaconda3\\lib\\site-packages (from prompt-toolkit!=3.0.0,!=3.0.1,<3.1.0,>=2.0.0->ipython>=4.0.0->ipywidgets<8.0.0->geemap) (0.2.5)\n",
      "Requirement already satisfied: pyasn1<0.5.0,>=0.4.6 in c:\\users\\asif\\anaconda3\\lib\\site-packages (from pyasn1-modules>=0.2.1->google-auth>=1.4.1->earthengine-api>=0.1.304->geemap) (0.4.8)\n",
      "Requirement already satisfied: nbclient<0.6.0,>=0.5.0 in c:\\users\\asif\\anaconda3\\lib\\site-packages (from nbconvert>=5->notebook>=4.4.1->widgetsnbextension~=3.5.0->ipywidgets<8.0.0->geemap) (0.5.13)\n",
      "Requirement already satisfied: pandocfilters>=1.4.1 in c:\\users\\asif\\anaconda3\\lib\\site-packages (from nbconvert>=5->notebook>=4.4.1->widgetsnbextension~=3.5.0->ipywidgets<8.0.0->geemap) (1.5.0)\n",
      "Requirement already satisfied: testpath in c:\\users\\asif\\anaconda3\\lib\\site-packages (from nbconvert>=5->notebook>=4.4.1->widgetsnbextension~=3.5.0->ipywidgets<8.0.0->geemap) (0.6.0)\n",
      "Requirement already satisfied: mistune<2,>=0.8.1 in c:\\users\\asif\\anaconda3\\lib\\site-packages (from nbconvert>=5->notebook>=4.4.1->widgetsnbextension~=3.5.0->ipywidgets<8.0.0->geemap) (0.8.4)\n",
      "Requirement already satisfied: jupyterlab-pygments in c:\\users\\asif\\anaconda3\\lib\\site-packages (from nbconvert>=5->notebook>=4.4.1->widgetsnbextension~=3.5.0->ipywidgets<8.0.0->geemap) (0.1.2)\n",
      "Requirement already satisfied: bleach in c:\\users\\asif\\anaconda3\\lib\\site-packages (from nbconvert>=5->notebook>=4.4.1->widgetsnbextension~=3.5.0->ipywidgets<8.0.0->geemap) (4.1.0)\n",
      "Requirement already satisfied: defusedxml in c:\\users\\asif\\anaconda3\\lib\\site-packages (from nbconvert>=5->notebook>=4.4.1->widgetsnbextension~=3.5.0->ipywidgets<8.0.0->geemap) (0.7.1)\n",
      "Requirement already satisfied: pywinpty>=1.1.0 in c:\\users\\asif\\anaconda3\\lib\\site-packages (from terminado>=0.8.3->notebook>=4.4.1->widgetsnbextension~=3.5.0->ipywidgets<8.0.0->geemap) (2.0.2)\n",
      "Requirement already satisfied: argon2-cffi-bindings in c:\\users\\asif\\anaconda3\\lib\\site-packages (from argon2-cffi->notebook>=4.4.1->widgetsnbextension~=3.5.0->ipywidgets<8.0.0->geemap) (21.2.0)\n",
      "Requirement already satisfied: cffi>=1.0.1 in c:\\users\\asif\\anaconda3\\lib\\site-packages (from argon2-cffi-bindings->argon2-cffi->notebook>=4.4.1->widgetsnbextension~=3.5.0->ipywidgets<8.0.0->geemap) (1.15.1)\n",
      "Requirement already satisfied: webencodings in c:\\users\\asif\\anaconda3\\lib\\site-packages (from bleach->nbconvert>=5->notebook>=4.4.1->widgetsnbextension~=3.5.0->ipywidgets<8.0.0->geemap) (0.5.1)\n",
      "Requirement already satisfied: pycparser in c:\\users\\asif\\anaconda3\\lib\\site-packages (from cffi>=1.0.1->argon2-cffi-bindings->argon2-cffi->notebook>=4.4.1->widgetsnbextension~=3.5.0->ipywidgets<8.0.0->geemap) (2.21)\n"
     ]
    },
    {
     "data": {
      "text/markdown": [
       "<hr  height=\"5px\"><span style=\"color: salmon; font-weight: bold; width=1000px\">EE library verification and installation if needed</span> <hr height=\"5px\">"
      ],
      "text/plain": [
       "<IPython.core.display.Markdown object>"
      ]
     },
     "metadata": {},
     "output_type": "display_data"
    },
    {
     "name": "stdout",
     "output_type": "stream",
     "text": [
      "Requirement already satisfied: ee in c:\\users\\asif\\anaconda3\\lib\\site-packages (0.2)\n",
      "Requirement already satisfied: blessings in c:\\users\\asif\\anaconda3\\lib\\site-packages (from ee) (1.7)\n",
      "Requirement already satisfied: six in c:\\users\\asif\\anaconda3\\lib\\site-packages (from blessings->ee) (1.16.0)\n"
     ]
    },
    {
     "data": {
      "text/markdown": [
       "<hr  height=\"5px\"><span style=\"color: salmon; font-weight: bold; width=1000px\">SHAP library verification and installation if needed</span> <hr height=\"5px\">"
      ],
      "text/plain": [
       "<IPython.core.display.Markdown object>"
      ]
     },
     "metadata": {},
     "output_type": "display_data"
    },
    {
     "name": "stdout",
     "output_type": "stream",
     "text": [
      "Requirement already satisfied: shap in c:\\users\\asif\\anaconda3\\lib\\site-packages (0.41.0)\n",
      "Requirement already satisfied: pandas in c:\\users\\asif\\appdata\\roaming\\python\\python39\\site-packages (from shap) (1.5.3)\n",
      "Requirement already satisfied: packaging>20.9 in c:\\users\\asif\\anaconda3\\lib\\site-packages (from shap) (21.3)\n",
      "Requirement already satisfied: scipy in c:\\users\\asif\\appdata\\roaming\\python\\python39\\site-packages (from shap) (1.10.1)\n",
      "Requirement already satisfied: numpy in c:\\users\\asif\\appdata\\roaming\\python\\python39\\site-packages (from shap) (1.24.2)\n",
      "Requirement already satisfied: cloudpickle in c:\\users\\asif\\anaconda3\\lib\\site-packages (from shap) (2.0.0)\n",
      "Requirement already satisfied: numba in c:\\users\\asif\\anaconda3\\lib\\site-packages (from shap) (0.55.1)\n",
      "Requirement already satisfied: slicer==0.0.7 in c:\\users\\asif\\anaconda3\\lib\\site-packages (from shap) (0.0.7)\n",
      "Requirement already satisfied: scikit-learn in c:\\users\\asif\\anaconda3\\lib\\site-packages (from shap) (1.0.2)\n",
      "Requirement already satisfied: tqdm>4.25.0 in c:\\users\\asif\\anaconda3\\lib\\site-packages (from shap) (4.64.1)\n",
      "Requirement already satisfied: pyparsing!=3.0.5,>=2.0.2 in c:\\users\\asif\\anaconda3\\lib\\site-packages (from packaging>20.9->shap) (3.0.9)\n",
      "Requirement already satisfied: colorama in c:\\users\\asif\\anaconda3\\lib\\site-packages (from tqdm>4.25.0->shap) (0.4.6)\n",
      "Collecting numpy\n",
      "  Using cached numpy-1.21.6-cp39-cp39-win_amd64.whl (14.0 MB)\n",
      "Requirement already satisfied: setuptools in c:\\users\\asif\\anaconda3\\lib\\site-packages (from numba->shap) (60.10.0)\n",
      "Requirement already satisfied: llvmlite<0.39,>=0.38.0rc1 in c:\\users\\asif\\anaconda3\\lib\\site-packages (from numba->shap) (0.38.0)\n",
      "Requirement already satisfied: python-dateutil>=2.8.1 in c:\\users\\asif\\anaconda3\\lib\\site-packages (from pandas->shap) (2.8.2)\n",
      "Requirement already satisfied: pytz>=2020.1 in c:\\users\\asif\\anaconda3\\lib\\site-packages (from pandas->shap) (2022.1)\n",
      "Requirement already satisfied: joblib>=0.11 in c:\\users\\asif\\anaconda3\\lib\\site-packages (from scikit-learn->shap) (1.1.0)\n",
      "Requirement already satisfied: threadpoolctl>=2.0.0 in c:\\users\\asif\\anaconda3\\lib\\site-packages (from scikit-learn->shap) (2.2.0)\n",
      "Requirement already satisfied: six>=1.5 in c:\\users\\asif\\anaconda3\\lib\\site-packages (from python-dateutil>=2.8.1->pandas->shap) (1.16.0)\n",
      "Installing collected packages: numpy\n",
      "  Attempting uninstall: numpy\n",
      "    Found existing installation: numpy 1.24.2\n",
      "    Uninstalling numpy-1.24.2:\n",
      "      Successfully uninstalled numpy-1.24.2\n",
      "  Rolling back uninstall of numpy\n",
      "  Moving to c:\\users\\asif\\appdata\\roaming\\python\\python39\\scripts\\f2py.exe\n",
      "   from C:\\Users\\asif\\AppData\\Local\\Temp\\pip-uninstall-qdp66jsd\\f2py.exe\n",
      "  Moving to c:\\users\\asif\\appdata\\roaming\\python\\python39\\site-packages\\numpy-1.24.2.dist-info\\\n",
      "   from C:\\Users\\asif\\AppData\\Roaming\\Python\\Python39\\site-packages\\~umpy-1.24.2.dist-info\n",
      "  Moving to c:\\users\\asif\\appdata\\roaming\\python\\python39\\site-packages\\numpy\\\n",
      "   from C:\\Users\\asif\\AppData\\Roaming\\Python\\Python39\\site-packages\\~umpy\n"
     ]
    },
    {
     "name": "stderr",
     "output_type": "stream",
     "text": [
      "ERROR: Could not install packages due to an OSError: [WinError 5] Access is denied: 'C:\\\\Users\\\\asif\\\\anaconda3\\\\Lib\\\\site-packages\\\\numpy\\\\.libs\\\\libopenblas.XWYDX2IKJW2NMTWSFYNGFUWKQU3LYTCZ.gfortran-win_amd64.dll'\n",
      "Consider using the `--user` option or check the permissions.\n",
      "\n"
     ]
    },
    {
     "data": {
      "text/markdown": [
       "<hr  height=\"5px\"><span style=\"color: salmon; font-weight: bold; width=1000px\">MATPLOTLIB library verification and installation if needed</span> <hr height=\"5px\">"
      ],
      "text/plain": [
       "<IPython.core.display.Markdown object>"
      ]
     },
     "metadata": {},
     "output_type": "display_data"
    },
    {
     "name": "stdout",
     "output_type": "stream",
     "text": [
      "Requirement already satisfied: matplotlib in c:\\users\\asif\\anaconda3\\lib\\site-packages (3.7.1)\n",
      "Requirement already satisfied: fonttools>=4.22.0 in c:\\users\\asif\\anaconda3\\lib\\site-packages (from matplotlib) (4.25.0)\n",
      "Requirement already satisfied: python-dateutil>=2.7 in c:\\users\\asif\\anaconda3\\lib\\site-packages (from matplotlib) (2.8.2)\n",
      "Requirement already satisfied: kiwisolver>=1.0.1 in c:\\users\\asif\\anaconda3\\lib\\site-packages (from matplotlib) (1.4.2)\n",
      "Requirement already satisfied: importlib-resources>=3.2.0 in c:\\users\\asif\\appdata\\roaming\\python\\python39\\site-packages (from matplotlib) (5.12.0)\n",
      "Requirement already satisfied: pyparsing>=2.3.1 in c:\\users\\asif\\anaconda3\\lib\\site-packages (from matplotlib) (3.0.9)\n",
      "Requirement already satisfied: numpy>=1.20 in c:\\users\\asif\\appdata\\roaming\\python\\python39\\site-packages (from matplotlib) (1.24.2)\n",
      "Requirement already satisfied: pillow>=6.2.0 in c:\\users\\asif\\anaconda3\\lib\\site-packages (from matplotlib) (9.2.0)\n",
      "Requirement already satisfied: cycler>=0.10 in c:\\users\\asif\\anaconda3\\lib\\site-packages (from matplotlib) (0.11.0)\n",
      "Requirement already satisfied: packaging>=20.0 in c:\\users\\asif\\anaconda3\\lib\\site-packages (from matplotlib) (21.3)\n",
      "Requirement already satisfied: contourpy>=1.0.1 in c:\\users\\asif\\appdata\\roaming\\python\\python39\\site-packages (from matplotlib) (1.0.7)\n",
      "Requirement already satisfied: zipp>=3.1.0 in c:\\users\\asif\\anaconda3\\lib\\site-packages (from importlib-resources>=3.2.0->matplotlib) (3.8.0)\n",
      "Requirement already satisfied: six>=1.5 in c:\\users\\asif\\anaconda3\\lib\\site-packages (from python-dateutil>=2.7->matplotlib) (1.16.0)\n"
     ]
    }
   ],
   "source": [
    "from IPython.display import Markdown\n",
    "\n",
    "libraries = [\n",
    "    'seaborn',\n",
    "    'altair',\n",
    "    'bokeh',\n",
    "    'plotly',\n",
    "    'hvplot',\n",
    "    'folium',\n",
    "    'geopandas',\n",
    "    'geemap',\n",
    "    'ee',\n",
    "    'shap',\n",
    "    'matplotlib'\n",
    "]\n",
    "\n",
    "\n",
    "for library in libraries:\n",
    "    message = f'<hr  height=\"5px\"><span style=\"color: salmon; font-weight: bold; width=1000px\">{library.upper()} ' \\\n",
    "    + 'library verification and installation if needed</span> <hr height=\"5px\">'\n",
    "    display (Markdown(message))\n",
    "    \n",
    "    !pip install {library} --upgrade"
   ]
  },
  {
   "cell_type": "markdown",
   "metadata": {},
   "source": [
    "## Conclusion\n",
    "\n",
    "Now, you have all the data visualization libraries that we may need in the course of this workshop on NLP."
   ]
  }
 ],
 "metadata": {
  "hide_input": false,
  "kernelspec": {
   "display_name": "Python 3 (ipykernel)",
   "language": "python",
   "name": "python3"
  },
  "language_info": {
   "codemirror_mode": {
    "name": "ipython",
    "version": 3
   },
   "file_extension": ".py",
   "mimetype": "text/x-python",
   "name": "python",
   "nbconvert_exporter": "python",
   "pygments_lexer": "ipython3",
   "version": "3.9.13"
  },
  "toc": {
   "base_numbering": 1,
   "nav_menu": {},
   "number_sections": true,
   "sideBar": true,
   "skip_h1_title": false,
   "title_cell": "Table of Contents",
   "title_sidebar": "Contents",
   "toc_cell": false,
   "toc_position": {},
   "toc_section_display": true,
   "toc_window_display": false
  },
  "varInspector": {
   "cols": {
    "lenName": 16,
    "lenType": 16,
    "lenVar": 40
   },
   "kernels_config": {
    "python": {
     "delete_cmd_postfix": "",
     "delete_cmd_prefix": "del ",
     "library": "var_list.py",
     "varRefreshCmd": "print(var_dic_list())"
    },
    "r": {
     "delete_cmd_postfix": ") ",
     "delete_cmd_prefix": "rm(",
     "library": "var_list.r",
     "varRefreshCmd": "cat(var_dic_list()) "
    }
   },
   "types_to_exclude": [
    "module",
    "function",
    "builtin_function_or_method",
    "instance",
    "_Feature"
   ],
   "window_display": false
  }
 },
 "nbformat": 4,
 "nbformat_minor": 4
}
