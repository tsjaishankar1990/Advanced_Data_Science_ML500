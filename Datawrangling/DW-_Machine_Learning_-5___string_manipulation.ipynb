{
 "cells": [
  {
   "cell_type": "markdown",
   "id": "c024fb45",
   "metadata": {},
   "source": [
    "<center> </center>"
   ]
  },
  {
   "cell_type": "code",
   "execution_count": 1,
   "id": "174de302",
   "metadata": {},
   "outputs": [
    {
     "data": {
      "text/html": [
       "\n",
       "<!-- Many of the styles here are inspired by: \n",
       "    https://towardsdatascience.com/10-practical-tips-you-need-to-know-to-personalize-jupyter-notebook-fbd202777e20 \n",
       "       \n",
       "    \n",
       "    On the author's local machine, these exist in the custom.css file. However, in order to keep uniform look and feel, \n",
       "    and at the request of participants, I have added it to this common import-file here.\n",
       "\n",
       "    -->\n",
       "\n",
       "<link href=\"https://fonts.googleapis.com/css?family=Lora:400,700|Montserrat:300\" rel=\"stylesheet\">\n",
       "\n",
       "<link href=\"https://fonts.googleapis.com/css2?family=Crimson+Pro&family=Literata&display=swap\" rel=\"stylesheet\">\n",
       "<style>\n",
       "\n",
       "\n",
       "#ipython_notebook::before{\n",
       " content:\"Data Wrangling\";\n",
       "        color: white;\n",
       "        font-weight: bold;\n",
       "        text-transform: uppercase;\n",
       "        font-family: 'Lora',serif;\n",
       "        font-size:16pt;\n",
       "        margin-bottom:15px;\n",
       "           \n",
       "}\n",
       "body > #header {\n",
       "    #background: #D15555;\n",
       "    background: linear-gradient(to bottom, indianred 0%, #fff 100%);\n",
       "    opacity: 0.8;\n",
       "\n",
       "}\n",
       "\n",
       "\n",
       ".navbar-default .navbar-nav > li > a, #kernel_indicator {\n",
       "    color: white;\n",
       "    transition: all 0.25s;\n",
       "    font-size:12pt;\n",
       "    font-family: sans;\n",
       "    font-weight:bold;\n",
       "}\n",
       ".navbar-default {\n",
       "    padding-left:100px;\n",
       "    background: none;\n",
       "    border: none;\n",
       "}\n",
       "\n",
       "\n",
       "body > menubar-container {\n",
       "    background-color: wheat;\n",
       "}\n",
       "#ipython_notebook img{                                                                                        \n",
       "    display:block; \n",
       "    \n",
       "    background: url(\"https://www.supportvectors.com/wp-content/uploads/2016/03/logo-poster-smaller.png\") no-repeat;\n",
       "    background-size: contain;\n",
       "   \n",
       "    padding-left: 600px;\n",
       "    padding-right: 100px;\n",
       "    \n",
       "    -moz-box-sizing: border-box;\n",
       "    box-sizing: border-box;\n",
       "}\n",
       "\n",
       "\n",
       "\n",
       "body {\n",
       " #font-family:  'Literata', serif;\n",
       "    font-family:'Lora', san-serif;\n",
       "    text-align: justify;\n",
       "    font-weight: 400;\n",
       "    font-size: 12pt;\n",
       "}\n",
       "\n",
       "iframe{\n",
       "    width:100%;\n",
       "    min-height:600px;\n",
       "}\n",
       "\n",
       "h1, h2, h3, h4, h5, h6 {\n",
       "# font-family: 'Montserrat', sans-serif;\n",
       " font-family:'Lora', serif;\n",
       " font-weight: 200;\n",
       " text-transform: uppercase;\n",
       " color: #EC7063 ;\n",
       "}\n",
       "\n",
       "h2 {\n",
       "    color: #000080;\n",
       "}\n",
       "\n",
       ".checkpoint_status, .autosave_status {\n",
       "    color:wheat;\n",
       "}\n",
       "\n",
       "#notebook_name {\n",
       "    font-weight: 1000;\n",
       "    font-size:20pt;\n",
       "    text-variant:uppercase;\n",
       "    color: wheat; \n",
       "    margin-right:20px;\n",
       "}\n",
       "#notebook_name:hover {\n",
       "background-color: salmon;\n",
       "}\n",
       "\n",
       "\n",
       ".dataframe { /* dataframe atau table */\n",
       "    background: white;\n",
       "    box-shadow: 0px 1px 2px #bbb;\n",
       "}\n",
       ".dataframe thead th, .dataframe tbody td {\n",
       "    text-align: center;\n",
       "    padding: 1em;\n",
       "}\n",
       "\n",
       ".checkpoint_status, .autosave_status {\n",
       "    color:wheat;\n",
       "}\n",
       "\n",
       ".output {\n",
       "    align-items: center;\n",
       "}\n",
       "\n",
       "div.cell {\n",
       "    transition: all 0.25s;\n",
       "    border: none;\n",
       "    position: relative;\n",
       "    top: 0;\n",
       "}\n",
       "div.cell.selected, div.cell.selected.jupyter-soft-selected {\n",
       "    border: none;\n",
       "    background: transparent;\n",
       "    box-shadow: 0 6px 18px #aaa;\n",
       "    z-index: 10;\n",
       "    top: -10px;\n",
       "}\n",
       ".CodeMirror pre, .CodeMirror-dialog, .CodeMirror-dialog .CodeMirror-search-field, .terminal-app .terminal {\n",
       "    font-family: 'Hack' , serif; \n",
       "    font-weight: 600;\n",
       "    font-size: 14pt;\n",
       "}\n",
       "\n",
       "\n",
       "\n",
       "</style>    \n"
      ],
      "text/plain": [
       "<IPython.core.display.HTML object>"
      ]
     },
     "metadata": {},
     "output_type": "display_data"
    }
   ],
   "source": [
    "%run supportvectors-common.ipynb"
   ]
  },
  {
   "cell_type": "markdown",
   "id": "73fdbbc1",
   "metadata": {},
   "source": [
    "# Working with Strings\n",
    "\n",
    "In this lab, we will learn to manipulate string datatypes. Pandas has numerous features pertaining to strings. We will cover a few basics you will mostly need to work with while cleaning datasets. References to the Pandas documentation are provided wherever more information is required."
   ]
  },
  {
   "cell_type": "code",
   "execution_count": 2,
   "id": "175e4b45",
   "metadata": {},
   "outputs": [],
   "source": [
    "import pandas as pd\n",
    "import numpy as np\n",
    "\n",
    "# paths to the most commonly used dataset repositories for this lab\n",
    "\n",
    "# path to pandas_for_everyone datasets repository\n",
    "pfe_rep_path = 'https://raw.githubusercontent.com/chendaniely/pandas_for_everyone/master/data/'\n",
    "\n",
    "# path to SupportVectors data-wrangling-datasets repository\n",
    "sv_rep_path = 'https://raw.githubusercontent.com/supportvectors/data-wrangling-datasets/main/'"
   ]
  },
  {
   "cell_type": "markdown",
   "id": "a2f18550",
   "metadata": {},
   "source": [
    "## Storing text  \n",
    "\n",
    "Text or generally any non-numeric data is stored as `object` datatype. "
   ]
  },
  {
   "cell_type": "code",
   "execution_count": 3,
   "id": "f9435dc1",
   "metadata": {},
   "outputs": [
    {
     "data": {
      "text/plain": [
       "0      a\n",
       "1      2\n",
       "2    c10\n",
       "dtype: object"
      ]
     },
     "execution_count": 3,
     "metadata": {},
     "output_type": "execute_result"
    }
   ],
   "source": [
    "s = pd.Series(['a', '2' , 'c10'])\n",
    "s"
   ]
  },
  {
   "cell_type": "markdown",
   "id": "9ed02134",
   "metadata": {},
   "source": [
    "Pandas recommends to store string data as `StringDtype`"
   ]
  },
  {
   "cell_type": "code",
   "execution_count": 4,
   "id": "01fd56fa",
   "metadata": {},
   "outputs": [
    {
     "data": {
      "text/plain": [
       "0      a\n",
       "1      2\n",
       "2    c10\n",
       "dtype: string"
      ]
     },
     "execution_count": 4,
     "metadata": {},
     "output_type": "execute_result"
    }
   ],
   "source": [
    "s = pd.Series(['a', '2' , 'c10'],\n",
    "              dtype=pd.StringDtype() # or dtype='string'\n",
    "             )\n",
    "s"
   ]
  },
  {
   "cell_type": "markdown",
   "id": "4b9fe3c8",
   "metadata": {},
   "source": [
    "There is a behaviour difference between these two methods. \n",
    "\n",
    "See documentation: https://pandas.pydata.org/docs/user_guide/text.html#behavior-differences"
   ]
  },
  {
   "cell_type": "markdown",
   "id": "06ee3181",
   "metadata": {},
   "source": [
    "## Accessing string methods\n",
    "\n",
    "String methods can be accessed using the `.str` accessor. These string methods are similar to the built-in python string methods having similar names. \n",
    "\n",
    "A list of all string methods:  https://docs.python.org/2.5/lib/string-methods.html\n",
    "\n",
    "### Weather dataset\n",
    "This weather data is collected from https://www.ncdc.noaa.gov/cdo-web/ where free access is provided to global historic climate data. For this exercise, we take a subset of the data collected from the New Orleans Lakefront Airport station. Specifically, we will work with four variables. \n",
    "\n",
    "Columns\n",
    "\n",
    "* AWND = Average daily wind speed (miles per hour)\n",
    "* PRCP = Precipitation (inches to hundredths)\n",
    "* TMAX = Maximum temperature (Fahrenheit)\n",
    "* TMIN = Minimum temperature (Fahrenheit)\n",
    "\n",
    "Let's load this dataset."
   ]
  },
  {
   "cell_type": "code",
   "execution_count": 20,
   "id": "70f9cb4e",
   "metadata": {},
   "outputs": [
    {
     "data": {
      "text/html": [
       "<div>\n",
       "<style scoped>\n",
       "    .dataframe tbody tr th:only-of-type {\n",
       "        vertical-align: middle;\n",
       "    }\n",
       "\n",
       "    .dataframe tbody tr th {\n",
       "        vertical-align: top;\n",
       "    }\n",
       "\n",
       "    .dataframe thead th {\n",
       "        text-align: right;\n",
       "    }\n",
       "</style>\n",
       "<table border=\"1\" class=\"dataframe\">\n",
       "  <thead>\n",
       "    <tr style=\"text-align: right;\">\n",
       "      <th></th>\n",
       "      <th>STATION</th>\n",
       "      <th>NAME</th>\n",
       "      <th>DATE</th>\n",
       "      <th>AWND</th>\n",
       "      <th>PRCP</th>\n",
       "      <th>TMIN</th>\n",
       "      <th>TMAX</th>\n",
       "    </tr>\n",
       "  </thead>\n",
       "  <tbody>\n",
       "    <tr>\n",
       "      <th>0</th>\n",
       "      <td>USW00053917</td>\n",
       "      <td>NEW ORLEANS LAKEFRONT AIRPORT, LA US</td>\n",
       "      <td>01-01-2021</td>\n",
       "      <td>13.42</td>\n",
       "      <td>0.0</td>\n",
       "      <td>56.0</td>\n",
       "      <td>69.0</td>\n",
       "    </tr>\n",
       "    <tr>\n",
       "      <th>1</th>\n",
       "      <td>USW00053917</td>\n",
       "      <td>NEW ORLEANS LAKEFRONT AIRPORT, LA US</td>\n",
       "      <td>02-01-2021</td>\n",
       "      <td>13.87</td>\n",
       "      <td>0.0</td>\n",
       "      <td>48.0</td>\n",
       "      <td>57.0</td>\n",
       "    </tr>\n",
       "    <tr>\n",
       "      <th>2</th>\n",
       "      <td>USW00053917</td>\n",
       "      <td>NEW ORLEANS LAKEFRONT AIRPORT, LA US</td>\n",
       "      <td>03-01-2021</td>\n",
       "      <td>7.83</td>\n",
       "      <td>0.0</td>\n",
       "      <td>47.0</td>\n",
       "      <td>56.0</td>\n",
       "    </tr>\n",
       "    <tr>\n",
       "      <th>3</th>\n",
       "      <td>USW00053917</td>\n",
       "      <td>NEW ORLEANS LAKEFRONT AIRPORT, LA US</td>\n",
       "      <td>04-01-2021</td>\n",
       "      <td>6.49</td>\n",
       "      <td>0.0</td>\n",
       "      <td>44.0</td>\n",
       "      <td>68.0</td>\n",
       "    </tr>\n",
       "    <tr>\n",
       "      <th>4</th>\n",
       "      <td>USW00053917</td>\n",
       "      <td>NEW ORLEANS LAKEFRONT AIRPORT, LA US</td>\n",
       "      <td>05-01-2021</td>\n",
       "      <td>5.82</td>\n",
       "      <td>0.0</td>\n",
       "      <td>52.0</td>\n",
       "      <td>61.0</td>\n",
       "    </tr>\n",
       "  </tbody>\n",
       "</table>\n",
       "</div>"
      ],
      "text/plain": [
       "       STATION                                  NAME        DATE   AWND  PRCP  \\\n",
       "0  USW00053917  NEW ORLEANS LAKEFRONT AIRPORT, LA US  01-01-2021  13.42   0.0   \n",
       "1  USW00053917  NEW ORLEANS LAKEFRONT AIRPORT, LA US  02-01-2021  13.87   0.0   \n",
       "2  USW00053917  NEW ORLEANS LAKEFRONT AIRPORT, LA US  03-01-2021   7.83   0.0   \n",
       "3  USW00053917  NEW ORLEANS LAKEFRONT AIRPORT, LA US  04-01-2021   6.49   0.0   \n",
       "4  USW00053917  NEW ORLEANS LAKEFRONT AIRPORT, LA US  05-01-2021   5.82   0.0   \n",
       "\n",
       "   TMIN  TMAX  \n",
       "0  56.0  69.0  \n",
       "1  48.0  57.0  \n",
       "2  47.0  56.0  \n",
       "3  44.0  68.0  \n",
       "4  52.0  61.0  "
      ]
     },
     "execution_count": 20,
     "metadata": {},
     "output_type": "execute_result"
    }
   ],
   "source": [
    "source = sv_rep_path + 'New_Orleans_Lakefront_Airport_weather_2021_subset.csv'\n",
    "\n",
    "weather_df = pd.read_csv(source)\n",
    "weather_df.head()"
   ]
  },
  {
   "cell_type": "markdown",
   "id": "ccd688af",
   "metadata": {},
   "source": [
    "We observe that the columns are all uppercase which might be difficult to work with, let's change them using some of the string methods"
   ]
  },
  {
   "cell_type": "code",
   "execution_count": 21,
   "id": "b01bddf0",
   "metadata": {},
   "outputs": [
    {
     "data": {
      "text/plain": [
       "Index(['station', 'name', 'date', 'awnd', 'prcp', 'tmin', 'tmax'], dtype='object')"
      ]
     },
     "execution_count": 21,
     "metadata": {},
     "output_type": "execute_result"
    }
   ],
   "source": [
    "cols = weather_df.columns.str.lower() # change  text to lowercase\n",
    "cols"
   ]
  },
  {
   "cell_type": "code",
   "execution_count": 22,
   "id": "a6934b92",
   "metadata": {},
   "outputs": [
    {
     "data": {
      "text/plain": [
       "Index(['Station', 'Name', 'Date', 'Awnd', 'Prcp', 'Tmin', 'Tmax'], dtype='object')"
      ]
     },
     "execution_count": 22,
     "metadata": {},
     "output_type": "execute_result"
    }
   ],
   "source": [
    "cols = weather_df.columns.str.capitalize() # change case of the first letter of each string to upper\n",
    "cols"
   ]
  },
  {
   "cell_type": "code",
   "execution_count": 23,
   "id": "008a9f54",
   "metadata": {},
   "outputs": [
    {
     "data": {
      "text/html": [
       "<div>\n",
       "<style scoped>\n",
       "    .dataframe tbody tr th:only-of-type {\n",
       "        vertical-align: middle;\n",
       "    }\n",
       "\n",
       "    .dataframe tbody tr th {\n",
       "        vertical-align: top;\n",
       "    }\n",
       "\n",
       "    .dataframe thead th {\n",
       "        text-align: right;\n",
       "    }\n",
       "</style>\n",
       "<table border=\"1\" class=\"dataframe\">\n",
       "  <thead>\n",
       "    <tr style=\"text-align: right;\">\n",
       "      <th></th>\n",
       "      <th>Station</th>\n",
       "      <th>Name</th>\n",
       "      <th>Date</th>\n",
       "      <th>Awnd</th>\n",
       "      <th>Prcp</th>\n",
       "      <th>Tmin</th>\n",
       "      <th>Tmax</th>\n",
       "    </tr>\n",
       "  </thead>\n",
       "  <tbody>\n",
       "    <tr>\n",
       "      <th>0</th>\n",
       "      <td>USW00053917</td>\n",
       "      <td>NEW ORLEANS LAKEFRONT AIRPORT, LA US</td>\n",
       "      <td>01-01-2021</td>\n",
       "      <td>13.42</td>\n",
       "      <td>0.00</td>\n",
       "      <td>56.0</td>\n",
       "      <td>69.0</td>\n",
       "    </tr>\n",
       "    <tr>\n",
       "      <th>1</th>\n",
       "      <td>USW00053917</td>\n",
       "      <td>NEW ORLEANS LAKEFRONT AIRPORT, LA US</td>\n",
       "      <td>02-01-2021</td>\n",
       "      <td>13.87</td>\n",
       "      <td>0.00</td>\n",
       "      <td>48.0</td>\n",
       "      <td>57.0</td>\n",
       "    </tr>\n",
       "    <tr>\n",
       "      <th>2</th>\n",
       "      <td>USW00053917</td>\n",
       "      <td>NEW ORLEANS LAKEFRONT AIRPORT, LA US</td>\n",
       "      <td>03-01-2021</td>\n",
       "      <td>7.83</td>\n",
       "      <td>0.00</td>\n",
       "      <td>47.0</td>\n",
       "      <td>56.0</td>\n",
       "    </tr>\n",
       "    <tr>\n",
       "      <th>3</th>\n",
       "      <td>USW00053917</td>\n",
       "      <td>NEW ORLEANS LAKEFRONT AIRPORT, LA US</td>\n",
       "      <td>04-01-2021</td>\n",
       "      <td>6.49</td>\n",
       "      <td>0.00</td>\n",
       "      <td>44.0</td>\n",
       "      <td>68.0</td>\n",
       "    </tr>\n",
       "    <tr>\n",
       "      <th>4</th>\n",
       "      <td>USW00053917</td>\n",
       "      <td>NEW ORLEANS LAKEFRONT AIRPORT, LA US</td>\n",
       "      <td>05-01-2021</td>\n",
       "      <td>5.82</td>\n",
       "      <td>0.00</td>\n",
       "      <td>52.0</td>\n",
       "      <td>61.0</td>\n",
       "    </tr>\n",
       "    <tr>\n",
       "      <th>...</th>\n",
       "      <td>...</td>\n",
       "      <td>...</td>\n",
       "      <td>...</td>\n",
       "      <td>...</td>\n",
       "      <td>...</td>\n",
       "      <td>...</td>\n",
       "      <td>...</td>\n",
       "    </tr>\n",
       "    <tr>\n",
       "      <th>357</th>\n",
       "      <td>USW00053917</td>\n",
       "      <td>NEW ORLEANS LAKEFRONT AIRPORT, LA US</td>\n",
       "      <td>27-12-2021</td>\n",
       "      <td>7.61</td>\n",
       "      <td>0.00</td>\n",
       "      <td>64.0</td>\n",
       "      <td>78.0</td>\n",
       "    </tr>\n",
       "    <tr>\n",
       "      <th>358</th>\n",
       "      <td>USW00053917</td>\n",
       "      <td>NEW ORLEANS LAKEFRONT AIRPORT, LA US</td>\n",
       "      <td>28-12-2021</td>\n",
       "      <td>14.09</td>\n",
       "      <td>0.30</td>\n",
       "      <td>68.0</td>\n",
       "      <td>81.0</td>\n",
       "    </tr>\n",
       "    <tr>\n",
       "      <th>359</th>\n",
       "      <td>USW00053917</td>\n",
       "      <td>NEW ORLEANS LAKEFRONT AIRPORT, LA US</td>\n",
       "      <td>29-12-2021</td>\n",
       "      <td>12.75</td>\n",
       "      <td>0.00</td>\n",
       "      <td>71.0</td>\n",
       "      <td>82.0</td>\n",
       "    </tr>\n",
       "    <tr>\n",
       "      <th>360</th>\n",
       "      <td>USW00053917</td>\n",
       "      <td>NEW ORLEANS LAKEFRONT AIRPORT, LA US</td>\n",
       "      <td>30-12-2021</td>\n",
       "      <td>9.62</td>\n",
       "      <td>0.00</td>\n",
       "      <td>72.0</td>\n",
       "      <td>83.0</td>\n",
       "    </tr>\n",
       "    <tr>\n",
       "      <th>361</th>\n",
       "      <td>USW00053917</td>\n",
       "      <td>NEW ORLEANS LAKEFRONT AIRPORT, LA US</td>\n",
       "      <td>31-12-2021</td>\n",
       "      <td>13.87</td>\n",
       "      <td>0.02</td>\n",
       "      <td>73.0</td>\n",
       "      <td>82.0</td>\n",
       "    </tr>\n",
       "  </tbody>\n",
       "</table>\n",
       "<p>362 rows × 7 columns</p>\n",
       "</div>"
      ],
      "text/plain": [
       "         Station                                  Name        Date   Awnd  \\\n",
       "0    USW00053917  NEW ORLEANS LAKEFRONT AIRPORT, LA US  01-01-2021  13.42   \n",
       "1    USW00053917  NEW ORLEANS LAKEFRONT AIRPORT, LA US  02-01-2021  13.87   \n",
       "2    USW00053917  NEW ORLEANS LAKEFRONT AIRPORT, LA US  03-01-2021   7.83   \n",
       "3    USW00053917  NEW ORLEANS LAKEFRONT AIRPORT, LA US  04-01-2021   6.49   \n",
       "4    USW00053917  NEW ORLEANS LAKEFRONT AIRPORT, LA US  05-01-2021   5.82   \n",
       "..           ...                                   ...         ...    ...   \n",
       "357  USW00053917  NEW ORLEANS LAKEFRONT AIRPORT, LA US  27-12-2021   7.61   \n",
       "358  USW00053917  NEW ORLEANS LAKEFRONT AIRPORT, LA US  28-12-2021  14.09   \n",
       "359  USW00053917  NEW ORLEANS LAKEFRONT AIRPORT, LA US  29-12-2021  12.75   \n",
       "360  USW00053917  NEW ORLEANS LAKEFRONT AIRPORT, LA US  30-12-2021   9.62   \n",
       "361  USW00053917  NEW ORLEANS LAKEFRONT AIRPORT, LA US  31-12-2021  13.87   \n",
       "\n",
       "     Prcp  Tmin  Tmax  \n",
       "0    0.00  56.0  69.0  \n",
       "1    0.00  48.0  57.0  \n",
       "2    0.00  47.0  56.0  \n",
       "3    0.00  44.0  68.0  \n",
       "4    0.00  52.0  61.0  \n",
       "..    ...   ...   ...  \n",
       "357  0.00  64.0  78.0  \n",
       "358  0.30  68.0  81.0  \n",
       "359  0.00  71.0  82.0  \n",
       "360  0.00  72.0  83.0  \n",
       "361  0.02  73.0  82.0  \n",
       "\n",
       "[362 rows x 7 columns]"
      ]
     },
     "execution_count": 23,
     "metadata": {},
     "output_type": "execute_result"
    }
   ],
   "source": [
    "weather_df.columns = cols # reset the column names to the modified names\n",
    "weather_df"
   ]
  },
  {
   "cell_type": "markdown",
   "id": "b1405396",
   "metadata": {},
   "source": [
    "## Split and Replace\n",
    "\n",
    "Let's split the Station name into \"Name\" and \"State\" wit the separator as `,`. In each row split text is stored as a list and a dataframe is returned. Let's call this `name_state_df`."
   ]
  },
  {
   "cell_type": "code",
   "execution_count": 24,
   "id": "33cb663f",
   "metadata": {},
   "outputs": [
    {
     "data": {
      "text/plain": [
       "0    NEW ORLEANS LAKEFRONT AIRPORT, LA US\n",
       "1    NEW ORLEANS LAKEFRONT AIRPORT, LA US\n",
       "2    NEW ORLEANS LAKEFRONT AIRPORT, LA US\n",
       "3    NEW ORLEANS LAKEFRONT AIRPORT, LA US\n",
       "4    NEW ORLEANS LAKEFRONT AIRPORT, LA US\n",
       "Name: Name, dtype: object"
      ]
     },
     "execution_count": 24,
     "metadata": {},
     "output_type": "execute_result"
    }
   ],
   "source": [
    "weather_df.Name.head()"
   ]
  },
  {
   "cell_type": "markdown",
   "id": "648cd642",
   "metadata": {},
   "source": [
    "Now, let us split it on the `Name` column, using `,` as the delimiter. This should produce and array with two columns, one for the name of the weather station, and the second for the state and country it belongs to."
   ]
  },
  {
   "cell_type": "code",
   "execution_count": 9,
   "id": "1c2468a2",
   "metadata": {},
   "outputs": [
    {
     "data": {
      "text/plain": [
       "0      [NEW ORLEANS LAKEFRONT AIRPORT,  LA US]\n",
       "1      [NEW ORLEANS LAKEFRONT AIRPORT,  LA US]\n",
       "2      [NEW ORLEANS LAKEFRONT AIRPORT,  LA US]\n",
       "3      [NEW ORLEANS LAKEFRONT AIRPORT,  LA US]\n",
       "4      [NEW ORLEANS LAKEFRONT AIRPORT,  LA US]\n",
       "                        ...                   \n",
       "357    [NEW ORLEANS LAKEFRONT AIRPORT,  LA US]\n",
       "358    [NEW ORLEANS LAKEFRONT AIRPORT,  LA US]\n",
       "359    [NEW ORLEANS LAKEFRONT AIRPORT,  LA US]\n",
       "360    [NEW ORLEANS LAKEFRONT AIRPORT,  LA US]\n",
       "361    [NEW ORLEANS LAKEFRONT AIRPORT,  LA US]\n",
       "Name: Name, Length: 362, dtype: object"
      ]
     },
     "execution_count": 9,
     "metadata": {},
     "output_type": "execute_result"
    }
   ],
   "source": [
    "\n",
    "name_state_df = weather_df.Name.str.split(\",\")\n",
    "name_state_df"
   ]
  },
  {
   "cell_type": "markdown",
   "id": "2b37079e",
   "metadata": {},
   "source": [
    "To access the a row of the strings from the list we can make use of it's index."
   ]
  },
  {
   "cell_type": "code",
   "execution_count": 10,
   "id": "1ee3607c",
   "metadata": {},
   "outputs": [
    {
     "data": {
      "text/plain": [
       "['NEW ORLEANS LAKEFRONT AIRPORT', ' LA US']"
      ]
     },
     "execution_count": 10,
     "metadata": {},
     "output_type": "execute_result"
    }
   ],
   "source": [
    "name_state_df[1] # or use .str.get(1)"
   ]
  },
  {
   "cell_type": "markdown",
   "id": "61a1e97e",
   "metadata": {},
   "source": [
    "We can also directly expand the string column into two (or more if needed) separate columns by setting `expand` to True. This yields a dataframe."
   ]
  },
  {
   "cell_type": "code",
   "execution_count": 11,
   "id": "9a2f2731",
   "metadata": {},
   "outputs": [
    {
     "data": {
      "text/html": [
       "<div>\n",
       "<style scoped>\n",
       "    .dataframe tbody tr th:only-of-type {\n",
       "        vertical-align: middle;\n",
       "    }\n",
       "\n",
       "    .dataframe tbody tr th {\n",
       "        vertical-align: top;\n",
       "    }\n",
       "\n",
       "    .dataframe thead th {\n",
       "        text-align: right;\n",
       "    }\n",
       "</style>\n",
       "<table border=\"1\" class=\"dataframe\">\n",
       "  <thead>\n",
       "    <tr style=\"text-align: right;\">\n",
       "      <th></th>\n",
       "      <th>0</th>\n",
       "      <th>1</th>\n",
       "    </tr>\n",
       "  </thead>\n",
       "  <tbody>\n",
       "    <tr>\n",
       "      <th>0</th>\n",
       "      <td>NEW ORLEANS LAKEFRONT AIRPORT</td>\n",
       "      <td>LA US</td>\n",
       "    </tr>\n",
       "    <tr>\n",
       "      <th>1</th>\n",
       "      <td>NEW ORLEANS LAKEFRONT AIRPORT</td>\n",
       "      <td>LA US</td>\n",
       "    </tr>\n",
       "    <tr>\n",
       "      <th>2</th>\n",
       "      <td>NEW ORLEANS LAKEFRONT AIRPORT</td>\n",
       "      <td>LA US</td>\n",
       "    </tr>\n",
       "    <tr>\n",
       "      <th>3</th>\n",
       "      <td>NEW ORLEANS LAKEFRONT AIRPORT</td>\n",
       "      <td>LA US</td>\n",
       "    </tr>\n",
       "    <tr>\n",
       "      <th>4</th>\n",
       "      <td>NEW ORLEANS LAKEFRONT AIRPORT</td>\n",
       "      <td>LA US</td>\n",
       "    </tr>\n",
       "    <tr>\n",
       "      <th>...</th>\n",
       "      <td>...</td>\n",
       "      <td>...</td>\n",
       "    </tr>\n",
       "    <tr>\n",
       "      <th>357</th>\n",
       "      <td>NEW ORLEANS LAKEFRONT AIRPORT</td>\n",
       "      <td>LA US</td>\n",
       "    </tr>\n",
       "    <tr>\n",
       "      <th>358</th>\n",
       "      <td>NEW ORLEANS LAKEFRONT AIRPORT</td>\n",
       "      <td>LA US</td>\n",
       "    </tr>\n",
       "    <tr>\n",
       "      <th>359</th>\n",
       "      <td>NEW ORLEANS LAKEFRONT AIRPORT</td>\n",
       "      <td>LA US</td>\n",
       "    </tr>\n",
       "    <tr>\n",
       "      <th>360</th>\n",
       "      <td>NEW ORLEANS LAKEFRONT AIRPORT</td>\n",
       "      <td>LA US</td>\n",
       "    </tr>\n",
       "    <tr>\n",
       "      <th>361</th>\n",
       "      <td>NEW ORLEANS LAKEFRONT AIRPORT</td>\n",
       "      <td>LA US</td>\n",
       "    </tr>\n",
       "  </tbody>\n",
       "</table>\n",
       "<p>362 rows × 2 columns</p>\n",
       "</div>"
      ],
      "text/plain": [
       "                                 0       1\n",
       "0    NEW ORLEANS LAKEFRONT AIRPORT   LA US\n",
       "1    NEW ORLEANS LAKEFRONT AIRPORT   LA US\n",
       "2    NEW ORLEANS LAKEFRONT AIRPORT   LA US\n",
       "3    NEW ORLEANS LAKEFRONT AIRPORT   LA US\n",
       "4    NEW ORLEANS LAKEFRONT AIRPORT   LA US\n",
       "..                             ...     ...\n",
       "357  NEW ORLEANS LAKEFRONT AIRPORT   LA US\n",
       "358  NEW ORLEANS LAKEFRONT AIRPORT   LA US\n",
       "359  NEW ORLEANS LAKEFRONT AIRPORT   LA US\n",
       "360  NEW ORLEANS LAKEFRONT AIRPORT   LA US\n",
       "361  NEW ORLEANS LAKEFRONT AIRPORT   LA US\n",
       "\n",
       "[362 rows x 2 columns]"
      ]
     },
     "execution_count": 11,
     "metadata": {},
     "output_type": "execute_result"
    }
   ],
   "source": [
    "name_state_df = weather_df.Name.str.split(\",\", expand=True)\n",
    "name_state_df"
   ]
  },
  {
   "cell_type": "code",
   "execution_count": 26,
   "id": "675d5dae",
   "metadata": {},
   "outputs": [
    {
     "data": {
      "text/html": [
       "<div>\n",
       "<style scoped>\n",
       "    .dataframe tbody tr th:only-of-type {\n",
       "        vertical-align: middle;\n",
       "    }\n",
       "\n",
       "    .dataframe tbody tr th {\n",
       "        vertical-align: top;\n",
       "    }\n",
       "\n",
       "    .dataframe thead th {\n",
       "        text-align: right;\n",
       "    }\n",
       "</style>\n",
       "<table border=\"1\" class=\"dataframe\">\n",
       "  <thead>\n",
       "    <tr style=\"text-align: right;\">\n",
       "      <th></th>\n",
       "      <th>Station</th>\n",
       "      <th>Name</th>\n",
       "      <th>Date</th>\n",
       "      <th>Awnd</th>\n",
       "      <th>Prcp</th>\n",
       "      <th>Tmin</th>\n",
       "      <th>Tmax</th>\n",
       "      <th>State</th>\n",
       "    </tr>\n",
       "  </thead>\n",
       "  <tbody>\n",
       "    <tr>\n",
       "      <th>0</th>\n",
       "      <td>USW00053917</td>\n",
       "      <td>NEW ORLEANS LAKEFRONT AIRPORT</td>\n",
       "      <td>01-01-2021</td>\n",
       "      <td>13.42</td>\n",
       "      <td>0.00</td>\n",
       "      <td>56.0</td>\n",
       "      <td>69.0</td>\n",
       "      <td>LA US</td>\n",
       "    </tr>\n",
       "    <tr>\n",
       "      <th>1</th>\n",
       "      <td>USW00053917</td>\n",
       "      <td>NEW ORLEANS LAKEFRONT AIRPORT</td>\n",
       "      <td>02-01-2021</td>\n",
       "      <td>13.87</td>\n",
       "      <td>0.00</td>\n",
       "      <td>48.0</td>\n",
       "      <td>57.0</td>\n",
       "      <td>LA US</td>\n",
       "    </tr>\n",
       "    <tr>\n",
       "      <th>2</th>\n",
       "      <td>USW00053917</td>\n",
       "      <td>NEW ORLEANS LAKEFRONT AIRPORT</td>\n",
       "      <td>03-01-2021</td>\n",
       "      <td>7.83</td>\n",
       "      <td>0.00</td>\n",
       "      <td>47.0</td>\n",
       "      <td>56.0</td>\n",
       "      <td>LA US</td>\n",
       "    </tr>\n",
       "    <tr>\n",
       "      <th>3</th>\n",
       "      <td>USW00053917</td>\n",
       "      <td>NEW ORLEANS LAKEFRONT AIRPORT</td>\n",
       "      <td>04-01-2021</td>\n",
       "      <td>6.49</td>\n",
       "      <td>0.00</td>\n",
       "      <td>44.0</td>\n",
       "      <td>68.0</td>\n",
       "      <td>LA US</td>\n",
       "    </tr>\n",
       "    <tr>\n",
       "      <th>4</th>\n",
       "      <td>USW00053917</td>\n",
       "      <td>NEW ORLEANS LAKEFRONT AIRPORT</td>\n",
       "      <td>05-01-2021</td>\n",
       "      <td>5.82</td>\n",
       "      <td>0.00</td>\n",
       "      <td>52.0</td>\n",
       "      <td>61.0</td>\n",
       "      <td>LA US</td>\n",
       "    </tr>\n",
       "    <tr>\n",
       "      <th>...</th>\n",
       "      <td>...</td>\n",
       "      <td>...</td>\n",
       "      <td>...</td>\n",
       "      <td>...</td>\n",
       "      <td>...</td>\n",
       "      <td>...</td>\n",
       "      <td>...</td>\n",
       "      <td>...</td>\n",
       "    </tr>\n",
       "    <tr>\n",
       "      <th>357</th>\n",
       "      <td>USW00053917</td>\n",
       "      <td>NEW ORLEANS LAKEFRONT AIRPORT</td>\n",
       "      <td>27-12-2021</td>\n",
       "      <td>7.61</td>\n",
       "      <td>0.00</td>\n",
       "      <td>64.0</td>\n",
       "      <td>78.0</td>\n",
       "      <td>LA US</td>\n",
       "    </tr>\n",
       "    <tr>\n",
       "      <th>358</th>\n",
       "      <td>USW00053917</td>\n",
       "      <td>NEW ORLEANS LAKEFRONT AIRPORT</td>\n",
       "      <td>28-12-2021</td>\n",
       "      <td>14.09</td>\n",
       "      <td>0.30</td>\n",
       "      <td>68.0</td>\n",
       "      <td>81.0</td>\n",
       "      <td>LA US</td>\n",
       "    </tr>\n",
       "    <tr>\n",
       "      <th>359</th>\n",
       "      <td>USW00053917</td>\n",
       "      <td>NEW ORLEANS LAKEFRONT AIRPORT</td>\n",
       "      <td>29-12-2021</td>\n",
       "      <td>12.75</td>\n",
       "      <td>0.00</td>\n",
       "      <td>71.0</td>\n",
       "      <td>82.0</td>\n",
       "      <td>LA US</td>\n",
       "    </tr>\n",
       "    <tr>\n",
       "      <th>360</th>\n",
       "      <td>USW00053917</td>\n",
       "      <td>NEW ORLEANS LAKEFRONT AIRPORT</td>\n",
       "      <td>30-12-2021</td>\n",
       "      <td>9.62</td>\n",
       "      <td>0.00</td>\n",
       "      <td>72.0</td>\n",
       "      <td>83.0</td>\n",
       "      <td>LA US</td>\n",
       "    </tr>\n",
       "    <tr>\n",
       "      <th>361</th>\n",
       "      <td>USW00053917</td>\n",
       "      <td>NEW ORLEANS LAKEFRONT AIRPORT</td>\n",
       "      <td>31-12-2021</td>\n",
       "      <td>13.87</td>\n",
       "      <td>0.02</td>\n",
       "      <td>73.0</td>\n",
       "      <td>82.0</td>\n",
       "      <td>LA US</td>\n",
       "    </tr>\n",
       "  </tbody>\n",
       "</table>\n",
       "<p>362 rows × 8 columns</p>\n",
       "</div>"
      ],
      "text/plain": [
       "         Station                           Name        Date   Awnd  Prcp  \\\n",
       "0    USW00053917  NEW ORLEANS LAKEFRONT AIRPORT  01-01-2021  13.42  0.00   \n",
       "1    USW00053917  NEW ORLEANS LAKEFRONT AIRPORT  02-01-2021  13.87  0.00   \n",
       "2    USW00053917  NEW ORLEANS LAKEFRONT AIRPORT  03-01-2021   7.83  0.00   \n",
       "3    USW00053917  NEW ORLEANS LAKEFRONT AIRPORT  04-01-2021   6.49  0.00   \n",
       "4    USW00053917  NEW ORLEANS LAKEFRONT AIRPORT  05-01-2021   5.82  0.00   \n",
       "..           ...                            ...         ...    ...   ...   \n",
       "357  USW00053917  NEW ORLEANS LAKEFRONT AIRPORT  27-12-2021   7.61  0.00   \n",
       "358  USW00053917  NEW ORLEANS LAKEFRONT AIRPORT  28-12-2021  14.09  0.30   \n",
       "359  USW00053917  NEW ORLEANS LAKEFRONT AIRPORT  29-12-2021  12.75  0.00   \n",
       "360  USW00053917  NEW ORLEANS LAKEFRONT AIRPORT  30-12-2021   9.62  0.00   \n",
       "361  USW00053917  NEW ORLEANS LAKEFRONT AIRPORT  31-12-2021  13.87  0.02   \n",
       "\n",
       "     Tmin  Tmax   State  \n",
       "0    56.0  69.0   LA US  \n",
       "1    48.0  57.0   LA US  \n",
       "2    47.0  56.0   LA US  \n",
       "3    44.0  68.0   LA US  \n",
       "4    52.0  61.0   LA US  \n",
       "..    ...   ...     ...  \n",
       "357  64.0  78.0   LA US  \n",
       "358  68.0  81.0   LA US  \n",
       "359  71.0  82.0   LA US  \n",
       "360  72.0  83.0   LA US  \n",
       "361  73.0  82.0   LA US  \n",
       "\n",
       "[362 rows x 8 columns]"
      ]
     },
     "execution_count": 26,
     "metadata": {},
     "output_type": "execute_result"
    }
   ],
   "source": [
    "weather_df['Name'] = name_state_df[0] # adding columns to the dataset\n",
    "weather_df['State'] = name_state_df[1]\n",
    "weather_df"
   ]
  },
  {
   "cell_type": "markdown",
   "id": "e06b5c46",
   "metadata": {},
   "source": [
    "Let's replace LA with Louisiana in the `State` column"
   ]
  },
  {
   "cell_type": "code",
   "execution_count": 32,
   "id": "5e46177c",
   "metadata": {},
   "outputs": [
    {
     "data": {
      "text/plain": [
       "0      Louisiana\n",
       "1      Louisiana\n",
       "2      Louisiana\n",
       "3      Louisiana\n",
       "4      Louisiana\n",
       "         ...    \n",
       "357    Louisiana\n",
       "358    Louisiana\n",
       "359    Louisiana\n",
       "360    Louisiana\n",
       "361    Louisiana\n",
       "Name: State, Length: 362, dtype: object"
      ]
     },
     "execution_count": 32,
     "metadata": {},
     "output_type": "execute_result"
    }
   ],
   "source": [
    "weather_df['State'] = weather_df['State'].replace(\"LA\", \"Louisiana\")\n",
    "weather_df['State']"
   ]
  },
  {
   "cell_type": "markdown",
   "id": "6841b2c6",
   "metadata": {},
   "source": [
    "Huh! That did not work! \n",
    "\n",
    "Unfortunately, `replace` will make the substitution only if there is an exact match! To do this, we will have to resort to:"
   ]
  },
  {
   "cell_type": "code",
   "execution_count": 35,
   "id": "1a634088",
   "metadata": {},
   "outputs": [
    {
     "data": {
      "text/plain": [
       "0      Louisiana\n",
       "1      Louisiana\n",
       "2      Louisiana\n",
       "3      Louisiana\n",
       "4      Louisiana\n",
       "         ...    \n",
       "357    Louisiana\n",
       "358    Louisiana\n",
       "359    Louisiana\n",
       "360    Louisiana\n",
       "361    Louisiana\n",
       "Name: State, Length: 362, dtype: object"
      ]
     },
     "execution_count": 35,
     "metadata": {},
     "output_type": "execute_result"
    }
   ],
   "source": [
    "weather_df['State'] = weather_df['State'].replace(\" LA US\", \"Louisiana\")\n",
    "weather_df['State']"
   ]
  },
  {
   "cell_type": "markdown",
   "id": "d29ce4e1",
   "metadata": {},
   "source": [
    "## Regular expressions\n",
    "\n",
    "The intended replacement has not been made. This is because 'replace' by default does not make a expected replacement unless there is an exact match. For literal replacement (i.e., replacement in the sense we mean it), we must use regex. `Regular Expressions` are very powerful in finding patterns in strings. Learning to work with regular expressions is a very handy tool while cleaning text data. \n",
    "\n",
    "https://regex101.com/ is a useful place to start learning and testing out regular expressions."
   ]
  },
  {
   "cell_type": "code",
   "execution_count": 14,
   "id": "58026552",
   "metadata": {},
   "outputs": [
    {
     "data": {
      "text/plain": [
       "0       Louisiana US\n",
       "1       Louisiana US\n",
       "2       Louisiana US\n",
       "3       Louisiana US\n",
       "4       Louisiana US\n",
       "           ...      \n",
       "357     Louisiana US\n",
       "358     Louisiana US\n",
       "359     Louisiana US\n",
       "360     Louisiana US\n",
       "361     Louisiana US\n",
       "Name: State, Length: 362, dtype: object"
      ]
     },
     "execution_count": 14,
     "metadata": {},
     "output_type": "execute_result"
    }
   ],
   "source": [
    "weather_df['State'] = weather_df['State'].replace(\"LA\", \"Louisiana\", regex=True)\n",
    "weather_df['State']"
   ]
  },
  {
   "cell_type": "markdown",
   "id": "c452c249",
   "metadata": {},
   "source": [
    "## Concatenation"
   ]
  },
  {
   "cell_type": "markdown",
   "id": "a221da97",
   "metadata": {},
   "source": [
    "As opposed to splitting a column of string datatype, concatenation joins two columns of string datatype using the specified separator. It is done using the `.cat()` method. Lets concatenate the `Name` and `State` column."
   ]
  },
  {
   "cell_type": "code",
   "execution_count": 15,
   "id": "f2feeb5d",
   "metadata": {},
   "outputs": [
    {
     "data": {
      "text/plain": [
       "0      NEW ORLEANS LAKEFRONT AIRPORT,  Louisiana US\n",
       "1      NEW ORLEANS LAKEFRONT AIRPORT,  Louisiana US\n",
       "2      NEW ORLEANS LAKEFRONT AIRPORT,  Louisiana US\n",
       "3      NEW ORLEANS LAKEFRONT AIRPORT,  Louisiana US\n",
       "4      NEW ORLEANS LAKEFRONT AIRPORT,  Louisiana US\n",
       "                           ...                     \n",
       "357    NEW ORLEANS LAKEFRONT AIRPORT,  Louisiana US\n",
       "358    NEW ORLEANS LAKEFRONT AIRPORT,  Louisiana US\n",
       "359    NEW ORLEANS LAKEFRONT AIRPORT,  Louisiana US\n",
       "360    NEW ORLEANS LAKEFRONT AIRPORT,  Louisiana US\n",
       "361    NEW ORLEANS LAKEFRONT AIRPORT,  Louisiana US\n",
       "Name: Name, Length: 362, dtype: object"
      ]
     },
     "execution_count": 15,
     "metadata": {},
     "output_type": "execute_result"
    }
   ],
   "source": [
    "station_name = weather_df['Name'].str.cat(weather_df['State'], sep=\", \")\n",
    "station_name"
   ]
  },
  {
   "cell_type": "markdown",
   "id": "eed3c43b",
   "metadata": {},
   "source": [
    "## Extraction\n",
    "\n",
    "At times the relevant substrings may not be separated by a specific character eg. If we wanted to split the string `Cases_Guinea` into `Cases` and `Guinea` we can do so by appling the split method with the separator specified as `_`. if we wanted to split the string `CasesGuiniea` into `Cases` and `Guniea` the `split` method cannot be used. \n",
    "\n",
    "For these cases, we can use the `extract()` method which accepts regular expressions with more than one `capture group`. Capture groups are specified using `()` parenthesis. **Each capture group is extracted in a separate column**\n",
    "\n",
    "\n",
    "Let's separate the series `sex_age` using regular expressions. \n",
    "\n",
    "https://regex101.com/ is a useful place to start learning and testing out regular expressions."
   ]
  },
  {
   "cell_type": "code",
   "execution_count": 16,
   "id": "0444e73f",
   "metadata": {},
   "outputs": [
    {
     "data": {
      "text/plain": [
       "0     f7\n",
       "1    m54\n",
       "2    m33\n",
       "3    f42\n",
       "4      m\n",
       "5    f29\n",
       "6    m19\n",
       "dtype: object"
      ]
     },
     "execution_count": 16,
     "metadata": {},
     "output_type": "execute_result"
    }
   ],
   "source": [
    "sex_age = pd.Series(['f7', 'm54', 'm33', 'f42', 'm', 'f29', 'm19'])\n",
    "\n",
    "sex_age"
   ]
  },
  {
   "cell_type": "markdown",
   "id": "437a552f",
   "metadata": {},
   "source": [
    "The following regex pattern captures 2 groups\n",
    "\n",
    "1. first group captures the letter m or f\n",
    "2. The second group captures 0 or more digits"
   ]
  },
  {
   "cell_type": "code",
   "execution_count": 17,
   "id": "2fd4d7ad",
   "metadata": {},
   "outputs": [
    {
     "data": {
      "text/html": [
       "<div>\n",
       "<style scoped>\n",
       "    .dataframe tbody tr th:only-of-type {\n",
       "        vertical-align: middle;\n",
       "    }\n",
       "\n",
       "    .dataframe tbody tr th {\n",
       "        vertical-align: top;\n",
       "    }\n",
       "\n",
       "    .dataframe thead th {\n",
       "        text-align: right;\n",
       "    }\n",
       "</style>\n",
       "<table border=\"1\" class=\"dataframe\">\n",
       "  <thead>\n",
       "    <tr style=\"text-align: right;\">\n",
       "      <th></th>\n",
       "      <th>0</th>\n",
       "      <th>1</th>\n",
       "    </tr>\n",
       "  </thead>\n",
       "  <tbody>\n",
       "    <tr>\n",
       "      <th>0</th>\n",
       "      <td>f</td>\n",
       "      <td>7</td>\n",
       "    </tr>\n",
       "    <tr>\n",
       "      <th>1</th>\n",
       "      <td>m</td>\n",
       "      <td>54</td>\n",
       "    </tr>\n",
       "    <tr>\n",
       "      <th>2</th>\n",
       "      <td>m</td>\n",
       "      <td>33</td>\n",
       "    </tr>\n",
       "    <tr>\n",
       "      <th>3</th>\n",
       "      <td>f</td>\n",
       "      <td>42</td>\n",
       "    </tr>\n",
       "    <tr>\n",
       "      <th>4</th>\n",
       "      <td>m</td>\n",
       "      <td></td>\n",
       "    </tr>\n",
       "    <tr>\n",
       "      <th>5</th>\n",
       "      <td>f</td>\n",
       "      <td>29</td>\n",
       "    </tr>\n",
       "    <tr>\n",
       "      <th>6</th>\n",
       "      <td>m</td>\n",
       "      <td>19</td>\n",
       "    </tr>\n",
       "  </tbody>\n",
       "</table>\n",
       "</div>"
      ],
      "text/plain": [
       "   0   1\n",
       "0  f   7\n",
       "1  m  54\n",
       "2  m  33\n",
       "3  f  42\n",
       "4  m    \n",
       "5  f  29\n",
       "6  m  19"
      ]
     },
     "execution_count": 17,
     "metadata": {},
     "output_type": "execute_result"
    }
   ],
   "source": [
    "regex = r'([mf])(\\d*)'  # captures two groups \n",
    "sex_age = sex_age.str.extract(regex)\n",
    "sex_age"
   ]
  },
  {
   "cell_type": "markdown",
   "id": "7ee7a904",
   "metadata": {},
   "source": [
    "When there are nested capture groups, each group is extracted as a column. "
   ]
  },
  {
   "cell_type": "code",
   "execution_count": 18,
   "id": "e837bac3",
   "metadata": {},
   "outputs": [
    {
     "data": {
      "text/plain": [
       "0     f0-10\n",
       "1    f10-20\n",
       "2    f20-30\n",
       "3      f30+\n",
       "4     m0-10\n",
       "5    m10-20\n",
       "6    m20-30\n",
       "7      m30+\n",
       "dtype: object"
      ]
     },
     "execution_count": 18,
     "metadata": {},
     "output_type": "execute_result"
    }
   ],
   "source": [
    "sexage_range = pd.Series(['f0-10', 'f10-20', 'f20-30', 'f30+', 'm0-10', 'm10-20', 'm20-30', 'm30+'])\n",
    "sexage_range"
   ]
  },
  {
   "cell_type": "markdown",
   "id": "a87020af",
   "metadata": {},
   "source": [
    "This pattern captures nested groups `'([mf])((\\d{1,2}-\\d{1,2})|(\\d{1,2}\\+))'`\n",
    "\n",
    "* `([mf])` -  group `1` captures the letter m or f\n",
    "* `((\\d{1,2}-\\d{1,2})|(\\d{1,2}\\+))` - group `2` has two subgroups`2.a` and `2.b`. Either `2.a` or `2.b` is captured in `2`.\n",
    "* `(\\d{1,2}-\\d{1,2})` - subgroup `2.a` captures strings of type `00-00`\n",
    "* `(\\d{1,2}\\+))` - subgroup `2.b` captures strings of type `00+` "
   ]
  },
  {
   "cell_type": "code",
   "execution_count": 19,
   "id": "ff958392",
   "metadata": {},
   "outputs": [
    {
     "data": {
      "text/html": [
       "<div>\n",
       "<style scoped>\n",
       "    .dataframe tbody tr th:only-of-type {\n",
       "        vertical-align: middle;\n",
       "    }\n",
       "\n",
       "    .dataframe tbody tr th {\n",
       "        vertical-align: top;\n",
       "    }\n",
       "\n",
       "    .dataframe thead th {\n",
       "        text-align: right;\n",
       "    }\n",
       "</style>\n",
       "<table border=\"1\" class=\"dataframe\">\n",
       "  <thead>\n",
       "    <tr style=\"text-align: right;\">\n",
       "      <th></th>\n",
       "      <th>0</th>\n",
       "      <th>1</th>\n",
       "      <th>2</th>\n",
       "      <th>3</th>\n",
       "    </tr>\n",
       "  </thead>\n",
       "  <tbody>\n",
       "    <tr>\n",
       "      <th>0</th>\n",
       "      <td>f</td>\n",
       "      <td>0-10</td>\n",
       "      <td>0-10</td>\n",
       "      <td>NaN</td>\n",
       "    </tr>\n",
       "    <tr>\n",
       "      <th>1</th>\n",
       "      <td>f</td>\n",
       "      <td>10-20</td>\n",
       "      <td>10-20</td>\n",
       "      <td>NaN</td>\n",
       "    </tr>\n",
       "    <tr>\n",
       "      <th>2</th>\n",
       "      <td>f</td>\n",
       "      <td>20-30</td>\n",
       "      <td>20-30</td>\n",
       "      <td>NaN</td>\n",
       "    </tr>\n",
       "    <tr>\n",
       "      <th>3</th>\n",
       "      <td>f</td>\n",
       "      <td>30+</td>\n",
       "      <td>NaN</td>\n",
       "      <td>30+</td>\n",
       "    </tr>\n",
       "    <tr>\n",
       "      <th>4</th>\n",
       "      <td>m</td>\n",
       "      <td>0-10</td>\n",
       "      <td>0-10</td>\n",
       "      <td>NaN</td>\n",
       "    </tr>\n",
       "    <tr>\n",
       "      <th>5</th>\n",
       "      <td>m</td>\n",
       "      <td>10-20</td>\n",
       "      <td>10-20</td>\n",
       "      <td>NaN</td>\n",
       "    </tr>\n",
       "    <tr>\n",
       "      <th>6</th>\n",
       "      <td>m</td>\n",
       "      <td>20-30</td>\n",
       "      <td>20-30</td>\n",
       "      <td>NaN</td>\n",
       "    </tr>\n",
       "    <tr>\n",
       "      <th>7</th>\n",
       "      <td>m</td>\n",
       "      <td>30+</td>\n",
       "      <td>NaN</td>\n",
       "      <td>30+</td>\n",
       "    </tr>\n",
       "  </tbody>\n",
       "</table>\n",
       "</div>"
      ],
      "text/plain": [
       "   0      1      2    3\n",
       "0  f   0-10   0-10  NaN\n",
       "1  f  10-20  10-20  NaN\n",
       "2  f  20-30  20-30  NaN\n",
       "3  f    30+    NaN  30+\n",
       "4  m   0-10   0-10  NaN\n",
       "5  m  10-20  10-20  NaN\n",
       "6  m  20-30  20-30  NaN\n",
       "7  m    30+    NaN  30+"
      ]
     },
     "execution_count": 19,
     "metadata": {},
     "output_type": "execute_result"
    }
   ],
   "source": [
    "regex = r'([mf])((\\d{1,2}-\\d{1,2})|(\\d{1,2}\\+))'  # (1)((2.a)(2.b))\n",
    "sexage_range = sexage_range.str.extract(regex)\n",
    "sexage_range"
   ]
  },
  {
   "cell_type": "markdown",
   "id": "baa835d0",
   "metadata": {},
   "source": [
    "The output has four columns corresponding to the capture groups `1`, `2`, `2.a`, and `2.b`  "
   ]
  },
  {
   "cell_type": "code",
   "execution_count": null,
   "id": "d3649b85",
   "metadata": {},
   "outputs": [],
   "source": []
  }
 ],
 "metadata": {
  "kernelspec": {
   "display_name": "Python 3 (ipykernel)",
   "language": "python",
   "name": "python3"
  },
  "language_info": {
   "codemirror_mode": {
    "name": "ipython",
    "version": 3
   },
   "file_extension": ".py",
   "mimetype": "text/x-python",
   "name": "python",
   "nbconvert_exporter": "python",
   "pygments_lexer": "ipython3",
   "version": "3.9.13"
  },
  "toc": {
   "base_numbering": 1,
   "nav_menu": {},
   "number_sections": true,
   "sideBar": true,
   "skip_h1_title": false,
   "title_cell": "Table of Contents",
   "title_sidebar": "Contents",
   "toc_cell": false,
   "toc_position": {},
   "toc_section_display": true,
   "toc_window_display": true
  },
  "varInspector": {
   "cols": {
    "lenName": 16,
    "lenType": 16,
    "lenVar": 40
   },
   "kernels_config": {
    "python": {
     "delete_cmd_postfix": "",
     "delete_cmd_prefix": "del ",
     "library": "var_list.py",
     "varRefreshCmd": "print(var_dic_list())"
    },
    "r": {
     "delete_cmd_postfix": ") ",
     "delete_cmd_prefix": "rm(",
     "library": "var_list.r",
     "varRefreshCmd": "cat(var_dic_list()) "
    }
   },
   "types_to_exclude": [
    "module",
    "function",
    "builtin_function_or_method",
    "instance",
    "_Feature"
   ],
   "window_display": false
  }
 },
 "nbformat": 4,
 "nbformat_minor": 5
}
